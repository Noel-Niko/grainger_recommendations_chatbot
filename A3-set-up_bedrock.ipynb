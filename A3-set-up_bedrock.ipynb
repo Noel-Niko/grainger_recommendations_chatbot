{
 "cells": [
  {
   "cell_type": "markdown",
   "id": "ff11582e-079b-48d4-9da9-71a7c0702c5f",
   "metadata": {},
   "source": [
    "# Amazon Bedrock boto3 Setup\n",
    "\n",
    "---\n",
    "For more details refer to the [`Bedrock` Workshop](https://github.com/aws-samples/amazon-bedrock-workshop)\n",
    "\n",
    "---\n",
    "\n",
    "## Prerequisites\n",
    "\n",
    "You will see pip dependency errors, you can safely ignore these errors. ⚠️\n"
   ]
  },
  {
   "cell_type": "code",
   "id": "9e558223",
   "metadata": {
    "ExecuteTime": {
     "end_time": "2024-06-28T23:53:10.162803Z",
     "start_time": "2024-06-28T23:48:57.522248Z"
    }
   },
   "source": [
    "%pip install --no-build-isolation --force-reinstall \\\n",
    "    \"boto3>=1.28.57\" \\\n",
    "    \"awscli>=1.29.57\" \\\n",
    "    \"botocore>=1.31.57\"\n",
    "%pip install \"unstructured[csv]\" \"pillow>=9.5,<10\" langchain==0.0.309 python-weather pypdf==3.8.1 faiss-cpu==1.7.4 --force-reinstall --quiet"
   ],
   "outputs": [
    {
     "name": "stdout",
     "output_type": "stream",
     "text": [
      "Collecting boto3>=1.28.57\r\n",
      "  Using cached boto3-1.34.136-py3-none-any.whl.metadata (6.6 kB)\r\n",
      "Collecting awscli>=1.29.57\r\n",
      "  Using cached awscli-1.33.18-py3-none-any.whl.metadata (11 kB)\r\n",
      "Collecting botocore>=1.31.57\r\n",
      "  Using cached botocore-1.34.136-py3-none-any.whl.metadata (5.7 kB)\r\n",
      "Collecting jmespath<2.0.0,>=0.7.1 (from boto3>=1.28.57)\r\n",
      "  Using cached jmespath-1.0.1-py3-none-any.whl.metadata (7.6 kB)\r\n",
      "Collecting s3transfer<0.11.0,>=0.10.0 (from boto3>=1.28.57)\r\n",
      "  Using cached s3transfer-0.10.2-py3-none-any.whl.metadata (1.7 kB)\r\n",
      "Collecting docutils<0.17,>=0.10 (from awscli>=1.29.57)\r\n",
      "  Using cached docutils-0.16-py2.py3-none-any.whl.metadata (2.7 kB)\r\n",
      "Collecting PyYAML<6.1,>=3.10 (from awscli>=1.29.57)\r\n",
      "  Using cached PyYAML-6.0.1-cp310-cp310-macosx_10_9_x86_64.whl.metadata (2.1 kB)\r\n",
      "Collecting colorama<0.4.7,>=0.2.5 (from awscli>=1.29.57)\r\n",
      "  Using cached colorama-0.4.6-py2.py3-none-any.whl.metadata (17 kB)\r\n",
      "Collecting rsa<4.8,>=3.1.2 (from awscli>=1.29.57)\r\n",
      "  Using cached rsa-4.7.2-py3-none-any.whl.metadata (3.6 kB)\r\n",
      "Collecting python-dateutil<3.0.0,>=2.1 (from botocore>=1.31.57)\r\n",
      "  Using cached python_dateutil-2.9.0.post0-py2.py3-none-any.whl.metadata (8.4 kB)\r\n",
      "Collecting urllib3!=2.2.0,<3,>=1.25.4 (from botocore>=1.31.57)\r\n",
      "  Using cached urllib3-2.2.2-py3-none-any.whl.metadata (6.4 kB)\r\n",
      "Collecting six>=1.5 (from python-dateutil<3.0.0,>=2.1->botocore>=1.31.57)\r\n",
      "  Using cached six-1.16.0-py2.py3-none-any.whl.metadata (1.8 kB)\r\n",
      "Collecting pyasn1>=0.1.3 (from rsa<4.8,>=3.1.2->awscli>=1.29.57)\r\n",
      "  Using cached pyasn1-0.6.0-py2.py3-none-any.whl.metadata (8.3 kB)\r\n",
      "Using cached boto3-1.34.136-py3-none-any.whl (139 kB)\r\n",
      "Using cached awscli-1.33.18-py3-none-any.whl (4.5 MB)\r\n",
      "Using cached botocore-1.34.136-py3-none-any.whl (12.4 MB)\r\n",
      "Using cached colorama-0.4.6-py2.py3-none-any.whl (25 kB)\r\n",
      "Using cached docutils-0.16-py2.py3-none-any.whl (548 kB)\r\n",
      "Using cached jmespath-1.0.1-py3-none-any.whl (20 kB)\r\n",
      "Using cached python_dateutil-2.9.0.post0-py2.py3-none-any.whl (229 kB)\r\n",
      "Using cached PyYAML-6.0.1-cp310-cp310-macosx_10_9_x86_64.whl (189 kB)\r\n",
      "Using cached rsa-4.7.2-py3-none-any.whl (34 kB)\r\n",
      "Using cached s3transfer-0.10.2-py3-none-any.whl (82 kB)\r\n",
      "Using cached urllib3-2.2.2-py3-none-any.whl (121 kB)\r\n",
      "Using cached pyasn1-0.6.0-py2.py3-none-any.whl (85 kB)\r\n",
      "Using cached six-1.16.0-py2.py3-none-any.whl (11 kB)\r\n",
      "Installing collected packages: urllib3, six, PyYAML, pyasn1, jmespath, docutils, colorama, rsa, python-dateutil, botocore, s3transfer, boto3, awscli\r\n",
      "  Attempting uninstall: urllib3\r\n",
      "    Found existing installation: urllib3 2.2.2\r\n",
      "    Uninstalling urllib3-2.2.2:\r\n",
      "      Successfully uninstalled urllib3-2.2.2\r\n",
      "  Attempting uninstall: six\r\n",
      "    Found existing installation: six 1.16.0\r\n",
      "    Uninstalling six-1.16.0:\r\n",
      "      Successfully uninstalled six-1.16.0\r\n",
      "  Attempting uninstall: PyYAML\r\n",
      "    Found existing installation: PyYAML 6.0.1\r\n",
      "    Uninstalling PyYAML-6.0.1:\r\n",
      "      Successfully uninstalled PyYAML-6.0.1\r\n",
      "  Attempting uninstall: pyasn1\r\n",
      "    Found existing installation: pyasn1 0.6.0\r\n",
      "    Uninstalling pyasn1-0.6.0:\r\n",
      "      Successfully uninstalled pyasn1-0.6.0\r\n",
      "  Attempting uninstall: jmespath\r\n",
      "    Found existing installation: jmespath 1.0.1\r\n",
      "    Uninstalling jmespath-1.0.1:\r\n",
      "      Successfully uninstalled jmespath-1.0.1\r\n",
      "  Attempting uninstall: docutils\r\n",
      "    Found existing installation: docutils 0.16\r\n",
      "    Uninstalling docutils-0.16:\r\n",
      "      Successfully uninstalled docutils-0.16\r\n",
      "  Attempting uninstall: colorama\r\n",
      "    Found existing installation: colorama 0.4.6\r\n",
      "    Uninstalling colorama-0.4.6:\r\n",
      "      Successfully uninstalled colorama-0.4.6\r\n",
      "  Attempting uninstall: rsa\r\n",
      "    Found existing installation: rsa 4.7.2\r\n",
      "    Uninstalling rsa-4.7.2:\r\n",
      "      Successfully uninstalled rsa-4.7.2\r\n",
      "  Attempting uninstall: python-dateutil\r\n",
      "    Found existing installation: python-dateutil 2.9.0.post0\r\n",
      "    Uninstalling python-dateutil-2.9.0.post0:\r\n",
      "      Successfully uninstalled python-dateutil-2.9.0.post0\r\n",
      "  Attempting uninstall: botocore\r\n",
      "    Found existing installation: botocore 1.34.136\r\n",
      "    Uninstalling botocore-1.34.136:\r\n",
      "      Successfully uninstalled botocore-1.34.136\r\n",
      "  Attempting uninstall: s3transfer\r\n",
      "    Found existing installation: s3transfer 0.10.2\r\n",
      "    Uninstalling s3transfer-0.10.2:\r\n",
      "      Successfully uninstalled s3transfer-0.10.2\r\n",
      "  Attempting uninstall: boto3\r\n",
      "    Found existing installation: boto3 1.34.136\r\n",
      "    Uninstalling boto3-1.34.136:\r\n",
      "      Successfully uninstalled boto3-1.34.136\r\n",
      "  Attempting uninstall: awscli\r\n",
      "    Found existing installation: awscli 1.33.18\r\n",
      "    Uninstalling awscli-1.33.18:\r\n",
      "      Successfully uninstalled awscli-1.33.18\r\n",
      "Successfully installed PyYAML-6.0.1 awscli-1.33.18 boto3-1.34.136 botocore-1.34.136 colorama-0.4.6 docutils-0.16 jmespath-1.0.1 pyasn1-0.6.0 python-dateutil-2.9.0.post0 rsa-4.7.2 s3transfer-0.10.2 six-1.16.0 urllib3-2.2.2\r\n",
      "Note: you may need to restart the kernel to use updated packages.\n",
      "\u001B[33m    WARNING: No metadata found in /opt/anaconda3/envs/python-web-crawler-2/lib/python3.10/site-packages\u001B[0m\u001B[33m\r\n",
      "\u001B[0m\u001B[31mERROR: pip's dependency resolver does not currently take into account all the packages that are installed. This behaviour is the source of the following dependency conflicts.\r\n",
      "langchain-community 0.2.6 requires langchain<0.3.0,>=0.2.6, but you have langchain 0.0.309 which is incompatible.\r\n",
      "langchain-community 0.2.6 requires langsmith<0.2.0,>=0.1.0, but you have langsmith 0.0.92 which is incompatible.\r\n",
      "langchain-core 0.2.10 requires langsmith<0.2.0,>=0.1.75, but you have langsmith 0.0.92 which is incompatible.\u001B[0m\u001B[31m\r\n",
      "\u001B[0mNote: you may need to restart the kernel to use updated packages.\n"
     ]
    }
   ],
   "execution_count": 4
  },
  {
   "cell_type": "code",
   "id": "d21ce4a2",
   "metadata": {
    "ExecuteTime": {
     "end_time": "2024-06-28T23:53:10.187211Z",
     "start_time": "2024-06-28T23:53:10.171863Z"
    }
   },
   "source": [
    "# restart kernel\n",
    "from IPython.core.display import HTML\n",
    "HTML(\"<script>Jupyter.notebook.kernel.restart()</script>\")"
   ],
   "outputs": [
    {
     "data": {
      "text/plain": [
       "<IPython.core.display.HTML object>"
      ],
      "text/html": [
       "<script>Jupyter.notebook.kernel.restart()</script>"
      ]
     },
     "execution_count": 5,
     "metadata": {},
     "output_type": "execute_result"
    }
   ],
   "execution_count": 5
  },
  {
   "cell_type": "markdown",
   "id": "f06fbee0-9db9-4a9f-8792-b71a670d82f8",
   "metadata": {},
   "source": [
    "## Bedrock clients\n",
    "Links for packages:\n",
    "\n",
    "- [FAISS](https://github.com/facebookresearch/faiss), to store vector embeddings\n",
    "- [sqlalchemy](https://www.sqlalchemy.org/), SQLAlchemy is the Python SQL toolkit \n",
    "- [PyPDF](https://pypi.org/project/pypdf/), for handling PDF files\n",
    "- [IPyWidgets](https://ipywidgets.readthedocs.io/en/stable/), for interactive UI widgets in the notebook\n",
    "- [NeMo-Guardrails](https://github.com/NVIDIA/NeMo-Guardrails) an open-source toolkit for easily adding programmable guardrails to LLM-based conversational systems\n"
   ]
  },
  {
   "cell_type": "markdown",
   "id": "cc483333",
   "metadata": {},
   "source": [
    "---\n",
    "\n",
    "## Create the boto3 client\n",
    "\n",
    "Interaction with the Bedrock API is done via the AWS SDK for Python: [boto3](https://boto3.amazonaws.com/v1/documentation/api/latest/index.html).\n",
    "\n",
    "Depending on your environment, you might need to customize the setup when creating your Bedrock service client. To help with this, the `get_bedrock_client()` utility method supports passing in different options. The implementation is in [../utils/bedrock.py](../utils/bedrock.py)\n",
    "\n",
    "#### Use different clients\n",
    "The boto3 provides different clients for Amazon Bedrock to perform different actions. The actions for [`InvokeModel`](https://docs.aws.amazon.com/bedrock/latest/APIReference/API_runtime_InvokeModel.html) and [`InvokeModelWithResponseStream`](https://docs.aws.amazon.com/bedrock/latest/APIReference/API_runtime_InvokeModelWithResponseStream.html) are supported by Amazon Bedrock Runtime where as other operations, such as [ListFoundationModels](https://docs.aws.amazon.com/bedrock/latest/APIReference/API_ListFoundationModels.html), are handled via [Amazon Bedrock client](https://docs.aws.amazon.com/bedrock/latest/APIReference/API_Operations_Amazon_Bedrock.html).\n",
    "\n",
    "The `get_bedrock_client()` method accepts `runtime` (default=True) parameter to return either `bedrock` or `bedrock-runtime` client.\n",
    "\n",
    "#### Use the default credential chain\n",
    "\n",
    "If you are running this notebook from [Amazon Sagemaker Studio](https://aws.amazon.com/sagemaker/studio/) and your Sagemaker Studio [execution role](https://docs.aws.amazon.com/sagemaker/latest/dg/sagemaker-roles.html) has permissions to access Bedrock you can just run the cells below as-is. This is also the case if you are running these notebooks from a computer whose default AWS credentials have access to Bedrock.\n",
    "\n",
    "#### Use a different AWS Region\n",
    "\n",
    "If you're running this notebook from your own computer or a SageMaker notebook in a different AWS Region from where Bedrock is set up, you can un-comment the `os.environ['AWS_DEFAULT_REGION']` line below and specify the region to use.\n",
    "\n",
    "#### Use a specific profile\n",
    "\n",
    "In case you're running this notebook from your own computer where you have setup the AWS CLI with multiple profiles, and the profile which has access to Bedrock is not the default one, you can un-comment the `os.environ['AWS_PROFILE']` line below and specify the profile to use.\n",
    "\n",
    "#### Use a different role\n",
    "\n",
    "In case you or your company has setup a specific, separate [IAM Role](https://docs.aws.amazon.com/IAM/latest/UserGuide/id_roles.html) to access Bedrock, you can specify it by un-commenting the `os.environ['BEDROCK_ASSUME_ROLE']` line below. Ensure that your current user or role have permissions to [assume](https://docs.aws.amazon.com/STS/latest/APIReference/API_AssumeRole.html) such role.\n",
    "\n",
    "#### A note about `langchain`\n",
    "\n",
    "The Bedrock classes provided by `langchain` create a Bedrock boto3 client by default. To customize your Bedrock configuration, explicitly create the Bedrock client using the method below, and pass it to the [`langchain.Bedrock`](https://python.langchain.com/docs/integrations/llms/bedrock) class instantiation method using `client=boto3_bedrock`"
   ]
  },
  {
   "cell_type": "code",
   "id": "391c36898b702985",
   "metadata": {
    "ExecuteTime": {
     "end_time": "2024-06-28T23:53:10.661961Z",
     "start_time": "2024-06-28T23:53:10.193008Z"
    }
   },
   "source": [
    "import boto3\n",
    "# Get the current region\n",
    "current_region = boto3.session.Session().region_name\n",
    "print(f\"Current Region: {current_region}\")\n",
    "iam_client = boto3.client('iam')\n",
    "roles = iam_client.list_roles()['Roles']\n",
    "\n",
    "for role in roles:\n",
    "    print(role['RoleName'])\n"
   ],
   "outputs": [
    {
     "name": "stdout",
     "output_type": "stream",
     "text": [
      "Current Region: us-east-1\n"
     ]
    },
    {
     "ename": "ClientError",
     "evalue": "An error occurred (AccessDenied) when calling the ListRoles operation: User: arn:aws:iam::905418421511:user/noel_niko76 is not authorized to perform: iam:ListRoles on resource: arn:aws:iam::905418421511:role/ because no identity-based policy allows the iam:ListRoles action",
     "output_type": "error",
     "traceback": [
      "\u001B[0;31m---------------------------------------------------------------------------\u001B[0m",
      "\u001B[0;31mClientError\u001B[0m                               Traceback (most recent call last)",
      "Cell \u001B[0;32mIn[6], line 6\u001B[0m\n\u001B[1;32m      4\u001B[0m \u001B[38;5;28mprint\u001B[39m(\u001B[38;5;124mf\u001B[39m\u001B[38;5;124m\"\u001B[39m\u001B[38;5;124mCurrent Region: \u001B[39m\u001B[38;5;132;01m{\u001B[39;00mcurrent_region\u001B[38;5;132;01m}\u001B[39;00m\u001B[38;5;124m\"\u001B[39m)\n\u001B[1;32m      5\u001B[0m iam_client \u001B[38;5;241m=\u001B[39m boto3\u001B[38;5;241m.\u001B[39mclient(\u001B[38;5;124m'\u001B[39m\u001B[38;5;124miam\u001B[39m\u001B[38;5;124m'\u001B[39m)\n\u001B[0;32m----> 6\u001B[0m roles \u001B[38;5;241m=\u001B[39m \u001B[43miam_client\u001B[49m\u001B[38;5;241;43m.\u001B[39;49m\u001B[43mlist_roles\u001B[49m\u001B[43m(\u001B[49m\u001B[43m)\u001B[49m[\u001B[38;5;124m'\u001B[39m\u001B[38;5;124mRoles\u001B[39m\u001B[38;5;124m'\u001B[39m]\n\u001B[1;32m      8\u001B[0m \u001B[38;5;28;01mfor\u001B[39;00m role \u001B[38;5;129;01min\u001B[39;00m roles:\n\u001B[1;32m      9\u001B[0m     \u001B[38;5;28mprint\u001B[39m(role[\u001B[38;5;124m'\u001B[39m\u001B[38;5;124mRoleName\u001B[39m\u001B[38;5;124m'\u001B[39m])\n",
      "File \u001B[0;32m/opt/anaconda3/envs/python-web-crawler-2/lib/python3.10/site-packages/botocore/client.py:565\u001B[0m, in \u001B[0;36mClientCreator._create_api_method.<locals>._api_call\u001B[0;34m(self, *args, **kwargs)\u001B[0m\n\u001B[1;32m    561\u001B[0m     \u001B[38;5;28;01mraise\u001B[39;00m \u001B[38;5;167;01mTypeError\u001B[39;00m(\n\u001B[1;32m    562\u001B[0m         \u001B[38;5;124mf\u001B[39m\u001B[38;5;124m\"\u001B[39m\u001B[38;5;132;01m{\u001B[39;00mpy_operation_name\u001B[38;5;132;01m}\u001B[39;00m\u001B[38;5;124m() only accepts keyword arguments.\u001B[39m\u001B[38;5;124m\"\u001B[39m\n\u001B[1;32m    563\u001B[0m     )\n\u001B[1;32m    564\u001B[0m \u001B[38;5;66;03m# The \"self\" in this scope is referring to the BaseClient.\u001B[39;00m\n\u001B[0;32m--> 565\u001B[0m \u001B[38;5;28;01mreturn\u001B[39;00m \u001B[38;5;28;43mself\u001B[39;49m\u001B[38;5;241;43m.\u001B[39;49m\u001B[43m_make_api_call\u001B[49m\u001B[43m(\u001B[49m\u001B[43moperation_name\u001B[49m\u001B[43m,\u001B[49m\u001B[43m \u001B[49m\u001B[43mkwargs\u001B[49m\u001B[43m)\u001B[49m\n",
      "File \u001B[0;32m/opt/anaconda3/envs/python-web-crawler-2/lib/python3.10/site-packages/botocore/client.py:1021\u001B[0m, in \u001B[0;36mBaseClient._make_api_call\u001B[0;34m(self, operation_name, api_params)\u001B[0m\n\u001B[1;32m   1017\u001B[0m     error_code \u001B[38;5;241m=\u001B[39m error_info\u001B[38;5;241m.\u001B[39mget(\u001B[38;5;124m\"\u001B[39m\u001B[38;5;124mQueryErrorCode\u001B[39m\u001B[38;5;124m\"\u001B[39m) \u001B[38;5;129;01mor\u001B[39;00m error_info\u001B[38;5;241m.\u001B[39mget(\n\u001B[1;32m   1018\u001B[0m         \u001B[38;5;124m\"\u001B[39m\u001B[38;5;124mCode\u001B[39m\u001B[38;5;124m\"\u001B[39m\n\u001B[1;32m   1019\u001B[0m     )\n\u001B[1;32m   1020\u001B[0m     error_class \u001B[38;5;241m=\u001B[39m \u001B[38;5;28mself\u001B[39m\u001B[38;5;241m.\u001B[39mexceptions\u001B[38;5;241m.\u001B[39mfrom_code(error_code)\n\u001B[0;32m-> 1021\u001B[0m     \u001B[38;5;28;01mraise\u001B[39;00m error_class(parsed_response, operation_name)\n\u001B[1;32m   1022\u001B[0m \u001B[38;5;28;01melse\u001B[39;00m:\n\u001B[1;32m   1023\u001B[0m     \u001B[38;5;28;01mreturn\u001B[39;00m parsed_response\n",
      "\u001B[0;31mClientError\u001B[0m: An error occurred (AccessDenied) when calling the ListRoles operation: User: arn:aws:iam::905418421511:user/noel_niko76 is not authorized to perform: iam:ListRoles on resource: arn:aws:iam::905418421511:role/ because no identity-based policy allows the iam:ListRoles action"
     ]
    }
   ],
   "execution_count": 6
  },
  {
   "cell_type": "code",
   "id": "bd6660a9-94f3-4602-ad65-e0414f4f948d",
   "metadata": {
    "ExecuteTime": {
     "end_time": "2024-06-28T23:53:10.670015Z",
     "start_time": "2024-06-28T23:53:10.668829Z"
    }
   },
   "source": [
    "import sagemaker\n",
    "sagemaker_session = sagemaker.Session()\n",
    "# Check which role is being used\n",
    "role = sagemaker.get_execution_role()\n",
    "print(role)\n"
   ],
   "outputs": [],
   "execution_count": null
  },
  {
   "cell_type": "code",
   "id": "2628ef76-b545-4bf9-ade6-5b9f5c2c62b7",
   "metadata": {
    "ExecuteTime": {
     "end_time": "2024-06-29T00:12:02.082434Z",
     "start_time": "2024-06-29T00:12:01.684403Z"
    }
   },
   "source": [
    "import json\n",
    "import os\n",
    "import sys\n",
    "import boto3\n",
    "import botocore\n",
    "\n",
    "module_path = \"..\"\n",
    "sys.path.append(os.path.abspath(module_path))\n",
    "from utils import bedrock, print_ww\n",
    "\n",
    "\n",
    "# ---- ⚠️ Un-comment and edit the below lines as needed for your AWS setup ⚠️ ----\n",
    "\n",
    "os.environ[\"AWS_DEFAULT_REGION\"] = \"us-east-1\"\n",
    "# os.environ[\"AWS_PROFILE\"] = \"\"\n",
    "# os.environ[\"BEDROCK_ASSUME_ROLE\"] = \"{ Best to  set as env var \"  # E.g. \"arn:aws:...\"\n",
    "\n",
    "bedrock_runtime = bedrock.get_bedrock_client(\n",
    "    assumed_role=os.environ.get(\"BEDROCK_ASSUME_ROLE\", None),\n",
    "    region=os.environ.get(\"AWS_DEFAULT_REGION\", None))\n",
    "\n",
    "model_parameter = {\"temperature\": 0.0, \"top_p\": .5, \"max_tokens_to_sample\": 2000}"
   ],
   "outputs": [
    {
     "name": "stdout",
     "output_type": "stream",
     "text": [
      "Create new client\n",
      "  Using region: us-east-1\n",
      "  Using role: arn:aws:iam::905418421511:role/service-role/AmazonSageMaker-ExecutionRole-20240623T114364 ... successful!\n",
      "boto3 Bedrock client successfully created!\n",
      "bedrock-runtime(https://bedrock-runtime.us-east-1.amazonaws.com)\n"
     ]
    }
   ],
   "execution_count": 10
  },
  {
   "metadata": {
    "ExecuteTime": {
     "end_time": "2024-06-29T00:12:07.692243Z",
     "start_time": "2024-06-29T00:12:07.688030Z"
    }
   },
   "cell_type": "code",
   "source": "print(os.environ[\"BEDROCK_ASSUME_ROLE\"])",
   "id": "6b79e3cc8605c5ac",
   "outputs": [
    {
     "name": "stdout",
     "output_type": "stream",
     "text": [
      "arn:aws:iam::905418421511:role/service-role/AmazonSageMaker-ExecutionRole-20240623T114364\n"
     ]
    }
   ],
   "execution_count": 11
  },
  {
   "cell_type": "code",
   "id": "2f33a1442c62cd2c",
   "metadata": {},
   "source": [],
   "outputs": [],
   "execution_count": null
  }
 ],
 "metadata": {
  "kernelspec": {
   "display_name": "Python 3 (ipykernel)",
   "language": "python",
   "name": "python3"
  },
  "language_info": {
   "codemirror_mode": {
    "name": "ipython",
    "version": 3
   },
   "file_extension": ".py",
   "mimetype": "text/x-python",
   "name": "python",
   "nbconvert_exporter": "python",
   "pygments_lexer": "ipython3",
   "version": "3.10.14"
  }
 },
 "nbformat": 4,
 "nbformat_minor": 5
}
