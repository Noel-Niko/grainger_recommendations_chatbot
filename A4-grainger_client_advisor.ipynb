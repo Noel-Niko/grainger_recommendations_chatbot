{
 "cells": [
  {
   "cell_type": "code",
   "id": "68cd7228-5049-4f1e-ac7e-04696aaea0bf",
   "metadata": {
    "ExecuteTime": {
     "end_time": "2024-06-29T00:07:14.331925Z",
     "start_time": "2024-06-29T00:06:52.222350Z"
    }
   },
   "source": [
    "!pip install -r requirements.txt"
   ],
   "outputs": [
    {
     "name": "stdout",
     "output_type": "stream",
     "text": [
      "Collecting pandas<2.0.0 (from -r requirements.txt (line 1))\r\n",
      "  Using cached pandas-1.5.3-cp310-cp310-macosx_10_9_x86_64.whl.metadata (11 kB)\r\n",
      "Requirement already satisfied: openai>=1.0.0 in /opt/anaconda3/envs/python-web-crawler-2/lib/python3.10/site-packages (from -r requirements.txt (line 2)) (1.35.3)\r\n",
      "Requirement already satisfied: streamlit~=1.36.0 in /opt/anaconda3/envs/python-web-crawler-2/lib/python3.10/site-packages (from -r requirements.txt (line 3)) (1.36.0)\r\n",
      "Requirement already satisfied: scipy~=1.13.1 in /opt/anaconda3/envs/python-web-crawler-2/lib/python3.10/site-packages (from -r requirements.txt (line 4)) (1.13.1)\r\n",
      "Collecting langchain~=0.2.5 (from -r requirements.txt (line 5))\r\n",
      "  Using cached langchain-0.2.6-py3-none-any.whl.metadata (7.0 kB)\r\n",
      "Requirement already satisfied: selenium~=4.22.0 in /opt/anaconda3/envs/python-web-crawler-2/lib/python3.10/site-packages (from -r requirements.txt (line 6)) (4.22.0)\r\n",
      "Requirement already satisfied: webdriver-manager in /opt/anaconda3/envs/python-web-crawler-2/lib/python3.10/site-packages (from -r requirements.txt (line 7)) (4.0.1)\r\n",
      "Requirement already satisfied: requests in /opt/anaconda3/envs/python-web-crawler-2/lib/python3.10/site-packages (from -r requirements.txt (line 8)) (2.32.3)\r\n",
      "Requirement already satisfied: beautifulsoup4~=4.12.3 in /opt/anaconda3/envs/python-web-crawler-2/lib/python3.10/site-packages (from -r requirements.txt (line 9)) (4.12.3)\r\n",
      "Requirement already satisfied: pyarrow in /opt/anaconda3/envs/python-web-crawler-2/lib/python3.10/site-packages (from -r requirements.txt (line 10)) (16.1.0)\r\n",
      "Requirement already satisfied: boto3 in /opt/anaconda3/envs/python-web-crawler-2/lib/python3.10/site-packages (from -r requirements.txt (line 11)) (1.34.136)\r\n",
      "Requirement already satisfied: botocore in /opt/anaconda3/envs/python-web-crawler-2/lib/python3.10/site-packages (from -r requirements.txt (line 12)) (1.34.136)\r\n",
      "Requirement already satisfied: langchain-community in /opt/anaconda3/envs/python-web-crawler-2/lib/python3.10/site-packages (from -r requirements.txt (line 13)) (0.2.6)\r\n",
      "Requirement already satisfied: sagemaker in /opt/anaconda3/envs/python-web-crawler-2/lib/python3.10/site-packages (from -r requirements.txt (line 14)) (2.75.1)\r\n",
      "Requirement already satisfied: python-dateutil>=2.8.1 in /opt/anaconda3/envs/python-web-crawler-2/lib/python3.10/site-packages (from pandas<2.0.0->-r requirements.txt (line 1)) (2.9.0.post0)\r\n",
      "Requirement already satisfied: pytz>=2020.1 in /opt/anaconda3/envs/python-web-crawler-2/lib/python3.10/site-packages (from pandas<2.0.0->-r requirements.txt (line 1)) (2024.1)\r\n",
      "Requirement already satisfied: numpy>=1.21.0 in /opt/anaconda3/envs/python-web-crawler-2/lib/python3.10/site-packages (from pandas<2.0.0->-r requirements.txt (line 1)) (1.26.4)\r\n",
      "Requirement already satisfied: anyio<5,>=3.5.0 in /opt/anaconda3/envs/python-web-crawler-2/lib/python3.10/site-packages (from openai>=1.0.0->-r requirements.txt (line 2)) (3.7.1)\r\n",
      "Requirement already satisfied: distro<2,>=1.7.0 in /opt/anaconda3/envs/python-web-crawler-2/lib/python3.10/site-packages (from openai>=1.0.0->-r requirements.txt (line 2)) (1.9.0)\r\n",
      "Requirement already satisfied: httpx<1,>=0.23.0 in /opt/anaconda3/envs/python-web-crawler-2/lib/python3.10/site-packages (from openai>=1.0.0->-r requirements.txt (line 2)) (0.27.0)\r\n",
      "Requirement already satisfied: pydantic<3,>=1.9.0 in /opt/anaconda3/envs/python-web-crawler-2/lib/python3.10/site-packages (from openai>=1.0.0->-r requirements.txt (line 2)) (2.7.4)\r\n",
      "Requirement already satisfied: sniffio in /opt/anaconda3/envs/python-web-crawler-2/lib/python3.10/site-packages (from openai>=1.0.0->-r requirements.txt (line 2)) (1.3.1)\r\n",
      "Requirement already satisfied: tqdm>4 in /opt/anaconda3/envs/python-web-crawler-2/lib/python3.10/site-packages (from openai>=1.0.0->-r requirements.txt (line 2)) (4.66.4)\r\n",
      "Requirement already satisfied: typing-extensions<5,>=4.7 in /opt/anaconda3/envs/python-web-crawler-2/lib/python3.10/site-packages (from openai>=1.0.0->-r requirements.txt (line 2)) (4.12.2)\r\n",
      "Requirement already satisfied: altair<6,>=4.0 in /opt/anaconda3/envs/python-web-crawler-2/lib/python3.10/site-packages (from streamlit~=1.36.0->-r requirements.txt (line 3)) (5.3.0)\r\n",
      "Requirement already satisfied: blinker<2,>=1.0.0 in /opt/anaconda3/envs/python-web-crawler-2/lib/python3.10/site-packages (from streamlit~=1.36.0->-r requirements.txt (line 3)) (1.8.2)\r\n",
      "Requirement already satisfied: cachetools<6,>=4.0 in /opt/anaconda3/envs/python-web-crawler-2/lib/python3.10/site-packages (from streamlit~=1.36.0->-r requirements.txt (line 3)) (5.3.3)\r\n",
      "Requirement already satisfied: click<9,>=7.0 in /opt/anaconda3/envs/python-web-crawler-2/lib/python3.10/site-packages (from streamlit~=1.36.0->-r requirements.txt (line 3)) (8.1.7)\r\n",
      "Requirement already satisfied: packaging<25,>=20 in /opt/anaconda3/envs/python-web-crawler-2/lib/python3.10/site-packages (from streamlit~=1.36.0->-r requirements.txt (line 3)) (24.1)\r\n",
      "Requirement already satisfied: pillow<11,>=7.1.0 in /opt/anaconda3/envs/python-web-crawler-2/lib/python3.10/site-packages (from streamlit~=1.36.0->-r requirements.txt (line 3)) (9.5.0)\r\n",
      "Requirement already satisfied: protobuf<6,>=3.20 in /opt/anaconda3/envs/python-web-crawler-2/lib/python3.10/site-packages (from streamlit~=1.36.0->-r requirements.txt (line 3)) (4.25.3)\r\n",
      "Requirement already satisfied: rich<14,>=10.14.0 in /opt/anaconda3/envs/python-web-crawler-2/lib/python3.10/site-packages (from streamlit~=1.36.0->-r requirements.txt (line 3)) (13.7.1)\r\n",
      "Requirement already satisfied: tenacity<9,>=8.1.0 in /opt/anaconda3/envs/python-web-crawler-2/lib/python3.10/site-packages (from streamlit~=1.36.0->-r requirements.txt (line 3)) (8.4.2)\r\n",
      "Requirement already satisfied: toml<2,>=0.10.1 in /opt/anaconda3/envs/python-web-crawler-2/lib/python3.10/site-packages (from streamlit~=1.36.0->-r requirements.txt (line 3)) (0.10.2)\r\n",
      "Requirement already satisfied: gitpython!=3.1.19,<4,>=3.0.7 in /opt/anaconda3/envs/python-web-crawler-2/lib/python3.10/site-packages (from streamlit~=1.36.0->-r requirements.txt (line 3)) (3.1.43)\r\n",
      "Requirement already satisfied: pydeck<1,>=0.8.0b4 in /opt/anaconda3/envs/python-web-crawler-2/lib/python3.10/site-packages (from streamlit~=1.36.0->-r requirements.txt (line 3)) (0.8.0b4)\r\n",
      "Requirement already satisfied: tornado<7,>=6.0.3 in /opt/anaconda3/envs/python-web-crawler-2/lib/python3.10/site-packages (from streamlit~=1.36.0->-r requirements.txt (line 3)) (6.4.1)\r\n",
      "Requirement already satisfied: PyYAML>=5.3 in /opt/anaconda3/envs/python-web-crawler-2/lib/python3.10/site-packages (from langchain~=0.2.5->-r requirements.txt (line 5)) (6.0.1)\r\n",
      "Requirement already satisfied: SQLAlchemy<3,>=1.4 in /opt/anaconda3/envs/python-web-crawler-2/lib/python3.10/site-packages (from langchain~=0.2.5->-r requirements.txt (line 5)) (2.0.31)\r\n",
      "Requirement already satisfied: aiohttp<4.0.0,>=3.8.3 in /opt/anaconda3/envs/python-web-crawler-2/lib/python3.10/site-packages (from langchain~=0.2.5->-r requirements.txt (line 5)) (3.9.5)\r\n",
      "Requirement already satisfied: async-timeout<5.0.0,>=4.0.0 in /opt/anaconda3/envs/python-web-crawler-2/lib/python3.10/site-packages (from langchain~=0.2.5->-r requirements.txt (line 5)) (4.0.3)\r\n",
      "Requirement already satisfied: langchain-core<0.3.0,>=0.2.10 in /opt/anaconda3/envs/python-web-crawler-2/lib/python3.10/site-packages (from langchain~=0.2.5->-r requirements.txt (line 5)) (0.2.10)\r\n",
      "Requirement already satisfied: langchain-text-splitters<0.3.0,>=0.2.0 in /opt/anaconda3/envs/python-web-crawler-2/lib/python3.10/site-packages (from langchain~=0.2.5->-r requirements.txt (line 5)) (0.2.1)\r\n",
      "Collecting langsmith<0.2.0,>=0.1.17 (from langchain~=0.2.5->-r requirements.txt (line 5))\r\n",
      "  Downloading langsmith-0.1.82-py3-none-any.whl.metadata (13 kB)\r\n",
      "Requirement already satisfied: urllib3<3,>=1.26 in /opt/anaconda3/envs/python-web-crawler-2/lib/python3.10/site-packages (from urllib3[socks]<3,>=1.26->selenium~=4.22.0->-r requirements.txt (line 6)) (2.2.2)\r\n",
      "Requirement already satisfied: trio~=0.17 in /opt/anaconda3/envs/python-web-crawler-2/lib/python3.10/site-packages (from selenium~=4.22.0->-r requirements.txt (line 6)) (0.25.1)\r\n",
      "Requirement already satisfied: trio-websocket~=0.9 in /opt/anaconda3/envs/python-web-crawler-2/lib/python3.10/site-packages (from selenium~=4.22.0->-r requirements.txt (line 6)) (0.11.1)\r\n",
      "Requirement already satisfied: certifi>=2021.10.8 in /opt/anaconda3/envs/python-web-crawler-2/lib/python3.10/site-packages (from selenium~=4.22.0->-r requirements.txt (line 6)) (2024.6.2)\r\n",
      "Requirement already satisfied: python-dotenv in /opt/anaconda3/envs/python-web-crawler-2/lib/python3.10/site-packages (from webdriver-manager->-r requirements.txt (line 7)) (1.0.1)\r\n",
      "Requirement already satisfied: charset-normalizer<4,>=2 in /opt/anaconda3/envs/python-web-crawler-2/lib/python3.10/site-packages (from requests->-r requirements.txt (line 8)) (3.3.2)\r\n",
      "Requirement already satisfied: idna<4,>=2.5 in /opt/anaconda3/envs/python-web-crawler-2/lib/python3.10/site-packages (from requests->-r requirements.txt (line 8)) (3.7)\r\n",
      "Requirement already satisfied: soupsieve>1.2 in /opt/anaconda3/envs/python-web-crawler-2/lib/python3.10/site-packages (from beautifulsoup4~=4.12.3->-r requirements.txt (line 9)) (2.5)\r\n",
      "Requirement already satisfied: jmespath<2.0.0,>=0.7.1 in /opt/anaconda3/envs/python-web-crawler-2/lib/python3.10/site-packages (from boto3->-r requirements.txt (line 11)) (1.0.1)\r\n",
      "Requirement already satisfied: s3transfer<0.11.0,>=0.10.0 in /opt/anaconda3/envs/python-web-crawler-2/lib/python3.10/site-packages (from boto3->-r requirements.txt (line 11)) (0.10.2)\r\n",
      "Requirement already satisfied: dataclasses-json<0.7,>=0.5.7 in /opt/anaconda3/envs/python-web-crawler-2/lib/python3.10/site-packages (from langchain-community->-r requirements.txt (line 13)) (0.6.7)\r\n",
      "Requirement already satisfied: attrs in /opt/anaconda3/envs/python-web-crawler-2/lib/python3.10/site-packages (from sagemaker->-r requirements.txt (line 14)) (23.2.0)\r\n",
      "Requirement already satisfied: google-pasta in /opt/anaconda3/envs/python-web-crawler-2/lib/python3.10/site-packages (from sagemaker->-r requirements.txt (line 14)) (0.2.0)\r\n",
      "Requirement already satisfied: protobuf3-to-dict>=0.1.5 in /opt/anaconda3/envs/python-web-crawler-2/lib/python3.10/site-packages (from sagemaker->-r requirements.txt (line 14)) (0.1.5)\r\n",
      "Requirement already satisfied: smdebug-rulesconfig==1.0.1 in /opt/anaconda3/envs/python-web-crawler-2/lib/python3.10/site-packages (from sagemaker->-r requirements.txt (line 14)) (1.0.1)\r\n",
      "Requirement already satisfied: importlib-metadata>=1.4.0 in /opt/anaconda3/envs/python-web-crawler-2/lib/python3.10/site-packages (from sagemaker->-r requirements.txt (line 14)) (7.2.0)\r\n",
      "Requirement already satisfied: pathos in /opt/anaconda3/envs/python-web-crawler-2/lib/python3.10/site-packages (from sagemaker->-r requirements.txt (line 14)) (0.3.2)\r\n",
      "Requirement already satisfied: aiosignal>=1.1.2 in /opt/anaconda3/envs/python-web-crawler-2/lib/python3.10/site-packages (from aiohttp<4.0.0,>=3.8.3->langchain~=0.2.5->-r requirements.txt (line 5)) (1.3.1)\r\n",
      "Requirement already satisfied: frozenlist>=1.1.1 in /opt/anaconda3/envs/python-web-crawler-2/lib/python3.10/site-packages (from aiohttp<4.0.0,>=3.8.3->langchain~=0.2.5->-r requirements.txt (line 5)) (1.4.1)\r\n",
      "Requirement already satisfied: multidict<7.0,>=4.5 in /opt/anaconda3/envs/python-web-crawler-2/lib/python3.10/site-packages (from aiohttp<4.0.0,>=3.8.3->langchain~=0.2.5->-r requirements.txt (line 5)) (6.0.5)\r\n",
      "Requirement already satisfied: yarl<2.0,>=1.0 in /opt/anaconda3/envs/python-web-crawler-2/lib/python3.10/site-packages (from aiohttp<4.0.0,>=3.8.3->langchain~=0.2.5->-r requirements.txt (line 5)) (1.9.4)\r\n",
      "Requirement already satisfied: jinja2 in /opt/anaconda3/envs/python-web-crawler-2/lib/python3.10/site-packages (from altair<6,>=4.0->streamlit~=1.36.0->-r requirements.txt (line 3)) (3.1.4)\r\n",
      "Requirement already satisfied: jsonschema>=3.0 in /opt/anaconda3/envs/python-web-crawler-2/lib/python3.10/site-packages (from altair<6,>=4.0->streamlit~=1.36.0->-r requirements.txt (line 3)) (4.22.0)\r\n",
      "Requirement already satisfied: toolz in /opt/anaconda3/envs/python-web-crawler-2/lib/python3.10/site-packages (from altair<6,>=4.0->streamlit~=1.36.0->-r requirements.txt (line 3)) (0.12.1)\r\n",
      "Requirement already satisfied: exceptiongroup in /opt/anaconda3/envs/python-web-crawler-2/lib/python3.10/site-packages (from anyio<5,>=3.5.0->openai>=1.0.0->-r requirements.txt (line 2)) (1.2.1)\r\n",
      "Requirement already satisfied: marshmallow<4.0.0,>=3.18.0 in /opt/anaconda3/envs/python-web-crawler-2/lib/python3.10/site-packages (from dataclasses-json<0.7,>=0.5.7->langchain-community->-r requirements.txt (line 13)) (3.21.3)\r\n",
      "Requirement already satisfied: typing-inspect<1,>=0.4.0 in /opt/anaconda3/envs/python-web-crawler-2/lib/python3.10/site-packages (from dataclasses-json<0.7,>=0.5.7->langchain-community->-r requirements.txt (line 13)) (0.9.0)\r\n",
      "Requirement already satisfied: gitdb<5,>=4.0.1 in /opt/anaconda3/envs/python-web-crawler-2/lib/python3.10/site-packages (from gitpython!=3.1.19,<4,>=3.0.7->streamlit~=1.36.0->-r requirements.txt (line 3)) (4.0.11)\r\n",
      "Requirement already satisfied: httpcore==1.* in /opt/anaconda3/envs/python-web-crawler-2/lib/python3.10/site-packages (from httpx<1,>=0.23.0->openai>=1.0.0->-r requirements.txt (line 2)) (1.0.5)\r\n",
      "Requirement already satisfied: h11<0.15,>=0.13 in /opt/anaconda3/envs/python-web-crawler-2/lib/python3.10/site-packages (from httpcore==1.*->httpx<1,>=0.23.0->openai>=1.0.0->-r requirements.txt (line 2)) (0.14.0)\r\n",
      "Requirement already satisfied: zipp>=0.5 in /opt/anaconda3/envs/python-web-crawler-2/lib/python3.10/site-packages (from importlib-metadata>=1.4.0->sagemaker->-r requirements.txt (line 14)) (3.19.2)\r\n",
      "Requirement already satisfied: jsonpatch<2.0,>=1.33 in /opt/anaconda3/envs/python-web-crawler-2/lib/python3.10/site-packages (from langchain-core<0.3.0,>=0.2.10->langchain~=0.2.5->-r requirements.txt (line 5)) (1.33)\r\n",
      "Requirement already satisfied: orjson<4.0.0,>=3.9.14 in /opt/anaconda3/envs/python-web-crawler-2/lib/python3.10/site-packages (from langsmith<0.2.0,>=0.1.17->langchain~=0.2.5->-r requirements.txt (line 5)) (3.10.4)\r\n",
      "Requirement already satisfied: six in /opt/anaconda3/envs/python-web-crawler-2/lib/python3.10/site-packages (from protobuf3-to-dict>=0.1.5->sagemaker->-r requirements.txt (line 14)) (1.16.0)\r\n",
      "Requirement already satisfied: annotated-types>=0.4.0 in /opt/anaconda3/envs/python-web-crawler-2/lib/python3.10/site-packages (from pydantic<3,>=1.9.0->openai>=1.0.0->-r requirements.txt (line 2)) (0.7.0)\r\n",
      "Requirement already satisfied: pydantic-core==2.18.4 in /opt/anaconda3/envs/python-web-crawler-2/lib/python3.10/site-packages (from pydantic<3,>=1.9.0->openai>=1.0.0->-r requirements.txt (line 2)) (2.18.4)\r\n",
      "Requirement already satisfied: markdown-it-py>=2.2.0 in /opt/anaconda3/envs/python-web-crawler-2/lib/python3.10/site-packages (from rich<14,>=10.14.0->streamlit~=1.36.0->-r requirements.txt (line 3)) (3.0.0)\r\n",
      "Requirement already satisfied: pygments<3.0.0,>=2.13.0 in /opt/anaconda3/envs/python-web-crawler-2/lib/python3.10/site-packages (from rich<14,>=10.14.0->streamlit~=1.36.0->-r requirements.txt (line 3)) (2.18.0)\r\n",
      "Requirement already satisfied: greenlet!=0.4.17 in /opt/anaconda3/envs/python-web-crawler-2/lib/python3.10/site-packages (from SQLAlchemy<3,>=1.4->langchain~=0.2.5->-r requirements.txt (line 5)) (3.0.3)\r\n",
      "Requirement already satisfied: sortedcontainers in /opt/anaconda3/envs/python-web-crawler-2/lib/python3.10/site-packages (from trio~=0.17->selenium~=4.22.0->-r requirements.txt (line 6)) (2.4.0)\r\n",
      "Requirement already satisfied: outcome in /opt/anaconda3/envs/python-web-crawler-2/lib/python3.10/site-packages (from trio~=0.17->selenium~=4.22.0->-r requirements.txt (line 6)) (1.3.0.post0)\r\n",
      "Requirement already satisfied: wsproto>=0.14 in /opt/anaconda3/envs/python-web-crawler-2/lib/python3.10/site-packages (from trio-websocket~=0.9->selenium~=4.22.0->-r requirements.txt (line 6)) (1.2.0)\r\n",
      "Requirement already satisfied: pysocks!=1.5.7,<2.0,>=1.5.6 in /opt/anaconda3/envs/python-web-crawler-2/lib/python3.10/site-packages (from urllib3[socks]<3,>=1.26->selenium~=4.22.0->-r requirements.txt (line 6)) (1.7.1)\r\n",
      "Requirement already satisfied: ppft>=1.7.6.8 in /opt/anaconda3/envs/python-web-crawler-2/lib/python3.10/site-packages (from pathos->sagemaker->-r requirements.txt (line 14)) (1.7.6.8)\r\n",
      "Requirement already satisfied: dill>=0.3.8 in /opt/anaconda3/envs/python-web-crawler-2/lib/python3.10/site-packages (from pathos->sagemaker->-r requirements.txt (line 14)) (0.3.8)\r\n",
      "Requirement already satisfied: pox>=0.3.4 in /opt/anaconda3/envs/python-web-crawler-2/lib/python3.10/site-packages (from pathos->sagemaker->-r requirements.txt (line 14)) (0.3.4)\r\n",
      "Requirement already satisfied: multiprocess>=0.70.16 in /opt/anaconda3/envs/python-web-crawler-2/lib/python3.10/site-packages (from pathos->sagemaker->-r requirements.txt (line 14)) (0.70.16)\r\n",
      "Requirement already satisfied: smmap<6,>=3.0.1 in /opt/anaconda3/envs/python-web-crawler-2/lib/python3.10/site-packages (from gitdb<5,>=4.0.1->gitpython!=3.1.19,<4,>=3.0.7->streamlit~=1.36.0->-r requirements.txt (line 3)) (5.0.0)\r\n",
      "Requirement already satisfied: MarkupSafe>=2.0 in /opt/anaconda3/envs/python-web-crawler-2/lib/python3.10/site-packages (from jinja2->altair<6,>=4.0->streamlit~=1.36.0->-r requirements.txt (line 3)) (2.1.5)\r\n",
      "Requirement already satisfied: jsonpointer>=1.9 in /opt/anaconda3/envs/python-web-crawler-2/lib/python3.10/site-packages (from jsonpatch<2.0,>=1.33->langchain-core<0.3.0,>=0.2.10->langchain~=0.2.5->-r requirements.txt (line 5)) (3.0.0)\r\n",
      "Requirement already satisfied: jsonschema-specifications>=2023.03.6 in /opt/anaconda3/envs/python-web-crawler-2/lib/python3.10/site-packages (from jsonschema>=3.0->altair<6,>=4.0->streamlit~=1.36.0->-r requirements.txt (line 3)) (2023.12.1)\r\n",
      "Requirement already satisfied: referencing>=0.28.4 in /opt/anaconda3/envs/python-web-crawler-2/lib/python3.10/site-packages (from jsonschema>=3.0->altair<6,>=4.0->streamlit~=1.36.0->-r requirements.txt (line 3)) (0.35.1)\r\n",
      "Requirement already satisfied: rpds-py>=0.7.1 in /opt/anaconda3/envs/python-web-crawler-2/lib/python3.10/site-packages (from jsonschema>=3.0->altair<6,>=4.0->streamlit~=1.36.0->-r requirements.txt (line 3)) (0.18.1)\r\n",
      "Requirement already satisfied: mdurl~=0.1 in /opt/anaconda3/envs/python-web-crawler-2/lib/python3.10/site-packages (from markdown-it-py>=2.2.0->rich<14,>=10.14.0->streamlit~=1.36.0->-r requirements.txt (line 3)) (0.1.2)\r\n",
      "Requirement already satisfied: mypy-extensions>=0.3.0 in /opt/anaconda3/envs/python-web-crawler-2/lib/python3.10/site-packages (from typing-inspect<1,>=0.4.0->dataclasses-json<0.7,>=0.5.7->langchain-community->-r requirements.txt (line 13)) (1.0.0)\r\n",
      "Using cached pandas-1.5.3-cp310-cp310-macosx_10_9_x86_64.whl (12.0 MB)\r\n",
      "Using cached langchain-0.2.6-py3-none-any.whl (975 kB)\r\n",
      "Downloading langsmith-0.1.82-py3-none-any.whl (127 kB)\r\n",
      "\u001B[2K   \u001B[90m━━━━━━━━━━━━━━━━━━━━━━━━━━━━━━━━━━━━━━━\u001B[0m \u001B[32m127.4/127.4 kB\u001B[0m \u001B[31m225.2 kB/s\u001B[0m eta \u001B[36m0:00:00\u001B[0ma \u001B[36m0:00:01\u001B[0m\r\n",
      "\u001B[?25hInstalling collected packages: pandas, langsmith, langchain\r\n",
      "  Attempting uninstall: pandas\r\n",
      "    Found existing installation: pandas 2.2.2\r\n",
      "    Uninstalling pandas-2.2.2:\r\n",
      "      Successfully uninstalled pandas-2.2.2\r\n",
      "  Attempting uninstall: langsmith\r\n",
      "    Found existing installation: langsmith 0.0.92\r\n",
      "    Uninstalling langsmith-0.0.92:\r\n",
      "      Successfully uninstalled langsmith-0.0.92\r\n",
      "  Attempting uninstall: langchain\r\n",
      "    Found existing installation: langchain 0.0.309\r\n",
      "    Uninstalling langchain-0.0.309:\r\n",
      "      Successfully uninstalled langchain-0.0.309\r\n",
      "Successfully installed langchain-0.2.5 langsmith-0.1.82 pandas-1.5.3\r\n"
     ]
    }
   ],
   "execution_count": 12
  },
  {
   "cell_type": "markdown",
   "id": "873f657c",
   "metadata": {},
   "source": [
    "### <font color='red'>Setup</font> \n",
    "---\n",
    "<font color='red'>⚠️ ⚠️ ⚠️</font> \n",
    "Before running this notebook, ensure you've run the [Set-Up Bedrock notebook](./set-up_bedrock.ipynb) notebook. <font color='red'>⚠️ ⚠️ ⚠️</font>\n",
    "\n",
    "---"
   ]
  },
  {
   "cell_type": "markdown",
   "id": "f06fbee0-9db9-4a9f-8792-b71a670d82f8",
   "metadata": {},
   "source": [
    "## Configure Bedrock\n",
    "\n",
    "Create the necessary clients to invoke Bedrock models. If you need to pass in a certain role then set those values by uncommenting the section below.\n",
    "\n",
    "First we instantiate using Anthropic Claude V2 for text generation, and Titan Embeddings G1 - Text for text embeddings.\n",
    "\n",
    "Note: Many different models are available with Bedrock. Replace the `model_id` to change the model.\n",
    "\n",
    "`llm = Bedrock(model_id=\"anthropic.claude-v2\")`\n",
    "\n",
    "Information on available model IDs [here](https://docs.aws.amazon.com/bedrock/latest/userguide/model-ids-arns.html)"
   ]
  },
  {
   "cell_type": "code",
   "id": "5f5873db",
   "metadata": {
    "ExecuteTime": {
     "end_time": "2024-06-29T00:07:14.339373Z",
     "start_time": "2024-06-29T00:07:14.334857Z"
    }
   },
   "source": [
    "import warnings\n",
    "warnings.filterwarnings('ignore')"
   ],
   "outputs": [],
   "execution_count": 13
  },
  {
   "cell_type": "code",
   "id": "2628ef76-b545-4bf9-ade6-5b9f5c2c62b7",
   "metadata": {
    "ExecuteTime": {
     "end_time": "2024-06-29T00:07:14.676568Z",
     "start_time": "2024-06-29T00:07:14.340891Z"
    }
   },
   "source": [
    "import json\n",
    "import os\n",
    "import sys\n",
    "import boto3\n",
    "import botocore\n",
    "\n",
    "from langchain.llms.bedrock import Bedrock\n",
    "from IPython.display import Image\n",
    "\n",
    "module_path = \"..\"\n",
    "sys.path.append(os.path.abspath(module_path))\n",
    "from utils import bedrock, print_ww\n",
    "\n",
    "\n",
    "# ---- ⚠️ Un-comment and edit the below lines as needed for your AWS setup ⚠️ ----\n",
    "\n",
    "os.environ[\"AWS_DEFAULT_REGION\"] = \"us-east-1\"\n",
    "# os.environ[\"AWS_PROFILE\"] = \"\"\n",
    "# os.environ[\"BEDROCK_ASSUME_ROLE\"] = \"\"  # E.g. \"arn:aws:...\"\n",
    "\n",
    "boto3_bedrock = bedrock.get_bedrock_client(\n",
    "    assumed_role=os.environ.get(\"BEDROCK_ASSUME_ROLE\", None),\n",
    "    region=os.environ.get(\"AWS_DEFAULT_REGION\", None),\n",
    "    runtime=False)\n",
    "\n",
    "bedrock_runtime = bedrock.get_bedrock_client(\n",
    "    assumed_role=os.environ.get(\"BEDROCK_ASSUME_ROLE\", None),\n",
    "    region=os.environ.get(\"AWS_DEFAULT_REGION\", None))\n",
    "\n",
    "model_parameter = {\n",
    "    \"temperature\": 0.0, \n",
    "    \"top_p\": .5, \n",
    "    \"top_k\": 250, \n",
    "    \"max_tokens_to_sample\": 2000, \n",
    "    \"stop_sequences\": [\"\\n\\n Human: bye\"]\n",
    "}\n",
    "llm = Bedrock(\n",
    "    model_id=\"anthropic.claude-v2\", \n",
    "    model_kwargs=model_parameter, \n",
    "    client=bedrock_runtime\n",
    ")"
   ],
   "outputs": [
    {
     "name": "stdout",
     "output_type": "stream",
     "text": [
      "Create new client\n",
      "  Using region: us-east-1\n",
      "boto3 Bedrock client successfully created!\n",
      "bedrock(https://bedrock.us-east-1.amazonaws.com)\n",
      "Create new client\n",
      "  Using region: us-east-1\n",
      "boto3 Bedrock client successfully created!\n",
      "bedrock-runtime(https://bedrock-runtime.us-east-1.amazonaws.com)\n"
     ]
    }
   ],
   "execution_count": 14
  },
  {
   "cell_type": "markdown",
   "id": "1473baff",
   "metadata": {},
   "source": [
    "## Implementation\n",
    "This notebook is using the LangChain framework where it has integrations with different services and the following tools:\n",
    "\n",
    "- **LLM (Large Language Model)**: Anthropic Claude V2 available through Amazon Bedrock\n",
    "\n",
    "  This model will be used to understand the document chunks and provide an answer in human friendly manner.\n",
    "- **Embeddings Model**: Amazon Titan Embeddings available through Amazon Bedrock\n",
    "\n",
    "  This model will be used to generate a numerical representation of the textual documents\n",
    "- **Document Loader**: [S3FileLoader](https://api.python.langchain.com/en/latest/document_loaders/langchain.document_loaders.s3_file.S3FileLoader.html) and PDF Loader available through LangChain\n",
    "\n",
    "  This is the loader that can load the documents from a source, for the sake of this notebook we are loading the sample files from a local path. This could easily be replaced with a loader to load documents from enterprise internal systems.\n",
    "\n",
    "- **Vector Store**: In-Memory store FAISS\n",
    "\n",
    "  The index helps to compare the input embedding and the document embeddings to find relevant document\n",
    "- **Wrapper**: wraps index, vector store, embeddings model and the LLM to abstract away the logic from the user."
   ]
  },
  {
   "cell_type": "code",
   "id": "83ad4159-24aa-486d-8872-328109f0f642",
   "metadata": {
    "ExecuteTime": {
     "end_time": "2024-06-29T00:07:14.685245Z",
     "start_time": "2024-06-29T00:07:14.679703Z"
    }
   },
   "source": [
    "#TEST\n",
    "customer_input = \"I am  looking for a fan for our warehouses that will be energy efficient and assist with air circulation for the large open indoor warehouse. I need to be able to purchase in bulk for several locations in Indiana.\"\n",
    "\n",
    "\n",
    "# Customer id to infuse order history and delivery address\n",
    "customer_id = \"2\""
   ],
   "outputs": [],
   "execution_count": 15
  },
  {
   "cell_type": "raw",
   "id": "c0c499ed-f5a2-4b26-8ef6-991c39fb2f63",
   "metadata": {},
   "source": [
    "## Extract `product relevant` information\n",
    "\n",
    "Product data is stored in the grainger_product.parquet.\n",
    "\n",
    "# Without market research the assumption was made that Grainger Customers are meaningfully segmented by Find industry, size, Sustainability Focus, Inventory Manager, and the location\n",
    "\n",
    "TODO: Add to initial data icons and provide user with gov approved (JWOD, GSA, TAA) or environmentally conscious status.\n",
    "\n",
    "\n",
    "The prompt instructs the LLM to fetch the relevant information from the user prompt based on the above to facilitate a query of the source product data. \n",
    "\n",
    "Note the specific prompt template for the `entity extraction`"
   ]
  },
  {
   "cell_type": "code",
   "id": "a6c4210f-f08b-49d2-b9b7-45da05657fc6",
   "metadata": {
    "ExecuteTime": {
     "end_time": "2024-06-29T00:07:16.602901Z",
     "start_time": "2024-06-29T00:07:14.687094Z"
    }
   },
   "source": [
    "# Identify product attributes from customer prompt to generate better results\n",
    "ner_prompt = \"\"\"Human: Find industry, size, Sustainability Focus, Inventory Manager, and the location in the customer input.\n",
    "Instructions:\n",
    "The industry can be one of the following: Manufacturing, Warehousing, Government and Public Safety, Education, Food and Beverage Distribution, Hospitality, Property Management, Retail, or Other\n",
    "The size can be one of the following: Small Businesses (Smaller companies might prioritize cost-effective solutions and fast shipping options), or Large Enterprises (Larger organizations may require more comprehensive solutions, including strategic services like inventory management and safety consulting), Womens, Other\n",
    "The Sustainability Focused true or false meaning Environmentally Conscious Buyers: Customers interested in sustainability solutions, looking for products that focus on energy management, water conservation, waste reduction, and air quality improvement, or NOT Environmentally Conscious Buyers,\n",
    "The Inventory Manager true or false meaning a purchaser in large amounts to supply an organizational group, versus an individual user purchasing for personal use, \n",
    "The output must be in JSON format inside the tags <attributes></attributes>\n",
    "\n",
    "If the information of an entity is not available in the input then don't include that entity in the JSON output\n",
    "\n",
    "Begin!\n",
    "\n",
    "Customer input: {customer_input}\n",
    "Assistant:\"\"\"\n",
    "entity_extraction_result = llm(ner_prompt.format(customer_input=customer_input)).strip()\n",
    "print(entity_extraction_result)"
   ],
   "outputs": [
    {
     "name": "stdout",
     "output_type": "stream",
     "text": [
      "<attributes>\n",
      "{\n",
      "  \"industry\": \"Warehousing\",\n",
      "  \"size\": \"Large Enterprises\", \n",
      "  \"SustainabilityFocus\": true,\n",
      "  \"InventoryManager\": true,\n",
      "  \"location\": \"Indiana\"\n",
      "}\n",
      "</attributes>\n"
     ]
    }
   ],
   "execution_count": 16
  },
  {
   "cell_type": "markdown",
   "id": "eaddb1cd",
   "metadata": {},
   "source": [
    "#### Extract values into JSON"
   ]
  },
  {
   "cell_type": "code",
   "id": "80ce47b9",
   "metadata": {
    "ExecuteTime": {
     "end_time": "2024-06-29T00:07:16.609150Z",
     "start_time": "2024-06-29T00:07:16.604376Z"
    }
   },
   "source": [
    "import re\n",
    "import json\n",
    "result = re.search('<attributes>(.*)</attributes>', entity_extraction_result, re.DOTALL)\n",
    "attributes = json.loads(result.group(1))\n",
    "attributes"
   ],
   "outputs": [
    {
     "data": {
      "text/plain": [
       "{'industry': 'Warehousing',\n",
       " 'size': 'Large Enterprises',\n",
       " 'SustainabilityFocus': True,\n",
       " 'InventoryManager': True,\n",
       " 'location': 'Indiana'}"
      ]
     },
     "execution_count": 17,
     "metadata": {},
     "output_type": "execute_result"
    }
   ],
   "execution_count": 17
  },
  {
   "cell_type": "markdown",
   "id": "4c556d2c-d133-4bce-a4a2-27721191f8bb",
   "metadata": {},
   "source": [
    "## Use Retrieval Augmented Generation (RAG) \n",
    "\n",
    "Note: documents loaded with [S3FileLoader available under LangChain](https://python.langchain.com/docs/modules/data_connection/document_loaders/) can be split into smaller chunks. The retrieved document/text should be large enough to contain enough information to answer a question; but small enough to fit into the LLM prompt. Also the embeddings model has a limit of the length of input tokens limited to 8k tokens, which roughly translates to ~32000 characters. For the sake of this use-case we are creating chunks of roughly 1000 characters with an overlap of 100 characters using [RecursiveCharacterTextSplitter](https://python.langchain.com/en/latest/modules/indexes/text_splitters/examples/recursive_text_splitter.html).\n",
    "\n",
    "Below: fetching our productdata and creating the embeddings for \n",
    "1. Product catalog description\n",
    "2. Customer reviews\n",
    "\n",
    "# TODO: ADD order history for authenticated user\n",
    "3. Order History "
   ]
  },
  {
   "metadata": {},
   "cell_type": "markdown",
   "source": "",
   "id": "a9f1b13483921f58"
  },
  {
   "cell_type": "code",
   "id": "a93668d2-22c2-424f-9e92-05d1f5a0194c",
   "metadata": {
    "ExecuteTime": {
     "end_time": "2024-06-29T00:08:34.394615Z",
     "start_time": "2024-06-29T00:08:14.901659Z"
    }
   },
   "source": [
    "import pandas as pd\n",
    "parquet_file_path = \"processed/grainger_products.parquet\"\n",
    "print(\"Attempting to load file from:\", parquet_file_path)\n",
    "\n",
    "# Now attempt to load the file\n",
    "try:\n",
    "    df = pd.read_parquet(parquet_file_path)\n",
    "    print(\"File loaded successfully!\")\n",
    "except FileNotFoundError as e:\n",
    "    print(\"Error loading file:\", e)\n",
    "\n",
    "print(df.head())"
   ],
   "outputs": [
    {
     "name": "stdout",
     "output_type": "stream",
     "text": [
      "Attempting to load file from: processed/grainger_products.parquet\n",
      "File loaded successfully!\n",
      "                          Brand    Code  \\\n",
      "0  LION FIRE BOOTS BY THOROGOOD   3XRG7   \n",
      "1           GLOWEAR BY ERGODYNE   1CXK5   \n",
      "2                      CARHARTT  491V68   \n",
      "3                      TRIPLETT  794UC5   \n",
      "4                        DEWALT  492U19   \n",
      "\n",
      "                                                Name  \\\n",
      "0  Insulated Firefighter Boots: Insulated, Steel,...   \n",
      "1  GLOWEAR BY ERGODYNE Baseball Cap: Orange, Univ...   \n",
      "2  CARHARTT Bib Overalls: Men's, XL ( 42 in x 32 ...   \n",
      "3  TRIPLETT Combustible Gas Detector: Audible/Vib...   \n",
      "4  DEWALT Heated Jacket: Men's, S, Black, Up to 9...   \n",
      "\n",
      "                                       PictureUrl600    Price  \\\n",
      "0  https://static.grainger.com/rp/s/is/image/Grai...  $197.55   \n",
      "1  https://static.grainger.com/rp/s/is/image/Grai...   $13.93   \n",
      "2  https://static.grainger.com/rp/s/is/image/Grai...   $95.79   \n",
      "3  https://static.grainger.com/rp/s/is/image/Grai...  $134.56   \n",
      "4  https://static.grainger.com/rp/s/is/image/Grai...  $363.87   \n",
      "\n",
      "                                         Description  \n",
      "0  <p>Thorogood® 807-6003 Insulated Boots are des...  \n",
      "1  <p>Baseball hats have a curved brim that shade...  \n",
      "2  <p>Overalls (sometimes called bib overalls) ar...  \n",
      "3                                               None  \n",
      "4  <p>Men's electronically heated jackets cover t...  \n"
     ]
    }
   ],
   "execution_count": 19
  },
  {
   "cell_type": "code",
   "id": "fc692daa-6f4d-41bf-a724-1a1448aff55c",
   "metadata": {},
   "source": [
    "# ## Approach 1: Using Textual Columns Directly\n",
    "# # To focus on text-based similarity (e.g., based on 'Name' and 'Description'), columns are concatenated\n",
    "# # FAISS.from_texts is used. This allows more granular control.\n",
    "# from langchain.embeddings import BedrockEmbeddings\n",
    "# from langchain.vectorstores import FAISS\n",
    "# import pandas as pd\n",
    "# import numpy as np\n",
    "# \n",
    "# # Initialize the Titan Embeddings Model\n",
    "# print(\"Initializing Titan Embeddings Model...\")\n",
    "# bedrock_embeddings = BedrockEmbeddings(model_id=\"amazon.titan-embed-text-v1\", client=bedrock_runtime)\n",
    "# print(\"Titan Embeddings Model initialized.\")\n",
    "# \n",
    "# # Load the Grainger products data from parquet file at path relative to the notebook\n",
    "# parquet_file_path = \"processed/grainger_products.parquet\"\n",
    "# print(f\"Loading data from parquet file: {parquet_file_path}...\")\n",
    "# products_df = pd.read_parquet(parquet_file_path)\n",
    "# print(\"Data loaded successfully.\")\n",
    "# \n",
    "# # Concatenate 'Name', 'Description', and 'Code' columns\n",
    "# print(\"Concatenating 'Name', 'Description', and 'Code' columns...\")\n",
    "# products_df['text_content'] = products_df['Name'].fillna('') + ' ' + products_df['Description'].fillna('') + ' ' + products_df['Code'].fillna('')\n",
    "# \n",
    "# # Create FAISS vector store from concatenated text content\n",
    "# print(\"Creating FAISS vector store based on concatenated text content...\")\n",
    "# vectorstore_faiss = FAISS.from_texts(products_df['text_content'], bedrock_embeddings)\n",
    "# print(\"FAISS vector store created.\")\n",
    "# \n",
    "# # TEST: Process a query based on a product code\n",
    "# customer_code = \"1CXK5\"  # Example product code to search\n",
    "# print(f\"Processing customer query for product with code: {customer_code}...\")\n",
    "# query_result = products_df[products_df['Code'] == customer_code]\n",
    "# \n",
    "# if not query_result.empty:\n",
    "#     print(\"Product details found:\")\n",
    "#     print(query_result)\n",
    "# else:\n",
    "#     print(f\"No product found with code: {customer_code}\")\n",
    "# \n",
    "# # TEST: Process a query based on customer input\n",
    "# customer_input = \"Men's insulated boots\"\n",
    "# print(f\"Processing customer input: {customer_input}...\")\n",
    "# query_embedding = bedrock_embeddings.embed_query(customer_input)\n",
    "# print(\"Customer input processed.\")\n",
    "# \n",
    "# # Convert query embedding to numpy array\n",
    "# np_array_query_embedding = np.array(query_embedding)\n",
    "# print(\"Query embedding converted to numpy array.\")\n",
    "# \n",
    "# # Print the resulting query embedding\n",
    "# print(\"Resulting query embedding:\")\n",
    "# print(np_array_query_embedding)\n"
   ],
   "outputs": [],
   "execution_count": null
  },
  {
   "cell_type": "code",
   "id": "d47dcae9-07c3-4cee-87d7-371e7f9f18ae",
   "metadata": {
    "ExecuteTime": {
     "end_time": "2024-06-29T00:26:46.902516Z",
     "start_time": "2024-06-29T00:23:38.049595Z"
    }
   },
   "source": [
    "#VERSION 2: AS A DOCUMENT\n",
    "# Automates the process and optimizes for large and changing data sets.\n",
    "from langchain.embeddings import BedrockEmbeddings\n",
    "from langchain.vectorstores import FAISS\n",
    "import pandas as pd\n",
    "import numpy as np\n",
    "\n",
    "\n",
    "class Document:\n",
    "    def __init__(self, page_content, metadata):\n",
    "        self.page_content = page_content\n",
    "        self.metadata = metadata\n",
    "        \n",
    "# Initialize the Titan Embeddings Model\n",
    "print(\"Initializing Titan Embeddings Model...\")\n",
    "bedrock_embeddings = BedrockEmbeddings(model_id=\"amazon.titan-embed-text-v1\", client=bedrock_runtime)\n",
    "print(\"Titan Embeddings Model initialized.\")\n",
    "\n",
    "documents = []\n",
    "for _, row in df.iterrows():\n",
    "    page_content = f\"{row['Code']} {row['Name']} {row['Brand']} {row['Description'] if pd.notna(row['Description']) else ''}\"\n",
    "    metadata = {\n",
    "        'Brand': row['Brand'],\n",
    "        'Code': row['Code'],\n",
    "        'Name': row['Name'],\n",
    "        'Description': row['Description'],\n",
    "        'Price': row['Price']\n",
    "    }\n",
    "    documents.append(Document(page_content, metadata))\n",
    "\n",
    "\n",
    "# Print the structured documents\n",
    "print(\"Structured documents created:\")\n",
    "for idx, doc in enumerate(documents[:5], 1):  \n",
    "    print(f\"Document {idx} of {len(documents)}:\")\n",
    "    print(doc.page_content[:200])\n",
    "    print()\n",
    "\n",
    "# Create FAISS vector store from structured documents\n",
    "print(\"Creating FAISS vector store from structured documents...\")\n",
    "vectorstore_faiss_doc = FAISS.from_documents(documents, bedrock_embeddings)\n",
    "print(\"FAISS vector store created.\")\n",
    "\n",
    "\n",
    "customer_input = \"Men's insulted boots.\"\n",
    "query_embedding_doc = bedrock_embeddings.embed_query(customer_input)\n",
    "print(\"Customer input processed.\")\n",
    "\n",
    "# Convert query embedding to numpy array\n",
    "np_array_query_embedding_doc = np.array(query_embedding_doc)\n",
    "print(\"Query embedding converted to numpy array.\")\n",
    "\n",
    "# Print the resulting query embedding\n",
    "print(\"Resulting query embedding:\")\n",
    "print(np_array_query_embedding_doc)\n"
   ],
   "outputs": [
    {
     "name": "stdout",
     "output_type": "stream",
     "text": [
      "Initializing Titan Embeddings Model...\n",
      "Titan Embeddings Model initialized.\n",
      "Structured documents created:\n",
      "Document 1 of 1736:\n",
      "3XRG7 Insulated Firefighter Boots: Insulated, Steel, 10-1/2, M, Structural, 1 PR LION FIRE BOOTS BY THOROGOOD <p>Thorogood® 807-6003 Insulated Boots are designed for use by firefighters in demanding a\n",
      "\n",
      "Document 2 of 1736:\n",
      "1CXK5 GLOWEAR BY ERGODYNE Baseball Cap: Orange, Universal, Baseball Hat Hat, Polyester, Gen Purpose GLOWEAR BY ERGODYNE <p>Baseball hats have a curved brim that shades the eyes from sun to reduce eye \n",
      "\n",
      "Document 3 of 1736:\n",
      "491V68 CARHARTT Bib Overalls: Men's, XL ( 42 in x 32 in ), Navy, Cotton, Zipper, Zipper, 9 Pockets CARHARTT <p>Overalls (sometimes called bib overalls) are sleeveless garments that cover the torso and\n",
      "\n",
      "Document 4 of 1736:\n",
      "794UC5 TRIPLETT Combustible Gas Detector: Audible/Vibration/Visual Indicator, Rechargeable Li-Po Battery TRIPLETT \n",
      "\n",
      "Document 5 of 1736:\n",
      "492U19 DEWALT Heated Jacket: Men's, S, Black, Up to 9 hr, 36 in Max Chest Size, 3 Outside Pockets, Zipper DEWALT <p>Men's electronically heated jackets cover the arms and torso, extending to the hip.<\n",
      "\n",
      "Creating FAISS vector store from structured documents...\n",
      "FAISS vector store created.\n",
      "Customer input processed.\n",
      "Query embedding converted to numpy array.\n",
      "Resulting query embedding:\n",
      "[-1.140625    0.29492188  0.33007812 ...  0.28320312 -0.5546875\n",
      "  0.06787109]\n"
     ]
    }
   ],
   "execution_count": 22
  },
  {
   "cell_type": "code",
   "id": "1923edcb-2dd4-4df2-ae56-462935eae428",
   "metadata": {},
   "source": "## Going forward the FAISS.from_document version is used",
   "outputs": [],
   "execution_count": null
  },
  {
   "cell_type": "markdown",
   "id": "f1fd6c9d-a512-4f1e-ba8f-486d8b88f71f",
   "metadata": {},
   "source": [
    "## Generate *`n`* style recommendations\n",
    "\n",
    "Make a query to embed the LLM using customer input. Using LangChain for orchestration of RAG. It also provides a framework for orchestrating RAG flows with what purpose built \"chains\". In this section, we will see how to be a [retrieval chain](https://python.langchain.com/docs/use_cases/question_answering/vector_db_qa) which is more comprehensive and robust than the original retrieval system we built above.\n",
    "\n",
    "The workflow we used above follows the following process:\n",
    "1. User input is received.\n",
    "2. User input is queried against the vector database to retrieve the relevant products\n",
    "3. Product description and chat memory are inserted into a new prompt to respond to the user input.\n",
    "4. This output is fed into the stable diffusion model to return the relevant images\n",
    "\n",
    "However, more complex methods of interacting with the user input can generate more accurate results in RAG architectures. One of the popular mechanisms which can increase accuracy of these retrieval systems is utilizing more than one call to an LLM in order to reformat the user input for more effective search to your vector database. A better workflow is described below compared to the one we already built...\n",
    "\n",
    "1. User input is received.\n",
    "2. An LLM is used to reword the user input to be a better search query for the vector database based on the chat history and product description. \n",
    "3. This could include things like condensing, rewording, addition of chat context, or stylistic changes.\n",
    "4. Reformatted user input is queried against the vector database to retrieve relevant products.The reformatted user input and relevant documents are inserted into a new prompt in order to generate the new style. \n",
    "5. This is then fed into the stable diffusion model to generate the images. \n",
    "\n",
    "In your application the images can come from a pre canned images \n",
    "\n",
    "We will now build out this second workflow using LangChain below. First we need to make a prompt which will reformat the user input to be more compatible for searching of the vector database. The way we do this is by providing the chat history as well as the some basic instructions to Claude and asking it to condense the input into a single output. "
   ]
  },
  {
   "metadata": {
    "ExecuteTime": {
     "end_time": "2024-06-29T00:27:59.737717Z",
     "start_time": "2024-06-29T00:27:59.610809Z"
    }
   },
   "cell_type": "code",
   "source": [
    "# More complex customer Input\n",
    "customer_input = \"I am looking for waterproof insulated boots form my men working on my commercial deep sea fishing boat in the arctic. Must have large sizes.\"\n",
    "print(f\"Processing customer input: {customer_input}...\")\n",
    "query_embedding_doc = bedrock_embeddings.embed_query(customer_input)\n",
    "print(\"Customer input processed.\")\n",
    "\n",
    "# Convert query embedding to numpy array\n",
    "np_array_query_embedding_doc = np.array(query_embedding_doc)\n",
    "print(\"Query embedding converted to numpy array.\")\n",
    "\n",
    "# Print the resulting query embedding\n",
    "print(\"Resulting query embedding:\")\n",
    "print(np_array_query_embedding_doc)\n"
   ],
   "id": "6d9429ff50622b28",
   "outputs": [
    {
     "name": "stdout",
     "output_type": "stream",
     "text": [
      "Processing customer input: I am looking for waterproof insulated boots form my men working on my commercial deep sea fishing boat in the arctic. Must have large sizes....\n",
      "Customer input processed.\n",
      "Query embedding converted to numpy array.\n",
      "Resulting query embedding:\n",
      "[-1.0078125  -0.00338745  0.01818848 ...  0.12988281 -0.6171875\n",
      " -0.49023438]\n"
     ]
    }
   ],
   "execution_count": 23
  },
  {
   "metadata": {
    "ExecuteTime": {
     "end_time": "2024-06-29T00:37:03.768885Z",
     "start_time": "2024-06-29T00:37:02.466506Z"
    }
   },
   "cell_type": "code",
   "source": [
    "# from langchain_core.prompts import PromptTemplate\n",
    "# from langchain.chains.retrieval_qa.base import RetrievalQA\n",
    "# import time\n",
    "# from PIL import Image\n",
    "# from IPython import display\n",
    "# from base64 import b64decode\n",
    "# import base64\n",
    "# import io\n",
    "# import json\n",
    "# import os\n",
    "# import sys\n",
    "# import ipywidgets as widgets\n",
    "# import re\n",
    "# \n",
    "# # Function to extract attributes using NER prompt\n",
    "# def extract_attributes(customer_input):\n",
    "#     ner_prompt = \"\"\"Human: Find location, environment, and gender in the customer input.\n",
    "#     The output must be in JSON format inside the tags <attributes></attributes>\n",
    "#     \n",
    "#     If the information of an entity is not available in the input then don't include that entity in the JSON output\n",
    "#     \n",
    "#     Begin!\n",
    "#     \n",
    "#     Customer input: {customer_input}\n",
    "#     Assistant:\"\"\"\n",
    "#     print(\"Extracting attributes...\")\n",
    "#     start_time = time.time()\n",
    "#     entity_extraction_result = llm(ner_prompt.format(customer_input=customer_input)).strip()\n",
    "#     print(\"Raw entity extraction result:\", entity_extraction_result)\n",
    "#     print(f\"Attribute extraction completed in {time.time() - start_time:.2f} seconds.\")\n",
    "#     \n",
    "#     try:\n",
    "#         attributes_json = re.search(r'<attributes>(.*?)</attributes>', entity_extraction_result, re.DOTALL).group(1)\n",
    "#         attributes = json.loads(attributes_json)\n",
    "#         return attributes\n",
    "#     except (AttributeError, json.JSONDecodeError) as e:\n",
    "#         print(\"Error parsing attributes:\", str(e))\n",
    "#         return {}\n",
    "# \n",
    "# attributes = extract_attributes(customer_input)\n",
    "# \n",
    "# gender_map = {\n",
    "#     'Womens': 'of a female ',\n",
    "#     'Mens': 'of a male '\n",
    "# } \n",
    "# \n",
    "# print(\"customer_input: \", customer_input)\n",
    "# print(\"attributes: \", attributes)\n"
   ],
   "id": "f276373d3c35cfc1",
   "outputs": [
    {
     "name": "stdout",
     "output_type": "stream",
     "text": [
      "Extracting attributes...\n",
      "Raw entity extraction result: <attributes>\n",
      "{\"location\": \"arctic\", \n",
      "\"environment\": \"deep sea fishing boat\",\n",
      "\"gender\": \"men\"}\n",
      "</attributes>\n",
      "Attribute extraction completed in 1.29 seconds.\n",
      "customer_input:  I am looking for waterproof insulated boots for my men working on my commercial deep sea fishing boat in the arctic. Must have large sizes.\n",
      "attributes:  {'location': 'arctic', 'environment': 'deep sea fishing boat', 'gender': 'men'}\n"
     ]
    }
   ],
   "execution_count": 31
  },
  {
   "metadata": {
    "ExecuteTime": {
     "end_time": "2024-06-29T00:41:54.377818Z",
     "start_time": "2024-06-29T00:41:49.003068Z"
    }
   },
   "cell_type": "code",
   "source": [
    "from langchain.chains import RetrievalQA\n",
    "from langchain.prompts import PromptTemplate\n",
    "\n",
    "prompt_template = \"\"\"Human: Use the following pieces of context to generate 5  recommendations for the customer input at the end.\n",
    "<context>\n",
    "{context}\n",
    "</context>\n",
    "<example>A navy suit with a light blue dress shirt, conservative tie, black oxford shoes, and a leather belt.</example>\n",
    "<example>A lehenga choli set with a crop top, flowing skirt, and dupatta scarf in lively colors and metallic accents.</example>\n",
    "\n",
    "Customer Input: {question}\n",
    "Each style recommendation must be inside the tags <style></style>.\n",
    "Do not output product physical IDs.\n",
    "Skip the preamble.\n",
    "Assistant: \"\"\"\n",
    "PROMPT = PromptTemplate(\n",
    "    template=prompt_template, input_variables=[\"context\", \"question\"]\n",
    ")\n",
    "\n",
    "# Use RetrievalQA customizations for improving Q&A experience\n",
    "qa = RetrievalQA.from_chain_type(\n",
    "    llm=llm,\n",
    "    chain_type=\"stuff\",\n",
    "    retriever=vectorstore_faiss.as_retriever(\n",
    "        search_type=\"similarity\", search_kwargs={\"k\": 6}\n",
    "    ),\n",
    "    return_source_documents=False,\n",
    "    chain_type_kwargs={\"prompt\": PROMPT},\n",
    ")\n",
    "recs_response = qa({\"query\": customer_input})['result']\n",
    "recs_response"
   ],
   "id": "1f2810aadebfd37d",
   "outputs": [
    {
     "data": {
      "text/plain": [
       "' <style>Waterproof knee-high rubber boots with insulation and oil-resistant soles for warmth and traction on a fishing boat.</style>\\n\\n<style>Large sized boots (size 13 and up) to accommodate workers with bigger feet.</style>  \\n\\n<style>Boots with electrical hazard protection for safety around electrical equipment on the boat.</style>\\n\\n<style>Plain toe boots without a steel toe for maximum comfort and flexibility.</style>\\n\\n<style>Brands known for durable and rugged commercial fishing boots like Lacrosse.</style>'"
      ]
     },
     "execution_count": 36,
     "metadata": {},
     "output_type": "execute_result"
    }
   ],
   "execution_count": 36
  },
  {
   "metadata": {
    "ExecuteTime": {
     "end_time": "2024-06-29T00:49:06.320264Z",
     "start_time": "2024-06-29T00:49:06.313220Z"
    }
   },
   "cell_type": "code",
   "source": [
    "# Prepare input to fetch images for each look\n",
    "recommendations = re.findall('<style>(.*?)</style>', recs_response)\n",
    "recommendations"
   ],
   "id": "3729e89773f58a10",
   "outputs": [
    {
     "data": {
      "text/plain": [
       "['Waterproof knee-high rubber boots with insulation and oil-resistant soles for warmth and traction on a fishing boat.',\n",
       " 'Large sized boots (size 13 and up) to accommodate workers with bigger feet.',\n",
       " 'Boots with electrical hazard protection for safety around electrical equipment on the boat.',\n",
       " 'Plain toe boots without a steel toe for maximum comfort and flexibility.',\n",
       " 'Brands known for durable and rugged commercial fishing boots like Lacrosse.']"
      ]
     },
     "execution_count": 40,
     "metadata": {},
     "output_type": "execute_result"
    }
   ],
   "execution_count": 40
  },
  {
   "cell_type": "markdown",
   "id": "a6d22783-c906-413e-a889-1c4d3dd1f0fe",
   "metadata": {},
   "source": [
    "## Generate Images for the relevant style\n",
    "\n",
    "Generate an image for each look using the `Stable Diffusion` model\n",
    "\n",
    "![Generate Look](./images/generate_look.png)"
   ]
  },
  {
   "cell_type": "code",
   "id": "80e7e6ff-7e46-403b-9c38-f98de88bdeb9",
   "metadata": {
    "ExecuteTime": {
     "end_time": "2024-06-29T01:09:48.051695Z",
     "start_time": "2024-06-29T01:09:04.310374Z"
    }
   },
   "source": [
    "from langchain_core.prompts import PromptTemplate\n",
    "from langchain.chains.retrieval_qa.base import RetrievalQA\n",
    "import time\n",
    "from PIL import Image, ImageDraw, ImageFont\n",
    "from IPython import display\n",
    "from base64 import b64decode\n",
    "import base64\n",
    "import io\n",
    "import json\n",
    "import os\n",
    "import sys\n",
    "import ipywidgets as widgets\n",
    "import re\n",
    "\n",
    "# Function to extract attributes using NER prompt\n",
    "def extract_attributes(customer_input):\n",
    "    ner_prompt = \"\"\"Human: Find location, environment, and gender in the customer input.\n",
    "    The output must be in JSON format inside the tags <attributes></attributes>\n",
    "    \n",
    "    If the information of an entity is not available in the input then don't include that entity in the JSON output\n",
    "    \n",
    "    Begin!\n",
    "    \n",
    "    Customer input: {customer_input}\n",
    "    Assistant:\"\"\"\n",
    "    print(\"Extracting attributes...\")\n",
    "    start_time = time.time()\n",
    "    entity_extraction_result = llm(ner_prompt.format(customer_input=customer_input)).strip()\n",
    "    print(\"Raw entity extraction result:\", entity_extraction_result)\n",
    "    print(f\"Attribute extraction completed in {time.time() - start_time:.2f} seconds.\")\n",
    "    \n",
    "    try:\n",
    "        attributes_json = re.search(r'<attributes>(.*?)</attributes>', entity_extraction_result, re.DOTALL).group(1)\n",
    "        attributes = json.loads(attributes_json)\n",
    "        return attributes\n",
    "    except (AttributeError, json.JSONDecodeError) as e:\n",
    "        print(\"Error parsing attributes:\", str(e))\n",
    "        return {}\n",
    "\n",
    "# Function to generate thumbnails with recommendation overlay based on recommendations and attributes\n",
    "def generate_thumbnails_with_overlay(recommendations, attributes):\n",
    "    gender_map = {\n",
    "        'Womens': 'of a female ',\n",
    "        'Mens': 'of a male '\n",
    "    }\n",
    "\n",
    "    os.makedirs(\"data\", exist_ok=True)\n",
    "    image_strip = \"\"\n",
    "    \n",
    "    for i, rec in enumerate(recommendations):\n",
    "        print(f\"Generating thumbnail {i+1}/{len(recommendations)} for recommendation: {rec}\")\n",
    "        \n",
    "        prompt_parts = [\n",
    "            f\"Full body view {gender_map.get(attributes.get('gender', ''))}without a face in {rec}, dslr, ultra quality, dof, film grain, Fujifilm XT3, crystal clear, 8K UHD\"\n",
    "        ]\n",
    "        \n",
    "        if attributes.get('environment'):\n",
    "            prompt_parts.append(f\", in a {attributes['environment']} setting\")\n",
    "        \n",
    "        prompt_text = \"\".join(prompt_parts)\n",
    "        \n",
    "        request = json.dumps({\n",
    "            \"text_prompts\": [\n",
    "                {\"text\": prompt_text, \"weight\": 1.0},\n",
    "                {\"text\": \"poorly rendered\", \"weight\": -1.0}\n",
    "            ],\n",
    "            \"cfg_scale\": 9,\n",
    "            \"seed\": 4000,\n",
    "            \"steps\": 50,\n",
    "            \"style_preset\": \"photographic\",\n",
    "        })\n",
    "        modelId = \"stability.stable-diffusion-xl-v1\"\n",
    "\n",
    "        start_time = time.time()\n",
    "        response = bedrock_runtime.invoke_model(body=request, modelId=modelId)\n",
    "        response_body = json.loads(response.get(\"body\").read())\n",
    "        print(f\"Thumbnail {i+1} generation completed in {time.time() - start_time:.2f} seconds.\")\n",
    "\n",
    "        base_64_img_str = response_body[\"artifacts\"][0].get(\"base64\")\n",
    "        # Convert base64 image to a thumbnail (reduce size)\n",
    "        img_data = b64decode(base_64_img_str)\n",
    "        img = Image.open(io.BytesIO(img_data))\n",
    "        img.thumbnail((200, 200))  # Adjust the size as needed for thumbnails\n",
    "\n",
    "        # Add recommendation text overlay\n",
    "        draw = ImageDraw.Draw(img)\n",
    "        text = rec\n",
    "        font = ImageFont.load_default()  # Adjust the font and size here\n",
    "        \n",
    "        # Calculate wrapped text dimensions\n",
    "        max_text_width = img.width - 10  # Max width for wrapping text\n",
    "        lines = []\n",
    "        words = text.split()\n",
    "        while words:\n",
    "            line = ''\n",
    "            while words and draw.textsize(line + words[0], font=font)[0] <= max_text_width:\n",
    "                line += words.pop(0) + ' '\n",
    "            lines.append(line)\n",
    "        wrapped_text = '\\n'.join(lines)\n",
    "        \n",
    "        # Calculate text size after wrapping\n",
    "        wrapped_text_width, wrapped_text_height = draw.textsize(wrapped_text, font=font)\n",
    "        \n",
    "        # Calculate box dimensions\n",
    "        box_width = img.width\n",
    "        box_height = wrapped_text_height + 10  # Adjust padding as needed\n",
    "        \n",
    "        # Draw black box dynamically sized for wrapped text\n",
    "        draw.rectangle([(0, img.height - box_height), (img.width, img.height)], fill='black')\n",
    "        \n",
    "        # Calculate text position\n",
    "        text_x = (img.width - wrapped_text_width) / 2\n",
    "        text_y = img.height - box_height + (box_height - wrapped_text_height) / 2  # Center vertically\n",
    "        \n",
    "        # Draw wrapped text\n",
    "        draw.text((text_x, text_y), wrapped_text, fill='white', font=font)\n",
    "        \n",
    "        buffered = io.BytesIO()\n",
    "        img.save(buffered, format=\"JPEG\")\n",
    "        base_64_thumbnail_str = base64.b64encode(buffered.getvalue()).decode()\n",
    "\n",
    "        image_strip += f\"<td><img src='data:image/png;base64, {base_64_thumbnail_str}'></td>\"\n",
    "\n",
    "    display.display(display.HTML(\"<table><tr>\" + image_strip +\"</tr></table>\"))\n",
    "\n",
    "# Assuming 'recommendations' and 'attributes' are defined elsewhere in your script\n",
    "attributes = extract_attributes(customer_input)\n",
    "generate_thumbnails_with_overlay(recommendations, attributes)\n"
   ],
   "outputs": [
    {
     "name": "stdout",
     "output_type": "stream",
     "text": [
      "Extracting attributes...\n",
      "Raw entity extraction result: <attributes>\n",
      "{\"location\": \"arctic\", \n",
      "\"environment\": \"deep sea fishing boat\",\n",
      "\"gender\": \"men\"}\n",
      "</attributes>\n",
      "Attribute extraction completed in 1.46 seconds.\n",
      "Generating thumbnail 1/5 for recommendation: Waterproof knee-high rubber boots with insulation and oil-resistant soles for warmth and traction on a fishing boat.\n",
      "Thumbnail 1 generation completed in 8.60 seconds.\n",
      "Generating thumbnail 2/5 for recommendation: Large sized boots (size 13 and up) to accommodate workers with bigger feet.\n",
      "Thumbnail 2 generation completed in 8.50 seconds.\n",
      "Generating thumbnail 3/5 for recommendation: Boots with electrical hazard protection for safety around electrical equipment on the boat.\n",
      "Thumbnail 3 generation completed in 8.20 seconds.\n",
      "Generating thumbnail 4/5 for recommendation: Plain toe boots without a steel toe for maximum comfort and flexibility.\n",
      "Thumbnail 4 generation completed in 8.19 seconds.\n",
      "Generating thumbnail 5/5 for recommendation: Brands known for durable and rugged commercial fishing boots like Lacrosse.\n",
      "Thumbnail 5 generation completed in 8.22 seconds.\n"
     ]
    },
    {
     "data": {
      "text/plain": [
       "<IPython.core.display.HTML object>"
      ],
      "text/html": [
       "<table><tr><td><img src='data:image/png;base64, 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'></td><td><img src='data:image/png;base64, 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'></td><td><img src='data:image/png;base64, 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'></td><td><img src='data:image/png;base64, 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'></td><td><img src='data:image/png;base64, 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'></td></tr></table>"
      ]
     },
     "metadata": {},
     "output_type": "display_data"
    }
   ],
   "execution_count": 48
  },
  {
   "metadata": {},
   "cell_type": "code",
   "outputs": [],
   "execution_count": null,
   "source": "",
   "id": "76943abec14663be"
  },
  {
   "metadata": {},
   "cell_type": "code",
   "outputs": [],
   "execution_count": null,
   "source": [
    "def generate_images_from_product_data():\n",
    "    "
   ],
   "id": "41ec5c10f5adc53b"
  },
  {
   "cell_type": "markdown",
   "id": "07e0443f-487f-4c49-87c2-ab581be8535f",
   "metadata": {},
   "source": [
    "## Enhance user experience with Chatbot\n",
    "\n",
    "#### Generating detailed overview based on customer reviews of products in catalog \n",
    "We have discussed the key building blocks needed for the chatbot application and now we will start to create them. LangChain's [ConversationBufferMemory](https://python.langchain.com/docs/use_cases/question_answering/chat_vector_db) class provides an easy way to capture conversational memory for LLM chat applications. We will have Claude being able to retrieve context through conversational memory using the prompt template. Note that this time our prompt template includes a {chat_history} variable where our chat history will be included to the prompt.\n",
    "\n",
    "The prompt template has both conversation memory as well as chat history as inputs along with the human input. Notice how the prompt also instructs Claude to not answer questions which it does not have the context for. This helps reduce hallucinations which is extremely important when creating end user facing applications which need to be factual.\n",
    "\n",
    "\n",
    "![Architecture](./images/chatbot_products.png)"
   ]
  },
  {
   "cell_type": "code",
   "id": "255e05cd-da0e-4649-95e9-59e2cc9358dc",
   "metadata": {},
   "source": [
    "chat_prompt1 = \"Show me specific reviews that talk about the quality of the fabric for the jacket.\"\n",
    "chat_prompt2 = \"What do people like about the business formal jacket?\"\n",
    "\n",
    "from langchain.chains import ConversationalRetrievalChain\n",
    "from langchain.memory import ConversationBufferMemory\n",
    "from langchain.chains.conversational_retrieval.prompts import CONDENSE_QUESTION_PROMPT\n",
    "\n",
    "chat_history = [\" \"]\n",
    "memory_chain = ConversationBufferMemory(memory_key=\"chat_history\", return_messages=True)\n",
    "conversation = ConversationalRetrievalChain.from_llm(\n",
    "    llm=llm, \n",
    "    retriever=vectorstore_faiss.as_retriever(), \n",
    "    memory=memory_chain,\n",
    "    condense_question_prompt=CONDENSE_QUESTION_PROMPT,\n",
    "    #verbose=True, \n",
    "    chain_type='stuff', # 'refine',\n",
    "    #max_tokens_limit=300\n",
    ")\n",
    "\n",
    "# Generate detailed reviews based on customer reviews of specific clothing in product catalog\n",
    "\n",
    "try:\n",
    "    chat_res1 = conversation.run({'question': chat_prompt1, 'chat_history': chat_history })\n",
    "    print_ww(chat_res1)\n",
    "    chat_history.append([chat_prompt1, chat_res1])\n",
    "except ValueError as error:\n",
    "    if  \"AccessDeniedException\" in str(error):\n",
    "        class StopExecution(ValueError):\n",
    "            def _render_traceback_(self):\n",
    "                pass\n",
    "        raise StopExecution        \n",
    "    else:\n",
    "        raise error"
   ],
   "outputs": [],
   "execution_count": null
  },
  {
   "cell_type": "code",
   "id": "28cf8288-acbf-464e-b202-174755e7568d",
   "metadata": {},
   "source": [
    "try:\n",
    "    chat_res2 = conversation.run({'question': chat_prompt2 + \" Answer even if embeddings does not return anything.\", 'chat_history': chat_history })\n",
    "    print_ww(chat_res2)\n",
    "    chat_history.append([chat_prompt2, chat_res2])\n",
    "except ValueError as error:\n",
    "    if  \"AccessDeniedException\" in str(error):\n",
    "        class StopExecution(ValueError):\n",
    "            def _render_traceback_(self):\n",
    "                pass\n",
    "        raise StopExecution        \n",
    "    else:\n",
    "        raise error"
   ],
   "outputs": [],
   "execution_count": null
  },
  {
   "cell_type": "markdown",
   "id": "18c0a1cb-72aa-4d26-bc17-d5846a1e4188",
   "metadata": {},
   "source": [
    "#### Customer order history semantic searches\n",
    "\n",
    "Generating size and color recommendations based on customer's order history. This will help to provide curated content to the customer"
   ]
  },
  {
   "cell_type": "code",
   "id": "45f4710f-c185-4356-a850-f2c051cf1837",
   "metadata": {},
   "source": [
    "chat_prompt3 = \"What size and color should I wear?\"\n",
    "chat_res3 = wrapper_store_faiss.query(question= chat_prompt3 + \" based on order history for customer with id \" + customer_id, llm=llm)\n",
    "print_ww(chat_res3)"
   ],
   "outputs": [],
   "execution_count": null
  },
  {
   "cell_type": "markdown",
   "id": "13b358e8-fa6b-4cbf-b05b-ea985dcfa260",
   "metadata": {},
   "source": [
    "## Showing final products based on customer style selection \n",
    "\n",
    "Continuing on our architectural pattern we will change the prompt template and leverage the LLM to generate the `recommended` products based on the user selection and weather and other details. The key extraction entities will be \n",
    "\n",
    "1. Leverage the customer initial prompt to generate the relevant ids\n",
    "2. Extract the relevant products from the vector store\n",
    "3. Physical ID for the products needed\n",
    "\n",
    "\n",
    "\n",
    "![Architecture](./images/other_products.png)"
   ]
  },
  {
   "cell_type": "code",
   "id": "2bd18a21-5519-4543-8d8f-98ddab109b78",
   "metadata": {},
   "source": [
    "from PIL import Image\n",
    "import requests\n",
    "\n",
    "prompt_template2 = \"\"\"Human: Extract list of products and their respective physical IDs from catalog that matches the style given below. \n",
    "The catalog of products is provided under <catalog></catalog> tags below.\n",
    "<catalog>\n",
    "{context}\n",
    "</catalog>\n",
    "Style: {question}\n",
    "\n",
    "The output should be a JSON of the form <products>[{{\"product\": <description of the product from the catalog>, \"physical_id\":<physical id of the product from the catalog>}}, ...]</products>\n",
    "Skip the preamble.\n",
    "Assistant: \"\"\"\n",
    "\n",
    "PROMPT2 = PromptTemplate(\n",
    "    template=prompt_template2, input_variables=[\"context\", \"question\"]\n",
    ")\n",
    "qa2 = RetrievalQA.from_chain_type(\n",
    "    llm=llm,\n",
    "    chain_type=\"stuff\",\n",
    "    retriever=vectorstore_faiss.as_retriever(\n",
    "        search_type=\"similarity\", search_kwargs={\"k\": 10}\n",
    "    ),\n",
    "    chain_type_kwargs={\"prompt\": PROMPT2},\n",
    "    return_source_documents=True,\n",
    ")\n",
    "\n",
    "selected_style = recommendations[3]\n",
    "print(selected_style)\n",
    "cart_items = qa2({\"query\": selected_style })['result']\n",
    "print_ww(cart_items)"
   ],
   "outputs": [],
   "execution_count": null
  },
  {
   "cell_type": "code",
   "id": "e2343e50",
   "metadata": {},
   "source": [
    "products = json.loads(re.findall('<products>(.*?)</products>', cart_items, re.DOTALL)[0])\n",
    "products"
   ],
   "outputs": [],
   "execution_count": null
  },
  {
   "cell_type": "code",
   "id": "793cd743-d2d6-4084-8113-68aa2fba8759",
   "metadata": {},
   "source": [
    "from PIL import Image\n",
    "from IPython import display\n",
    "import requests\n",
    "import urllib.parse\n",
    "\n",
    "cart_item_strip = \"\"\n",
    "for product in products:\n",
    "    url = \"https://sagemaker-example-files-prod-us-east-1.s3.us-east-1.amazonaws.com/datasets/image/howser-bedrock/data/aistylist/images/products/\" + urllib.parse.quote(product['physical_id'].strip(), safe='', encoding=None, errors=None) + \".jpg\"\n",
    "    # im = Image.open(requests.get(url, stream=True).raw)\n",
    "    cart_item_strip += \"<td><img src='\"+ url + \"'></td>\"\n",
    "display.display(display.HTML(\"<table><tr>\" + cart_item_strip +\"</tr></table>\"))"
   ],
   "outputs": [],
   "execution_count": null
  },
  {
   "cell_type": "markdown",
   "id": "4a073284-c491-4265-82a5-c48db9ea7a93",
   "metadata": {},
   "source": [
    "## Integrating DIY Agents to associate external APIs and databases\n",
    "### Using ReAct: Synergizing Reasoning and Acting in Language Models Framework\n",
    "Large language models can generate both explanations for their reasoning and task-specific responses in an alternating fashion. \n",
    "\n",
    "Producing reasoning explanations enables the model to infer, monitor, and revise action plans, and even handle unexpected scenarios. The action step allows the model to interface with and obtain information from external sources such as knowledge bases or environments.\n",
    "\n",
    "The ReAct framework could enable large language models to interact with external tools to obtain additional information that results in more accurate and fact-based responses. Here we will leverage the user prompt and perform the following actions\n",
    "1. Extract the city \n",
    "2. Get weather information\n",
    "3. Search our product catalog using semantic search to find relevant products\n",
    "4. Display the products for user to add to cart\n",
    "\n",
    "![Architecture](./images/weather.png)"
   ]
  },
  {
   "cell_type": "code",
   "id": "f33d6499-8a26-446f-9c6d-b518dc7edcfd",
   "metadata": {},
   "source": [
    "import os\n",
    "import python_weather\n",
    "\n",
    "async def getweather(city):\n",
    "  # declare the client. the measuring unit used defaults to the metric system (celcius, km/h, etc.)\n",
    "  async with python_weather.Client(unit=python_weather.IMPERIAL) as client:\n",
    "    # fetch a weather forecast from a city\n",
    "    weather = await client.get(city)\n",
    "    \n",
    "    # returns the current day's forecast temperature (int)\n",
    "    return weather.current"
   ],
   "outputs": [],
   "execution_count": null
  },
  {
   "cell_type": "markdown",
   "id": "122aacf9-84e2-4aba-968a-6a07f6f98966",
   "metadata": {},
   "source": [
    "## Accessory recommendations \n",
    "\n",
    "We will provide  accessory recommendations based on location provided in customer input"
   ]
  },
  {
   "cell_type": "code",
   "id": "004c8b61",
   "metadata": {},
   "source": [
    "await getweather(entity_extraction_result[2])"
   ],
   "outputs": [],
   "execution_count": null
  },
  {
   "cell_type": "code",
   "id": "204770ed-f303-4ee0-a258-21f87596e7a6",
   "metadata": {},
   "source": [
    "import asyncio\n",
    "accessory_response = None\n",
    "if attributes[\"location\"]:\n",
    "    current_weather = await getweather(entity_extraction_result[2])\n",
    "    accessory_input = \"Suggest list of accessories based on the weather and the selected style. It is \" + current_weather.description + \" with temperature at \" + str(current_weather.temperature) +\" degrees fahrenheit.\\n Selected Style: \" + recommendations[0]\n",
    "    accessory_response = qa({\"query\": accessory_input})['result']\n",
    "    print_ww(accessory_response)"
   ],
   "outputs": [],
   "execution_count": null
  },
  {
   "cell_type": "code",
   "id": "ad2eae6f",
   "metadata": {},
   "source": [
    "if accessory_response:\n",
    "    accessories = re.findall('<style>(.*?)</style>', accessory_response)\n",
    "    accessories_items = qa2({\"query\": ', '.join(accessories)})['result']\n",
    "    accessories_items = json.loads(re.findall('<products>(.*?)</products>', accessories_items, re.DOTALL)[0])\n",
    "    accessory_strip = \"\"\n",
    "    for accessory in accessories_items:\n",
    "        url = \"https://sagemaker-example-files-prod-us-east-1.s3.us-east-1.amazonaws.com/datasets/image/howser-bedrock/data/aistylist/images/products/\" + urllib.parse.quote(accessory['physical_id'].strip(), safe='', encoding=None, errors=None) + \".jpg\"\n",
    "        accessory_strip += \"<td><img src='\"+ url + \"'></td>\"\n",
    "    display.display(display.HTML(\"<table><tr>\" + accessory_strip +\"</tr></table>\"))"
   ],
   "outputs": [],
   "execution_count": null
  },
  {
   "cell_type": "markdown",
   "id": "c4e689c0-8862-41a1-8867-e2bb10c2f64f",
   "metadata": {},
   "source": [
    "## Simulate the order check out\n",
    "\n",
    "Add a customer data table to complete the order transaction. This information provides the shipping address for the outfit order."
   ]
  },
  {
   "cell_type": "code",
   "id": "e79f2e20-0c64-44fa-ab3b-8d2401a00c4f",
   "metadata": {},
   "source": [
    "customer_table=[{\"id\": 1, \"first_name\": \"John\", \"last_name\": \"Doe\", \"age\": 35, \"address\": \"123 Bedrock st, California 90210\"},\n",
    "  {\"id\": 2, \"first_name\": \"Jane\", \"last_name\": \"Smith\", \"age\": 27, \"address\": \"234 Sagemaker drive, Texas 12345\"},\n",
    "  {\"id\": 3, \"first_name\": \"Bob\", \"last_name\": \"Jones\", \"age\": 42, \"address\": \"111 DeepRacer ct, Virginia 55555\"},\n",
    "  {\"id\": 4, \"first_name\": \"Sara\", \"last_name\": \"Miller\", \"age\": 29, \"address\": \"222 Robomaker ave, New Yotk 13579\"},\n",
    "  {\"id\": 5, \"first_name\": \"Mark\", \"last_name\": \"Davis\", \"age\": 31, \"address\": \"444 Transcribe blvd, Florida 02468\"},\n",
    "  {\"id\": 6, \"first_name\": \"Laura\", \"last_name\": \"Wilson\", \"age\": 24, \"address\": \"555 CodeGuru st, California 98765\" },\n",
    "  {\"id\": 7, \"first_name\": \"Steve\", \"last_name\": \"Moore\", \"age\": 36, \"address\": \"456 DeepLens st, Texas 11223\"},\n",
    "  {\"id\": 8, \"first_name\": \"Michelle\", \"last_name\": \"Chen\", \"age\": 22, \"address\": \"642 DeepCompose st, Colorado 33215\"},\n",
    "  {\"id\": 9, \"first_name\": \"David\", \"last_name\": \"Lee\", \"age\": 29, \"address\": \"777 S3 st, California 99567\"},\n",
    "  {\"id\": 10, \"first_name\": \"Jessica\", \"last_name\": \"Brown\", \"age\": 18, \"address\": \"909 Ec st, Utah 43210\"}]\n",
    "\n",
    "def address_lookup(id):\n",
    "    for customer in customer_table:\n",
    "        if customer[\"id\"] == int(id):\n",
    "            return customer\n",
    "        \n",
    "    return None\n",
    "\n",
    "print(address_lookup(customer_id)[\"address\"])"
   ],
   "outputs": [],
   "execution_count": null
  },
  {
   "cell_type": "code",
   "id": "c22dcfd0",
   "metadata": {},
   "source": [],
   "outputs": [],
   "execution_count": null
  }
 ],
 "metadata": {
  "kernelspec": {
   "display_name": "Python 3 (ipykernel)",
   "language": "python",
   "name": "python3"
  },
  "language_info": {
   "codemirror_mode": {
    "name": "ipython",
    "version": 3
   },
   "file_extension": ".py",
   "mimetype": "text/x-python",
   "name": "python",
   "nbconvert_exporter": "python",
   "pygments_lexer": "ipython3",
   "version": "3.10.14"
  }
 },
 "nbformat": 4,
 "nbformat_minor": 5
}
