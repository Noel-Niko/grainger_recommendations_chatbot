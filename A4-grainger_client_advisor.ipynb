{
 "cells": [
  {
   "cell_type": "code",
   "id": "68cd7228-5049-4f1e-ac7e-04696aaea0bf",
   "metadata": {
    "ExecuteTime": {
     "end_time": "2024-06-29T00:07:14.331925Z",
     "start_time": "2024-06-29T00:06:52.222350Z"
    }
   },
   "source": [
    "!pip install -r requirements.txt"
   ],
   "outputs": [
    {
     "name": "stdout",
     "output_type": "stream",
     "text": [
      "Collecting pandas<2.0.0 (from -r requirements.txt (line 1))\r\n",
      "  Using cached pandas-1.5.3-cp310-cp310-macosx_10_9_x86_64.whl.metadata (11 kB)\r\n",
      "Requirement already satisfied: openai>=1.0.0 in /opt/anaconda3/envs/python-web-crawler-2/lib/python3.10/site-packages (from -r requirements.txt (line 2)) (1.35.3)\r\n",
      "Requirement already satisfied: streamlit~=1.36.0 in /opt/anaconda3/envs/python-web-crawler-2/lib/python3.10/site-packages (from -r requirements.txt (line 3)) (1.36.0)\r\n",
      "Requirement already satisfied: scipy~=1.13.1 in /opt/anaconda3/envs/python-web-crawler-2/lib/python3.10/site-packages (from -r requirements.txt (line 4)) (1.13.1)\r\n",
      "Collecting langchain~=0.2.5 (from -r requirements.txt (line 5))\r\n",
      "  Using cached langchain-0.2.6-py3-none-any.whl.metadata (7.0 kB)\r\n",
      "Requirement already satisfied: selenium~=4.22.0 in /opt/anaconda3/envs/python-web-crawler-2/lib/python3.10/site-packages (from -r requirements.txt (line 6)) (4.22.0)\r\n",
      "Requirement already satisfied: webdriver-manager in /opt/anaconda3/envs/python-web-crawler-2/lib/python3.10/site-packages (from -r requirements.txt (line 7)) (4.0.1)\r\n",
      "Requirement already satisfied: requests in /opt/anaconda3/envs/python-web-crawler-2/lib/python3.10/site-packages (from -r requirements.txt (line 8)) (2.32.3)\r\n",
      "Requirement already satisfied: beautifulsoup4~=4.12.3 in /opt/anaconda3/envs/python-web-crawler-2/lib/python3.10/site-packages (from -r requirements.txt (line 9)) (4.12.3)\r\n",
      "Requirement already satisfied: pyarrow in /opt/anaconda3/envs/python-web-crawler-2/lib/python3.10/site-packages (from -r requirements.txt (line 10)) (16.1.0)\r\n",
      "Requirement already satisfied: boto3 in /opt/anaconda3/envs/python-web-crawler-2/lib/python3.10/site-packages (from -r requirements.txt (line 11)) (1.34.136)\r\n",
      "Requirement already satisfied: botocore in /opt/anaconda3/envs/python-web-crawler-2/lib/python3.10/site-packages (from -r requirements.txt (line 12)) (1.34.136)\r\n",
      "Requirement already satisfied: langchain-community in /opt/anaconda3/envs/python-web-crawler-2/lib/python3.10/site-packages (from -r requirements.txt (line 13)) (0.2.6)\r\n",
      "Requirement already satisfied: sagemaker in /opt/anaconda3/envs/python-web-crawler-2/lib/python3.10/site-packages (from -r requirements.txt (line 14)) (2.75.1)\r\n",
      "Requirement already satisfied: python-dateutil>=2.8.1 in /opt/anaconda3/envs/python-web-crawler-2/lib/python3.10/site-packages (from pandas<2.0.0->-r requirements.txt (line 1)) (2.9.0.post0)\r\n",
      "Requirement already satisfied: pytz>=2020.1 in /opt/anaconda3/envs/python-web-crawler-2/lib/python3.10/site-packages (from pandas<2.0.0->-r requirements.txt (line 1)) (2024.1)\r\n",
      "Requirement already satisfied: numpy>=1.21.0 in /opt/anaconda3/envs/python-web-crawler-2/lib/python3.10/site-packages (from pandas<2.0.0->-r requirements.txt (line 1)) (1.26.4)\r\n",
      "Requirement already satisfied: anyio<5,>=3.5.0 in /opt/anaconda3/envs/python-web-crawler-2/lib/python3.10/site-packages (from openai>=1.0.0->-r requirements.txt (line 2)) (3.7.1)\r\n",
      "Requirement already satisfied: distro<2,>=1.7.0 in /opt/anaconda3/envs/python-web-crawler-2/lib/python3.10/site-packages (from openai>=1.0.0->-r requirements.txt (line 2)) (1.9.0)\r\n",
      "Requirement already satisfied: httpx<1,>=0.23.0 in /opt/anaconda3/envs/python-web-crawler-2/lib/python3.10/site-packages (from openai>=1.0.0->-r requirements.txt (line 2)) (0.27.0)\r\n",
      "Requirement already satisfied: pydantic<3,>=1.9.0 in /opt/anaconda3/envs/python-web-crawler-2/lib/python3.10/site-packages (from openai>=1.0.0->-r requirements.txt (line 2)) (2.7.4)\r\n",
      "Requirement already satisfied: sniffio in /opt/anaconda3/envs/python-web-crawler-2/lib/python3.10/site-packages (from openai>=1.0.0->-r requirements.txt (line 2)) (1.3.1)\r\n",
      "Requirement already satisfied: tqdm>4 in /opt/anaconda3/envs/python-web-crawler-2/lib/python3.10/site-packages (from openai>=1.0.0->-r requirements.txt (line 2)) (4.66.4)\r\n",
      "Requirement already satisfied: typing-extensions<5,>=4.7 in /opt/anaconda3/envs/python-web-crawler-2/lib/python3.10/site-packages (from openai>=1.0.0->-r requirements.txt (line 2)) (4.12.2)\r\n",
      "Requirement already satisfied: altair<6,>=4.0 in /opt/anaconda3/envs/python-web-crawler-2/lib/python3.10/site-packages (from streamlit~=1.36.0->-r requirements.txt (line 3)) (5.3.0)\r\n",
      "Requirement already satisfied: blinker<2,>=1.0.0 in /opt/anaconda3/envs/python-web-crawler-2/lib/python3.10/site-packages (from streamlit~=1.36.0->-r requirements.txt (line 3)) (1.8.2)\r\n",
      "Requirement already satisfied: cachetools<6,>=4.0 in /opt/anaconda3/envs/python-web-crawler-2/lib/python3.10/site-packages (from streamlit~=1.36.0->-r requirements.txt (line 3)) (5.3.3)\r\n",
      "Requirement already satisfied: click<9,>=7.0 in /opt/anaconda3/envs/python-web-crawler-2/lib/python3.10/site-packages (from streamlit~=1.36.0->-r requirements.txt (line 3)) (8.1.7)\r\n",
      "Requirement already satisfied: packaging<25,>=20 in /opt/anaconda3/envs/python-web-crawler-2/lib/python3.10/site-packages (from streamlit~=1.36.0->-r requirements.txt (line 3)) (24.1)\r\n",
      "Requirement already satisfied: pillow<11,>=7.1.0 in /opt/anaconda3/envs/python-web-crawler-2/lib/python3.10/site-packages (from streamlit~=1.36.0->-r requirements.txt (line 3)) (9.5.0)\r\n",
      "Requirement already satisfied: protobuf<6,>=3.20 in /opt/anaconda3/envs/python-web-crawler-2/lib/python3.10/site-packages (from streamlit~=1.36.0->-r requirements.txt (line 3)) (4.25.3)\r\n",
      "Requirement already satisfied: rich<14,>=10.14.0 in /opt/anaconda3/envs/python-web-crawler-2/lib/python3.10/site-packages (from streamlit~=1.36.0->-r requirements.txt (line 3)) (13.7.1)\r\n",
      "Requirement already satisfied: tenacity<9,>=8.1.0 in /opt/anaconda3/envs/python-web-crawler-2/lib/python3.10/site-packages (from streamlit~=1.36.0->-r requirements.txt (line 3)) (8.4.2)\r\n",
      "Requirement already satisfied: toml<2,>=0.10.1 in /opt/anaconda3/envs/python-web-crawler-2/lib/python3.10/site-packages (from streamlit~=1.36.0->-r requirements.txt (line 3)) (0.10.2)\r\n",
      "Requirement already satisfied: gitpython!=3.1.19,<4,>=3.0.7 in /opt/anaconda3/envs/python-web-crawler-2/lib/python3.10/site-packages (from streamlit~=1.36.0->-r requirements.txt (line 3)) (3.1.43)\r\n",
      "Requirement already satisfied: pydeck<1,>=0.8.0b4 in /opt/anaconda3/envs/python-web-crawler-2/lib/python3.10/site-packages (from streamlit~=1.36.0->-r requirements.txt (line 3)) (0.8.0b4)\r\n",
      "Requirement already satisfied: tornado<7,>=6.0.3 in /opt/anaconda3/envs/python-web-crawler-2/lib/python3.10/site-packages (from streamlit~=1.36.0->-r requirements.txt (line 3)) (6.4.1)\r\n",
      "Requirement already satisfied: PyYAML>=5.3 in /opt/anaconda3/envs/python-web-crawler-2/lib/python3.10/site-packages (from langchain~=0.2.5->-r requirements.txt (line 5)) (6.0.1)\r\n",
      "Requirement already satisfied: SQLAlchemy<3,>=1.4 in /opt/anaconda3/envs/python-web-crawler-2/lib/python3.10/site-packages (from langchain~=0.2.5->-r requirements.txt (line 5)) (2.0.31)\r\n",
      "Requirement already satisfied: aiohttp<4.0.0,>=3.8.3 in /opt/anaconda3/envs/python-web-crawler-2/lib/python3.10/site-packages (from langchain~=0.2.5->-r requirements.txt (line 5)) (3.9.5)\r\n",
      "Requirement already satisfied: async-timeout<5.0.0,>=4.0.0 in /opt/anaconda3/envs/python-web-crawler-2/lib/python3.10/site-packages (from langchain~=0.2.5->-r requirements.txt (line 5)) (4.0.3)\r\n",
      "Requirement already satisfied: langchain-core<0.3.0,>=0.2.10 in /opt/anaconda3/envs/python-web-crawler-2/lib/python3.10/site-packages (from langchain~=0.2.5->-r requirements.txt (line 5)) (0.2.10)\r\n",
      "Requirement already satisfied: langchain-text-splitters<0.3.0,>=0.2.0 in /opt/anaconda3/envs/python-web-crawler-2/lib/python3.10/site-packages (from langchain~=0.2.5->-r requirements.txt (line 5)) (0.2.1)\r\n",
      "Collecting langsmith<0.2.0,>=0.1.17 (from langchain~=0.2.5->-r requirements.txt (line 5))\r\n",
      "  Downloading langsmith-0.1.82-py3-none-any.whl.metadata (13 kB)\r\n",
      "Requirement already satisfied: urllib3<3,>=1.26 in /opt/anaconda3/envs/python-web-crawler-2/lib/python3.10/site-packages (from urllib3[socks]<3,>=1.26->selenium~=4.22.0->-r requirements.txt (line 6)) (2.2.2)\r\n",
      "Requirement already satisfied: trio~=0.17 in /opt/anaconda3/envs/python-web-crawler-2/lib/python3.10/site-packages (from selenium~=4.22.0->-r requirements.txt (line 6)) (0.25.1)\r\n",
      "Requirement already satisfied: trio-websocket~=0.9 in /opt/anaconda3/envs/python-web-crawler-2/lib/python3.10/site-packages (from selenium~=4.22.0->-r requirements.txt (line 6)) (0.11.1)\r\n",
      "Requirement already satisfied: certifi>=2021.10.8 in /opt/anaconda3/envs/python-web-crawler-2/lib/python3.10/site-packages (from selenium~=4.22.0->-r requirements.txt (line 6)) (2024.6.2)\r\n",
      "Requirement already satisfied: python-dotenv in /opt/anaconda3/envs/python-web-crawler-2/lib/python3.10/site-packages (from webdriver-manager->-r requirements.txt (line 7)) (1.0.1)\r\n",
      "Requirement already satisfied: charset-normalizer<4,>=2 in /opt/anaconda3/envs/python-web-crawler-2/lib/python3.10/site-packages (from requests->-r requirements.txt (line 8)) (3.3.2)\r\n",
      "Requirement already satisfied: idna<4,>=2.5 in /opt/anaconda3/envs/python-web-crawler-2/lib/python3.10/site-packages (from requests->-r requirements.txt (line 8)) (3.7)\r\n",
      "Requirement already satisfied: soupsieve>1.2 in /opt/anaconda3/envs/python-web-crawler-2/lib/python3.10/site-packages (from beautifulsoup4~=4.12.3->-r requirements.txt (line 9)) (2.5)\r\n",
      "Requirement already satisfied: jmespath<2.0.0,>=0.7.1 in /opt/anaconda3/envs/python-web-crawler-2/lib/python3.10/site-packages (from boto3->-r requirements.txt (line 11)) (1.0.1)\r\n",
      "Requirement already satisfied: s3transfer<0.11.0,>=0.10.0 in /opt/anaconda3/envs/python-web-crawler-2/lib/python3.10/site-packages (from boto3->-r requirements.txt (line 11)) (0.10.2)\r\n",
      "Requirement already satisfied: dataclasses-json<0.7,>=0.5.7 in /opt/anaconda3/envs/python-web-crawler-2/lib/python3.10/site-packages (from langchain-community->-r requirements.txt (line 13)) (0.6.7)\r\n",
      "Requirement already satisfied: attrs in /opt/anaconda3/envs/python-web-crawler-2/lib/python3.10/site-packages (from sagemaker->-r requirements.txt (line 14)) (23.2.0)\r\n",
      "Requirement already satisfied: google-pasta in /opt/anaconda3/envs/python-web-crawler-2/lib/python3.10/site-packages (from sagemaker->-r requirements.txt (line 14)) (0.2.0)\r\n",
      "Requirement already satisfied: protobuf3-to-dict>=0.1.5 in /opt/anaconda3/envs/python-web-crawler-2/lib/python3.10/site-packages (from sagemaker->-r requirements.txt (line 14)) (0.1.5)\r\n",
      "Requirement already satisfied: smdebug-rulesconfig==1.0.1 in /opt/anaconda3/envs/python-web-crawler-2/lib/python3.10/site-packages (from sagemaker->-r requirements.txt (line 14)) (1.0.1)\r\n",
      "Requirement already satisfied: importlib-metadata>=1.4.0 in /opt/anaconda3/envs/python-web-crawler-2/lib/python3.10/site-packages (from sagemaker->-r requirements.txt (line 14)) (7.2.0)\r\n",
      "Requirement already satisfied: pathos in /opt/anaconda3/envs/python-web-crawler-2/lib/python3.10/site-packages (from sagemaker->-r requirements.txt (line 14)) (0.3.2)\r\n",
      "Requirement already satisfied: aiosignal>=1.1.2 in /opt/anaconda3/envs/python-web-crawler-2/lib/python3.10/site-packages (from aiohttp<4.0.0,>=3.8.3->langchain~=0.2.5->-r requirements.txt (line 5)) (1.3.1)\r\n",
      "Requirement already satisfied: frozenlist>=1.1.1 in /opt/anaconda3/envs/python-web-crawler-2/lib/python3.10/site-packages (from aiohttp<4.0.0,>=3.8.3->langchain~=0.2.5->-r requirements.txt (line 5)) (1.4.1)\r\n",
      "Requirement already satisfied: multidict<7.0,>=4.5 in /opt/anaconda3/envs/python-web-crawler-2/lib/python3.10/site-packages (from aiohttp<4.0.0,>=3.8.3->langchain~=0.2.5->-r requirements.txt (line 5)) (6.0.5)\r\n",
      "Requirement already satisfied: yarl<2.0,>=1.0 in /opt/anaconda3/envs/python-web-crawler-2/lib/python3.10/site-packages (from aiohttp<4.0.0,>=3.8.3->langchain~=0.2.5->-r requirements.txt (line 5)) (1.9.4)\r\n",
      "Requirement already satisfied: jinja2 in /opt/anaconda3/envs/python-web-crawler-2/lib/python3.10/site-packages (from altair<6,>=4.0->streamlit~=1.36.0->-r requirements.txt (line 3)) (3.1.4)\r\n",
      "Requirement already satisfied: jsonschema>=3.0 in /opt/anaconda3/envs/python-web-crawler-2/lib/python3.10/site-packages (from altair<6,>=4.0->streamlit~=1.36.0->-r requirements.txt (line 3)) (4.22.0)\r\n",
      "Requirement already satisfied: toolz in /opt/anaconda3/envs/python-web-crawler-2/lib/python3.10/site-packages (from altair<6,>=4.0->streamlit~=1.36.0->-r requirements.txt (line 3)) (0.12.1)\r\n",
      "Requirement already satisfied: exceptiongroup in /opt/anaconda3/envs/python-web-crawler-2/lib/python3.10/site-packages (from anyio<5,>=3.5.0->openai>=1.0.0->-r requirements.txt (line 2)) (1.2.1)\r\n",
      "Requirement already satisfied: marshmallow<4.0.0,>=3.18.0 in /opt/anaconda3/envs/python-web-crawler-2/lib/python3.10/site-packages (from dataclasses-json<0.7,>=0.5.7->langchain-community->-r requirements.txt (line 13)) (3.21.3)\r\n",
      "Requirement already satisfied: typing-inspect<1,>=0.4.0 in /opt/anaconda3/envs/python-web-crawler-2/lib/python3.10/site-packages (from dataclasses-json<0.7,>=0.5.7->langchain-community->-r requirements.txt (line 13)) (0.9.0)\r\n",
      "Requirement already satisfied: gitdb<5,>=4.0.1 in /opt/anaconda3/envs/python-web-crawler-2/lib/python3.10/site-packages (from gitpython!=3.1.19,<4,>=3.0.7->streamlit~=1.36.0->-r requirements.txt (line 3)) (4.0.11)\r\n",
      "Requirement already satisfied: httpcore==1.* in /opt/anaconda3/envs/python-web-crawler-2/lib/python3.10/site-packages (from httpx<1,>=0.23.0->openai>=1.0.0->-r requirements.txt (line 2)) (1.0.5)\r\n",
      "Requirement already satisfied: h11<0.15,>=0.13 in /opt/anaconda3/envs/python-web-crawler-2/lib/python3.10/site-packages (from httpcore==1.*->httpx<1,>=0.23.0->openai>=1.0.0->-r requirements.txt (line 2)) (0.14.0)\r\n",
      "Requirement already satisfied: zipp>=0.5 in /opt/anaconda3/envs/python-web-crawler-2/lib/python3.10/site-packages (from importlib-metadata>=1.4.0->sagemaker->-r requirements.txt (line 14)) (3.19.2)\r\n",
      "Requirement already satisfied: jsonpatch<2.0,>=1.33 in /opt/anaconda3/envs/python-web-crawler-2/lib/python3.10/site-packages (from langchain-core<0.3.0,>=0.2.10->langchain~=0.2.5->-r requirements.txt (line 5)) (1.33)\r\n",
      "Requirement already satisfied: orjson<4.0.0,>=3.9.14 in /opt/anaconda3/envs/python-web-crawler-2/lib/python3.10/site-packages (from langsmith<0.2.0,>=0.1.17->langchain~=0.2.5->-r requirements.txt (line 5)) (3.10.4)\r\n",
      "Requirement already satisfied: six in /opt/anaconda3/envs/python-web-crawler-2/lib/python3.10/site-packages (from protobuf3-to-dict>=0.1.5->sagemaker->-r requirements.txt (line 14)) (1.16.0)\r\n",
      "Requirement already satisfied: annotated-types>=0.4.0 in /opt/anaconda3/envs/python-web-crawler-2/lib/python3.10/site-packages (from pydantic<3,>=1.9.0->openai>=1.0.0->-r requirements.txt (line 2)) (0.7.0)\r\n",
      "Requirement already satisfied: pydantic-core==2.18.4 in /opt/anaconda3/envs/python-web-crawler-2/lib/python3.10/site-packages (from pydantic<3,>=1.9.0->openai>=1.0.0->-r requirements.txt (line 2)) (2.18.4)\r\n",
      "Requirement already satisfied: markdown-it-py>=2.2.0 in /opt/anaconda3/envs/python-web-crawler-2/lib/python3.10/site-packages (from rich<14,>=10.14.0->streamlit~=1.36.0->-r requirements.txt (line 3)) (3.0.0)\r\n",
      "Requirement already satisfied: pygments<3.0.0,>=2.13.0 in /opt/anaconda3/envs/python-web-crawler-2/lib/python3.10/site-packages (from rich<14,>=10.14.0->streamlit~=1.36.0->-r requirements.txt (line 3)) (2.18.0)\r\n",
      "Requirement already satisfied: greenlet!=0.4.17 in /opt/anaconda3/envs/python-web-crawler-2/lib/python3.10/site-packages (from SQLAlchemy<3,>=1.4->langchain~=0.2.5->-r requirements.txt (line 5)) (3.0.3)\r\n",
      "Requirement already satisfied: sortedcontainers in /opt/anaconda3/envs/python-web-crawler-2/lib/python3.10/site-packages (from trio~=0.17->selenium~=4.22.0->-r requirements.txt (line 6)) (2.4.0)\r\n",
      "Requirement already satisfied: outcome in /opt/anaconda3/envs/python-web-crawler-2/lib/python3.10/site-packages (from trio~=0.17->selenium~=4.22.0->-r requirements.txt (line 6)) (1.3.0.post0)\r\n",
      "Requirement already satisfied: wsproto>=0.14 in /opt/anaconda3/envs/python-web-crawler-2/lib/python3.10/site-packages (from trio-websocket~=0.9->selenium~=4.22.0->-r requirements.txt (line 6)) (1.2.0)\r\n",
      "Requirement already satisfied: pysocks!=1.5.7,<2.0,>=1.5.6 in /opt/anaconda3/envs/python-web-crawler-2/lib/python3.10/site-packages (from urllib3[socks]<3,>=1.26->selenium~=4.22.0->-r requirements.txt (line 6)) (1.7.1)\r\n",
      "Requirement already satisfied: ppft>=1.7.6.8 in /opt/anaconda3/envs/python-web-crawler-2/lib/python3.10/site-packages (from pathos->sagemaker->-r requirements.txt (line 14)) (1.7.6.8)\r\n",
      "Requirement already satisfied: dill>=0.3.8 in /opt/anaconda3/envs/python-web-crawler-2/lib/python3.10/site-packages (from pathos->sagemaker->-r requirements.txt (line 14)) (0.3.8)\r\n",
      "Requirement already satisfied: pox>=0.3.4 in /opt/anaconda3/envs/python-web-crawler-2/lib/python3.10/site-packages (from pathos->sagemaker->-r requirements.txt (line 14)) (0.3.4)\r\n",
      "Requirement already satisfied: multiprocess>=0.70.16 in /opt/anaconda3/envs/python-web-crawler-2/lib/python3.10/site-packages (from pathos->sagemaker->-r requirements.txt (line 14)) (0.70.16)\r\n",
      "Requirement already satisfied: smmap<6,>=3.0.1 in /opt/anaconda3/envs/python-web-crawler-2/lib/python3.10/site-packages (from gitdb<5,>=4.0.1->gitpython!=3.1.19,<4,>=3.0.7->streamlit~=1.36.0->-r requirements.txt (line 3)) (5.0.0)\r\n",
      "Requirement already satisfied: MarkupSafe>=2.0 in /opt/anaconda3/envs/python-web-crawler-2/lib/python3.10/site-packages (from jinja2->altair<6,>=4.0->streamlit~=1.36.0->-r requirements.txt (line 3)) (2.1.5)\r\n",
      "Requirement already satisfied: jsonpointer>=1.9 in /opt/anaconda3/envs/python-web-crawler-2/lib/python3.10/site-packages (from jsonpatch<2.0,>=1.33->langchain-core<0.3.0,>=0.2.10->langchain~=0.2.5->-r requirements.txt (line 5)) (3.0.0)\r\n",
      "Requirement already satisfied: jsonschema-specifications>=2023.03.6 in /opt/anaconda3/envs/python-web-crawler-2/lib/python3.10/site-packages (from jsonschema>=3.0->altair<6,>=4.0->streamlit~=1.36.0->-r requirements.txt (line 3)) (2023.12.1)\r\n",
      "Requirement already satisfied: referencing>=0.28.4 in /opt/anaconda3/envs/python-web-crawler-2/lib/python3.10/site-packages (from jsonschema>=3.0->altair<6,>=4.0->streamlit~=1.36.0->-r requirements.txt (line 3)) (0.35.1)\r\n",
      "Requirement already satisfied: rpds-py>=0.7.1 in /opt/anaconda3/envs/python-web-crawler-2/lib/python3.10/site-packages (from jsonschema>=3.0->altair<6,>=4.0->streamlit~=1.36.0->-r requirements.txt (line 3)) (0.18.1)\r\n",
      "Requirement already satisfied: mdurl~=0.1 in /opt/anaconda3/envs/python-web-crawler-2/lib/python3.10/site-packages (from markdown-it-py>=2.2.0->rich<14,>=10.14.0->streamlit~=1.36.0->-r requirements.txt (line 3)) (0.1.2)\r\n",
      "Requirement already satisfied: mypy-extensions>=0.3.0 in /opt/anaconda3/envs/python-web-crawler-2/lib/python3.10/site-packages (from typing-inspect<1,>=0.4.0->dataclasses-json<0.7,>=0.5.7->langchain-community->-r requirements.txt (line 13)) (1.0.0)\r\n",
      "Using cached pandas-1.5.3-cp310-cp310-macosx_10_9_x86_64.whl (12.0 MB)\r\n",
      "Using cached langchain-0.2.6-py3-none-any.whl (975 kB)\r\n",
      "Downloading langsmith-0.1.82-py3-none-any.whl (127 kB)\r\n",
      "\u001B[2K   \u001B[90m━━━━━━━━━━━━━━━━━━━━━━━━━━━━━━━━━━━━━━━\u001B[0m \u001B[32m127.4/127.4 kB\u001B[0m \u001B[31m225.2 kB/s\u001B[0m eta \u001B[36m0:00:00\u001B[0ma \u001B[36m0:00:01\u001B[0m\r\n",
      "\u001B[?25hInstalling collected packages: pandas, langsmith, langchain\r\n",
      "  Attempting uninstall: pandas\r\n",
      "    Found existing installation: pandas 2.2.2\r\n",
      "    Uninstalling pandas-2.2.2:\r\n",
      "      Successfully uninstalled pandas-2.2.2\r\n",
      "  Attempting uninstall: langsmith\r\n",
      "    Found existing installation: langsmith 0.0.92\r\n",
      "    Uninstalling langsmith-0.0.92:\r\n",
      "      Successfully uninstalled langsmith-0.0.92\r\n",
      "  Attempting uninstall: langchain\r\n",
      "    Found existing installation: langchain 0.0.309\r\n",
      "    Uninstalling langchain-0.0.309:\r\n",
      "      Successfully uninstalled langchain-0.0.309\r\n",
      "Successfully installed langchain-0.2.5 langsmith-0.1.82 pandas-1.5.3\r\n"
     ]
    }
   ],
   "execution_count": 12
  },
  {
   "cell_type": "markdown",
   "id": "873f657c",
   "metadata": {},
   "source": [
    "### <font color='red'>Setup</font> \n",
    "---\n",
    "<font color='red'>⚠️ ⚠️ ⚠️</font> \n",
    "Before running this notebook, ensure you've run the [Set-Up Bedrock notebook](./set-up_bedrock.ipynb) notebook. <font color='red'>⚠️ ⚠️ ⚠️</font>\n",
    "\n",
    "---"
   ]
  },
  {
   "cell_type": "markdown",
   "id": "f06fbee0-9db9-4a9f-8792-b71a670d82f8",
   "metadata": {},
   "source": [
    "## Configure Bedrock\n",
    "\n",
    "Create the necessary clients to invoke Bedrock models. If you need to pass in a certain role then set those values by uncommenting the section below.\n",
    "\n",
    "First we instantiate using Anthropic Claude V2 for text generation, and Titan Embeddings G1 - Text for text embeddings.\n",
    "\n",
    "Note: Many different models are available with Bedrock. Replace the `model_id` to change the model.\n",
    "\n",
    "`llm = Bedrock(model_id=\"anthropic.claude-v2\")`\n",
    "\n",
    "Information on available model IDs [here](https://docs.aws.amazon.com/bedrock/latest/userguide/model-ids-arns.html)"
   ]
  },
  {
   "cell_type": "code",
   "id": "5f5873db",
   "metadata": {
    "ExecuteTime": {
     "end_time": "2024-06-29T00:07:14.339373Z",
     "start_time": "2024-06-29T00:07:14.334857Z"
    }
   },
   "source": [
    "import warnings\n",
    "warnings.filterwarnings('ignore')"
   ],
   "outputs": [],
   "execution_count": 13
  },
  {
   "cell_type": "code",
   "id": "2628ef76-b545-4bf9-ade6-5b9f5c2c62b7",
   "metadata": {
    "ExecuteTime": {
     "end_time": "2024-06-29T00:07:14.676568Z",
     "start_time": "2024-06-29T00:07:14.340891Z"
    }
   },
   "source": [
    "import json\n",
    "import os\n",
    "import sys\n",
    "import boto3\n",
    "import botocore\n",
    "\n",
    "from langchain.llms.bedrock import Bedrock\n",
    "from IPython.display import Image\n",
    "\n",
    "module_path = \"..\"\n",
    "sys.path.append(os.path.abspath(module_path))\n",
    "from utils import bedrock, print_ww\n",
    "\n",
    "\n",
    "# ---- ⚠️ Un-comment and edit the below lines as needed for your AWS setup ⚠️ ----\n",
    "\n",
    "os.environ[\"AWS_DEFAULT_REGION\"] = \"us-east-1\"\n",
    "# os.environ[\"AWS_PROFILE\"] = \"\"\n",
    "# os.environ[\"BEDROCK_ASSUME_ROLE\"] = \"\"  # E.g. \"arn:aws:...\"\n",
    "\n",
    "boto3_bedrock = bedrock.get_bedrock_client(\n",
    "    assumed_role=os.environ.get(\"BEDROCK_ASSUME_ROLE\", None),\n",
    "    region=os.environ.get(\"AWS_DEFAULT_REGION\", None),\n",
    "    runtime=False)\n",
    "\n",
    "bedrock_runtime = bedrock.get_bedrock_client(\n",
    "    assumed_role=os.environ.get(\"BEDROCK_ASSUME_ROLE\", None),\n",
    "    region=os.environ.get(\"AWS_DEFAULT_REGION\", None))\n",
    "\n",
    "model_parameter = {\n",
    "    \"temperature\": 0.0, \n",
    "    \"top_p\": .5, \n",
    "    \"top_k\": 250, \n",
    "    \"max_tokens_to_sample\": 2000, \n",
    "    \"stop_sequences\": [\"\\n\\n Human: bye\"]\n",
    "}\n",
    "llm = Bedrock(\n",
    "    model_id=\"anthropic.claude-v2\", \n",
    "    model_kwargs=model_parameter, \n",
    "    client=bedrock_runtime\n",
    ")"
   ],
   "outputs": [
    {
     "name": "stdout",
     "output_type": "stream",
     "text": [
      "Create new client\n",
      "  Using region: us-east-1\n",
      "boto3 Bedrock client successfully created!\n",
      "bedrock(https://bedrock.us-east-1.amazonaws.com)\n",
      "Create new client\n",
      "  Using region: us-east-1\n",
      "boto3 Bedrock client successfully created!\n",
      "bedrock-runtime(https://bedrock-runtime.us-east-1.amazonaws.com)\n"
     ]
    }
   ],
   "execution_count": 14
  },
  {
   "cell_type": "markdown",
   "id": "1473baff",
   "metadata": {},
   "source": [
    "## Implementation\n",
    "This notebook is using the LangChain framework where it has integrations with different services and the following tools:\n",
    "\n",
    "- **LLM (Large Language Model)**: Anthropic Claude V2 available through Amazon Bedrock\n",
    "\n",
    "  This model will be used to understand the document chunks and provide an answer in human friendly manner.\n",
    "- **Embeddings Model**: Amazon Titan Embeddings available through Amazon Bedrock\n",
    "\n",
    "  This model will be used to generate a numerical representation of the textual documents\n",
    "- **Document Loader**: [S3FileLoader](https://api.python.langchain.com/en/latest/document_loaders/langchain.document_loaders.s3_file.S3FileLoader.html) and PDF Loader available through LangChain\n",
    "\n",
    "  This is the loader that can load the documents from a source, for the sake of this notebook we are loading the sample files from a local path. This could easily be replaced with a loader to load documents from enterprise internal systems.\n",
    "\n",
    "- **Vector Store**: In-Memory store FAISS\n",
    "\n",
    "  The index helps to compare the input embedding and the document embeddings to find relevant document\n",
    "- **Wrapper**: wraps index, vector store, embeddings model and the LLM to abstract away the logic from the user."
   ]
  },
  {
   "cell_type": "code",
   "id": "83ad4159-24aa-486d-8872-328109f0f642",
   "metadata": {
    "ExecuteTime": {
     "end_time": "2024-06-29T00:07:14.685245Z",
     "start_time": "2024-06-29T00:07:14.679703Z"
    }
   },
   "source": [
    "#TEST\n",
    "customer_input = \"I am  looking for a fan for our warehouses that will be energy efficient and assist with air circulation for the large open indoor warehouse. I need to be able to purchase in bulk for several locations in Indiana.\"\n",
    "\n",
    "\n",
    "# Customer id to infuse order history and delivery address\n",
    "customer_id = \"2\""
   ],
   "outputs": [],
   "execution_count": 15
  },
  {
   "cell_type": "raw",
   "id": "c0c499ed-f5a2-4b26-8ef6-991c39fb2f63",
   "metadata": {},
   "source": [
    "## Extract `product relevant` information\n",
    "\n",
    "Product data is stored in the grainger_product.parquet.\n",
    "\n",
    "# Without market research the assumption was made that Grainger Customers are meaningfully segmented by Find industry, size, Sustainability Focus, Inventory Manager, and the location\n",
    "\n",
    "TODO: Add to initial data icons and provide user with gov approved (JWOD, GSA, TAA) or environmentally conscious status.\n",
    "\n",
    "\n",
    "The prompt instructs the LLM to fetch the relevant information from the user prompt based on the above to facilitate a query of the source product data. \n",
    "\n",
    "Note the specific prompt template for the `entity extraction`"
   ]
  },
  {
   "cell_type": "code",
   "id": "a6c4210f-f08b-49d2-b9b7-45da05657fc6",
   "metadata": {
    "ExecuteTime": {
     "end_time": "2024-06-29T00:07:16.602901Z",
     "start_time": "2024-06-29T00:07:14.687094Z"
    }
   },
   "source": [
    "# Identify product attributes from customer prompt to generate better results\n",
    "ner_prompt = \"\"\"Human: Find industry, size, Sustainability Focus, Inventory Manager, and the location in the customer input.\n",
    "Instructions:\n",
    "The industry can be one of the following: Manufacturing, Warehousing, Government and Public Safety, Education, Food and Beverage Distribution, Hospitality, Property Management, Retail, or Other\n",
    "The size can be one of the following: Small Businesses (Smaller companies might prioritize cost-effective solutions and fast shipping options), or Large Enterprises (Larger organizations may require more comprehensive solutions, including strategic services like inventory management and safety consulting), Womens, Other\n",
    "The Sustainability Focused true or false meaning Environmentally Conscious Buyers: Customers interested in sustainability solutions, looking for products that focus on energy management, water conservation, waste reduction, and air quality improvement, or NOT Environmentally Conscious Buyers,\n",
    "The Inventory Manager true or false meaning a purchaser in large amounts to supply an organizational group, versus an individual user purchasing for personal use, \n",
    "The output must be in JSON format inside the tags <attributes></attributes>\n",
    "\n",
    "If the information of an entity is not available in the input then don't include that entity in the JSON output\n",
    "\n",
    "Begin!\n",
    "\n",
    "Customer input: {customer_input}\n",
    "Assistant:\"\"\"\n",
    "entity_extraction_result = llm(ner_prompt.format(customer_input=customer_input)).strip()\n",
    "print(entity_extraction_result)"
   ],
   "outputs": [
    {
     "name": "stdout",
     "output_type": "stream",
     "text": [
      "<attributes>\n",
      "{\n",
      "  \"industry\": \"Warehousing\",\n",
      "  \"size\": \"Large Enterprises\", \n",
      "  \"SustainabilityFocus\": true,\n",
      "  \"InventoryManager\": true,\n",
      "  \"location\": \"Indiana\"\n",
      "}\n",
      "</attributes>\n"
     ]
    }
   ],
   "execution_count": 16
  },
  {
   "cell_type": "markdown",
   "id": "eaddb1cd",
   "metadata": {},
   "source": [
    "#### Extract values into JSON"
   ]
  },
  {
   "cell_type": "code",
   "id": "80ce47b9",
   "metadata": {
    "ExecuteTime": {
     "end_time": "2024-06-29T00:07:16.609150Z",
     "start_time": "2024-06-29T00:07:16.604376Z"
    }
   },
   "source": [
    "import re\n",
    "import json\n",
    "result = re.search('<attributes>(.*)</attributes>', entity_extraction_result, re.DOTALL)\n",
    "attributes = json.loads(result.group(1))\n",
    "attributes"
   ],
   "outputs": [
    {
     "data": {
      "text/plain": [
       "{'industry': 'Warehousing',\n",
       " 'size': 'Large Enterprises',\n",
       " 'SustainabilityFocus': True,\n",
       " 'InventoryManager': True,\n",
       " 'location': 'Indiana'}"
      ]
     },
     "execution_count": 17,
     "metadata": {},
     "output_type": "execute_result"
    }
   ],
   "execution_count": 17
  },
  {
   "cell_type": "markdown",
   "id": "4c556d2c-d133-4bce-a4a2-27721191f8bb",
   "metadata": {},
   "source": [
    "## Use Retrieval Augmented Generation (RAG) \n",
    "\n",
    "Note: documents loaded with [S3FileLoader available under LangChain](https://python.langchain.com/docs/modules/data_connection/document_loaders/) can be split into smaller chunks. The retrieved document/text should be large enough to contain enough information to answer a question; but small enough to fit into the LLM prompt. Also the embeddings model has a limit of the length of input tokens limited to 8k tokens, which roughly translates to ~32000 characters. For the sake of this use-case we are creating chunks of roughly 1000 characters with an overlap of 100 characters using [RecursiveCharacterTextSplitter](https://python.langchain.com/en/latest/modules/indexes/text_splitters/examples/recursive_text_splitter.html).\n",
    "\n",
    "Below: fetching our productdata and creating the embeddings for \n",
    "1. Product catalog description\n",
    "2. Customer reviews\n",
    "\n",
    "# TODO: ADD order history for authenticated user\n",
    "3. Order History "
   ]
  },
  {
   "metadata": {},
   "cell_type": "markdown",
   "source": "",
   "id": "a9f1b13483921f58"
  },
  {
   "cell_type": "code",
   "id": "a93668d2-22c2-424f-9e92-05d1f5a0194c",
   "metadata": {
    "ExecuteTime": {
     "end_time": "2024-06-29T02:24:08.520773Z",
     "start_time": "2024-06-29T02:24:08.508834Z"
    }
   },
   "source": [
    "import pandas as pd\n",
    "parquet_file_path = \"processed/grainger_products.parquet\"\n",
    "print(\"Attempting to load file from:\", parquet_file_path)\n",
    "\n",
    "# Now attempt to load the file\n",
    "try:\n",
    "    df = pd.read_parquet(parquet_file_path)\n",
    "    print(\"File loaded successfully!\")\n",
    "except FileNotFoundError as e:\n",
    "    print(\"Error loading file:\", e)\n",
    "\n",
    "print(df.head())"
   ],
   "outputs": [
    {
     "name": "stdout",
     "output_type": "stream",
     "text": [
      "Attempting to load file from: processed/grainger_products.parquet\n",
      "File loaded successfully!\n",
      "                          Brand    Code  \\\n",
      "0  LION FIRE BOOTS BY THOROGOOD   3XRG7   \n",
      "1           GLOWEAR BY ERGODYNE   1CXK5   \n",
      "2                      CARHARTT  491V68   \n",
      "3                      TRIPLETT  794UC5   \n",
      "4                        DEWALT  492U19   \n",
      "\n",
      "                                                Name  \\\n",
      "0  Insulated Firefighter Boots: Insulated, Steel,...   \n",
      "1  GLOWEAR BY ERGODYNE Baseball Cap: Orange, Univ...   \n",
      "2  CARHARTT Bib Overalls: Men's, XL ( 42 in x 32 ...   \n",
      "3  TRIPLETT Combustible Gas Detector: Audible/Vib...   \n",
      "4  DEWALT Heated Jacket: Men's, S, Black, Up to 9...   \n",
      "\n",
      "                                       PictureUrl600    Price  \\\n",
      "0  https://static.grainger.com/rp/s/is/image/Grai...  $197.55   \n",
      "1  https://static.grainger.com/rp/s/is/image/Grai...   $13.93   \n",
      "2  https://static.grainger.com/rp/s/is/image/Grai...   $95.79   \n",
      "3  https://static.grainger.com/rp/s/is/image/Grai...  $134.56   \n",
      "4  https://static.grainger.com/rp/s/is/image/Grai...  $363.87   \n",
      "\n",
      "                                         Description  \n",
      "0  <p>Thorogood® 807-6003 Insulated Boots are des...  \n",
      "1  <p>Baseball hats have a curved brim that shade...  \n",
      "2  <p>Overalls (sometimes called bib overalls) ar...  \n",
      "3                                               None  \n",
      "4  <p>Men's electronically heated jackets cover t...  \n"
     ]
    }
   ],
   "execution_count": 93
  },
  {
   "cell_type": "code",
   "id": "fc692daa-6f4d-41bf-a724-1a1448aff55c",
   "metadata": {},
   "source": [
    "# ## Approach 1: Using Textual Columns Directly\n",
    "# # To focus on text-based similarity (e.g., based on 'Name' and 'Description'), columns are concatenated\n",
    "# # FAISS.from_texts is used. This allows more granular control.\n",
    "# from langchain.embeddings import BedrockEmbeddings\n",
    "# from langchain.vectorstores import FAISS\n",
    "# import pandas as pd\n",
    "# import numpy as np\n",
    "# \n",
    "# # Initialize the Titan Embeddings Model\n",
    "# print(\"Initializing Titan Embeddings Model...\")\n",
    "# bedrock_embeddings = BedrockEmbeddings(model_id=\"amazon.titan-embed-text-v1\", client=bedrock_runtime)\n",
    "# print(\"Titan Embeddings Model initialized.\")\n",
    "# \n",
    "# # Load the Grainger products data from parquet file at path relative to the notebook\n",
    "# parquet_file_path = \"processed/grainger_products.parquet\"\n",
    "# print(f\"Loading data from parquet file: {parquet_file_path}...\")\n",
    "# products_df = pd.read_parquet(parquet_file_path)\n",
    "# print(\"Data loaded successfully.\")\n",
    "# \n",
    "# # Concatenate 'Name', 'Description', and 'Code' columns\n",
    "# print(\"Concatenating 'Name', 'Description', and 'Code' columns...\")\n",
    "# products_df['text_content'] = products_df['Name'].fillna('') + ' ' + products_df['Description'].fillna('') + ' ' + products_df['Code'].fillna('')\n",
    "# \n",
    "# # Create FAISS vector store from concatenated text content\n",
    "# print(\"Creating FAISS vector store based on concatenated text content...\")\n",
    "# vectorstore_faiss = FAISS.from_texts(products_df['text_content'], bedrock_embeddings)\n",
    "# print(\"FAISS vector store created.\")\n",
    "# \n",
    "# # TEST: Process a query based on a product code\n",
    "# customer_code = \"1CXK5\"  # Example product code to search\n",
    "# print(f\"Processing customer query for product with code: {customer_code}...\")\n",
    "# query_result = products_df[products_df['Code'] == customer_code]\n",
    "# \n",
    "# if not query_result.empty:\n",
    "#     print(\"Product details found:\")\n",
    "#     print(query_result)\n",
    "# else:\n",
    "#     print(f\"No product found with code: {customer_code}\")\n",
    "# \n",
    "# # TEST: Process a query based on customer input\n",
    "# customer_input = \"Men's insulated boots\"\n",
    "# print(f\"Processing customer input: {customer_input}...\")\n",
    "# query_embedding = bedrock_embeddings.embed_query(customer_input)\n",
    "# print(\"Customer input processed.\")\n",
    "# \n",
    "# # Convert query embedding to numpy array\n",
    "# np_array_query_embedding = np.array(query_embedding)\n",
    "# print(\"Query embedding converted to numpy array.\")\n",
    "# \n",
    "# # Print the resulting query embedding\n",
    "# print(\"Resulting query embedding:\")\n",
    "# print(np_array_query_embedding)\n"
   ],
   "outputs": [],
   "execution_count": null
  },
  {
   "cell_type": "code",
   "id": "d47dcae9-07c3-4cee-87d7-371e7f9f18ae",
   "metadata": {
    "ExecuteTime": {
     "end_time": "2024-06-29T00:26:46.902516Z",
     "start_time": "2024-06-29T00:23:38.049595Z"
    }
   },
   "source": [
    "#VERSION 2: AS A DOCUMENT\n",
    "# Automates the process and optimizes for large and changing data sets.\n",
    "from langchain.embeddings import BedrockEmbeddings\n",
    "from langchain.vectorstores import FAISS\n",
    "import pandas as pd\n",
    "import numpy as np\n",
    "\n",
    "\n",
    "class Document:\n",
    "    def __init__(self, page_content, metadata):\n",
    "        self.page_content = page_content\n",
    "        self.metadata = metadata\n",
    "        \n",
    "# Initialize the Titan Embeddings Model\n",
    "print(\"Initializing Titan Embeddings Model...\")\n",
    "bedrock_embeddings = BedrockEmbeddings(model_id=\"amazon.titan-embed-text-v1\", client=bedrock_runtime)\n",
    "print(\"Titan Embeddings Model initialized.\")\n",
    "\n",
    "documents = []\n",
    "for _, row in df.iterrows():\n",
    "    page_content = f\"{row['Code']} {row['Name']} {row['Brand']} {row['Description'] if pd.notna(row['Description']) else ''}\"\n",
    "    metadata = {\n",
    "        'Brand': row['Brand'],\n",
    "        'Code': row['Code'],\n",
    "        'Name': row['Name'],\n",
    "        'Description': row['Description'],\n",
    "        'Price': row['Price']\n",
    "    }\n",
    "    documents.append(Document(page_content, metadata))\n",
    "\n",
    "\n",
    "# Print the structured documents\n",
    "print(\"Structured documents created:\")\n",
    "for idx, doc in enumerate(documents[:5], 1):  \n",
    "    print(f\"Document {idx} of {len(documents)}:\")\n",
    "    print(doc.page_content[:200])\n",
    "    print()\n",
    "\n",
    "# Create FAISS vector store from structured documents\n",
    "print(\"Creating FAISS vector store from structured documents...\")\n",
    "vectorstore_faiss_doc = FAISS.from_documents(documents, bedrock_embeddings)\n",
    "print(\"FAISS vector store created.\")\n",
    "\n",
    "\n",
    "customer_input = \"Men's insulted boots.\"\n",
    "query_embedding_doc = bedrock_embeddings.embed_query(customer_input)\n",
    "print(\"Customer input processed.\")\n",
    "\n",
    "# Convert query embedding to numpy array\n",
    "np_array_query_embedding_doc = np.array(query_embedding_doc)\n",
    "print(\"Query embedding converted to numpy array.\")\n",
    "\n",
    "# Print the resulting query embedding\n",
    "print(\"Resulting query embedding:\")\n",
    "print(np_array_query_embedding_doc)\n"
   ],
   "outputs": [
    {
     "name": "stdout",
     "output_type": "stream",
     "text": [
      "Initializing Titan Embeddings Model...\n",
      "Titan Embeddings Model initialized.\n",
      "Structured documents created:\n",
      "Document 1 of 1736:\n",
      "3XRG7 Insulated Firefighter Boots: Insulated, Steel, 10-1/2, M, Structural, 1 PR LION FIRE BOOTS BY THOROGOOD <p>Thorogood® 807-6003 Insulated Boots are designed for use by firefighters in demanding a\n",
      "\n",
      "Document 2 of 1736:\n",
      "1CXK5 GLOWEAR BY ERGODYNE Baseball Cap: Orange, Universal, Baseball Hat Hat, Polyester, Gen Purpose GLOWEAR BY ERGODYNE <p>Baseball hats have a curved brim that shades the eyes from sun to reduce eye \n",
      "\n",
      "Document 3 of 1736:\n",
      "491V68 CARHARTT Bib Overalls: Men's, XL ( 42 in x 32 in ), Navy, Cotton, Zipper, Zipper, 9 Pockets CARHARTT <p>Overalls (sometimes called bib overalls) are sleeveless garments that cover the torso and\n",
      "\n",
      "Document 4 of 1736:\n",
      "794UC5 TRIPLETT Combustible Gas Detector: Audible/Vibration/Visual Indicator, Rechargeable Li-Po Battery TRIPLETT \n",
      "\n",
      "Document 5 of 1736:\n",
      "492U19 DEWALT Heated Jacket: Men's, S, Black, Up to 9 hr, 36 in Max Chest Size, 3 Outside Pockets, Zipper DEWALT <p>Men's electronically heated jackets cover the arms and torso, extending to the hip.<\n",
      "\n",
      "Creating FAISS vector store from structured documents...\n",
      "FAISS vector store created.\n",
      "Customer input processed.\n",
      "Query embedding converted to numpy array.\n",
      "Resulting query embedding:\n",
      "[-1.140625    0.29492188  0.33007812 ...  0.28320312 -0.5546875\n",
      "  0.06787109]\n"
     ]
    }
   ],
   "execution_count": 22
  },
  {
   "cell_type": "code",
   "id": "1923edcb-2dd4-4df2-ae56-462935eae428",
   "metadata": {},
   "source": "## Going forward the FAISS.from_document version is used",
   "outputs": [],
   "execution_count": null
  },
  {
   "cell_type": "markdown",
   "id": "f1fd6c9d-a512-4f1e-ba8f-486d8b88f71f",
   "metadata": {},
   "source": [
    "## Generate *`n`* style recommendations\n",
    "\n",
    "Make a query to embed the LLM using customer input. Using LangChain for orchestration of RAG. It also provides a framework for orchestrating RAG flows with what purpose built \"chains\". In this section, we will see how to be a [retrieval chain](https://python.langchain.com/docs/use_cases/question_answering/vector_db_qa) which is more comprehensive and robust than the original retrieval system we built above.\n",
    "\n",
    "The workflow we used above follows the following process:\n",
    "1. User input is received.\n",
    "2. User input is queried against the vector database to retrieve the relevant products\n",
    "3. Product description and chat memory are inserted into a new prompt to respond to the user input.\n",
    "4. This output is fed into the stable diffusion model to return the relevant images\n",
    "\n",
    "However, more complex methods of interacting with the user input can generate more accurate results in RAG architectures. One of the popular mechanisms which can increase accuracy of these retrieval systems is utilizing more than one call to an LLM in order to reformat the user input for more effective search to your vector database. A better workflow is described below compared to the one we already built...\n",
    "\n",
    "1. User input is received.\n",
    "2. An LLM is used to reword the user input to be a better search query for the vector database based on the chat history and product description. \n",
    "3. This could include things like condensing, rewording, addition of chat context, or stylistic changes.\n",
    "4. Reformatted user input is queried against the vector database to retrieve relevant products.The reformatted user input and relevant documents are inserted into a new prompt in order to generate the new style. \n",
    "5. This is then fed into the stable diffusion model to generate the images. \n",
    "\n",
    "In your application the images can come from a pre canned images \n",
    "\n",
    "We will now build out this second workflow using LangChain below. First we need to make a prompt which will reformat the user input to be more compatible for searching of the vector database. The way we do this is by providing the chat history as well as the some basic instructions to Claude and asking it to condense the input into a single output. "
   ]
  },
  {
   "metadata": {
    "ExecuteTime": {
     "end_time": "2024-06-29T00:27:59.737717Z",
     "start_time": "2024-06-29T00:27:59.610809Z"
    }
   },
   "cell_type": "code",
   "source": [
    "# More complex customer Input\n",
    "customer_input = \"I am looking for waterproof insulated boots form my men working on my commercial deep sea fishing boat in the arctic. Must have large sizes.\"\n",
    "print(f\"Processing customer input: {customer_input}...\")\n",
    "query_embedding_doc = bedrock_embeddings.embed_query(customer_input)\n",
    "print(\"Customer input processed.\")\n",
    "\n",
    "# Convert query embedding to numpy array\n",
    "np_array_query_embedding_doc = np.array(query_embedding_doc)\n",
    "print(\"Query embedding converted to numpy array.\")\n",
    "\n",
    "# Print the resulting query embedding\n",
    "print(\"Resulting query embedding:\")\n",
    "print(np_array_query_embedding_doc)\n"
   ],
   "id": "6d9429ff50622b28",
   "outputs": [
    {
     "name": "stdout",
     "output_type": "stream",
     "text": [
      "Processing customer input: I am looking for waterproof insulated boots form my men working on my commercial deep sea fishing boat in the arctic. Must have large sizes....\n",
      "Customer input processed.\n",
      "Query embedding converted to numpy array.\n",
      "Resulting query embedding:\n",
      "[-1.0078125  -0.00338745  0.01818848 ...  0.12988281 -0.6171875\n",
      " -0.49023438]\n"
     ]
    }
   ],
   "execution_count": 23
  },
  {
   "metadata": {
    "ExecuteTime": {
     "end_time": "2024-06-29T00:37:03.768885Z",
     "start_time": "2024-06-29T00:37:02.466506Z"
    }
   },
   "cell_type": "code",
   "source": [
    "# from langchain_core.prompts import PromptTemplate\n",
    "# from langchain.chains.retrieval_qa.base import RetrievalQA\n",
    "# import time\n",
    "# from PIL import Image\n",
    "# from IPython import display\n",
    "# from base64 import b64decode\n",
    "# import base64\n",
    "# import io\n",
    "# import json\n",
    "# import os\n",
    "# import sys\n",
    "# import ipywidgets as widgets\n",
    "# import re\n",
    "# \n",
    "# # Function to extract attributes using NER prompt\n",
    "# def extract_attributes(customer_input):\n",
    "#     ner_prompt = \"\"\"Human: Find location, environment, and gender in the customer input.\n",
    "#     The output must be in JSON format inside the tags <attributes></attributes>\n",
    "#     \n",
    "#     If the information of an entity is not available in the input then don't include that entity in the JSON output\n",
    "#     \n",
    "#     Begin!\n",
    "#     \n",
    "#     Customer input: {customer_input}\n",
    "#     Assistant:\"\"\"\n",
    "#     print(\"Extracting attributes...\")\n",
    "#     start_time = time.time()\n",
    "#     entity_extraction_result = llm(ner_prompt.format(customer_input=customer_input)).strip()\n",
    "#     print(\"Raw entity extraction result:\", entity_extraction_result)\n",
    "#     print(f\"Attribute extraction completed in {time.time() - start_time:.2f} seconds.\")\n",
    "#     \n",
    "#     try:\n",
    "#         attributes_json = re.search(r'<attributes>(.*?)</attributes>', entity_extraction_result, re.DOTALL).group(1)\n",
    "#         attributes = json.loads(attributes_json)\n",
    "#         return attributes\n",
    "#     except (AttributeError, json.JSONDecodeError) as e:\n",
    "#         print(\"Error parsing attributes:\", str(e))\n",
    "#         return {}\n",
    "# \n",
    "# attributes = extract_attributes(customer_input)\n",
    "# \n",
    "# gender_map = {\n",
    "#     'Womens': 'of a female ',\n",
    "#     'Mens': 'of a male '\n",
    "# } \n",
    "# \n",
    "# print(\"customer_input: \", customer_input)\n",
    "# print(\"attributes: \", attributes)\n"
   ],
   "id": "f276373d3c35cfc1",
   "outputs": [
    {
     "name": "stdout",
     "output_type": "stream",
     "text": [
      "Extracting attributes...\n",
      "Raw entity extraction result: <attributes>\n",
      "{\"location\": \"arctic\", \n",
      "\"environment\": \"deep sea fishing boat\",\n",
      "\"gender\": \"men\"}\n",
      "</attributes>\n",
      "Attribute extraction completed in 1.29 seconds.\n",
      "customer_input:  I am looking for waterproof insulated boots for my men working on my commercial deep sea fishing boat in the arctic. Must have large sizes.\n",
      "attributes:  {'location': 'arctic', 'environment': 'deep sea fishing boat', 'gender': 'men'}\n"
     ]
    }
   ],
   "execution_count": 31
  },
  {
   "metadata": {
    "ExecuteTime": {
     "end_time": "2024-06-29T02:05:11.530283Z",
     "start_time": "2024-06-29T02:05:05.541299Z"
    }
   },
   "cell_type": "code",
   "source": [
    "from langchain.chains import RetrievalQA\n",
    "from langchain.prompts import PromptTemplate\n",
    "\n",
    "prompt_template = \"\"\"Human: Use the following pieces of context to generate 5 recommendations for the customer input at the end.\n",
    "<context>\n",
    "{context}\n",
    "</context>\n",
    "<example>A navy suit with a light blue dress shirt, conservative tie, black oxford shoes, and a leather belt.</example>\n",
    "<example>A lehenga choli set with a crop top, flowing skirt, and dupatta scarf in lively colors and metallic accents.</example>\n",
    "\n",
    "Customer Input: {question}\n",
    "Each style recommendation must be inside the tags <style></style>.\n",
    "\n",
    "Skip the preamble.\n",
    "Assistant: \"\"\"\n",
    "PROMPT = PromptTemplate(\n",
    "    template=prompt_template, input_variables=[\"context\", \"question\"]\n",
    ")\n",
    "\n",
    "# Use RetrievalQA customizations for improving Q&A experience\n",
    "qa = RetrievalQA.from_chain_type(\n",
    "    llm=llm,\n",
    "    chain_type=\"stuff\",\n",
    "    retriever=vectorstore_faiss.as_retriever(\n",
    "        search_type=\"similarity\", search_kwargs={\"k\": 6}\n",
    "    ),\n",
    "    return_source_documents=False,\n",
    "    chain_type_kwargs={\"prompt\": PROMPT},\n",
    ")\n",
    "recs_response = qa({\"query\": customer_input})['result']\n",
    "recs_response"
   ],
   "id": "1f2810aadebfd37d",
   "outputs": [
    {
     "data": {
      "text/plain": [
       "' Here are 5 style recommendations for waterproof insulated boots for commercial deep sea fishing in the arctic:\\n\\n<style>Rubber Boot: Cold-Insulated/Electrical Hazard (EH)/Oil-Resistant Sole/Plain Toe/Waterproof, 13, 1 PR</style>\\n\\n<style>Rubber Boot: Cold-Insulated/Electrical Hazard (EH)/Oil-Resistant Sole/Plain Toe/Waterproof, 14, 1 PR</style> \\n\\n<style>Rubber Boot: Rigid Fiberglass, Rubber/Rubber Over Neoprene, Black, LACROSSE, 14, 1 PR</style>\\n\\n<style>Rubber Boot: Cold-Insulated/Electrical Hazard (EH)/Oil-Resistant Sole/Plain Toe/Waterproof, 15, 1 PR</style>\\n\\n<style>Rubber Boot: Rigid Fiberglass, Rubber/Rubber Over Neoprene, Black, LACROSSE, 16, 1 PR</style>'"
      ]
     },
     "execution_count": 76,
     "metadata": {},
     "output_type": "execute_result"
    }
   ],
   "execution_count": 76
  },
  {
   "metadata": {
    "ExecuteTime": {
     "end_time": "2024-06-29T02:05:15.802833Z",
     "start_time": "2024-06-29T02:05:15.797501Z"
    }
   },
   "cell_type": "code",
   "source": [
    "# Prepare input to fetch images for each look\n",
    "recommendations = re.findall('<style>(.*?)</style>', recs_response)\n",
    "recommendations"
   ],
   "id": "3729e89773f58a10",
   "outputs": [
    {
     "data": {
      "text/plain": [
       "['Rubber Boot: Cold-Insulated/Electrical Hazard (EH)/Oil-Resistant Sole/Plain Toe/Waterproof, 13, 1 PR',\n",
       " 'Rubber Boot: Cold-Insulated/Electrical Hazard (EH)/Oil-Resistant Sole/Plain Toe/Waterproof, 14, 1 PR',\n",
       " 'Rubber Boot: Rigid Fiberglass, Rubber/Rubber Over Neoprene, Black, LACROSSE, 14, 1 PR',\n",
       " 'Rubber Boot: Cold-Insulated/Electrical Hazard (EH)/Oil-Resistant Sole/Plain Toe/Waterproof, 15, 1 PR',\n",
       " 'Rubber Boot: Rigid Fiberglass, Rubber/Rubber Over Neoprene, Black, LACROSSE, 16, 1 PR']"
      ]
     },
     "execution_count": 77,
     "metadata": {},
     "output_type": "execute_result"
    }
   ],
   "execution_count": 77
  },
  {
   "metadata": {
    "ExecuteTime": {
     "end_time": "2024-06-29T02:10:58.664883Z",
     "start_time": "2024-06-29T02:10:53.475999Z"
    }
   },
   "cell_type": "code",
   "source": [
    "from langchain.chains import RetrievalQA\n",
    "from langchain.prompts import PromptTemplate\n",
    "prompt_template2 = \"\"\"Human: Extract list of 5 products and their respective physical IDs from catalog that matches the style given below. \n",
    "The catalog of products is provided under <catalog></catalog> tags below.\n",
    "<catalog>\n",
    "{context}\n",
    "</catalog>\n",
    "Style: {question}\n",
    "\n",
    "The output should be a JSON of the form <products>[{{\"product\": <description of the product from the catalog>, \"code\":<code of the product from the catalog>}}, ...]</products>\n",
    "Skip the preamble.\n",
    "Assistant: \"\"\"\n",
    "PROMPT = PromptTemplate(\n",
    "    template=prompt_template2, input_variables=[\"context\", \"question\"]\n",
    ")\n",
    "\n",
    "# Use RetrievalQA customizations for improving Q&A experience\n",
    "qa = RetrievalQA.from_chain_type(\n",
    "    llm=llm,\n",
    "    chain_type=\"stuff\",\n",
    "    retriever=vectorstore_faiss.as_retriever(\n",
    "        search_type=\"similarity\", search_kwargs={\"k\": 6}\n",
    "    ),\n",
    "    return_source_documents=False,\n",
    "    chain_type_kwargs={\"prompt\": PROMPT},\n",
    ")\n",
    "recs_response = qa({\"query\": customer_input})['result']\n",
    "recs_response"
   ],
   "id": "8f8f54df57597629",
   "outputs": [
    {
     "data": {
      "text/plain": [
       "' <products>\\n[\\n  {\"product\": \"Rubber Boot: Cold-Insulated/Electrical Hazard (EH)/Oil-Resistant Sole/Plain Toe/Waterproof, 13, 1 PR\", \"code\": \"21A652\"},\\n  {\"product\": \"Rubber Boot: Cold-Insulated/Electrical Hazard (EH)/Oil-Resistant Sole/Plain Toe/Waterproof, 11, 1 PR\", \"code\": \"21A650\"}, \\n  {\"product\": \"Rubber Boot: Cold-Insulated/Electrical Hazard (EH)/Oil-Resistant Sole/Plain Toe/Waterproof, 10, 1 PR\", \"code\": \"21A649\"},\\n  {\"product\": \"Rubber Boot: Cold-Insulated/Electrical Hazard (EH)/Oil-Resistant Sole/Plain Toe/Waterproof, 6, 1 PR\", \"code\": \"21A645\"}\\n]\\n</products>'"
      ]
     },
     "execution_count": 84,
     "metadata": {},
     "output_type": "execute_result"
    }
   ],
   "execution_count": 84
  },
  {
   "metadata": {
    "ExecuteTime": {
     "end_time": "2024-06-29T02:14:57.507423Z",
     "start_time": "2024-06-29T02:14:57.502386Z"
    }
   },
   "cell_type": "code",
   "source": [
    "# Extract products and codes using regex\n",
    "def response_to_json(recs_response):\n",
    "    pattern = r'\\{\"product\": \"(.*?)\", \"code\": \"(.*?)\"}'\n",
    "    return re.findall(pattern, recs_response, re.DOTALL)\n",
    "    \n",
    "    \n",
    "print(response_to_json(recs_response))\n"
   ],
   "id": "f6f63f8c1fd11e61",
   "outputs": [
    {
     "name": "stdout",
     "output_type": "stream",
     "text": [
      "[('Rubber Boot: Cold-Insulated/Electrical Hazard (EH)/Oil-Resistant Sole/Plain Toe/Waterproof, 13, 1 PR', '21A652'), ('Rubber Boot: Cold-Insulated/Electrical Hazard (EH)/Oil-Resistant Sole/Plain Toe/Waterproof, 11, 1 PR', '21A650'), ('Rubber Boot: Cold-Insulated/Electrical Hazard (EH)/Oil-Resistant Sole/Plain Toe/Waterproof, 10, 1 PR', '21A649'), ('Rubber Boot: Cold-Insulated/Electrical Hazard (EH)/Oil-Resistant Sole/Plain Toe/Waterproof, 6, 1 PR', '21A645')]\n"
     ]
    }
   ],
   "execution_count": 88
  },
  {
   "metadata": {
    "ExecuteTime": {
     "end_time": "2024-06-29T02:09:14.854648Z",
     "start_time": "2024-06-29T02:09:14.848991Z"
    }
   },
   "cell_type": "code",
   "source": [
    "# def response_to_json(recs_response):\n",
    "#     try:\n",
    "#         products_data = json.loads(recs_response.strip().split('<products>')[1].split('</products>')[0])\n",
    "#     except Exception as e:\n",
    "#         print(f\"Error parsing products data: {e}\")\n",
    "#         products_data = []\n",
    "#     \n",
    "#     # Example of using the extracted products data\n",
    "#     for product in products_data:\n",
    "#         product_description = product.get('product', 'N/A')\n",
    "#         product_code = product.get('code', 'N/A')\n",
    "#         \n",
    "#         # Example of further processing or storing these details\n",
    "#         print(f\"Product: {product_description}, Code: {product_code}\")\n",
    "# \n"
   ],
   "id": "82cf8a822317d836",
   "outputs": [],
   "execution_count": 82
  },
  {
   "cell_type": "markdown",
   "id": "a6d22783-c906-413e-a889-1c4d3dd1f0fe",
   "metadata": {},
   "source": [
    "## Generate Images for the relevant style\n",
    "\n",
    "Generate an image for each look using the `Stable Diffusion` model\n",
    "\n",
    "![Generate Look](./images/generate_look.png)"
   ]
  },
  {
   "metadata": {},
   "cell_type": "code",
   "outputs": [
    {
     "name": "stdout",
     "output_type": "stream",
     "text": [
      "Extracting attributes...\n",
      "Raw entity extraction result: <attributes>\n",
      "{\"location\": \"arctic\", \n",
      "\"environment\": \"deep sea fishing boat\",\n",
      "\"gender\": \"men\"}\n",
      "</attributes>\n",
      "Attribute extraction completed in 1.45 seconds.\n",
      "Generating thumbnail 1/5 for recommendation: Waterproof knee-high rubber boots with insulation and oil-resistant soles for warmth and traction on a fishing boat.\n",
      "Thumbnail 1 generation completed in 8.55 seconds.\n",
      "Generating thumbnail 2/5 for recommendation: Large sized boots (size 13 and up) to accommodate workers with bigger feet.\n",
      "Thumbnail 2 generation completed in 8.27 seconds.\n",
      "Generating thumbnail 3/5 for recommendation: Boots with electrical hazard protection for safety around electrical equipment on the boat.\n",
      "Thumbnail 3 generation completed in 8.78 seconds.\n",
      "Generating thumbnail 4/5 for recommendation: Plain toe boots without a steel toe for maximum comfort and flexibility.\n",
      "Thumbnail 4 generation completed in 8.53 seconds.\n",
      "Generating thumbnail 5/5 for recommendation: Brands known for durable and rugged commercial fishing boots like Lacrosse.\n",
      "Thumbnail 5 generation completed in 8.51 seconds.\n"
     ]
    },
    {
     "data": {
      "text/plain": [
       "<IPython.core.display.HTML object>"
      ],
      "text/html": [
       "<table><tr><td><img src='data:image/png;base64, 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'></td><td><img src='data:image/png;base64, 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'></td><td><img src='data:image/png;base64, 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'></td><td><img src='data:image/png;base64, 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'></td><td><img src='data:image/png;base64, /9j/4AAQSkZJRgABAQAAAQABAAD/2wBDAAgGBgcGBQgHBwcJCQgKDBQNDAsLDBkSEw8UHRofHh0aHBwgJC4nICIsIxwcKDcpLDAxNDQ0Hyc5PTgyPC4zNDL/2wBDAQkJCQwLDBgNDRgyIRwhMjIyMjIyMjIyMjIyMjIyMjIyMjIyMjIyMjIyMjIyMjIyMjIyMjIyMjIyMjIyMjIyMjL/wAARCADIAMgDASIAAhEBAxEB/8QAHwAAAQUBAQEBAQEAAAAAAAAAAAECAwQFBgcICQoL/8QAtRAAAgEDAwIEAwUFBAQAAAF9AQIDAAQRBRIhMUEGE1FhByJxFDKBkaEII0KxwRVS0fAkM2JyggkKFhcYGRolJicoKSo0NTY3ODk6Q0RFRkdISUpTVFVWV1hZWmNkZWZnaGlqc3R1dnd4eXqDhIWGh4iJipKTlJWWl5iZmqKjpKWmp6ipqrKztLW2t7i5usLDxMXGx8jJytLT1NXW19jZ2uHi4+Tl5ufo6erx8vP09fb3+Pn6/8QAHwEAAwEBAQEBAQEBAQAAAAAAAAECAwQFBgcICQoL/8QAtREAAgECBAQDBAcFBAQAAQJ3AAECAxEEBSExBhJBUQdhcRMiMoEIFEKRobHBCSMzUvAVYnLRChYkNOEl8RcYGRomJygpKjU2Nzg5OkNERUZHSElKU1RVVldYWVpjZGVmZ2hpanN0dXZ3eHl6goOEhYaHiImKkpOUlZaXmJmaoqOkpaanqKmqsrO0tba3uLm6wsPExcbHyMnK0tPU1dbX2Nna4uPk5ebn6Onq8vP09fb3+Pn6/9oADAMBAAIRAxEAPwDioFtT8ypx61FeXscH+rCg1AbmGJNhlGfao1gguGyXFdt+xwW7lVtTuJXwORV+1uZW4KVdtNKtiQc5FX3tY1XbAvPrQkwbRnSW/mrl2C+1VJNMZv8AVkVZn0+7yX/h+tV/tctudhWh+YLyKE2nzIcZyajXTZmGSp/CtyC+i6yICfetezu7eY7VCg+wqeVMrmaOIlsmTqrflVR4mHQGvT30eK6Gdy1TuPCsQBYMKTpjVQ84EDk/dNSxwOD0rr30EoSFAIqJtIKfwEnsAM5qfZ2K9pc59bdyOelP8h1GVer0kUquQq4xxyKYY5cZKg0BcomWWM8nNL55cYbB+tPlikP8FVZInXoDUtspJCSwwN1RapyW0X8JIqVvMPaoyr+lQ2WrortAR0OaaqyZITcfpVkRs3WpFiZDlSRU2LU7F3SfFet6SoitdQuIUHRUc4H4U6fxXqxu5ppr2eY3GDKXfdv+uay9m1tw60jiORSH4bswqWjRT6m/Dr2n3YUXlpHnoWQbD/hVpbTTb5ttvJsz0EhA/XpXGFGRsEU9ZnjOVYg1m6fY3VXub99pE1sSQDjsSKKqWfiS8tYvJJDw90IyPyNFK0kPmgxxsyBud+aRZ1gbgk1syaZM4ztqodIleTGwmu5xa2PLUk9xkOrSKQFY1qW+tTKQQhb60610JQAZPlrRisLRTtUjPuapKRDcSaDVGuwEePbVmXSo5Ii+0E0yGxhjO/zVFXUuYSNglBFX6kHLyWbRykbOKtwxNAu/yiK3TcWELfvCpqVr/TpY9qsoFLQd2c8dZuIjgcD3qtceIbkdya0L20juGJgUNVFtJlxzHxUu/Qat1Ka+JLlW+7WsmuzWfhy71ZTH57n7PAp6qx6tj2FZUumYyTxSeJrE6b4c0tJGJed2lAHQLjj8a5a8pKPK3udeGjFy5ktjB02PVdQvxBZSSSzvliN35k1bk1XU9JvPs2p2mHU/NHKm1vzrc8MXR8Li2ngkt4dWvl3pNc/cgi7cf3mNT3usDxNpWtPq1vbzXtjtkjubddm8FsHPY/WuX27UtNv6R3ewi467laHxB4duMLLDc25PcDcK0o9EsdUjD6bqNvIT0RztauCVNPccyzxn6A1e03TJLyVhp9yxMQ3u74RUHuxIArSVSaWj+9GcaNOT1j9zN2/8N39gC1xZusf/AD0Ubl/MVkT26KvFdfonibUNEdYL7UrGaHoyPJvwPwzVHxB/Yms6usmmX9raeYPnQhgpb16cVNPF3dpr59BVMFZXpu/l1OOcMp4qFpGrrD4MvZG2xXthKSMgCbGfzqnf+C/EGnoZJ9LnMQ58yMb1/MVrGtTn8MjGVGpD4onMsTmoyTVxrdskEcioWhI7VoRciRwPlf7vr6U6a2aMKzYKtyrDoaayVJBceUphlXfbsfmU9vcehpFJlQjniinTxqkjGFy8eeD3/Gigq518fiJEyCMn3qT/AISOIDgDNc2LV2PSpVsJD0U1tzzObkgdAusrNxnrVhZ4wNxIrnY7G4U5AIqyLa5x8zHFNTl1JcY9Ga0t6rDCsT7Cq4uJycRg/hVaG3IbHzMa27KPyl3NEcU1di0RlyPKfvgimx3Kwcsc/WrWpXaHKqmDWE6l2yeazk7PQqKvudVY+IoIiAyD8K1H163kj4UCuBEWO2K39C0tbgi6vWf7KpwkScvO3ZVFTLEckbyLhh/aStE6aw0mbVlFy5W2ss482T+L6DvSeONBufEOrWemaXGB9kiB2s20bD1IzU2rao+lW0NnOonv5mTdaxn5LSLIwD71d8YXA0/V9UvZGkwLD9yyt8u4gAflmvKq4mrUkp9Oh7FHDU6cXHr1POL7TbnVtXuZXgnjgQ+VGQvCKowCfbiodH3Wvh7xBPkFSkVv04JL5/pVK4u430yFY5p1uRkSjzWIk9zzxVsK0PgQAf8ALzqBz9EQf/FVu4tRUW+q/AxUk5OS8zELqf4F/CuwjaKP4f22l20jfbdSuPPZGUBQqMRnd17VzukaLdavctHbxuyRgNPIibhEmeWNdLp2mW2s+LLHRXlMkNtZtCWBKEkEnIGMgjPT1FXUlFNX6akwi+V266GN/wAIxqmdwSMwn/lsj7kH1I6fjV3/AIQfU98iG5scooYkTgj2pNS0u90C9kGm6mzKrEYJ2NgHHXofz/Cs7TnvdW12O3mmaIHJmYADaijLHHrj9cU5vnjzU5W+RMLwly1I3LR8PXUDru1OzHIX5ZuRzXp3h3TPEdnZl7HXrW8VTtMazEZ9ueK8v1S58i53WVokFq3EZIDFgOM5PPY1HHruqrmGG+mjjzwsbbR+lc1ShUqJanVTrQpt6HrGtWGmanZ3MviGyGm3kCkmfb5bH06cNnt1rxd5S7FUBbnjA610mg2d14o8R29rd3M9woO52lcthB16/lXqNv4S0m04W3Un2WtqN6MeVu5z11GrLmSseGxadfXJAjtpDnuRir48IarIoJiABr3WPRIUH7qBQPpSnSLhjgbQPYVr7WT6GSpRXU8Wt/AV3MMNLtY9sUV7P/Y4iO5zz9KKlzmVyRPHHmsLY7UAJ9angvrJeSFJ+tcgyyMckmuk8NeCNY8SRvNZxoII5BG0kj7Rk+nrgHJrt9o+xwezRdm1S0A+VQKz5dTic4UVteKPhvf6Dd28NnK+orMCMxxEFSMZ49OetQWPw08R3YDfZVhX1kbn9KmVVlKkZ0F+sbhjgit2HV7R4grFRWpZ/B/UGYG8vUjTvtH+Nb0fws0GKLbNeMXxyTJUqtYr2DZwtybCbJDKfpWLcywxsViXNeqr8PvDSJt+1pkd/N/+vSn4feGlgkla6jJVSVVpMbv1pOrfoNUGupx/gzSrKYm/1JVkctstLVv+Wr+pHoK0dZ1S28HxM9rGlzqtwxjEyrmOD1WMe1M8JXMWoeIJrOIRQ2tvDI7SJ87qoHADducVqLokt/4l0y0eSOK30WBHaNlyZpG5Oc1501KpVtL+kepT5adK8f6ZD4e0R21W4DyRmcKt1NcXHTB6Kf1NY3xB1izaOLRIoCs6KpaSN90cuT61qeMvEz2o1WDS42WQPtuAVwVGOG/3a8+glt7izWa7u1by4ypib7xPbFEIuVpS2RU2l7sd2Y13bi1uXi3qwXupyK6u1gsLfwPa3OtW906JdSm3hjO0SsyrjceoXg9Kp6Do0KWE3iLVUzp1sdsUTcfaZeyj29at6NM3i0ahFqs7JbxzRXLlRgIgypRfQnIAFaVZX9E9TGmrer2LnhbxbLpsl3qbw2ttpFugiayhi4ndvuqT1J4J3HOMe9WLvw3aPep4l0C/aSzusnMi+YLWRuSJD129RngjrzWdr/iG60/Tbe20u2trfTTJI0ANqrMVDYDFiDyefwFP8NeO7pba+S/PmuIR5XkRrG+AeeVweP8AIqbSS9pBFXi37ObMLWL3UYrprbUEjhkA5xIHz7jkn9TVfQywTUp0DFjEIl2jP3mH9FNdLe6/aakbmK6v7e5yyeUtwh27RyRvX5h25x61FMuv3Fl5enzWSQM/EWmSoABjqQDuJ+uTWineNmrEclpXTvY564a9SCCK6jkSNFLRiQY4znj8TUFqju2UwB3Y8AVNPJOzEXDeYy/KNxJxzz19waZHuMil26dBWvQzPYvhlpVvY6JcalLjzbh9gYjnaP8A69dqk0BJIGa57wnpUzeEdOMrEBkLhR6Ekiujg05VGM4rMYf2gg+VU6UHUJv4YsD3qwtrArckUsrwImOBTEUzdM+d6/pRWbqeu2tlG2CCw7UUXA4bR/hLql3te+dLde4Xlq9L0bwuNB0qTT7aRhDI25ieTnGDj06VdufEUULbVRhnuaIdSmuRkfdrRzb6mcaaXQ0EmtlUCRdzqMZIyafLcxxWskqL91S1Yl9fx2687j9BmuW8aeK/sWmwWUYeKW8H3m4wnrSjeTsU7RVzzXXPG+v6nqVz9pupoUVyogjO0KPw5NYy6jczShmlcn/aYmug8T3OmzfZZVgMUoiVXug29Lhs8lh/Af0rJt306QKJQIyeA54U/Q9K6kkct2aWlXM5ZVaQKucnA616Fp0z3FstrHbwOrDaWdckCuM03QPtbL9mu4n3dMMOK7XTPDer2qjy2GR3zRoh2bNW9m03w5pkOn2unGWSZh5otYxv54zjvVfTg1hfa5PfuZZIlV45nXaWUjgEdiPSq+rf2t4da2vlie5kdyXEa7ioA61wXiv4iS6lBJZ28Ri3sTKzfeJPWvOqXlUdkenRtGmm2Zl14lgkm1RLi2Ek1xlFnQ8sufut7CuYjVRIrMm5AQWXOMj0zUQLschSfwqQiXH3GFaqPLsZOXNuaniDX7jW1gt/LW2srcYhtoz8qD/HHeuq8Fw6TY6elvqiMY7i2mv5sEqcL8kfI9BvYe5Fef8AkSyMFxgk4GTXf+IdQ0XQbCKxktmv7qe1gScRzbFjRFGFyM5ycn8qxqKyVOPU0hq3OXQyNA1fUNRn1TT7G9mhlkiaWxtiw8sspyU2kYyVzj3qnpvie7aWRbmOzNwMCEfYIss+cYPy1JbT6ZHE2qWvheUx2rK/nJfyYU545x1q9YeLzqWuTNZeG9NN9eoULSsSHA5OcnAPHWrcbJ+7p8jNS1V5a/Mi17U7nTLqKNWghufKUzZsYQFfvxsyBVPWNZ1gJDbXN9KQYkZ4lwqZK56LjsRTbmeSXWRplx4etra5lcKQ7yttB/iGWxgDPTiug1a20vWbA6xZKHmt0WG7gbooxhW/QDipXu2TLfvXcThkYnbkYGeAOgrW0TSJtZ1q3sYckyyANgdF7n8qzUTcyj+ECuw8BatFpfi6zkZQFkJRjjkA8Vs2Y20PbI4mtbeG2jUqkaBF+gFNktZADK0rfSrslzG0pCoWPrTJo3nXA49qkDIjv4DKY9/zD3pmoCSS3xAfmbgEVal02NQQsI3Hqarb7i1YBUGwfnSGYk3hu4lkEkjcEcg0VJ4k8Sy2lnO0acIvUnFFNRb2E5Jbm/PDYuu55C7Dvmse68SWOlowe5SMDtnmsy28G+I9QH/Ex1byA3VIRg/nV+1+GWjwP5lzI1xJ3aVs5osFyronigeJ9dh0y1H7o5aSXH8I9Pc1u/EnwM3inTILzSyBqNlHsEWceanoPf0qpqtkmiWIudGhjW6tWEgRf+Wi91/KptO8bQalaC6tJtrj78bfeQ9wRXDicVPCTVRq8Ho7dDaFJVo8t9T58vZL21kks7qOSNkJDRyLgg+4qpb3BtZ0lQBgrAmNxlW9iK9u8R3PhrxizR6rbm3vkG1LyEYP4+v415frPgjUdOZpLQrfW3UPEPmx7r/hXq0a8KseaGpxTpOm7SMaG8Ecm9UaNt2cwuVxWqPE2oJHtTUtQC44Hnf4VzjrJGxV1KsOoYYIo3mtLoizOuPxB1OSW/M0s5S5tBAqBziNsD5h9cH86xl1JGXdJLukbliUHWsneKC/oKzcIs1VSSNb+0YlH3pCfYAVXk1EMeEb8TWeWJp8dvNN9xGP0FJU4obqyZs6PFLqF7EzQMLNHBnnC5VFHJyemcA8VuaxrVpqEDaw3h7T7mCa5eNj86PGRyoYqwByvQ4HQ+lW/M0XTvCX9lzWupRrIkUl7NbSqf3hHCkMOvsO1S+E9O027S+h0/Ttd1KyuI9s0TQxKoI5VgxYfMD/ADI71z3UpcyWxvrFcre5q/D+w/tuGefSbDTLFFbZPDLPO4cEcEpnDDrWVqsFskV3ejwrp00alg7RSSqVAYjdszlQcZDdPeuyvb6e30mDUtOtrmK3gjMQNuYmIUdVKZB4Pbsa88n1zSL7WIbyxi1WHUJGw4iKgSsevynOM9x0q7L4o/qTd7St+Ay213ZpInGl2q20chhhEzySMCw+bYS2QMYz9a1/CscF1dX4mt47W2bTbgSomSrZ24bknoeevas2/Nlqeli2sI/JMDkCFl6sSSSGHGTnpgdBUs1sfDHhJbWRSNU1tAzg5BhgByo+rdfyrJpNaaNs1Ta31sjmbmVVYqn3c5/wp2myuNQE448tSR/SqkozIVzkg4z61Zt/3ETN610JaGDZ9FWWqqdOtbpiGMkKsQOecVLa6nc3kxMVuypnqeM1yngHXLJvCcQuVUzQMY2J9O1as3ihpp1i063dznqF4rJ6Oxa2ub880kQ3SMq1CLiNoyAd5PesnWLoyWaecrJL1YVBDPDJCI1cq+MgdKAMbxfplxd6dOMgAcgL3FFQXOr3K3TxyDBjbHXqKKpSaIlFM6ie+1W/u4nMUtupPOOmK0XsXgTzJZ3cn1PSqN54oWODzBtUKO/FcjqPxHtVDhpRISMBV5xU2vsVex1k9lcSyiSKYKuec151480q38PXEeo6dfmO8mOXhTo3vVafxb4g1VNlhZz+WP4lU0jeFvFevRK8/lpjoHPzYpqKXxCcr7GRZeKIp5Nt8BHJ03joa6myvGVQ9rcB0PYHIrhNU8LanpcrR3FjMCP4lXcD+IrKimu7KTMMkkbD04rCeBV+ajLlZUcQ9qiueqXI0/UBtv7FHP8AeAz/APXrGuvB+hXBJt7h4D6ZOP1rmoPEuqIuXjEqjuVqyPFsuPmtefY04vGQ0dpCaw8ttCxL4HRTmPUoyPcVXPhe0hz51/kDsq01/FMrKQlrgn1NZc+o3t0TxtHtW0JYiW6SIkqS2dzSaPR7LlYjKw7ua7DwNYQ620tzd2kqabGTGjW5ClnxnHPJ+grzyy0qfUboRNMkeeSzk9PYDqfaur1vxXZ2nh6Lw5o0LiGA8zONrb+7D0JqpqW27HT5fieiRmeK9ZL60ILK3ksbezk3RRspVy4x87A854711tt4muJrJLzS/tcLuubuOGyZ4RJnBKMOxJ6dia4q08UalL5NrqZg1C2DAAX0fmGMZ6hvvDH1r0+DXdOtoxpmnX8NokLiS3IbzYZVJwVCnDDOeV560WcI9rBzKcjIs3u7rV4mtkvTLdZWSARBVn4JPDN8rcHnvisTWbe0029vJtPtrm21ADy5op1XMWerKVJGSP612WpW1gAmpaa6y6gnzpDDJllfHB7HAz6dq51Lie4Q26tHE07MtzcyJucOO4U4xjPHNZyqK+j3NoUnbVarY4u1vJbI5RuQ25c87WxjI7ZrY8YakNR8QzXUcpkTYqI5OeAoz+uaZ4qsLTT9VCWMheB0DLu6g4wc/U8/jWVs3kbskntVpxlaaJalG8GQQxGSVcVLdSKHES9E4/GpXZbOPdxvYYUelUeN6E5bJ6etax7mM+x618L9LS707UVlYY8wYXv0FdtZsLO8NnFbKMDO9hiuF+HV2uiWt7POjvcTFSI0GT+Vdbfpr3iO3xaWYsvSaQ4OPpWUtWWtEXru4hmV1mljeROqDHFc1rrfa7Bf7LVGukPVT0p9r4Jt9Fk+1axqs0rufmGcAmu0srSwitwbNERCPvAdaVtRp3R47qcs4RJZdy3qj5lIwGoruvFdjp90uxyN/wDfXqKKaa6ktPocRp/gLUdYUXGs6sY4zyY1bJrpLLw34O0ZQ8aC5mHAZ/mOa6+10nfEGvJUVQuCkYwPzrGmi0HTZmFnbNczk5wh3YPuegqZNspRSJZpn+yhoFSCLHIK44rImu7iDa0dz+5YZLL2qafTNb1PV7be8NrbgZxvyPxA61tS+F9HtQzatM9wMch38uMfgKztfU0v0M1NWtZYAgkN1LtyUjUuR+ArOntJ7ncIvDDux6NMqqD/AFrb0HVfDlvJPY6VH5aRknZBGTvPue9XYdW1vUC6x2Kadbg4V5xukb3Cj+tNRQnJnF2vg3WpxJFPbWdjBL95VTccVo2vw88Oaaim4b7ROeznOfwrrk06YR7rzULiYN94HCA/lWRrOp6b4f0ySaGApPny4S3OWPufTrVLmeiJaitWc/ew+BbGRre7t7OCVD8yv94fgKxNR07wTdQ+ZpS3bSNxvT5IQf8Aadxgfhk1Zv8ARbPVbdNSlljt7hjn7Tn92D6sf4ST6/L7jpXM6vod/pxiku/MaKQZicklWH+yf8K6Y07dTnlUv0NnS5tE0Fg9vHHeXvaVgfKiPqM8ufqAPY1eOj6F4gYy6hFItwzFjPE2GbPXPrXE+W2AUb6Z5BrVsNZlsk8tlx7EVoZnpug/DTwnazR3sUrzSIdy+c+dp9cVZ8UeDo/EFm8W1XVOYWY/cbseOfwrz+PxXc4xHIF/2TxWnZePLu3Bj8zkjqTSuUked60L/RJ00rUY91zBIZHkZiS270brjGPpj61Xl1hpWVhI7y5LM3OPpz9K7DxPqmla7DGbtfO1OPO0Rgncvo2Ofcf/AF65+/1XSrm2t7Sy0uztysBEjKh8wTDuGPJHA45FZOCfQ2U2upnMs15J58z7c92/wp8skdpHuY/Mei/xH/AVGbtYIfkO+c/eY8gVRCyXEq4DSSucKo5JNKNPvsOVVdNxD513cKAheRzhEUV01no0elIst3tkvDyE6iP/AOvVyysrfw5b7pmRtQcfvHzxF/sj3rJ1rVBEpVTmRqxqVXKXs6YRgkueZ03hvxxaeHdRlNxB5wYduSDXUzfGi0ZStvYS/VmArxG1hmuGJGSW6mrRtzG6hjx3rpp0VGNjGdVtnqT/ABYW4+WXSlk54Bf/AOtVmP4sRRJ5cul7FxwFcE15Y8ygbYU2g8bm6mopJFClVGSerGr9nAn2kj0iLxDYeJNXj3P9nGeEY4zRXljXPkyAZII7jtRWbpLozRVX1R9JXEdpAC19cS3HqrNhR+Arn7jxbYQy+Tp8YkccLDbxF2J9OKqLotpPdqb173UX7m4l2xk/7q/1ro4D/ZsWIbW3hVOFSNcfyrndjdXMW0t/GWoT3Ey2UdrC+PLN02CnvtWteDwOk4WfX9Tn1KQc+WW2xj/gI/rVm18RyzSmK7T7PuO2PAJ3/wCFalvbNqMQkmMiDOFCtgDFCt0B36k8KWulwrHBBHCgACqi4qSOe8undFt/K2/xMKgnt3QpGsrvngAHn86W5nW0thJNdLCFHzs7cZpgTPbERkzENJ0+Y8Vx/wARvB+q6roVjf6buuDal2mtkHIBxgqO+Mcj3qza+N9Lv/EFvp0Nz5xY4MhGF+mT1NdjHevCxZWGCeVPQ1yYjHwwtSKmtGXGi6sXZnzdp3iK60yXbJu2g4Knj8MVsJrsaxMdHvfsSvkyWUw822c9zsPCn3WvWvEPhXw14sLNd24tr48faIsI5+vZvx5968m8R/CfXtLd5NNxqMK84hG2UD3Q8n8M16NHEUq8eam7o5J0pQdpI5651DS5Jgk1pNpM+Tuls3MsLe+xjkfgahMoK/u9YsJl7CRXRvxG3+tYlybiJ2guEdHQ4ZJFIYH6Gq+4CtrGZttMw+9qNmn+4Hc/yqu1xCpz5tzO3v8Au16e2T/Ks4NT9+BTSQNsne5lZCgKxoeqxjGfqep/E1EkaZPXHsaj39qu6fpl9qb7LWBnHduir9SeBRdCsys7qBtUV1Oh2n9kW39p3WFuGT90rD/Vr/e+prRsPDVloyrLcstze9QCPkT8D/X8q53xFqcl5dtaxEkA/OR3NclSo5y9lB69fI6IQUY88vkZmq6o9/d5ydgPyr/WlitHnbzrksc9u5qexsBvBON3UnFaLEQKSrKT6V0wpxirIxnNyZWWJ0XC/IgqE4BYDhvX1rT0nS77XNRW0tIy7OefRR6mu8f4cT6VdwNpWrwTaomGeGaIGNF9T1xTlNIUYNnmH2S7eMyi3lKDq+wgD8aqi0urliYkKxj+L1r3LVtPuNQspW8TLEbeFP8AVWTFI8jo2e/8q8y1G/szcOum27RW4QIpc5JI6tUwnzblyg47GB9jitx+8YF/fmio5y7OwVScdCaKu5Fj1KL4veGbVAsGmaiT3Zo48/8AoZqBvjFpcrEPZXYTB6RIST/33xXDeC/h9qvjlL59MuLSIWTwpJ5/mEkysVXARGOAVOScADk8AkR6f8PPE+rQC4sLGC4tzK0Hnx30BjEiuqbC+/aGLOm0E5cMCuRzWPs4mvtGdsfijoMs8TzQ6ptX7ypDHjHt89b7/HHw55JjjstXAC4UeVGB/wCh15cfhp4wUJnRZN7ozCITRmTcsYlMZTduEuxgwjI3kZIU4OLGh/DTXNS8SxaXfQSWVuUhklvkMUsSxzELE6v5ipIGYgAKxJw2AxUihU4oPaSOm1X4u2lxAVs7O9EindG8jBdrdjwTXLa343l1qRbi4muZp2ADI6gRp/ujJ/PFRav8Pdc0tNUvPKjOk2N7PZre3E0VuLhomYHYjuCxO1uF3cggZINV/AnheHxn4sttBlv5LF7lHMUy24mG5VL4Yb1wNqtyM8445yBQS2BzbIYNZt/Kdp5bhZRzGscII3e7FwR+VdzonxiNtAsGrW00yoMLLCBuP1BIFconw18Wu6RjTIxKXiR4mvIFeFpV3RiVS+Yi3QBwuSQvUgGvbeAfFF1YSXq6TJHBG8iv9okSFl8t1SRirsG2IzAO+Nqc7iMHGWIwtLEQ5Kquh06s6b5os9Hk+MOhP/y56l/37j/+LqM/GiyiULBb3roP+Wc0aFfww+R+FcBH8O/FUstxFHpW+aDcGiW4iLsVaZSqLuy7ZtpvlUEnYSBggnH1jRNR0G8S11K38mSSJJ4yrrIksbDKujqSrqfVSRwR1BrjoZPh6EuendP1Np4ypNWlb7j0PVPiP4d19G/tfR57g/wFo0LoPQSBg355rkLubwnMS1r/AGvb/wCy0ccgH/jwNXNN8CG78A3fiy61OCC3SVoLeBHhZ5JFRmIbfKm3oMKNznOQhGCa8vw78VQT2MM2leVJfSiCESXES4lKCRYpMt+7kKsCEfaxzwCa9RaKxyNamWW0oH5bq9x72q//ABypYn0Mf6251FvZbZB/7OaTW/C2s+HIraTVrP7L9pyERpUZ1IVHKugJZG2yIdrAH5hxXQeEvhte+J9D1DVJbj7BDDaTXFm0wjCXZixvGXkUqoLIDJtKDJyQRggWKljqXhC1IeWz1Gdx08xUYH8NwH6GttviHpiRCK2tLmCMdAsacfTnA/AVhzfDXxbbXQtp9MjilN6ungPeQKDcNEJVjyXxkoQR2JIHXipI/hb4yk2f8SbZu2g+ZdQp5bN5e2OTc48uQ+bHhGwx3cDg1M486te3oVF8ruJfeMIJYmW2imDHoZAP6GsGK+gTcWWQu3LNgda6fVPhpqNp4Q0/X7Jp7nzYriS+s5YFhms/JkWOT5N5Z1Dk5YKNoALBc8R3/gFnsPDF14dubvVX8QvcJb28losEiGFwpziRxjknOQABk98TSpQpK0SpzlP4jE/teAIFUTD14H+NPTVrRpEEvnqmRuZUDED2GRk/jVPWNE1HQbxLXUrfyZJIknjKusiSxsMq6OpKup9VJHBHUGtDT/BPiLVNHGrWmn7rE7iJZJo48qjKryAMwJjUuoZ8bV5yRg41uzOx6JpXxQ8JeHtO+y6TpupI5+/PJDGXY+p+erdr8YfDdsjKbLVHLZLs0UeWYnkn95+Arzib4deLoLy2tH0Scz3F21kiIyORMo3FWwTs+X5wWwCnzgleaPHHhFPB+o6dbRah9ujvtPivlk8tV2hywC/I7q33eqsQc8ZHJzcEzRTaNfxX8Rf+Egcw20U1tZDkRnGXPq2D+lcs2rRsoULIAPYf41k0VaVtiW77mjNqKuoWNWUd/eis6igR1HhLx1f+D4L2GzsrG6ju5beZxdrIdrwOZIyNjr0bB5znA7ZyX/jq/wBT8L3Oh3llYyLdag+pzXe2QTNcsTufh9gypK4C4x2zzVfwt4RvPF0t7FY3ljBJZxC4lF3KYwIdwV5N20qFTcGbJBx0DHitgfC/U5dHTVrPVtKu7F9Pu9QSWJpl3R2zKsgw8andlwACMHB5HGQDUPxv8QiXT3h0vRoUsLj7RBDHHN5akQNAFCmUhUCMflXaMjPc5z7L4s69Zm1UWmmywW9lZ2awSRvtb7LJ5kMhIcNvDE9CFOeVNWE+DHiZrpLQz6aty1xFaGIzNlZ3i85oyQuMpF87EEqRwpdvlo0/4NeIdTMP2a801kmt47pXDTNiKWQpC5AjJxJtZhx8qqS+zpQBHD8W9WtP7XNnpOlQNq3nG7GbiWN3l++/kyTNFuPHVDxxjGRXL+FvEl54R8R2muWEcEl1a79iTqSh3IyHIBB6Me9dpofwsY+H9cvvERktbi2sr6eyhhuFLM9odku8BGUpvYL99TwcAg7hw/hzQL7xT4gs9F01Yzd3TlU8xtqqACzMT6BQTxk8cAnigDpLf4paxbXV9dRafpS3F/LZ3F3IsLr501tL5iyFQ4UM7ff2gA9QASSS4+KviC50zULJ4rEfbPta+csTb4YrqRZJ4k+bbtZl6sGYZOGHGI9L+GupaxezxWOraNNaRJbE3yXDPEWuHCRJhVMiuWJBDIu3ac4BBNyT4R6xDo76jLrGhx+Tu8+2a5fzodjSLJldnzbPJnJ27twhfZuwMgEkXxq8XpLo7zS2lyNKffCs8TN5jeR5OZG3bmOGds55aRs5AUDk9f8AEl54j/sv7ZHAn9m6fFp8PkqRujjztLZJy3JyRge1dZe/BrxHbapp2n299o1/Le3Bt82l5uEDDzMmQMoIH7mboDzE46gA1z8JteXWbjS5bvTYJ4bKLUd1xI8StaswVpTvQFBGc71cKwwcK1AGPD4wli8FHwq+kabNZm4a785/OEonKlBJlZAuQpwBt28DIJyTsXfxZ16/utPuLu002V7S9TUXBjcC5ukiWJJZMOMFVQHam1SeqnpVPUfh5eadoaau+t6HLazxPPZ7LsqbxE2bzHvVRuUyYKMVfKMApxzYuPh88kHhOPTr2xuJNflniiu/tbLC5Rwv3ZIY2TGcYy5Yj5RkgEA5fXNWfXtcvdWltoLea8laaSODds3tyxG5mPJyevfjAwK6DS/iPrGl+F30BLaxnt/sl1ZRTTI/mQw3BUyqu1gpyyhgWBIPfHFbnh/4Zwx/EOx8JeKI7sPqVuLm1urG4EQWPy3fLRyxF85TbtYIVIPB4rzOgD0SX4w6zdCBr3R9Gu54r2HUfPkSdWe6ijWNZSElVc7UHygBf9mqek/FDU9F8Q6xrdnpOlLd6rKk0x2zDy2D72CMJAwV3wWUsVbAGNvFWPFHgjQfD+naBCviCA3+o2kd7JczGYQiJxIQVjW3LbflVQxbcSeY1ByJJ/hTqV3431zw/p0lpAdKt0uJVmu2uGKlFbCbIg8h+b+GPjgdSu4Aj1P4u63qOmXNkunaVafaIrqFpoI5S4S5kEk4G+Rl+dh6cfw7ajtfipqGnpoq6foejWh0V5GsGQXDGIStmVfnlIYOMg5yQCdpU4I0NX+Fyr4MstX0maQ38dvez6ha3UjAslrKsUjxAxIVAJLFJCGAIABINUx8Mp7+z8PrpF9Y3V1q0V5JbyLcS7LtoCMoivAhjbG777FTtJyvAIBy/iTxHdeJ9RjvbxNkiRCID7RPNwCT96aR2H3jwDj2znO5pXxL1XRvB03hm0sNNW0mt7i3ll2SCSQTfeZsOEZwAArFSQBjoTmRfhV4gkll8mWxltxaWt1BcrKwS5Fy2yBUBUMGd8r86qBtJYgYJ5vVdKXw/wCJbjS76WO8FlceTcm0dkDFTh1VnTIIOVyVIyMgEdQDsJvjP4ml1EX6QabDONTXUspCxBcW4tymGY/IYxz3ySQRxjm/FHiyfxV/Zv2jTrGz/s60Wyh+yebzCv3FO92zt556nJyTxjtPE/wYvrbxcmneG547uxmvVsUa4mxJBL9nWdhL8qgjYWYFA3Ax97g49t8Jteur3ylu9NW0a3tLiK+aR/KlW6cJAFATzAWbI+ZBjac4GCQDg6K7y58A2lj8ObrW7/U47XWLXWJdOltnLsgKRkmL5IzmUsuQ27y8EZYHOM/xP8PtV8J6NYanf3FpLFepG8YtfMlUB1LDMoTyiflPCuT0IyOaAOTooooA2NB8Uat4a+2f2VNBF9si8i4820im3xnqn7xW+U9wODgZzgVc0jx74k0PS/7Msb+P7HsljEU9rDOFSTHmIPMRiEYqCVHBIyRmtT4UaZpOveO7LQ9Y0qC9tb3fl3llR4tkTv8AKUdRyQM7genGKj0HQtMufAOva/8Au7q70p7Rpra6tpFUB5ioWOSOdchlHzbkyOikH5qANi5+Ls8sOlwRW+pRiyvRfPdm+iN3K6w+SgMogCkbeGMiOXHBOKy9d+J2ranqIlsIYLKxGnwaebKSGK4jljiO5TIjRiMsGJIKooUHAA5z2HjH4PWUfxH07RNIuvsEesSk2sBhkkjhgjhDSuZWb5pNwfEYzwVJZQRXmfirQbbw9qkVtZ6xaapBLbpOJbd0Yxls5jfYzqHUg8BmGMHPNAFyw+IfifTLOWztb6BbWTzgYXsYJEVZSDJGqshCRsQCUXC8dKw9K1W+0PVLfU9MuZLa8t33xSp1U/yIIyCDwQSDkGus1fwhZp8P/Dmt6RZarcX2oRXM94PMEscEduwR32rGCFJYHJbCjg5zmugPwOvHudGgg1yBmvbtbS58yAobdjbfaCQmdxwgYbZBE2QuVAbIAOPg+Iniq21F72LVcSNFDD5Zt4jCqRENEFiK+WuwjK7VGCSRyTmn/wAJhr5t2gfUpJEdHRjIiuzBxOGyxBJJ+1T8k5+f2XHSad8ObLUtRuoV1+e3tYtKj1hLi60uSPNrkCUspOdygkrs3q+PvirB+Flvc+F21zTPEP2mOTT7nUrZJLIxborcxiZZDvOyQNIwAAZTszuAPABzY8feKFvY7xNWkS4juBcrIkaKfM3zPnheQWuZ8r0IcgggAAs/HWu6fcXU9m2m273Vv9lnEWk2qrJFkkoVEeMHPPHzYGc7RjpJvhbZrp2kajbeKILnTLqWGK91OKAG0sWcZKu3meYGBKD540X513MnQaA+CpS6u57nXfsuhQRQyJqs8MKx3AllKK8Z8/YYwo3klw+GUBCWGQDg7bxhr9n4fk0KDUpE090kj8vYpZUkKmRFcjeqMUUsqkA9wcmtS3+J/iy0+x/Zruxh+w7/ALJ5elWi/Z9/39mIvl3d8Yz3rl7+1+w6jc2f2iC48iV4vOt33xybSRuRu6nGQe4qvQB2CfE/xZHeWt5Hd2KXVpEILaZdKtA8MYBARG8rKrgkYHHJrl769l1C8kupkgSR8ZEECQoMADhEAUdOw569ar0UAdJf+Otd1N7N75tNnNkgjt9+k2pCIFZQmPLwUAY4U8A4IGQCLE3xI8TXOqDVJ5tNl1AOri7fSLRpQy42neYs5GBg54wK5OigDqJfiJ4qnglhk1XdHLFdwuPs8Qyly4knH3f4mAPt2wKkj+JPimF9NeC9tIDpjyPZeRp1tGIC6sr7QsYGGDHI6E4PUAjk6KAO88NfE7UNIvYLjU/teoJbW9tawW8csMUXkwOXjV1aF9xDYKuNrrzhueOTv9YuNQ8Q3OtypALq4u3u2Tyg8YdnLkbHyCuT0bORwc1n0UAdZefEvxhfX9rfTa1ItxbXH2qN4YY4sy7Am9wigOdgCfNn5cr0JBjg+Iniq21F72LVcSNFDD5Zt4jCqRENEFiK+WuwjK7VGCSRyTnl6KAOg03xx4l0iK7jstXnT7VK08juFkcSsrI0quwLJIVdgXUhjnrwKL7xrr1/ocmiSXUEGmSSiaS1s7OG2SRxjBYRIu7oOv8AdU9hjn6KACiiigDQ0zXdY0Tzf7J1W+sPOx5n2S4eLfjOM7SM4yevqauT+NPFV1by29x4l1maCVCkkcl/KyupGCCC2CCOMUUUARt4s8SP5m7xBqrebKk8mb2Q75E27XPPLDYmD1G1fQVT1LVtS1m4W41TULu+nVAiyXUzSsFyTgFiTjJJx7miigC5/wAJZ4k/s7+zv+Eg1X7D5XkfZvtsnl+Xjbs25xtxxjpipJvGniq5QJP4l1mVA6uFe/lYBlYMp5bqGAIPYgGiigCOHxZ4kt7y5vIfEGqx3V1t+0TJeyB5dowu5gctgcDPSqceralDpc2lxahdpp8z75bRZmETtxyyZwT8q8kdh6UUUAaEnjTxVM8Ly+JdZd4X3xM1/KSjbSuV+bg7WYZHYkd6j/4SzxJ/aP8AaP8AwkGq/bvK8j7T9tk8zy87tm7OduecdM0UUAU59W1K6t5be41C7mgluDdSRyTMyvMRgyEE4LkcbutU6KKACiiigAooooAKKKKACiiigAooooAKKKKACiiigD//2Q=='></td></tr></table>"
      ]
     },
     "metadata": {},
     "output_type": "display_data"
    }
   ],
   "execution_count": 49,
   "source": [
    "# # SYNCHRONOUS CALLS\n",
    "# \n",
    "# from langchain_core.prompts import PromptTemplate\n",
    "# from langchain.chains.retrieval_qa.base import RetrievalQA\n",
    "# import time\n",
    "# from PIL import Image, ImageDraw, ImageFont\n",
    "# from IPython import display\n",
    "# from base64 import b64decode\n",
    "# import base64\n",
    "# import io\n",
    "# import json\n",
    "# import os\n",
    "# import sys\n",
    "# import ipywidgets as widgets\n",
    "# import re\n",
    "# \n",
    "# # Function to extract attributes using NER prompt\n",
    "# def extract_attributes(customer_input):\n",
    "#     ner_prompt = \"\"\"Human: Find location, environment, and gender in the customer input.\n",
    "#     The output must be in JSON format inside the tags <attributes></attributes>\n",
    "#     \n",
    "#     If the information of an entity is not available in the input then don't include that entity in the JSON output\n",
    "#     \n",
    "#     Begin!\n",
    "#     \n",
    "#     Customer input: {customer_input}\n",
    "#     Assistant:\"\"\"\n",
    "#     print(\"Extracting attributes...\")\n",
    "#     start_time = time.time()\n",
    "#     entity_extraction_result = llm(ner_prompt.format(customer_input=customer_input)).strip()\n",
    "#     print(\"Raw entity extraction result:\", entity_extraction_result)\n",
    "#     print(f\"Attribute extraction completed in {time.time() - start_time:.2f} seconds.\")\n",
    "#     \n",
    "#     try:\n",
    "#         attributes_json = re.search(r'<attributes>(.*?)</attributes>', entity_extraction_result, re.DOTALL).group(1)\n",
    "#         attributes = json.loads(attributes_json)\n",
    "#         return attributes\n",
    "#     except (AttributeError, json.JSONDecodeError) as e:\n",
    "#         print(\"Error parsing attributes:\", str(e))\n",
    "#         return {}\n",
    "# \n",
    "# # Function to generate thumbnails with recommendation overlay based on recommendations and attributes\n",
    "# def generate_thumbnails_with_overlay(recommendations, attributes):\n",
    "#     gender_map = {\n",
    "#         'Womens': 'of a female ',\n",
    "#         'Mens': 'of a male '\n",
    "#     }\n",
    "# \n",
    "#     os.makedirs(\"data\", exist_ok=True)\n",
    "#     image_strip = \"\"\n",
    "#     \n",
    "#     for i, rec in enumerate(recommendations):\n",
    "#         print(f\"Generating thumbnail {i+1}/{len(recommendations)} for recommendation: {rec}\")\n",
    "#         \n",
    "#         prompt_parts = [\n",
    "#             f\"Product view {gender_map.get(attributes.get('gender', ''))}in {rec}, dslr, ultra quality, dof, film grain, Fujifilm XT3, crystal clear, 8K UHD\"\n",
    "#         ]\n",
    "#         \n",
    "#         if attributes.get('environment'):\n",
    "#             prompt_parts.append(f\", in a {attributes['environment']} setting\")\n",
    "#         \n",
    "#         prompt_text = \"\".join(prompt_parts)\n",
    "#         \n",
    "#         request = json.dumps({\n",
    "#             \"text_prompts\": [\n",
    "#                 {\"text\": prompt_text, \"weight\": 1.0},\n",
    "#                 {\"text\": \"poorly rendered\", \"weight\": -1.0}\n",
    "#             ],\n",
    "#             \"cfg_scale\": 9,\n",
    "#             \"seed\": 4000,\n",
    "#             \"steps\": 50,\n",
    "#             \"style_preset\": \"photographic\",\n",
    "#         })\n",
    "#         modelId = \"stability.stable-diffusion-xl-v1\"\n",
    "# \n",
    "#         start_time = time.time()\n",
    "#         response = bedrock_runtime.invoke_model(body=request, modelId=modelId)\n",
    "#         response_body = json.loads(response.get(\"body\").read())\n",
    "#         print(f\"Thumbnail {i+1} generation completed in {time.time() - start_time:.2f} seconds.\")\n",
    "# \n",
    "#         base_64_img_str = response_body[\"artifacts\"][0].get(\"base64\")\n",
    "#         # Convert base64 image to a thumbnail (reduce size)\n",
    "#         img_data = b64decode(base_64_img_str)\n",
    "#         img = Image.open(io.BytesIO(img_data))\n",
    "#         img.thumbnail((200, 200))  # Adjust the size as needed for thumbnails\n",
    "# \n",
    "#         # Add recommendation text overlay\n",
    "#         draw = ImageDraw.Draw(img)\n",
    "#         text = rec\n",
    "#         font = ImageFont.load_default()  # Adjust the font and size here\n",
    "#         \n",
    "#         # Calculate wrapped text dimensions\n",
    "#         max_text_width = img.width - 10  # Max width for wrapping text\n",
    "#         lines = []\n",
    "#         words = text.split()\n",
    "#         while words:\n",
    "#             line = ''\n",
    "#             while words and draw.textsize(line + words[0], font=font)[0] <= max_text_width:\n",
    "#                 line += words.pop(0) + ' '\n",
    "#             lines.append(line)\n",
    "#         wrapped_text = '\\n'.join(lines)\n",
    "#         \n",
    "#         # Calculate text size after wrapping\n",
    "#         wrapped_text_width, wrapped_text_height = draw.textsize(wrapped_text, font=font)\n",
    "#         \n",
    "#         # Calculate box dimensions\n",
    "#         box_width = img.width\n",
    "#         box_height = wrapped_text_height + 10  # Adjust padding as needed\n",
    "#         \n",
    "#         # Draw black box dynamically sized for wrapped text\n",
    "#         draw.rectangle([(0, img.height - box_height), (img.width, img.height)], fill='black')\n",
    "#         \n",
    "#         # Calculate text position\n",
    "#         text_x = (img.width - wrapped_text_width) / 2\n",
    "#         text_y = img.height - box_height + (box_height - wrapped_text_height) / 2  # Center vertically\n",
    "#         \n",
    "#         # Draw wrapped text\n",
    "#         draw.text((text_x, text_y), wrapped_text, fill='white', font=font)\n",
    "#         \n",
    "#         buffered = io.BytesIO()\n",
    "#         img.save(buffered, format=\"JPEG\")\n",
    "#         base_64_thumbnail_str = base64.b64encode(buffered.getvalue()).decode()\n",
    "# \n",
    "#         image_strip += f\"<td><img src='data:image/png;base64, {base_64_thumbnail_str}'></td>\"\n",
    "# \n",
    "#     display.display(display.HTML(\"<table><tr>\" + image_strip +\"</tr></table>\"))\n",
    "# \n",
    "# # Assuming 'recommendations' and 'attributes' are defined elsewhere in your script\n",
    "# attributes = extract_attributes(customer_input)\n",
    "# generate_thumbnails_with_overlay(recommendations, attributes)\n"
   ],
   "id": "80e7e6ff-7e46-403b-9c38-f98de88bdeb9"
  },
  {
   "metadata": {
    "ExecuteTime": {
     "end_time": "2024-06-29T03:58:11.233730Z",
     "start_time": "2024-06-29T03:57:37.727690Z"
    }
   },
   "cell_type": "code",
   "source": [
    "# ASYNCHRONOUS CALLS\n",
    "import asyncio\n",
    "from langchain_core.prompts import PromptTemplate\n",
    "from langchain.chains.retrieval_qa.base import RetrievalQA\n",
    "import time\n",
    "from PIL import Image, ImageDraw, ImageFont\n",
    "from IPython import display\n",
    "from base64 import b64decode\n",
    "import base64\n",
    "import io\n",
    "import json\n",
    "import os\n",
    "import sys\n",
    "import ipywidgets as widgets\n",
    "import re\n",
    "\n",
    "# Function to extract attributes using NER prompt\n",
    "async def extract_attributes(customer_input):\n",
    "    ner_prompt = \"\"\"Human: Find location, environment, and gender in the customer input.\n",
    "    The output must be in JSON format inside the tags <attributes></attributes>\n",
    "\n",
    "    If the information of an entity is not available in the input then don't include that entity in the JSON output\n",
    "\n",
    "    Begin!\n",
    "\n",
    "    Customer input: {customer_input}\n",
    "    Assistant:\"\"\"\n",
    "    print(\"Extracting attributes...\")\n",
    "    start_time = time.time()\n",
    "    # Await the coroutine returned by asyncio.to_thread to get the result\n",
    "    entity_extraction_result = await asyncio.to_thread(llm, ner_prompt.format(customer_input=customer_input))\n",
    "    entity_extraction_result = entity_extraction_result.strip()  # Now you can safely use strip()\n",
    "    print(\"Raw entity extraction result:\", entity_extraction_result)\n",
    "    print(f\"Attribute extraction completed in {time.time() - start_time:.2f} seconds.\")\n",
    "\n",
    "    try:\n",
    "        attributes_json = re.search(r'<attributes>(.*?)</attributes>', entity_extraction_result, re.DOTALL).group(1)\n",
    "        attributes = json.loads(attributes_json)\n",
    "        return attributes\n",
    "    except (AttributeError, json.JSONDecodeError) as e:\n",
    "        print(\"Error parsing attributes:\", str(e))\n",
    "        return {}\n",
    "# \n",
    "# # Function to generate a single thumbnail with recommendation overlay\n",
    "# async def generate_thumbnail(rec, attributes):\n",
    "#     gender_map = {\n",
    "#         'Womens': 'of a female ',\n",
    "#         'Mens': 'of a male '\n",
    "#     }\n",
    "# \n",
    "#     prompt_parts = [\n",
    "#         f\"Product view {gender_map.get(attributes.get('gender', ''))}in {rec}, dslr, ultra quality, dof, film grain, Fujifilm XT3, crystal clear, 8K UHD\"\n",
    "#     ]\n",
    "# \n",
    "#     if attributes.get('environment'):\n",
    "#         prompt_parts.append(f\", in a {attributes['environment']} setting\")\n",
    "# \n",
    "#     prompt_text = \"\".join(prompt_parts)\n",
    "# \n",
    "#     request = json.dumps({\n",
    "#         \"text_prompts\": [\n",
    "#             {\"text\": prompt_text, \"weight\": 1.0},\n",
    "#             {\"text\": \"poorly rendered\", \"weight\": -1.0}\n",
    "#         ],\n",
    "#         \"cfg_scale\": 9,\n",
    "#         \"seed\": 4000,\n",
    "#         \"steps\": 50,\n",
    "#         \"style_preset\": \"photographic\",\n",
    "#     })\n",
    "#     modelId = \"stability.stable-diffusion-xl-v1\"\n",
    "# \n",
    "#     start_time = time.time()\n",
    "#     # Simulate asynchronous network call with asyncio.sleep\n",
    "#     await asyncio.sleep(1)\n",
    "#     response = await asyncio.to_thread(bedrock_runtime.invoke_model, body=request, modelId=modelId)\n",
    "#     response_body = json.loads(response.get(\"body\").read())\n",
    "#     print(f\"Thumbnail for recommendation '{rec}' generation completed in {time.time() - start_time:.2f} seconds.\")\n",
    "# \n",
    "#     base_64_img_str = response_body[\"artifacts\"][0].get(\"base64\")\n",
    "#     # Convert base64 image to a thumbnail (reduce size)\n",
    "#     img_data = b64decode(base_64_img_str)\n",
    "#     img = Image.open(io.BytesIO(img_data))\n",
    "#     img.thumbnail((200, 200))  # Adjust the size as needed for thumbnails\n",
    "# \n",
    "#     # Add recommendation text overlay\n",
    "#     draw = ImageDraw.Draw(img)\n",
    "#     text = rec\n",
    "#     font = ImageFont.load_default()  # Adjust the font and size here\n",
    "# \n",
    "#     # Calculate wrapped text dimensions\n",
    "#     max_text_width = img.width - 10  # Max width for wrapping text\n",
    "#     lines = []\n",
    "#     words = text.split()\n",
    "#     while words:\n",
    "#         line = ''\n",
    "#         while words and draw.textsize(line + words[0], font=font)[0] <= max_text_width:\n",
    "#             line += words.pop(0) + ' '\n",
    "#         lines.append(line)\n",
    "#     wrapped_text = '\\n'.join(lines)\n",
    "# \n",
    "#     # Calculate text size after wrapping\n",
    "#     wrapped_text_width, wrapped_text_height = draw.textsize(wrapped_text, font=font)\n",
    "# \n",
    "#     # Calculate box dimensions\n",
    "#     box_width = img.width\n",
    "#     box_height = wrapped_text_height + 10  # Adjust padding as needed\n",
    "# \n",
    "#     # Draw black box dynamically sized for wrapped text\n",
    "#     draw.rectangle([(0, img.height - box_height), (img.width, img.height)], fill='black')\n",
    "# \n",
    "#     # Calculate text position\n",
    "#     text_x = (img.width - wrapped_text_width) / 2\n",
    "#     text_y = img.height - box_height + (box_height - wrapped_text_height) / 2  # Center vertically\n",
    "# \n",
    "#     # Draw wrapped text\n",
    "#     draw.text((text_x, text_y), wrapped_text, fill='white', font=font)\n",
    "# \n",
    "#     buffered = io.BytesIO()\n",
    "#     img.save(buffered, format=\"JPEG\")\n",
    "#     base_64_thumbnail_str = base64.b64encode(buffered.getvalue()).decode()\n",
    "# \n",
    "#     return f\"<td><img src='data:image/png;base64, {base_64_thumbnail_str}'></td>\"\n",
    "# \n",
    "# async def main():\n",
    "#     # Assuming 'recommendations' and 'attributes' are defined elsewhere in your script\n",
    "#     customer_input = \"Customer's input\"\n",
    "#     attributes = await extract_attributes(customer_input)\n",
    "# \n",
    "#     # List to hold coroutines for each thumbnail generation\n",
    "#     tasks = [generate_thumbnail(rec, attributes) for rec in recommendations]\n",
    "# \n",
    "#     # Gather results concurrently\n",
    "#     image_strips = await asyncio.gather(*tasks)\n",
    "# \n",
    "#     # Display the HTML table with all thumbnails\n",
    "#     display.display(display.HTML(\"<table><tr>\" + \"\".join(image_strips) + \"</tr></table>\"))\n",
    "# \n",
    "# Run the main coroutine\n",
    "# await main()\n"
   ],
   "id": "76943abec14663be",
   "outputs": [
    {
     "name": "stdout",
     "output_type": "stream",
     "text": [
      "Extracting attributes...\n",
      "Raw entity extraction result: <attributes>{}</attributes>\n",
      "Attribute extraction completed in 20.06 seconds.\n",
      "Thumbnail for recommendation '('Rubber Boot: Cold-Insulated/Electrical Hazard (EH)/Oil-Resistant Sole/Plain Toe/Waterproof, 13, 1 PR', '21A652')' generation completed in 10.96 seconds.\n",
      "Thumbnail for recommendation '('Rubber Boot: Cold-Insulated/Electrical Hazard (EH)/Oil-Resistant Sole/Plain Toe/Waterproof, 6, 1 PR', '21A645')' generation completed in 11.87 seconds.\n",
      "Thumbnail for recommendation '('Rubber Boot: Cold-Insulated/Electrical Hazard (EH)/Oil-Resistant Sole/Plain Toe/Waterproof, 11, 1 PR', '21A650')' generation completed in 13.30 seconds.\n"
     ]
    },
    {
     "ename": "AttributeError",
     "evalue": "'tuple' object has no attribute 'split'",
     "output_type": "error",
     "traceback": [
      "\u001B[0;31m---------------------------------------------------------------------------\u001B[0m",
      "\u001B[0;31mAttributeError\u001B[0m                            Traceback (most recent call last)",
      "Cell \u001B[0;32mIn[142], line 139\u001B[0m\n\u001B[1;32m    136\u001B[0m     display\u001B[38;5;241m.\u001B[39mdisplay(display\u001B[38;5;241m.\u001B[39mHTML(\u001B[38;5;124m\"\u001B[39m\u001B[38;5;124m<table><tr>\u001B[39m\u001B[38;5;124m\"\u001B[39m \u001B[38;5;241m+\u001B[39m \u001B[38;5;124m\"\u001B[39m\u001B[38;5;124m\"\u001B[39m\u001B[38;5;241m.\u001B[39mjoin(image_strips) \u001B[38;5;241m+\u001B[39m \u001B[38;5;124m\"\u001B[39m\u001B[38;5;124m</tr></table>\u001B[39m\u001B[38;5;124m\"\u001B[39m))\n\u001B[1;32m    138\u001B[0m \u001B[38;5;66;03m# Run the main coroutine\u001B[39;00m\n\u001B[0;32m--> 139\u001B[0m \u001B[38;5;28;01mawait\u001B[39;00m main()\n",
      "Cell \u001B[0;32mIn[142], line 133\u001B[0m, in \u001B[0;36mmain\u001B[0;34m()\u001B[0m\n\u001B[1;32m    130\u001B[0m tasks \u001B[38;5;241m=\u001B[39m [generate_thumbnail(rec, attributes) \u001B[38;5;28;01mfor\u001B[39;00m rec \u001B[38;5;129;01min\u001B[39;00m recommendations]\n\u001B[1;32m    132\u001B[0m \u001B[38;5;66;03m# Gather results concurrently\u001B[39;00m\n\u001B[0;32m--> 133\u001B[0m image_strips \u001B[38;5;241m=\u001B[39m \u001B[38;5;28;01mawait\u001B[39;00m asyncio\u001B[38;5;241m.\u001B[39mgather(\u001B[38;5;241m*\u001B[39mtasks)\n\u001B[1;32m    135\u001B[0m \u001B[38;5;66;03m# Display the HTML table with all thumbnails\u001B[39;00m\n\u001B[1;32m    136\u001B[0m display\u001B[38;5;241m.\u001B[39mdisplay(display\u001B[38;5;241m.\u001B[39mHTML(\u001B[38;5;124m\"\u001B[39m\u001B[38;5;124m<table><tr>\u001B[39m\u001B[38;5;124m\"\u001B[39m \u001B[38;5;241m+\u001B[39m \u001B[38;5;124m\"\u001B[39m\u001B[38;5;124m\"\u001B[39m\u001B[38;5;241m.\u001B[39mjoin(image_strips) \u001B[38;5;241m+\u001B[39m \u001B[38;5;124m\"\u001B[39m\u001B[38;5;124m</tr></table>\u001B[39m\u001B[38;5;124m\"\u001B[39m))\n",
      "Cell \u001B[0;32mIn[142], line 93\u001B[0m, in \u001B[0;36mgenerate_thumbnail\u001B[0;34m(rec, attributes)\u001B[0m\n\u001B[1;32m     91\u001B[0m max_text_width \u001B[38;5;241m=\u001B[39m img\u001B[38;5;241m.\u001B[39mwidth \u001B[38;5;241m-\u001B[39m \u001B[38;5;241m10\u001B[39m  \u001B[38;5;66;03m# Max width for wrapping text\u001B[39;00m\n\u001B[1;32m     92\u001B[0m lines \u001B[38;5;241m=\u001B[39m []\n\u001B[0;32m---> 93\u001B[0m words \u001B[38;5;241m=\u001B[39m text\u001B[38;5;241m.\u001B[39msplit()\n\u001B[1;32m     94\u001B[0m \u001B[38;5;28;01mwhile\u001B[39;00m words:\n\u001B[1;32m     95\u001B[0m     line \u001B[38;5;241m=\u001B[39m \u001B[38;5;124m'\u001B[39m\u001B[38;5;124m'\u001B[39m\n",
      "\u001B[0;31mAttributeError\u001B[0m: 'tuple' object has no attribute 'split'"
     ]
    }
   ],
   "execution_count": 142
  },
  {
   "metadata": {
    "ExecuteTime": {
     "end_time": "2024-06-29T02:17:37.774882Z",
     "start_time": "2024-06-29T02:17:26.439693Z"
    }
   },
   "cell_type": "code",
   "source": [
    "async def generate_thumbnail(rec_tuple, attributes):\n",
    "    rec, code = rec_tuple  # Unpack the tuple into rec (product description) and code\n",
    "    \n",
    "    gender_map = {\n",
    "        'Womens': 'of a female ',\n",
    "        'Mens': 'of a male '\n",
    "    }\n",
    "\n",
    "    prompt_parts = [\n",
    "        f\"Product view {gender_map.get(attributes.get('gender', ''))}in {rec}, dslr, ultra quality, dof, film grain, Fujifilm XT3, crystal clear, 8K UHD\"\n",
    "    ]\n",
    "\n",
    "    if attributes.get('environment'):\n",
    "        prompt_parts.append(f\", in a {attributes['environment']} setting\")\n",
    "\n",
    "    prompt_text = \"\".join(prompt_parts)\n",
    "\n",
    "    request = json.dumps({\n",
    "        \"text_prompts\": [\n",
    "            {\"text\": prompt_text, \"weight\": 1.0},\n",
    "            {\"text\": \"poorly rendered\", \"weight\": -1.0}\n",
    "        ],\n",
    "        \"cfg_scale\": 9,\n",
    "        \"seed\": 4000,\n",
    "        \"steps\": 50,\n",
    "        \"style_preset\": \"photographic\",\n",
    "    })\n",
    "    modelId = \"stability.stable-diffusion-xl-v1\"\n",
    "\n",
    "    start_time = time.time()\n",
    "    # Simulate asynchronous network call with asyncio.sleep\n",
    "    await asyncio.sleep(1)\n",
    "    response = await asyncio.to_thread(bedrock_runtime.invoke_model, body=request, modelId=modelId)\n",
    "    response_body = json.loads(response.get(\"body\").read())\n",
    "    print(f\"Thumbnail for recommendation '{rec}' generation completed in {time.time() - start_time:.2f} seconds.\")\n",
    "\n",
    "    base_64_img_str = response_body[\"artifacts\"][0].get(\"base64\")\n",
    "    # Convert base64 image to a thumbnail (reduce size)\n",
    "    img_data = b64decode(base_64_img_str)\n",
    "    img = Image.open(io.BytesIO(img_data))\n",
    "    img.thumbnail((200, 200))  # Adjust the size as needed for thumbnails\n",
    "\n",
    "    # Add recommendation text overlay\n",
    "    draw = ImageDraw.Draw(img)\n",
    "    text = rec\n",
    "    font = ImageFont.load_default()  # Adjust the font and size here\n",
    "    \n",
    "    # Calculate wrapped text dimensions\n",
    "    max_text_width = img.width - 10  # Max width for wrapping text\n",
    "    lines = []\n",
    "    words = text.split()\n",
    "    while words:\n",
    "        line = ''\n",
    "        while words and draw.textsize(line + words[0], font=font)[0] <= max_text_width:\n",
    "            line += words.pop(0) + ' '\n",
    "        lines.append(line)\n",
    "    wrapped_text = '\\n'.join(lines)\n",
    "    \n",
    "    # Calculate text size after wrapping\n",
    "    wrapped_text_width, wrapped_text_height = draw.textsize(wrapped_text, font=font)\n",
    "    \n",
    "    # Calculate box dimensions\n",
    "    box_width = img.width\n",
    "    box_height = wrapped_text_height + 10  # Adjust padding as needed\n",
    "    \n",
    "    # Draw black box dynamically sized for wrapped text\n",
    "    draw.rectangle([(0, img.height - box_height), (img.width, img.height)], fill='black')\n",
    "    \n",
    "    # Calculate text position\n",
    "    text_x = (img.width - wrapped_text_width) / 2\n",
    "    text_y = img.height - box_height + (box_height - wrapped_text_height) / 2  # Center vertically\n",
    "    \n",
    "    # Draw wrapped text\n",
    "    draw.text((text_x, text_y), wrapped_text, fill='white', font=font)\n",
    "    \n",
    "    buffered = io.BytesIO()\n",
    "    img.save(buffered, format=\"JPEG\")\n",
    "    base_64_thumbnail_str = base64.b64encode(buffered.getvalue()).decode()\n",
    "\n",
    "    return f\"<td><img src='data:image/png;base64, {base_64_thumbnail_str}'></td>\"\n",
    "\n",
    "async def main():\n",
    "    # Assuming 'recommendations' and 'attributes' are defined elsewhere in your script\n",
    "    customer_input = \"Customer's input\"\n",
    "    attributes = await extract_attributes(customer_input)\n",
    "    \n",
    "    # List to hold coroutines for each thumbnail generation\n",
    "    tasks = [generate_thumbnail(rec, attributes) for rec in recommendations]\n",
    "    \n",
    "    # Gather results concurrently\n",
    "    image_strips = await asyncio.gather(*tasks)\n",
    "    \n",
    "    # Display the HTML table with all thumbnails\n",
    "    display.display(display.HTML(\"<table><tr>\" + \"\".join(image_strips) + \"</tr></table>\"))\n",
    "\n",
    "# Run the main coroutine\n",
    "await main()\n"
   ],
   "id": "c7f9c89a3a409157",
   "outputs": [
    {
     "name": "stdout",
     "output_type": "stream",
     "text": [
      "Extracting attributes...\n",
      "Raw entity extraction result: <attributes>\n",
      "{\"location\": \"\", \"environment\": \"\", \"gender\": \"\"}\n",
      "</attributes>\n",
      "Attribute extraction completed in 1.23 seconds.\n",
      "Thumbnail for recommendation 'Rubber Boot: Cold-Insulated/Electrical Hazard (EH)/Oil-Resistant Sole/Plain Toe/Waterproof, 13, 1 PR' generation completed in 9.80 seconds.\n",
      "Thumbnail for recommendation 'Rubber Boot: Cold-Insulated/Electrical Hazard (EH)/Oil-Resistant Sole/Plain Toe/Waterproof, 11, 1 PR' generation completed in 9.88 seconds.\n",
      "Thumbnail for recommendation 'Rubber Boot: Cold-Insulated/Electrical Hazard (EH)/Oil-Resistant Sole/Plain Toe/Waterproof, 10, 1 PR' generation completed in 9.95 seconds.\n",
      "Thumbnail for recommendation 'Rubber Boot: Cold-Insulated/Electrical Hazard (EH)/Oil-Resistant Sole/Plain Toe/Waterproof, 6, 1 PR' generation completed in 10.02 seconds.\n"
     ]
    },
    {
     "data": {
      "text/plain": [
       "<IPython.core.display.HTML object>"
      ],
      "text/html": [
       "<table><tr><td><img src='data:image/png;base64, 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'></td><td><img src='data:image/png;base64, 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'></td><td><img src='data:image/png;base64, /9j/4AAQSkZJRgABAQAAAQABAAD/2wBDAAgGBgcGBQgHBwcJCQgKDBQNDAsLDBkSEw8UHRofHh0aHBwgJC4nICIsIxwcKDcpLDAxNDQ0Hyc5PTgyPC4zNDL/2wBDAQkJCQwLDBgNDRgyIRwhMjIyMjIyMjIyMjIyMjIyMjIyMjIyMjIyMjIyMjIyMjIyMjIyMjIyMjIyMjIyMjIyMjL/wAARCADIAMgDASIAAhEBAxEB/8QAHwAAAQUBAQEBAQEAAAAAAAAAAAECAwQFBgcICQoL/8QAtRAAAgEDAwIEAwUFBAQAAAF9AQIDAAQRBRIhMUEGE1FhByJxFDKBkaEII0KxwRVS0fAkM2JyggkKFhcYGRolJicoKSo0NTY3ODk6Q0RFRkdISUpTVFVWV1hZWmNkZWZnaGlqc3R1dnd4eXqDhIWGh4iJipKTlJWWl5iZmqKjpKWmp6ipqrKztLW2t7i5usLDxMXGx8jJytLT1NXW19jZ2uHi4+Tl5ufo6erx8vP09fb3+Pn6/8QAHwEAAwEBAQEBAQEBAQAAAAAAAAECAwQFBgcICQoL/8QAtREAAgECBAQDBAcFBAQAAQJ3AAECAxEEBSExBhJBUQdhcRMiMoEIFEKRobHBCSMzUvAVYnLRChYkNOEl8RcYGRomJygpKjU2Nzg5OkNERUZHSElKU1RVVldYWVpjZGVmZ2hpanN0dXZ3eHl6goOEhYaHiImKkpOUlZaXmJmaoqOkpaanqKmqsrO0tba3uLm6wsPExcbHyMnK0tPU1dbX2Nna4uPk5ebn6Onq8vP09fb3+Pn6/9oADAMBAAIRAxEAPwDzeyEa3ImiiYwKfmPY0zVTA1x5sBAPpVaKaS3sXhNwBn+GmRwrOpcyAH+dZWJBJJrllTORnpV1VeCTYFzUVnCcnb0zya2iUcBIVw2PmY9qluwrmbepIoR5W27v4RVcWzHmLgY5q1c2k0x8zDFBwDULSmOExAc9KaY0VcbWIzuardvbeapJX5hUcMexdxGSa09KYy3BQDHHpQ2aIzzbhWJIPHrVdkO07RxXR3Nvh3VuDUb6WiWhfdj607isc3BCzSYx1rUitvLkU9qLWI+cdq5ANaZjHls5UjaKTY7GTeqHYdMVJb2wEeQ1U5Zi8jAdBVy2mGznn0piGeWySYPNWyge35AqGRjvBUdauXCYsFMY5pXHY565iUMeMComiBi+WrEkUspxUUscsa4CmncVik6lOn41Ht3cDrVyIFjtkGM0yWDZyrVVxj7G9aE+VITtPfPSmXcuXI8yQ59WJzVXktyasq0LxbX+8OhpgVf3ZXrzTQBnHaldRuzigpjBFMQxgVoqZnITBUEUUAaUVhHcMTJLsbsDT9iW8+OqjjOKnu4ikwUAAjiqV0zNMEHPFZ7kGijrHKnln5T1FaMw2sJYslSOaztMhWY/vGCjua0I5YnuvIhbCjjJqGtRMnN809otv5e1l71C9kq27OwG404xeVOSJAR6ip2Pn/IDx60xxMVHKSfOOK29HiWKUTFflaqV1DHDIoOCO9adtdwGONFICgig0RDqLO2o7egY1FqjMiJEpJFXr+MSXAaIZNVZYpHkO9eKLjZmWsrwzD5eK0rm8H2NsYy1JcQxQWzzyMqIvVjWZJdWLQhRdpnNOzeoropxwsznHeraWskbKWUge9W9OFszho54mbPTcK1pgGXlB9RSuxtGarw7gGWtFxGLFWAG2s9owQcnpVidSthGnQUhrUypp034RaL1c2w7cVDIyRvhVyajZbi6lWJQeelMLGY4bsarvI/TrWxd6Je2v+sTIPIxUVto88rkOpWqjOLV0xOLTszFOV5Oc0pG4ZFbc2gyg+tUZNPlhJDKRVqSZJST5ep4qfyztznimeUSxBpVYofLf7hpjIywzjvRUcybZDtORRQI6eN1IkZxknue1Nk+zwRbgNzt1oM3mEIgBGOcVBjzJNqjPPSsVe5Fh8RB2iM5dj09KtSW0ts25hzjPFRW9nLFcBwNpHQVPczSliryZB6mncdiPzgi53Z9q1dODTHAHbtXP7B5nBJFdP4cbbLuYHb2pMpKyKV/ncyMh49qoK/kxhiehzXR67cQgEBRvbvXMQDLnfyoOcUDidLDrttaPGrWzzylRlYhnH1966DSg2qrNIdJNvFHCztPdLhFwOPqa43T3kPlpGmN3JIHrXc2F5b6p4cvtMuGuRCkm6WWEjLgYxGO+S2BWVSfJG6NKcOedmeY3qXerSC+uN0enrIYomVcrx7epqhaaPJqepyW8U0aKoaRnY7QqKMk4+nauh1XSrLR1+y3E95FLMwmms4ykggBPGTng/Wtq9nsJH8QTsfNaLT28vaVKdVVcY5wMj8RWqrrlvYTovmtc87NnIJm8lZHhB+V9vUfhWxpjX1ram7j1BIwr7fIkUsSP7xB4A7VhRSRqmFupo274zitNrF5vDKX63LyMbtoMOOAAqknn61u5JbmSi2bcmu2MsbeZJaCfHVMqCf1FaZ1rTLnwzLaQTg3jFSFbbgYPJBzXON4QnXw4usLewygOElto4dzxZJALHoAcHmsp9JkZF2IoOOSZFH6ZqbQmNc0DqLDS2upwjYAP8QINdVbeF0ixJHMjFeeoNeULY3MMikSxrzztmUH+daEdzqCSlkvzGP+vhR/7NWc6PNs7FRqqO6ueyLo0d5GvnbSF9Knm0GwSyyQu48DHUmvIofEWq2r/LqsOO++UNn+dX4/GNxczQx3F2JmBwqQBuSfUnAH1rKODSsnLQ1eJvstToNQsPss2S+xjnbE/DEew71x+r3EjSEbPyFGnTXniT4gWrPIz7JcA54VF6/5969Ov/DlmLdiyKW+lY1sRGhUUN7l0qHtYue1jxnbIWB2Hn2qa40+dkVwMg16MPDMSk/KNtWYfDLPgBVx3HpXR7byM3SZ5rpuhSajN5GSr+9FekS+HJbOcTR4Uj2orlrTxLl+7dkbU4Ure+tTgP3VqXWM7m6ZNSacqeYzsw3dayJdySY3HPpXR+HNBfURJJK5jVeme9dj0RxaCTXW8lvunpVOdo2QEHLHrWlqHhq9gDSKGaPPXFVbPQbm7lWOEEk9c1I0U41w4I5Het6zuYoVVQcZpmoeF7zScPMy7WHY1UghTGCeadyk7o2rqKC5tlJIY1z8j+S7JGn1JFdRp8IlswoUDjqalTRYmDSTOgHYHvU8wr2KvhOOxnjkhuDPHcu2ImjAbOe2DW7rd1ZeBfDN0mnBvtMriPzGOWMncD6Z5I759KZ4VtbM6lJM84jjtB5rMB90D3rE177f4i11YoooQ1gokitSOJh/FwevWsJwc5pPbqdVKSjBvr0MPSdKjuZYtSi1excsweVb6XYw9QcjDd+9WvEkWleHvD8tnZbDe3sSLM6S+YpG/dx+AH51l6/c2KqyafaSWse4sySNnD4wcegFY2k6YdUkmuLq4MFjbKGuJzyQOyqO7HsK6ZQejk9F0/IyjJaqK1ZQt7eW6nSCCJ5ZXOFRFJJP0FeweG4Fs/DVzBe6NBLNFthtbWYBg0j8b2HrkE88gA1zGnTQ2ejS6r5DafoykxwQxtie+cf35Ou31xgdh3qbwfq8jvLqF0jSJNqMFuI4uAgKuBgdsbhWWInKUXy9DSjGMWr9TTk1hdJu3vvKWytbYf2fJaGLMU3B4dcHjjGea5vxZ4c01LBPEXh6ZZdJncK0QUk27nqpJ5x6ZrT8TzS6j4W1R4YXfytVlLEIThd5YN9Of0ql4P8AEQisdagvY0uImtEYxYA3qrfMPrhjg9qVNyUeddGE0nLlfU4bPstGPpW3qs81pqNzBDciaJZCI5No+ZCAR+OMVQbULwg5nIz2ArtTurnK1YqCNz0Rj9FrR0i0u/7QgkETKiOGLP8AKoH1NVmv7ts5uH596u+HQ114l05JWLqZ0yGOeAaJaIFuel+AtAXRbOXU7xdtzcf6vI5VP/r108s32pHVQWWpp4JLqEFvmHYKKdY2HJQtjvg9q8qolUnznow9yHKZMM5f5NhDKcYq99ruLeRCYiF96vx6QjXX45yKsalDCIAj8cV0La5k9HYqyXqyod4HSisS/v4YIyiONw9KKtNkNI8w07w9e6ld7kQ4Xksa6eVdQtLT7PFDkIc7gKszeKobKNYbW28oYwW6Zq3pFxcahA8pwUPUmqk2zlTVtSaDxglzY/Zbm1KsF2kgVLbi3stPa6twQ/bPWsbVpLawUxqpYk5yB0NaWmGK804+awjBHVjxUu7FGxy99rdzfzOLp2IHQHtVG3YPOBmtrUY7AziKJ8oD88g5Hua6ZLTwsdMit7eSBp2H38jP1zVJPsVzJGbo6I9oyM+0jrVy9jns9OgurO3iumd9hWUbgvHp+FEkmg6eFs4JWu7uU4CoM8/WtHTtEuk0+W5QwmRZVeVZWOFQdAozyc0lTktWi7xva5RbW9th/Z8+miOdnWSX7BCAzryOV74JBqvPpdlouq3N5qV1PLJbqstuSNrMSOFb0x6VYvtcg0K+k1COZUuXJJ28nntXmviPxVcatPIS5wxJJJ5NdCpKN+zI9o5W8jK1i/e+vJGzuLMT9STXV3Oh7bix8MB/KtbSMXuqTgdGI5/EDCqPUiuCV2Equv3gQR9a63WfGF1f7pkigtZpZFll8kEmaQDAZic8DsOgNZ1Yzk1ymlOUUncb4z1FL3VYrFP3NpYxhFhToh/u/gMDPqCe9dR4XRdH0S0mVWW2EFxqdxuxyRhIRn8Cw+teZwW8l3MSzHJOWc89a9M8W3umaDpwsQn21rqOCORI3KqkESAKNw7s2W+lY1o2jGkuv9fqa05Xk6jOf8M3t7/wj/iFraaSO5SNLlHDd1Yk/wDjpb8Kg0vxTZG8WbVtIt5pQQqz2y+U5zwdwHyt+IrQM+j6TZyzxaPOYXjWaJxfkpMCSpH3QQRuIINZdhrjfblTQvDdgtycmMlGmdcDr85I49apRT5mo7k8zVk2QeL7M2HiK4iLSsWCSHzMbhlRxxgfpWCTkVZ1C4u7u8mmv2drp5G8zf1z6Y7VXxgV0QTUUmYyacm0R963/BURm8YaZGO86isE9a6DwTMLbxZp856JOhP/AH0KcthLc+hJLeS2VYthyOMioJtLkVGuVlYMBkCty7lQzEJGWeq72lzdoQrAZHK1zOlFnSqkjnNP1aKSZ1d9rrwal1JJb23CWxy54DCpL3QuSkUOJW6t0qKys9S0p1bhowcYPWiMLaClJMxtQ8KXaus2eccg96K1PEfiOWOwumVRiNM5JxzRVciI5zmrfwVFrMAZpmBUdqitNFvLbzrGC72KnAPc122jaZLJZFJZTDK3viltPBVsZHuBeO056sWzQkEoo8+m0+6NrOJQvkwDMkxrTv8ARSNKge2y4Kg5zU/jeCfRfDt7bF1KylcHPJGa57QPGBt7Rbac7kHTPatqKWrZz1VbYWx0+4NrqUcyYAt2K8d6g0DRTBeQyumVAycitz+37S5uHZCACmxh6irB1WzjQeWV6YrpMDltFcHV59RkG4/afJjHpzW34p1fUrGMRwWM53DO8LkfpXMcx6LdEOEf7UZE5rOn8W3+0K0hIHo5qG7GiVzD1G+uriZmuN4Y9mBFZxJJroj4nklyLi3jmB67xmqsws71TJbReTN3j7Gs2zVIy0OznHNPiSS6uFjQZZvXoPemMCGIb5SOorSggli07zII2aWc7AR1C9f1/wAKAFLrAY40iL26SL5r44J649MkDp6V1F3rVvqFpb6tJ4fs5o5ZnEhWWVDFL15w2DlQMHHYjtUejm1m0a70uTQZZlaFblxHO4eSSPqc4IBwWIGOelTabe+H7a3ubZtP1qKG4iKTW7NG+MchxkKcqec/X1rmlK8tU7o3irLR7ljTFtdZsHgtNBthaCYNMj3cxWM4PzY9CPTqfpWEur6fA80cehWUKlSgkCtK2Po7cVp20Wm6Ztv9N1rULV5YzHD5tpgE8ZJKMc9fTqR6VW1rV4Ly3e3a0SO9dh5rRKBG5z/rOmQxHGPfNNJOVrO3zE2+W91+Byly3mTbgMA84znGajA9atNHlicfSoJBt4roMSFjV/RnMV4ZF+8iFh9Rz/Ss4nmrNjL5M4btgg/jQwPqiO9doobxFDrJEr4HuM1Tsr6/vb53WB4UU8E96yvCGrNH4R0y7mh8xPs4QsP9nj+lOPjGe/vUg0myklAbBkVflH41yNu9jrSXLc6G9vZLUb5GXBODmmW14lzC21gwJ71leIL6FrZI7uF45zg7cdaLa3hntljVjE23IA4rbbcx32MLxhplxc2U0SkKD/d7iilmutQFy0TRFvLbAJP3hRSa7Bo9yXULvVdU1q0gNrcWSO3zSAcba6a9Wz0G0Evnu7cZ3NmsW78WXNy0RSzeNRyWdcDFZt1q41eY2UAFzLKMBB/CfWm6bWwlUTepz/j68k1q9hht3LbU3GPPXNea3CT2chSVWQg9xXc+MdD1LTFgv5cxtEoRgvb3rnv+Ege4QJeW0dyv9/o1aw1iZzupGNHfyxklX5qf+1ZscOaluF0iblI5IGPtVT7HZfw3bfitVqToMnvZpRtLnHpVRgOrtVh7eIHiUsKb5UCEE5c+lIrQhQNIcQxlj64qzHYXLHcXCEc+lSLezhTHZW/Pchcmlh03U7mNrjZvUdQTS0DUdJp8Urh5ZlDY5wa3vD5t5fNn1OK4XTYo5VieIFQJduQN3rgdPaqmn+H7rVUkhjltLa4wPKiuJdhlJ7KemfqRWzBd69pfhi+0yze4sLvTJxM8TLgyRsArEqeOCFOfQms6ktOWO5cI63lsVLHVL/VNNntNOu57O5t3NzarFIU+0R4G9SB1IxuHsCKty63ql6YZ7bUr6MMuLiExiaPd/sFugPoelWI9T1SZ9LvktLC8gkALTS2yq8EqH5huTB9GH1rdjSJ1cvpUlku8DMDCVDuPZSQQT1xk96zUU3zSRbk0rRZhw6U2rgSSzXBkKMYjLBhG25JXIJCnhiAetYk+mCFpGRdoHFd3PANPV4omy7krkdD71yOv6rDEht4iCR95vU11JNLU5m77HN3G2PIzzWXM+SafcXJkY4NVic0mUgqxaxNNKsaDLscCoAMmtFALSwEoOJp8qvqqdCfxPH4GkM9k+G8j6xoV7YJc4jt5jHGOvy7R/UGuo0C4fRbl9Le2XcvIkxjNeZfCbUpLSfUIokZyyq4CjJ4OP6169qdrfalp/nwWoE4Xgk4NRZNl3aQs0iatKfMWN5o24X0qr4hsbyfTh9gjQXC9GXtXJRXd5od4Jr+K4gjZtruwyo+pr0axuUuLRJ4QxjYZDY6ilJajg7o821HU57C3QXMjLdKMkEYzRW34uudIvUa1uim4jhh1BooTYmtTE0HxF4f1/wA+91nWLK3jztjtpbpEOPUgmrB1rwJ4bu5NQ0y/s2uCu0CGZW/TNfPcEE11cRW9vFJNPK4SOONSzOxOAABySTxirGpaTqWjXC2+qafd2M7IHWO6haJiuSMgMAcZBGfY1TjfqJSt0PbNe8Q2HiG2gkn1jS44WOZIzdRl8fQGuF8TW2kG6ibTNRsfKI+YxzrkfUZrlZPD2pxeGofELQRnS5bj7KsyzxsRLgnYyBtynCk8gcYPcZNc8Pan4cuLaDVII4nubdbqExzxyrJExIVwyMQQdp70uTW4c3Q1jYxOSYtVsWAGSHnVfyyeaiWxYxFv7R00dxm5TP5ZrmqKsk34ojLMsbXdmgZgpYzLge/XpXo2heHfC2kSR3tx4n0e6mVf9UbuPGfzry7UvDWvaNbrcapompWMDOEWS6tXiUtgnALADOATj2NZdS031KTS6Hult4h8J/2kILZ9Ohdz80zyIqfmTiugdPA8NjN5XiLRvNdSdovIsbvpmvnu00TUb7R9R1a2t99jpvlfa5d6jy/MbanBOTkjHAOO9Z9T7PW6ZXtNLNHdawdLnP2e31K1mcnMk5faqeyZOT+QH1rZ0PxY1kptr+7sdRt4IyIzcTqH2kbSiuTnBz0ORjtXllFW4qSsyE2ndHtWk3vhNIc2Wr21uFbiC7lCMhPHBGVb/ez09KuHxDokSM/9q2LEDoLlCT+teE0VUW0rEOKbueka/wCLYFVktZ45JX6ujAhR6AiuFmuzM5ZnyT71RoobuNKxZBUn7y/nTvl/vr+dVKKQy6gR5FTzEXcQNxYYFT3tzHJct5bjyl+SPn+EcD/H8ay6KAPSPhXr9lofiCa5vbmCKHySv72QLk5HTNexXPxP8PyW7LbapY7scZuEX+tfKtFTyjufSNl8RdBv7OS31S7svmJBDTIQR+dbUPxB8O29p5UWraWqIMKv2uP/ABr5UooUUhuTZ7qmoeHNf8THVbvUNMt4Y8qElvI13n1xmivCqKXIHManhrUodG8VaRqlwsjQWV7DcSLGAWKo4YgZIGcD1FeqX/xg0e7lvbGGHVYNIvbTUbWWNFTCNcsJFnEZc7pAzSKQZNuPmXZuKV43BBNdXEVvbxSTTyuEjjjUszsTgAAckk8YroNT8A+KNJuLK3uNJkknvXmS3jtJEuWkaI4lAETMcqeCO2D6GrJPWLv40+FWuL+4itdZmS6vWvJbKa3iWK4U2QtvIkPmnKFlVySrdANpxmsPVPil4bk8OadpcWn32rR2cWmwrb6jDHHCv2V2aSRRvkw0qkRkY+7nJYcVwej+DL3WbfWSl5aW15pFvPc3VhdLKk4jiA3kfuyucnbtLA5ByAOaLXwRqt14IvvFo8uLT7N0UrKkitKGcIGjOzY4DEg4bI2nIHGQD0S4+K/h+88c2OsXaX0umwxXkM1uNPXzLmKY5WCVnuXEkYLMwGAqkABcH5fL/EviHUfEmrNd6jqM+oNHujhnnjWNzGZGcZVSQOXPy5IXO0HAFR6B4e1PxRqi6Zo8Ec94yF1iaeOIuB1272AJxzgc4BPQGh/DetKjyrpd3LAqSyefBEZYmSJtsjrIuVZFJALAkDI55oA9M1T4peG38Oadpdtp99qC2sWmwPFdwx26SrauzNvKu5kVwQojcFVyWGT1k1D4s6Dda8l0lpqRf7FqNuurPGn2u2a5kLxGMbzkQqdi/vF4dsbeh8zsfCfiTU7OO8sPD+q3drJnZNBZSSI2CQcMBg4II/CrGl+D9Tv9WtNOux/ZMl7K1vayajBMiTTCQRmNSqN8wY4OcAYOSDQB3kfxX02TWfFqhdZ0jS9buLeeB9LkUTwNGy+YwXcqq8yg7mBODjO+vN9Tu7KewsobMyKInmPkyWsStGrPlQZ0w05x3ZV29FGDUl14X1i31HWLOKxnvP7IlkivZrSJ5I4thYFi2PlX5GOTjgGrmpeBde0vwnpviSezkOn36M4ZInzAoYKplyoCh9wKnJ3A0Ac3RWwnhbW/7ctdGuNLvrW+ucFIZrSXfs5y+wKXKgKxO1T908HFXNU8FalpPjdvClxPaG8R0Ek6O3kRqyCQuzFQQiqdzHHAVj0FAHN0V0mo+B9Y0ZLeXVX02zgnSOVJG1GCQmJ2wJVSN2d075RW4BPajWfBGq6TqmmafB5eqz6nZJfWg05JJDJE24g7SitnCEkY4H40Ac3RWhFoWsTfbvK0q+k/s/P23bbufs2M58zj5MbW64+6fSti6+H3iS18OaRrg06ee11TPlJBBIzx/OqJvG3A8wsuzBO7IxQBy9FdBY+B/E99LGI9A1VYWlMTzmwmZIyGKtu2oT8pBBABIwRjPFU38O6r9o1OK3sLu6TTHZbuWG2kKwhS2WfKgoPlY/OFPByBg0AZdFaCaLf/AGO1v7i1ntdMuZREmoTQSeRnJB+YKc42tkLk/KeDirnifwvc+FriwiuLu0ukv7KO+gltS+1onJ2k71Ug/LnGO4oAw6KKKACiiigAooooAuaTqU2jazY6pbrG09lcR3EayAlSyMGAOCDjI9RXaH4i6dF4h1TUbTw15MOsWl5bakpvmaab7Q5csrldibTtCjyzwDncSCOL0nTZtZ1mx0u3aNZ724jt42kJChnYKCcAnGT6Guw1T4R+JtKSDzBaSTzPc4hDtGUit2Iknd5FVEi+6QzMMiRMDngAuD4oWdx4j8S65f6DPJda7aSWDpBfiNIrdkRAADExMgEY+bODn7oqS4+K8M3hifSY9Gu7edrK1soLuHUQrQrayPJbvjyslwWG4gjdjKhM8c/D8NfFsz3yf2ZHC9i8i3K3F5BCU8tUZ2+dxlAskZ3jK4dTnmqbeCfESaPb6tJp/l2M/lFZZJo02LKzLHJICwMcbFSA7gKfXkUAanhj4i6lo/iyx17WptS117BJRbQ3GoNhGkXYxyyvxtJ4GMkLzxg6HhD4nQ+ELS1tLfRJLiC21iXUo/MvAG2vbtAIyRHgkBt27AzjG0ZrPj+Fni2O4C32lSW0COftL+dBut4gX3SsrSKFTEUm1mKo23huRWX428Mf8Id4vvtA+2fbPsvl/v8AyvL3bo1f7uTjG7HXtQB0lr8URaeGNP0w6TJfXmmvbyWF3qNxHN9kaORZGEYWFXCPsClTIcKAAcDm5qPxT0fU7/Rbybw1fLJpGoT6hbhNWQBpJZxOwbMHKhhgAYOO5PNcvp3gi8vrPQZpbqC0bX7t7bTjMCUfYdrM5QErl2RFG05+YnaAC2xJ8I9aXUdQ0yLULGbU7G0kvGslgu1kljQ7SYt8AWTLcLtJBPQ0Abmj/GXTdDv7y8tfC928l3qcmpyCbVVdVldHUhAYMIMOeVw54BYrxXP2fxEtLLSdItB4djuZ9CuJptIluLt9sPmTJLmVUCmV1KkAgqvzcocVX1P4balpuqa3pH2y0utT0eyGoXMVvu2CEYL/ADuF+dVeNsAEEFvm3DacPRfD1xrcFw8DYkWWC1tkwP39zM+EiySNuVWVtx4/d4OCwoA7i++MBvdRnkbSp/sF1aX1pNaG5hGxLoqzmJkgXa25QSXEmee5JOP4p8dWfiLWNb1y306ex1PU4obbDTiVI4wu2VkYKrKzKkSY5BV5gfvAAu/hdrNjrWnWElzYzx30ssKTW9wi7nim8mWNFnMW+RWIwvG7PBIyRHpfga21G48U2L6ld22oaDb3dy0MlmjLIkBAwXWU7XLHGAGAxkMaANDxB8RdI8QeH7PR59A1IQWVva21vnWiVjWEkFxGIghldCyF2BxwQOCDcT4sWFveWtxb+HJx5OiDQnWa/jlD2oBwcGDb5m7aSWDKQCNnORyek+BPEOq3Firabd2VpevGkV/d2sy2+ZCBHl1Q8MzKAemWHbmtDVPhd4j069gt4VtL5JUuW+0W82yKP7O5Sfe0oTYEYAbmwp3DBOaANhvi7NMb03en3dy8l6NQtpjqBglSb7Mbf948CR7k24OE8s8YLHJrDi8ZadceENM0DWNA+3f2Z56Wk8d40OxZpEdyVCnMg2sFJO0bhlGxzXX4d+Kj/aZl0r7LHpkqw3c15cRW8cbnGBvkZVbOVPBPDKejDMb+DdQXwraa0kclwbu9SzhjtWhnVmdNyqSkpcS/9MzGMcZOTigDoNV+JsOs/EGHxRdadqXkQvbzppy6oPLE0JyhyYiNmC/y4zl3IYbiKsH4q2iC/WDQbuMXGpy6vERqzo0d1JHJG2XiRGMWHXCKVb5TlyGwM/RfhXrF743tfDGrT2mmXEySO+LqCeSIKm4ZjWTOTlcDg4JYZCnGPZ+AvEmoi6axsI7tLZ/LZ7e6hkWR/LMmyJlciVwgJKx7iO4oA6hvijptx4IHhe78O3bwPZW1pLPHqSiRvJcyAhmhZgCxPyEsqjhQvOef8Y+K9N8UW+krb6Td2U+m2UOnxvJfLMrwxhsZURKd5Ldc44+7Ve78BeJLG3NzcWEaW4eFTOLqFowswzFIXD4ETdBJnZkEbsggSePPBkvgfxHNpT30F7Gu3ZKjoHOUVjuiDs0f3sDdjdjI4oA5eiiigAooooAKKKKALmk6lNo2s2OqW6xtPZXEdxGsgJUsjBgDgg4yPUV3Efxh1lDG76Po0s8T3jQzsk6yQ/apDJLsZZQVOTgMPmA4B5OeDsLX7dqNtZ/aILfz5Ui864fZHHuIG527KM5J7CvQNX+ElxZ3kMVjqfnW5tLm/kvbqARwC0iCETo8Ty+Yrb+FA3jglQGBoALj4yandz3k1z4a8OTNfSpNdiS3mZbhkTYgkUy4ZVHIUgqG+YDdzVNPipqH/CJp4Zm0PRptLFvFbtCRcIHEbbwxCSqA5YlmZQCx65wALGm/D+2hv/Fug69FdxaxoemXGoJNa3SGBwiIUBQxkkNvDZ3A4IGAc1l3/wANfEGm+C4vFM6QfYXihnZAzb0ilJEbE7dhyQuVViy713AZoAku/iXqt34sv/EL2GmrPqNk1jf26pJ5VzEyhSGy+5ThU5Rl+4PU5x/Fvii58Y+IJdavbS0t7uZFWX7KHCuVG0MQzNg7QBxgcDjOSek8L/Dyz8RWbQS6hfW+rx6fLqrW1vZi4L24KrGgXejCZuWA5DJJGQRnmxa+AdHj1jxloN5dz3V9oOn3N9De2Vyghk8tV2xvGUJDAsQ2H4IK9s0Ac/p3je8sbPQYZbWC7bQLt7nThMSETedzK4Qgth1R1O4Y+YHcCAupP8U72VNTMPh3w/a3GpW91b3N1BBKJXW4bdISxlO47sEbgdvQYHFU2+HGsJ4Qt/FElzYrpkvlNJIHd/ISSRow7FVKnDL8yIWdcjKitC/+GU4liSxvrEKmiQ6xK73Esgkt2Yq8y/uEKqowxjIL4PG88AAp6n8SdS1LVNb1f7HaWup6xZDT7mW33bDCcB/kct87Kka5BAADfLuO4YaeIbi0g0RNPX7LJpUrXSPkPvuS4Pm4I4+VIV28j93nqxqPxHoF94W8QXmi6ksYu7Vwr+W25WBAZWB9CpB5weeQDxXWan8PdLh0XSb3SfEU+oXGtSyQ6XA+neSLl0nSEgsZTszv3DcBwvO04FAFe7+KGp32tadqVzpOlP8A2bLLc2lttmEcdxJN5zzcSbixcdCxQDotEPxKmt9R1e/i8M6Gt1q8U0N8+bo+akpzIMefhcn+7jHbFWG+D/iT+1orKGaxuI3iupTdQtIyL9nk8uZdmzzGYPtUBUO7cMZGcY7+DrjSPGl1oevfuodNzNqEtu4IECgNlGIwGcFVTdjLyIpwTigDL0rWjo/iW31u2sLQvbXH2iG2cyGJGByo+/vIU4IyxzgZzznsH+MviF9UfUTZ6b9qdJYTKFmD+RJy0IkEm8IH/eLhtyHhSq/LRd/C1rfRpNYW/u/7Pa3Wa2nmsVhWQyLamIM7S7EBa6ZS24hfIc84IGhpPwauYPHmkaH4lvI4rPUUuTHLaM6vI8IO5F3x5BBw25lCsvKsSRQBj6R8VtX0TW7vWLSwtGvLp1aR57q8kDBU2KrBpyHAGSN+4gscEAACn/wn7P4e/sOfw1octibv7c6bbiPfcbNhkxHMoXI/hUKg7KKsaD8LNb8T2t5daJdWN7awS+RHMhlVbiUReYVXdGCmBgbpAi7mABOajsfhve3tho16db0aCDWXSKw86SXdNMXZGj2rGWBRgAzEbPmXDHNAFy4+MHiSa80O5jhsYpNHlklgZlknd94w6vJM7yFSCRgMOo7qpWTRPjBqvh0bdK0Hw/aIHRgsNtJHkLHsCuVkBlHLN+8LncxOeBivN8Jtej1m10uO702ee9S6Fo0cjhZ5rZissI3ICHBU8sFQ9mqS1+EesajF5umaxoeoRvK9tbva3LsJ7hFkdoVJQYYLEWy+1CGQhiDQBn33xH1jUPDk2hy21itrLp9np7OiOHEds7PGQd2NxLHJxg9gKp+J/Gl94sCPqFlpqXZdZLi8ht9s9y6xrGC7EnA2r91Nq5JO3OMXJvhxrFr4ch1y5ubGG1aK2uZkZ3L21vcOyRTOApBUlDwhZxkZWpPiR4V0jwZrcei6feyXd3AgF4zuc7iiMDs8tQgO5sASScYyQeoBxdFFegaZ4F0fWPBujalZ6jfC+v8AxBBo8xmgRY4d8YZiqhiXwSMMWXI/hHWgDz+iu8+I3grTfCsWm3elz3bQXdxfWrRXTq7K1tOYt4ZVUYYYO3HHPJzxwdABRRRQBYsL640zUba/s5PLurWVJoX2g7XUgqcHg4IHWtwePfEi3FvKl/HEkFvLax20VrClv5UhJkQwKgjYMTk5U5IBPQY5+AwrcRNcRySQBwZEjcIzLnkBiCAcd8HHoa7D4jaLpGjXHhxtGs5LWC/0K2vZEkmMrGRy+SWOBnAHQKOOAKAKcHxD8T295qN4L6CS61LeLuaexgmeVWABjLOhPl4VRsHyjHAqnqXi7WNXsFsr+S0niRBHGzWMAkiQOXCJIE3ogJOFUgAfKABxXYeE/BHhXWfAB17WNQu9NdL2aymuWu4hFHtgMqOsRTfIc7U8tW3HkgjoLHiv4c6DpngNfEOnS6lHK1lYXojnnS4B+0FwUYJGpjC7QRI3yscqBmgDj7bx1rljqmqX9i9pbvqSGKeP7JFKgh6CFBIrbYguFCDjCqDnaMV9D8Xax4ct7mDS5LSJLlGjmMljBK0iMAGQs6ElDtHy5x7Vh0UAdhL8T/Fk9m1nLd2Mlq0UcDQvpVoUMcZJjQr5WNqkkgdBniq9z8Q/E91u8y+gXOnvph8qxgj/ANFfGYvlQYXgY/u84xk55eigDQ1vW9R8R6xPq2rXH2i+n2+ZLsVN21Qo4UADgAcCrlz4v1y60vS9Oe7jS30pw9j5FvFE8DdcrIih8k8k55IBOSM1h0UAdRP8RPFVzqKXsuq5kWKaHyxbxCFklJaUNEF8tt5OW3KckAnkDGXPr13Pb38TRWkZvniMz29ukHyxg4QLGFUISVZhjlo0bqKy6KANy38Ya/a2GnWEOpSLaabcR3VpCUUrFKju6uAR13SPnPXgHIVQNC6+JXi27uLG4k1ONZ7C4e5tpIbOCJo5HJLnKICQ5JLKchs/MDXJ0UAdRL8Q/E9xE0FzfQXNqfL2WtzYwSwReWpRfLiZCkeFJHyAZ75qTS/HmoW9x4eTUo47zTdCuFuLS1hiht2VlOQPMEZbBYAtnO7GTzhhydFAHcap8UdeufFp13TJvsPleb9kgeKGYWolbdJt/dhdzMTl9u8g4Zm5Jx9N8beItHiu4tO1D7LHdStOyRQxgRyMrIXiG39y212XMe04wOgGOfooA6BvG3iJ9Ht9Jk1DzLGDygsUkMb71iZmjjkJUmSNSxIRyVHpwKkvPGmoaz4gtdY1+K01Oe3fzMNawxeewA2iUogMiAqoKnqoKgrnNc3RQBJPM1zcSzuIw8jl2EcaooJOeFUAKPYAAdq6CDx54htdGi0m3ubSGzicSRrHp9urJKF2iUOE3CUD/lpnf3zmubooA6S68a6nq+s2Ooa8Y9SSyd5YrVoo4oC7MXJZFUKwZyC/GXGRuHBHPzzNc3Es7iMPI5dhHGqKCTnhVACj2AAHao6KACiiigCSCea1uIri3lkhnicPHJGxVkYHIII5BB5zWhqXiXXtZt1t9U1vUr6BXDrHdXTyqGwRkBiRnBIz7miigCP+3dY/sf8Asj+1b7+zP+fL7Q/k/e3fczt+9z0681YufFniS83favEGqz7ongPm3sjZjfG9OT91tq5HQ4GelFFAGPRRRQAUUUUAFFFFABRRRQAUUUUAFFFFABRRRQAUUUUAFFFFABRRRQAUUUUAf//Z'></td><td><img src='data:image/png;base64, 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'></td></tr></table>"
      ]
     },
     "metadata": {},
     "output_type": "display_data"
    }
   ],
   "execution_count": 91
  },
  {
   "metadata": {},
   "cell_type": "code",
   "outputs": [],
   "execution_count": null,
   "source": "",
   "id": "e436593915ab5191"
  },
  {
   "metadata": {
    "ExecuteTime": {
     "end_time": "2024-06-29T03:53:07.703611Z",
     "start_time": "2024-06-29T03:52:55.488584Z"
    }
   },
   "cell_type": "code",
   "source": [
    "# from selenium import webdriver\n",
    "# from selenium.webdriver.chrome.service import Service\n",
    "# from selenium.webdriver.chrome.options import Options\n",
    "# from webdriver_manager.chrome import ChromeDriverManager\n",
    "# import time\n",
    "# \n",
    "# from call_for_product_reviews import navigate_to_reviews\n",
    "# from call_for_single_product_review_selenium import navigate_to_reviews_selenium\n",
    "# \n",
    "# options = Options()\n",
    "# options.add_argument(\"--headless\")\n",
    "# options.add_argument(\"--disable-gpu\")\n",
    "# service = Service(ChromeDriverManager().install())\n",
    "# driver = webdriver.Chrome(service=service, options=options)\n",
    "# \n",
    "# print(recommendations)\n",
    "# \n",
    "# def get_recommendations(recommendations_list):\n",
    "#     for rec in recommendations_list:\n",
    "#         text, code = rec\n",
    "#         print(\"Getting review...\")\n",
    "#         \n",
    "#         # Measure time to get review without Selenium\n",
    "#         start_time = time.time()\n",
    "#         print(navigate_to_reviews(code))\n",
    "#         end_time = time.time()\n",
    "#         print(f\"Time taken to get review without Selenium: {end_time - start_time} seconds\")\n",
    "#         \n",
    "#         print(\"Getting review via Selenium...\")\n",
    "#         \n",
    "#         # Measure time to get review with Selenium\n",
    "#         start_time = time.time()\n",
    "#         print(navigate_to_reviews_selenium(code, driver))\n",
    "#         end_time = time.time()\n",
    "#         print(f\"Time taken to get review via Selenium: {end_time - start_time} seconds\")\n",
    "# \n",
    "# # Product known to have review for test\n",
    "# recommendation_tuple = (\"Recommended\", \"1VCE8\")\n",
    "# \n",
    "# # Adjusted to pass a single-element list matching the expected input\n",
    "# print(\"Selenium garnered review: \", get_recommendations([recommendation_tuple]))\n"
   ],
   "id": "a92b077fcc095fb2",
   "outputs": [
    {
     "name": "stdout",
     "output_type": "stream",
     "text": [
      "[('Rubber Boot: Cold-Insulated/Electrical Hazard (EH)/Oil-Resistant Sole/Plain Toe/Waterproof, 13, 1 PR', '21A652'), ('Rubber Boot: Cold-Insulated/Electrical Hazard (EH)/Oil-Resistant Sole/Plain Toe/Waterproof, 11, 1 PR', '21A650'), ('Rubber Boot: Cold-Insulated/Electrical Hazard (EH)/Oil-Resistant Sole/Plain Toe/Waterproof, 10, 1 PR', '21A649'), ('Rubber Boot: Cold-Insulated/Electrical Hazard (EH)/Oil-Resistant Sole/Plain Toe/Waterproof, 6, 1 PR', '21A645')]\n",
      "Getting review...\n",
      "Failed to retrieve content from https://www.zoro.com/search?q=1VCE8. Status code: 403\n",
      "Failed to retrieve search results for 1VCE8\n",
      "[]\n",
      "Time taken to get review without Selenium: 0.09256601333618164 seconds\n",
      "Getting review via Selenium...\n",
      "[{'Star Rating': 'Rated 4.0 out of 5 stars', 'Rating Text': '4.0', 'Review Text': 'thank you'}, {'Star Rating': 'Rated 4.0 out of 5 stars', 'Rating Text': '4.0', 'Review Text': None}, {'Star Rating': 'Rated 4.0 out of 5 stars', 'Rating Text': '4.0', 'Review Text': None}, {'Star Rating': 'Rated 4.0 out of 5 stars', 'Rating Text': '4.0', 'Review Text': 'this fan moves a lot of air has held up well so far'}, {'Star Rating': 'Rated 4.0 out of 5 stars', 'Rating Text': '4.0', 'Review Text': None}, {'Star Rating': 'Rated 4.0 out of 5 stars', 'Rating Text': '4.0', 'Review Text': None}]\n",
      "Time taken to get review via Selenium: 10.128302097320557 seconds\n",
      "Selenium garnered review:  None\n"
     ]
    }
   ],
   "execution_count": 141
  },
  {
   "metadata": {
    "ExecuteTime": {
     "end_time": "2024-06-29T03:35:41.795579Z",
     "start_time": "2024-06-29T03:35:39.179569Z"
    }
   },
   "cell_type": "code",
   "source": [
    "import asyncio\n",
    "from selenium import webdriver\n",
    "from selenium.webdriver.chrome.service import Service\n",
    "from selenium.webdriver.chrome.options import Options\n",
    "from webdriver_manager.chrome import ChromeDriverManager\n",
    "import pandas as pd  # Import pandas for DataFrame operations\n",
    "\n",
    "\n",
    "async def get_images(recommendations_list):\n",
    "    options = Options()\n",
    "    options.add_argument(\"--headless\")\n",
    "    options.add_argument(\"--disable-gpu\")\n",
    "    service = Service(ChromeDriverManager().install())\n",
    "    driver = webdriver.Chrome(service=service, options=options)\n",
    "\n",
    "    image_tasks = []\n",
    "    image_urls = []\n",
    "    total_image_time = 0.0\n",
    "\n",
    "    for text, code in recommendations_list:\n",
    "        start_time = time.time()\n",
    "        image_url = df.loc[df['Code'] == code, 'PictureUrl600'].iloc[0]\n",
    "        end_time = time.time()\n",
    "        total_image_time += end_time - start_time\n",
    "        image_urls.append((code, image_url))\n",
    "        print(f\"Fetched image URL for {code} in {end_time - start_time:.2f} seconds\")\n",
    "\n",
    "        # Add image fetching task\n",
    "        image_tasks.append(asyncio.create_task(fetch_image(code, image_url)))\n",
    "\n",
    "    # Gather all image tasks concurrently\n",
    "    image_results = await asyncio.gather(*image_tasks)\n",
    "\n",
    "    driver.quit()  # Close the webdriver instance\n",
    "\n",
    "    return image_urls, total_image_time\n",
    "\n",
    "async def fetch_image(code, image_url):\n",
    "    # Simulate fetching image (replace with actual fetching logic)\n",
    "    await asyncio.sleep(1)\n",
    "    return f\"Image URL for {code}: {image_url}\"\n",
    "\n",
    "# Run asyncio event loop with the async function for fetching images\n",
    "image_urls, total_image_time = await get_images(recommendations)\n",
    "\n",
    "# Print or process the image results as needed\n",
    "print(\"Image URLs:\", image_urls)\n",
    "print(\"Total Image Time:\", total_image_time)\n"
   ],
   "id": "93a04119cbbb3af3",
   "outputs": [
    {
     "name": "stdout",
     "output_type": "stream",
     "text": [
      "Fetched image URL for 21A652 in 0.00 seconds\n",
      "Fetched image URL for 21A650 in 0.00 seconds\n",
      "Fetched image URL for 21A649 in 0.00 seconds\n",
      "Fetched image URL for 21A645 in 0.00 seconds\n",
      "Image URLs: [('21A652', 'https://example.com/image1.jpg'), ('21A650', 'https://example.com/image2.jpg'), ('21A649', 'https://example.com/image3.jpg'), ('21A645', 'https://example.com/image4.jpg')]\n",
      "Total Image Time: 0.0037648677825927734\n"
     ]
    }
   ],
   "execution_count": 127
  },
  {
   "metadata": {},
   "cell_type": "code",
   "outputs": [],
   "execution_count": null,
   "source": "",
   "id": "97bf00d4e152e171"
  },
  {
   "metadata": {},
   "cell_type": "markdown",
   "source": [
    "## Enhance user experience with Chatbot\n",
    "\n",
    "#### Generating detailed overview based on customer reviews of products sister company Zoro when the same product is sold.\n",
    "LangChain's [ConversationBufferMemory](https://python.langchain.com/docs/use_cases/question_answering/chat_vector_db) class provides a way to capture conversational memory for LLM chat applications. We will have Claude being able to retrieve context through conversational memory using the prompt template. Note that this time our prompt template includes a {chat_history} variable where our chat history will be included to the prompt.\n",
    "\n",
    "The prompt template has both conversation memory as well as chat history as inputs along with the human input. Notice how the prompt also instructs Claude to not answer questions which it does not have the context for. This helps reduce hallucinations which is extremely important when creating end user facing applications which need to be factual.\n",
    "\n",
    "\n",
    "![Architecture](./images/chatbot_products.png)"
   ],
   "id": "07e0443f-487f-4c49-87c2-ab581be8535f"
  },
  {
   "metadata": {},
   "cell_type": "code",
   "outputs": [],
   "execution_count": null,
   "source": "",
   "id": "159b1435ab12f47"
  },
  {
   "metadata": {},
   "cell_type": "code",
   "outputs": [],
   "execution_count": null,
   "source": "",
   "id": "bd652f581c6c07e"
  },
  {
   "metadata": {
    "ExecuteTime": {
     "end_time": "2024-06-29T04:08:43.084532Z",
     "start_time": "2024-06-29T04:08:30.177981Z"
    }
   },
   "cell_type": "code",
   "source": [
    "import time\n",
    "from selenium.webdriver.chrome.service import Service\n",
    "from selenium.webdriver.chrome.options import Options\n",
    "from webdriver_manager.chrome import ChromeDriverManager\n",
    "from urllib.parse import urljoin\n",
    "from selenium import webdriver\n",
    "from bs4 import BeautifulSoup\n",
    "\n",
    "def extract_reviews(html_content):\n",
    "    if not html_content:\n",
    "        print(\"No HTML content to process.\")\n",
    "        return []\n",
    "\n",
    "    soup = BeautifulSoup(html_content, 'html.parser')\n",
    "    \n",
    "    # Extracting star rating\n",
    "    star_rating_container = soup.find('section', class_='pr-review-snapshot-block-snippet')\n",
    "    if star_rating_container:\n",
    "        star_rating = star_rating_container.find('div', class_='pr-snippet-stars')\n",
    "        star_rating_text = star_rating_container.find('div', class_='pr-snippet-rating-decimal').text.strip()\n",
    "        if star_rating:\n",
    "            star_rating_label = star_rating['aria-label']\n",
    "            print(f\"Star Rating: {star_rating_label}, {star_rating_text}\")\n",
    "        else:\n",
    "            print(\"Star Rating not found.\")\n",
    "    else:\n",
    "        print(\"Star Rating container not found.\")\n",
    "\n",
    "    # Extracting recommendation percentage\n",
    "    recommendation_section = soup.find('section', class_='pr-review-snapshot-block-recommend')\n",
    "    if recommendation_section:\n",
    "        recommendation_percent = recommendation_section.find('span', class_='pr-reco-value').text.strip()\n",
    "        print(f\"Recommendation Percentage: {recommendation_percent}\")\n",
    "    else:\n",
    "        print(\"Recommendation section not found.\")\n",
    "\n",
    "    # Extracting reviews\n",
    "    reviews = soup.find_all('section', class_='pr-rd-content-block')\n",
    "    reviews_data = []\n",
    "\n",
    "    for idx, review in enumerate(reviews, start=1):\n",
    "        print(f\"\\nProcessing review {idx}:\")\n",
    "        \n",
    "        # Extracting review text\n",
    "        review_text = review.find('p', class_='pr-rd-description-text')\n",
    "        if review_text:\n",
    "            print(\"Review Text:\", review_text.text.strip())\n",
    "        else:\n",
    "            print(\"Review Text not found.\")\n",
    "        \n",
    "        # Adding review data\n",
    "        reviews_data.append({\n",
    "            'Star Rating': star_rating_label if star_rating else None,\n",
    "            'Rating Text': star_rating_text if star_rating_text else None,\n",
    "            'Review Text': review_text.text.strip() if review_text else None\n",
    "        })\n",
    "\n",
    "    return reviews_data\n",
    "\n",
    "\n",
    "# Selenium setup\n",
    "options = Options()\n",
    "options.add_argument(\"--headless\")\n",
    "options.add_argument(\"--disable-gpu\")\n",
    "service = Service(ChromeDriverManager().install())\n",
    "driver = webdriver.Chrome(service=service, options=options)\n",
    "\n",
    "def get_page_soup(url):\n",
    "    print(f\"Getting page soup for URL: {url}\")\n",
    "    driver.get(url)\n",
    "    time.sleep(1)  # Wait for the page to load\n",
    "    html = driver.page_source\n",
    "    return BeautifulSoup(html, 'html.parser')\n",
    "\n",
    "def search_product(product_id):\n",
    "    print(f\"Searching for product ID: {product_id}\")\n",
    "    search_url = f'https://www.zoro.com/search?q={product_id}'\n",
    "    soup = get_page_soup(search_url)\n",
    "\n",
    "    # Find the specific product link using a precise CSS selector\n",
    "    for a in soup.select('a.product-card-image__link'):\n",
    "        print(f\"Checking link: {a['href']}\")\n",
    "        if product_id.lower() in a['href'].lower():\n",
    "            product_url = urljoin(search_url, a['href'])\n",
    "            print(f\"Found product URL: {product_url}\")\n",
    "            return product_url\n",
    "\n",
    "    print(\"Product URL not found.\")\n",
    "    return None\n",
    "\n",
    "def find_reviews_link(product_url):\n",
    "    print(f\"Finding reviews link on product URL: {product_url}\")\n",
    "    soup = get_page_soup(product_url)\n",
    "\n",
    "    # Find the reviews link using a precise CSS selector\n",
    "    for a in soup.select('a'):\n",
    "        print(f\"Checking link: {a['href']}\")\n",
    "        if 'reviews' in a['href']:\n",
    "            reviews_url = urljoin(product_url, a['href'])\n",
    "            print(f\"Found reviews URL: {reviews_url}\")\n",
    "            return reviews_url\n",
    "\n",
    "    print(\"Reviews URL not found.\")\n",
    "    return None\n",
    "\n",
    "def navigate_to_reviews(product_id):\n",
    "    start_time = time.time()\n",
    "    print(f\"Navigating to reviews for product ID: {product_id}\")\n",
    "    product_url = search_product(product_id)\n",
    "    if product_url:\n",
    "        reviews_url = find_reviews_link(product_url)\n",
    "        if reviews_url:\n",
    "            print(f\"Navigating to reviews URL: {reviews_url}\")\n",
    "            driver.get(reviews_url)\n",
    "            time.sleep(1)  # Wait for the reviews page to load\n",
    "            # Extract page source after page load\n",
    "            html_content = driver.page_source\n",
    "        \n",
    "            # Pass HTML content to extract_reviews function\n",
    "            reviews_data = extract_reviews(html_content)\n",
    "            \n",
    "            # Print extracted reviews data\n",
    "            print(\"\\nExtracted Reviews:\")\n",
    "            for review in reviews_data:\n",
    "                print(review)\n",
    "        else:\n",
    "            print(\"Reviews URL not found.\")\n",
    "    else:\n",
    "        print(\"Product URL not found.\")\n",
    "    end_time = time.time()  # Record the end time\n",
    "    total_time_taken = end_time - start_time  # Calculate the total time taken\n",
    "    print(f\"Total Time Taken: {total_time_taken:.2f} seconds\")  # Display the total time taken\n",
    "\n",
    "       \n",
    "\n",
    "product_id = '1VCE8'\n",
    "reviews_received = navigate_to_reviews(product_id)\n",
    "\n",
    "driver.quit()\n"
   ],
   "id": "fef15e65cb195ede",
   "outputs": [
    {
     "name": "stdout",
     "output_type": "stream",
     "text": [
      "Navigating to reviews for product ID: 1VCE8\n",
      "Searching for product ID: 1VCE8\n",
      "Getting page soup for URL: https://www.zoro.com/search?q=1VCE8\n",
      "Checking link: /dayton-standard-duty-industrial-fan-24-non-oscillating-115vac-38506200-cfm-1vce8/i/G1828802/\n",
      "Found product URL: https://www.zoro.com/dayton-standard-duty-industrial-fan-24-non-oscillating-115vac-38506200-cfm-1vce8/i/G1828802/\n",
      "Finding reviews link on product URL: https://www.zoro.com/dayton-standard-duty-industrial-fan-24-non-oscillating-115vac-38506200-cfm-1vce8/i/G1828802/\n",
      "Getting page soup for URL: https://www.zoro.com/dayton-standard-duty-industrial-fan-24-non-oscillating-115vac-38506200-cfm-1vce8/i/G1828802/\n",
      "Checking link: #main-content\n",
      "Checking link: /safety/c/z1/\n",
      "Checking link: /office-school-shipping-supplies/c/z9/\n",
      "Checking link: /heating-cooling/c/30/\n",
      "Checking link: /tools-machining/c/z2/\n",
      "Checking link: /abrasives-polishers/c/1/\n",
      "Checking link: /adhesives-tapes/c/4/\n",
      "Checking link: /electrical-supplies/c/23/\n",
      "Checking link: /electronics/c/15050/\n",
      "Checking link: /fasteners/c/9/\n",
      "Checking link: /food-service-restaurant-supplies/c/67/\n",
      "Checking link: /furniture-linens-decor/c/530/\n",
      "Checking link: /grounds-outdoor/c/21/\n",
      "Checking link: /hardware-building-materials/c/27/\n",
      "Checking link: /heating-cooling/c/30/\n",
      "Checking link: /janitorial-cleaning-supplies/c/25/\n",
      "Checking link: /lab-equipment-supplies/c/z50/\n",
      "Checking link: /lighting/c/22/\n",
      "Checking link: /material-handling/c/z4/\n",
      "Checking link: /medical-personal-care/c/76/\n",
      "Checking link: /office-school-shipping-supplies/c/z9/\n",
      "Checking link: /paint-coatings-supplies/c/26/\n",
      "Checking link: /plumbing/c/z3/\n",
      "Checking link: /power-transmission/c/z8/\n",
      "Checking link: /pumps/c/39/\n",
      "Checking link: /raw-materials/c/37/\n",
      "Checking link: /safety/c/z1/\n",
      "Checking link: /storage-workspace/c/15/\n",
      "Checking link: /test-instruments-gauges/c/24/\n",
      "Checking link: /tools-machining/c/z2/\n",
      "Checking link: /vehicle-maintenance/c/z10/\n",
      "Checking link: /welding-soldering-brazing/c/6/\n",
      "Checking link: /about/\n",
      "Checking link: /coupons-promo-codes/\n",
      "Checking link: /contact/\n",
      "Checking link: /\n",
      "Checking link: /\n",
      "Checking link: /customer-service\n",
      "Checking link: /cart\n",
      "Checking link: /\n",
      "Checking link: /heating-cooling/c/30/\n",
      "Checking link: /fans/c/4583/\n",
      "Checking link: /air-circulators/c/4961/\n",
      "Checking link: /dayton-standard-duty-industrial-fan-24-non-oscillating-115vac-38506200-cfm-1vce8/i/G1828802/\n",
      "Checking link: /air-circulators/c/4961/\n",
      "Checking link: /b/DAYTON/\n",
      "Checking link: /dayton-standard-duty-industrial-fan-24-non-oscillating-115vac-38506200-cfm-1vce8/i/G1828802/#reviews\n",
      "Found reviews URL: https://www.zoro.com/dayton-standard-duty-industrial-fan-24-non-oscillating-115vac-38506200-cfm-1vce8/i/G1828802/#reviews\n",
      "Navigating to reviews URL: https://www.zoro.com/dayton-standard-duty-industrial-fan-24-non-oscillating-115vac-38506200-cfm-1vce8/i/G1828802/#reviews\n",
      "Star Rating: Rated 4.0 out of 5 stars, 4.0\n",
      "Recommendation Percentage: 100%\n",
      "\n",
      "Processing review 1:\n",
      "Review Text: thank you\n",
      "\n",
      "Processing review 2:\n",
      "Review Text not found.\n",
      "\n",
      "Processing review 3:\n",
      "Review Text not found.\n",
      "\n",
      "Processing review 4:\n",
      "Review Text: this fan moves a lot of air has held up well so far\n",
      "\n",
      "Processing review 5:\n",
      "Review Text not found.\n",
      "\n",
      "Processing review 6:\n",
      "Review Text not found.\n",
      "\n",
      "Extracted Reviews:\n",
      "{'Star Rating': 'Rated 4.0 out of 5 stars', 'Rating Text': '4.0', 'Review Text': 'thank you'}\n",
      "{'Star Rating': 'Rated 4.0 out of 5 stars', 'Rating Text': '4.0', 'Review Text': None}\n",
      "{'Star Rating': 'Rated 4.0 out of 5 stars', 'Rating Text': '4.0', 'Review Text': None}\n",
      "{'Star Rating': 'Rated 4.0 out of 5 stars', 'Rating Text': '4.0', 'Review Text': 'this fan moves a lot of air has held up well so far'}\n",
      "{'Star Rating': 'Rated 4.0 out of 5 stars', 'Rating Text': '4.0', 'Review Text': None}\n",
      "{'Star Rating': 'Rated 4.0 out of 5 stars', 'Rating Text': '4.0', 'Review Text': None}\n",
      "Total Time Taken: 11.23 seconds\n"
     ]
    }
   ],
   "execution_count": 149
  },
  {
   "metadata": {
    "ExecuteTime": {
     "end_time": "2024-06-29T03:59:19.008436Z",
     "start_time": "2024-06-29T03:59:14.308598Z"
    }
   },
   "cell_type": "code",
   "source": [
    "# chat_prompt1 = \"Show me specific reviews that talk about the quality of the fabric for the jacket.\"\n",
    "# chat_prompt2 = \"What do people like about the business formal jacket?\"\n",
    "# \n",
    "# from langchain.chains import ConversationalRetrievalChain\n",
    "# from langchain.memory import ConversationBufferMemory\n",
    "# from langchain.chains.conversational_retrieval.prompts import CONDENSE_QUESTION_PROMPT\n",
    "# \n",
    "# chat_history = [\" \"]\n",
    "# memory_chain = ConversationBufferMemory(memory_key=\"chat_history\", return_messages=True)\n",
    "# conversation = ConversationalRetrievalChain.from_llm(\n",
    "#     llm=llm, \n",
    "#     retriever=vectorstore_faiss.as_retriever(), \n",
    "#     memory=memory_chain,\n",
    "#     condense_question_prompt=CONDENSE_QUESTION_PROMPT,\n",
    "#     #verbose=True, \n",
    "#     chain_type='stuff', # 'refine',\n",
    "#     #max_tokens_limit=300\n",
    "# )\n",
    "# \n",
    "# # Generate detailed reviews based on customer reviews of specific clothing in product catalog\n",
    "# \n",
    "# try:\n",
    "#     chat_res1 = conversation.run({'question': chat_prompt1, 'chat_history': chat_history })\n",
    "#     print_ww(chat_res1)\n",
    "#     chat_history.append([chat_prompt1, chat_res1])\n",
    "# except ValueError as error:\n",
    "#     if  \"AccessDeniedException\" in str(error):\n",
    "#         class StopExecution(ValueError):\n",
    "#             def _render_traceback_(self):\n",
    "#                 pass\n",
    "#         raise StopExecution        \n",
    "#     else:\n",
    "#         raise error"
   ],
   "id": "255e05cd-da0e-4649-95e9-59e2cc9358dc",
   "outputs": [
    {
     "name": "stdout",
     "output_type": "stream",
     "text": [
      " Unfortunately I do not have any specific reviews that talk about the quality of the fabric for\n",
      "these jackets. The provided context does not contain any reviews or comments about the fabric\n",
      "quality. I would need to be provided reviews or customer feedback that mention the fabric quality in\n",
      "order to pick out ones that specifically discuss that aspect. Without any such reviews, I cannot\n",
      "provide examples talking about the fabric quality.\n"
     ]
    }
   ],
   "execution_count": 144
  },
  {
   "metadata": {
    "ExecuteTime": {
     "end_time": "2024-06-29T04:14:59.435022Z",
     "start_time": "2024-06-29T04:14:59.428101Z"
    }
   },
   "cell_type": "code",
   "source": [
    "\n",
    "from langchain.chains import ConversationalRetrievalChain\n",
    "from langchain.memory import ConversationBufferMemory\n",
    "from langchain.chains.conversational_retrieval.prompts import CONDENSE_QUESTION_PROMPT\n",
    "\n",
    "chat_history = [\" \"]\n",
    "memory_chain = ConversationBufferMemory(memory_key=\"chat_history\", return_messages=True)\n",
    "conversation = ConversationalRetrievalChain.from_llm(\n",
    "    llm=llm, \n",
    "    retriever=vectorstore_faiss_doc.as_retriever(), \n",
    "    memory=memory_chain,\n",
    "    condense_question_prompt=CONDENSE_QUESTION_PROMPT,\n",
    "    #verbose=True, \n",
    "    chain_type='stuff', # 'refine',\n",
    "    #max_tokens_limit=300\n",
    ")"
   ],
   "id": "41ec5c10f5adc53b",
   "outputs": [],
   "execution_count": 151
  },
  {
   "cell_type": "code",
   "id": "28cf8288-acbf-464e-b202-174755e7568d",
   "metadata": {
    "ExecuteTime": {
     "end_time": "2024-06-29T04:23:06.983993Z",
     "start_time": "2024-06-29T04:22:56.799205Z"
    }
   },
   "source": [
    "chat_prompt2 = \"What do people like about those product?\"\n",
    "try:\n",
    "    print(\"Chat History: \" , chat_history, \"\\n\")\n",
    "    chat_res2 = conversation.run({'question': chat_prompt2 + \"Do Not Answer if embeddings does not return anything.\", 'chat_history': chat_history }) # + \" Answer even if embeddings does not return anything.\"\n",
    "    # print_ww(chat_res2)\n",
    "    chat_history.append([chat_prompt2, chat_res2])\n",
    "except ValueError as error:\n",
    "    if  \"AccessDeniedException\" in str(error):\n",
    "        class StopExecution(ValueError):\n",
    "            def _render_traceback_(self):\n",
    "                pass\n",
    "        raise StopExecution        \n",
    "    else:\n",
    "        raise error"
   ],
   "outputs": [
    {
     "name": "stdout",
     "output_type": "stream",
     "text": [
      "Chat History:  [' ', ['What do people like about those product?', \" Based on the product descriptions, some key benefits of these ERGODYNE cooling vests seem to be:\\n\\n- They use cold pack inserts to provide cooling, allowing them to cool the body to a consistent temperature regardless of ambient heat. This makes them useful in extreme heat conditions.\\n\\n- They cool better than evaporative vests in high humidity environments. \\n\\n- They are good for use with full protective suits that don't allow air circulation.\\n\\n- They have adjustable cooling levels based on how many cold pack inserts are used.\\n\\n- The vests have a liner that keeps heat out and traps cool air in.\\n\\n- They provide up to 2 hours of cooling per use.\\n\\n- They come in different sizes to fit different body types.\\n\\n- The vests have a zipper closure for easy on/off. \\n\\n- The fabric is a cotton/polyester blend.\"], ['What do people like about those product?', \" Based on the product descriptions, some key benefits and features of the ERGODYNE cooling vests seem to be:\\n\\n- They use cold pack inserts that are charged in a freezer or cooler before use to provide cooling. This allows them to cool the body to a consistent temperature regardless of ambient heat.\\n\\n- They are effective for use in extreme heat conditions, as they cool better than evaporative vests in high humidity environments. \\n\\n- They are a good option when wearing full protective suits that don't allow air circulation, unlike evaporative vests which require airflow.\\n\\n- They come in multiple sizes to fit different body types. \\n\\n- They have a liner that helps keep heat out and trap cool air in.\\n\\n- The inserts are removable so you can adjust the weight and cooling level of the vest.\\n\\n- They provide up to 2 hours of cooling before inserts need to be recharged.\\n\\n- They have a zippered design for easy on/off.\"], ['What do people like about those product?', \" Based on the product descriptions, some key features and benefits of the ERGODYNE cooling vests seem to be:\\n\\n- They use cold pack inserts that are charged in a freezer or cooler before use to provide cooling. This allows them to cool the body to a consistent temperature regardless of ambient heat. \\n\\n- They are effective for use in extreme heat conditions, as they cool better than evaporative vests in high humidity environments.\\n\\n- They are a good option when wearing full protective suits that don't allow air circulation, unlike evaporative vests which require airflow. \\n\\n- They come in different sizes to fit various body types - S/M, M, L/XL, and XL.\\n\\n- They provide up to 2 hours of cooling effect.\\n\\n- They have a zipper and adjustable fasteners for ease of putting on and taking off. \\n\\n- The vests are made of a cotton/polyester material.\\n\\n- They use a liner to trap cool air close to the body and keep heat out.\"], ['What do people like about those product?', \" Based on the product descriptions, some key features and benefits of the ERGODYNE cooling vests seem to be:\\n\\n- They use cold pack inserts that are charged in a freezer or cooler before use to provide cooling. This allows them to cool the body to a consistent temperature regardless of ambient heat. \\n\\n- They are effective for use in extreme heat conditions, as they cool better than evaporative vests in high humidity environments.\\n\\n- They are a good option when wearing full protective suits that don't allow air circulation, unlike evaporative vests which require airflow.\\n\\n- They come in different sizes to fit a range of body types - S/M, M, L/XL, and XL.\\n\\n- They are made of a cotton/polyester material with a liner that keeps heat out and cool air in. \\n\\n- They provide up to 2 hours of cooling before inserts need to be recharged.\\n\\n- They have a zippered design for putting inserts in and taking them out.\\n\\nSo in summary, key benefits seem to be consistent cooling in any environment, effectiveness in high heat/humidity, and ability to use with protective suits - thanks to the cold pack inserts and special design.\"], ['What do people like about those product?', \" Based on the product descriptions, some key features and benefits of the ERGODYNE cooling vests seem to be:\\n\\n- They use cold pack inserts that are charged in a freezer or cooler before use to provide cooling. This allows them to cool the body to a consistent temperature regardless of ambient heat. \\n\\n- They are effective for use in extreme heat conditions, as they cool better than evaporative vests in high humidity environments.\\n\\n- They are a good option when wearing full protective suits that don't allow air circulation, unlike evaporative vests which require airflow.\\n\\n- They come in different sizes to fit a range of body types - S/M, M, L/XL, and XL.\\n\\n- They are made of a cotton/polyester material with a liner that keeps heat out and cool air in. \\n\\n- The vests have zippers and pockets to hold the cold pack inserts.\\n\\n- They provide up to 2 hours of cooling before inserts need to be recharged.\"], ['What do people like about those product?', ' Based on the product descriptions provided, some key features and benefits that seem to appeal to customers include:\\n\\n- The use of cold pack inserts that can be charged in a freezer/cooler to provide consistent cooling regardless of ambient temperature. This allows the vests to cool the body effectively even in extreme heat.\\n\\n- Better cooling performance compared to evaporative vests in high humidity environments. \\n\\n- Compatibility with full protective suits since air circulation is not required for cooling like with evaporative vests.\\n\\n- Available in different sizes and colors to suit individual needs. \\n\\n- Long cooling duration of 2-3 hours from the cold pack inserts.\\n\\n- Convenient zippered design for easy on/off. \\n\\n- Lightweight cotton construction and option to use fewer inserts to reduce weight.\\n\\n- Inner liner that traps cool air and keeps heat out.']] \n",
      "\n"
     ]
    }
   ],
   "execution_count": 159
  },
  {
   "cell_type": "markdown",
   "id": "18c0a1cb-72aa-4d26-bc17-d5846a1e4188",
   "metadata": {},
   "source": [
    "#### Customer order history semantic searches\n",
    "\n",
    "Generating size and color recommendations based on customer's order history. This will help to provide curated content to the customer"
   ]
  },
  {
   "cell_type": "code",
   "id": "45f4710f-c185-4356-a850-f2c051cf1837",
   "metadata": {
    "ExecuteTime": {
     "end_time": "2024-06-29T04:25:37.039587Z",
     "start_time": "2024-06-29T04:25:37.021199Z"
    }
   },
   "source": [
    "chat_prompt3 = \"What size and color should I wear?\"\n",
    "chat_res3 = wrapper_store_faiss.query(question= chat_prompt3 + \" based on order history for customer with id \" + customer_id, llm=llm)\n",
    "print_ww(chat_res3)"
   ],
   "outputs": [
    {
     "ename": "NameError",
     "evalue": "name 'wrapper_store_faiss' is not defined",
     "output_type": "error",
     "traceback": [
      "\u001B[0;31m---------------------------------------------------------------------------\u001B[0m",
      "\u001B[0;31mNameError\u001B[0m                                 Traceback (most recent call last)",
      "Cell \u001B[0;32mIn[160], line 2\u001B[0m\n\u001B[1;32m      1\u001B[0m chat_prompt3 \u001B[38;5;241m=\u001B[39m \u001B[38;5;124m\"\u001B[39m\u001B[38;5;124mWhat size and color should I wear?\u001B[39m\u001B[38;5;124m\"\u001B[39m\n\u001B[0;32m----> 2\u001B[0m chat_res3 \u001B[38;5;241m=\u001B[39m \u001B[43mwrapper_store_faiss\u001B[49m\u001B[38;5;241m.\u001B[39mquery(question\u001B[38;5;241m=\u001B[39m chat_prompt3 \u001B[38;5;241m+\u001B[39m \u001B[38;5;124m\"\u001B[39m\u001B[38;5;124m based on order history for customer with id \u001B[39m\u001B[38;5;124m\"\u001B[39m \u001B[38;5;241m+\u001B[39m customer_id, llm\u001B[38;5;241m=\u001B[39mllm)\n\u001B[1;32m      3\u001B[0m print_ww(chat_res3)\n",
      "\u001B[0;31mNameError\u001B[0m: name 'wrapper_store_faiss' is not defined"
     ]
    }
   ],
   "execution_count": 160
  },
  {
   "cell_type": "markdown",
   "id": "13b358e8-fa6b-4cbf-b05b-ea985dcfa260",
   "metadata": {},
   "source": [
    "## Showing final products based on customer style selection \n",
    "\n",
    "Continuing on our architectural pattern we will change the prompt template and leverage the LLM to generate the `recommended` products based on the user selection and weather and other details. The key extraction entities will be \n",
    "\n",
    "1. Leverage the customer initial prompt to generate the relevant ids\n",
    "2. Extract the relevant products from the vector store\n",
    "3. Physical ID for the products needed\n",
    "\n",
    "\n",
    "\n",
    "![Architecture](./images/other_products.png)"
   ]
  },
  {
   "cell_type": "code",
   "id": "2bd18a21-5519-4543-8d8f-98ddab109b78",
   "metadata": {
    "ExecuteTime": {
     "end_time": "2024-06-29T01:34:23.688561Z",
     "start_time": "2024-06-29T01:34:11.449307Z"
    }
   },
   "source": [
    "from PIL import Image\n",
    "import requests\n",
    "\n",
    "prompt_template2 = \"\"\"Human: Extract list of products and their respective physical IDs from catalog that matches the style given below. \n",
    "The catalog of products is provided under <catalog></catalog> tags below.\n",
    "<catalog>\n",
    "{context}\n",
    "</catalog>\n",
    "Style: {question}\n",
    "\n",
    "The output should be a JSON of the form <products>[{{\"product\": <description of the product from the catalog>, \"physical_id\":<physical id of the product from the catalog>}}, ...]</products>\n",
    "Skip the preamble.\n",
    "Assistant: \"\"\"\n",
    "\n",
    "PROMPT2 = PromptTemplate(\n",
    "    template=prompt_template2, input_variables=[\"context\", \"question\"]\n",
    ")\n",
    "qa2 = RetrievalQA.from_chain_type(\n",
    "    llm=llm,\n",
    "    chain_type=\"stuff\",\n",
    "    retriever=vectorstore_faiss.as_retriever(\n",
    "        search_type=\"similarity\", search_kwargs={\"k\": 10}\n",
    "    ),\n",
    "    chain_type_kwargs={\"prompt\": PROMPT2},\n",
    "    return_source_documents=True,\n",
    ")\n",
    "\n",
    "selected_style = recommendations[3]\n",
    "print(selected_style)\n",
    "cart_items = qa2({\"query\": selected_style })['result']\n",
    "print_ww(cart_items)"
   ],
   "outputs": [
    {
     "name": "stdout",
     "output_type": "stream",
     "text": [
      "Plain toe boots without a steel toe for maximum comfort and flexibility.\n",
      " <products>\n",
      "[\n",
      "  {\"product\": \"Rubber Boot: Cold-Insulated/Electrical Hazard (EH)/Oil-Resistant Sole/Plain\n",
      "Toe/Waterproof, 6, 1 PR These half rubber-dipped neoprene boots are flexible and form-fitting for a\n",
      "snug, secure fit. They have a waterproof rubber coating that covers the bottom half of the outside\n",
      "of the boot. Knee-height boots protect the foot, lower leg, and calf to just below the knee. These\n",
      "insulated boots are worn when users are exposed to cold, wet conditions and below-freezing\n",
      "temperatures.\", \"physical_id\": \"21A645\"},\n",
      "  {\"product\": \"Rubber Boot: Cold-Insulated/Electrical Hazard (EH)/Oil-Resistant Sole/Plain\n",
      "Toe/Waterproof, 13, 1 PR These half rubber-dipped neoprene boots are flexible and form-fitting for a\n",
      "snug, secure fit. They have a waterproof rubber coating that covers the bottom half of the outside\n",
      "of the boot. Knee-height boots protect the foot, lower leg, and calf to just below the knee. These\n",
      "insulated boots are worn when users are exposed to cold, wet conditions and below-freezing\n",
      "temperatures.\", \"physical_id\": \"21A652\"},\n",
      "  {\"product\": \"Rubber Boot: Cold-Insulated/Electrical Hazard (EH)/Oil-Resistant Sole/Plain\n",
      "Toe/Waterproof, 10, 1 PR These half rubber-dipped neoprene boots are flexible and form-fitting for a\n",
      "snug, secure fit. They have a waterproof rubber coating that covers the bottom half of the outside\n",
      "of the boot. Knee-height boots protect the foot, lower leg, and calf to just below the knee. These\n",
      "insulated boots are worn when users are exposed to cold, wet conditions and below-freezing\n",
      "temperatures.\", \"physical_id\": \"21A649\"},\n",
      "  {\"product\": \"Rubber Boot: Cold-Insulated/Electrical Hazard (EH)/Oil-Resistant Sole/Plain\n",
      "Toe/Waterproof, 11, 1 PR These half rubber-dipped neoprene boots are flexible and form-fitting for a\n",
      "snug, secure fit. They have a waterproof rubber coating that covers the bottom half of the outside\n",
      "of the boot. Knee-height boots protect the foot, lower leg, and calf to just below the knee. These\n",
      "insulated boots are worn when users are exposed to cold, wet conditions and below-freezing\n",
      "temperatures.\", \"physical_id\": \"21A650\"}\n",
      "]\n",
      "</products>\n"
     ]
    }
   ],
   "execution_count": 54
  },
  {
   "cell_type": "code",
   "id": "e2343e50",
   "metadata": {
    "ExecuteTime": {
     "end_time": "2024-06-29T01:34:29.547026Z",
     "start_time": "2024-06-29T01:34:29.541465Z"
    }
   },
   "source": [
    "products = json.loads(re.findall('<products>(.*?)</products>', cart_items, re.DOTALL)[0])\n",
    "products"
   ],
   "outputs": [
    {
     "data": {
      "text/plain": [
       "[{'product': 'Rubber Boot: Cold-Insulated/Electrical Hazard (EH)/Oil-Resistant Sole/Plain Toe/Waterproof, 6, 1 PR These half rubber-dipped neoprene boots are flexible and form-fitting for a snug, secure fit. They have a waterproof rubber coating that covers the bottom half of the outside of the boot. Knee-height boots protect the foot, lower leg, and calf to just below the knee. These insulated boots are worn when users are exposed to cold, wet conditions and below-freezing temperatures.',\n",
       "  'physical_id': '21A645'},\n",
       " {'product': 'Rubber Boot: Cold-Insulated/Electrical Hazard (EH)/Oil-Resistant Sole/Plain Toe/Waterproof, 13, 1 PR These half rubber-dipped neoprene boots are flexible and form-fitting for a snug, secure fit. They have a waterproof rubber coating that covers the bottom half of the outside of the boot. Knee-height boots protect the foot, lower leg, and calf to just below the knee. These insulated boots are worn when users are exposed to cold, wet conditions and below-freezing temperatures.',\n",
       "  'physical_id': '21A652'},\n",
       " {'product': 'Rubber Boot: Cold-Insulated/Electrical Hazard (EH)/Oil-Resistant Sole/Plain Toe/Waterproof, 10, 1 PR These half rubber-dipped neoprene boots are flexible and form-fitting for a snug, secure fit. They have a waterproof rubber coating that covers the bottom half of the outside of the boot. Knee-height boots protect the foot, lower leg, and calf to just below the knee. These insulated boots are worn when users are exposed to cold, wet conditions and below-freezing temperatures.',\n",
       "  'physical_id': '21A649'},\n",
       " {'product': 'Rubber Boot: Cold-Insulated/Electrical Hazard (EH)/Oil-Resistant Sole/Plain Toe/Waterproof, 11, 1 PR These half rubber-dipped neoprene boots are flexible and form-fitting for a snug, secure fit. They have a waterproof rubber coating that covers the bottom half of the outside of the boot. Knee-height boots protect the foot, lower leg, and calf to just below the knee. These insulated boots are worn when users are exposed to cold, wet conditions and below-freezing temperatures.',\n",
       "  'physical_id': '21A650'}]"
      ]
     },
     "execution_count": 55,
     "metadata": {},
     "output_type": "execute_result"
    }
   ],
   "execution_count": 55
  },
  {
   "cell_type": "code",
   "id": "793cd743-d2d6-4084-8113-68aa2fba8759",
   "metadata": {
    "ExecuteTime": {
     "end_time": "2024-06-29T01:34:39.325635Z",
     "start_time": "2024-06-29T01:34:39.318543Z"
    }
   },
   "source": [
    "from PIL import Image\n",
    "from IPython import display\n",
    "import requests\n",
    "import urllib.parse\n",
    "\n",
    "cart_item_strip = \"\"\n",
    "for product in products:\n",
    "    url = \"https://sagemaker-example-files-prod-us-east-1.s3.us-east-1.amazonaws.com/datasets/image/howser-bedrock/data/aistylist/images/products/\" + urllib.parse.quote(product['physical_id'].strip(), safe='', encoding=None, errors=None) + \".jpg\"\n",
    "    # im = Image.open(requests.get(url, stream=True).raw)\n",
    "    cart_item_strip += \"<td><img src='\"+ url + \"'></td>\"\n",
    "display.display(display.HTML(\"<table><tr>\" + cart_item_strip +\"</tr></table>\"))"
   ],
   "outputs": [
    {
     "data": {
      "text/plain": [
       "<IPython.core.display.HTML object>"
      ],
      "text/html": [
       "<table><tr><td><img src='https://sagemaker-example-files-prod-us-east-1.s3.us-east-1.amazonaws.com/datasets/image/howser-bedrock/data/aistylist/images/products/21A645.jpg'></td><td><img src='https://sagemaker-example-files-prod-us-east-1.s3.us-east-1.amazonaws.com/datasets/image/howser-bedrock/data/aistylist/images/products/21A652.jpg'></td><td><img src='https://sagemaker-example-files-prod-us-east-1.s3.us-east-1.amazonaws.com/datasets/image/howser-bedrock/data/aistylist/images/products/21A649.jpg'></td><td><img src='https://sagemaker-example-files-prod-us-east-1.s3.us-east-1.amazonaws.com/datasets/image/howser-bedrock/data/aistylist/images/products/21A650.jpg'></td></tr></table>"
      ]
     },
     "metadata": {},
     "output_type": "display_data"
    }
   ],
   "execution_count": 56
  },
  {
   "cell_type": "markdown",
   "id": "4a073284-c491-4265-82a5-c48db9ea7a93",
   "metadata": {},
   "source": [
    "## Integrating DIY Agents to associate external APIs and databases\n",
    "### Using ReAct: Synergizing Reasoning and Acting in Language Models Framework\n",
    "Large language models can generate both explanations for their reasoning and task-specific responses in an alternating fashion. \n",
    "\n",
    "Producing reasoning explanations enables the model to infer, monitor, and revise action plans, and even handle unexpected scenarios. The action step allows the model to interface with and obtain information from external sources such as knowledge bases or environments.\n",
    "\n",
    "The ReAct framework could enable large language models to interact with external tools to obtain additional information that results in more accurate and fact-based responses. Here we will leverage the user prompt and perform the following actions\n",
    "1. Extract the city \n",
    "2. Get weather information\n",
    "3. Search our product catalog using semantic search to find relevant products\n",
    "4. Display the products for user to add to cart\n",
    "\n",
    "![Architecture](./images/weather.png)"
   ]
  },
  {
   "cell_type": "code",
   "id": "f33d6499-8a26-446f-9c6d-b518dc7edcfd",
   "metadata": {},
   "source": [
    "import os\n",
    "import python_weather\n",
    "\n",
    "async def getweather(city):\n",
    "  # declare the client. the measuring unit used defaults to the metric system (celcius, km/h, etc.)\n",
    "  async with python_weather.Client(unit=python_weather.IMPERIAL) as client:\n",
    "    # fetch a weather forecast from a city\n",
    "    weather = await client.get(city)\n",
    "    \n",
    "    # returns the current day's forecast temperature (int)\n",
    "    return weather.current"
   ],
   "outputs": [],
   "execution_count": null
  },
  {
   "cell_type": "markdown",
   "id": "122aacf9-84e2-4aba-968a-6a07f6f98966",
   "metadata": {},
   "source": [
    "## Accessory recommendations \n",
    "\n",
    "We will provide  accessory recommendations based on location provided in customer input"
   ]
  },
  {
   "cell_type": "code",
   "id": "004c8b61",
   "metadata": {},
   "source": [
    "await getweather(entity_extraction_result[2])"
   ],
   "outputs": [],
   "execution_count": null
  },
  {
   "cell_type": "code",
   "id": "204770ed-f303-4ee0-a258-21f87596e7a6",
   "metadata": {},
   "source": [
    "import asyncio\n",
    "accessory_response = None\n",
    "if attributes[\"location\"]:\n",
    "    current_weather = await getweather(entity_extraction_result[2])\n",
    "    accessory_input = \"Suggest list of accessories based on the weather and the selected style. It is \" + current_weather.description + \" with temperature at \" + str(current_weather.temperature) +\" degrees fahrenheit.\\n Selected Style: \" + recommendations[0]\n",
    "    accessory_response = qa({\"query\": accessory_input})['result']\n",
    "    print_ww(accessory_response)"
   ],
   "outputs": [],
   "execution_count": null
  },
  {
   "cell_type": "code",
   "id": "ad2eae6f",
   "metadata": {},
   "source": [
    "if accessory_response:\n",
    "    accessories = re.findall('<style>(.*?)</style>', accessory_response)\n",
    "    accessories_items = qa2({\"query\": ', '.join(accessories)})['result']\n",
    "    accessories_items = json.loads(re.findall('<products>(.*?)</products>', accessories_items, re.DOTALL)[0])\n",
    "    accessory_strip = \"\"\n",
    "    for accessory in accessories_items:\n",
    "        url = \"https://sagemaker-example-files-prod-us-east-1.s3.us-east-1.amazonaws.com/datasets/image/howser-bedrock/data/aistylist/images/products/\" + urllib.parse.quote(accessory['physical_id'].strip(), safe='', encoding=None, errors=None) + \".jpg\"\n",
    "        accessory_strip += \"<td><img src='\"+ url + \"'></td>\"\n",
    "    display.display(display.HTML(\"<table><tr>\" + accessory_strip +\"</tr></table>\"))"
   ],
   "outputs": [],
   "execution_count": null
  },
  {
   "cell_type": "markdown",
   "id": "c4e689c0-8862-41a1-8867-e2bb10c2f64f",
   "metadata": {},
   "source": [
    "## Simulate the order check out\n",
    "\n",
    "Add a customer data table to complete the order transaction. This information provides the shipping address for the outfit order."
   ]
  },
  {
   "cell_type": "code",
   "id": "e79f2e20-0c64-44fa-ab3b-8d2401a00c4f",
   "metadata": {},
   "source": [
    "customer_table=[{\"id\": 1, \"first_name\": \"John\", \"last_name\": \"Doe\", \"age\": 35, \"address\": \"123 Bedrock st, California 90210\"},\n",
    "  {\"id\": 2, \"first_name\": \"Jane\", \"last_name\": \"Smith\", \"age\": 27, \"address\": \"234 Sagemaker drive, Texas 12345\"},\n",
    "  {\"id\": 3, \"first_name\": \"Bob\", \"last_name\": \"Jones\", \"age\": 42, \"address\": \"111 DeepRacer ct, Virginia 55555\"},\n",
    "  {\"id\": 4, \"first_name\": \"Sara\", \"last_name\": \"Miller\", \"age\": 29, \"address\": \"222 Robomaker ave, New Yotk 13579\"},\n",
    "  {\"id\": 5, \"first_name\": \"Mark\", \"last_name\": \"Davis\", \"age\": 31, \"address\": \"444 Transcribe blvd, Florida 02468\"},\n",
    "  {\"id\": 6, \"first_name\": \"Laura\", \"last_name\": \"Wilson\", \"age\": 24, \"address\": \"555 CodeGuru st, California 98765\" },\n",
    "  {\"id\": 7, \"first_name\": \"Steve\", \"last_name\": \"Moore\", \"age\": 36, \"address\": \"456 DeepLens st, Texas 11223\"},\n",
    "  {\"id\": 8, \"first_name\": \"Michelle\", \"last_name\": \"Chen\", \"age\": 22, \"address\": \"642 DeepCompose st, Colorado 33215\"},\n",
    "  {\"id\": 9, \"first_name\": \"David\", \"last_name\": \"Lee\", \"age\": 29, \"address\": \"777 S3 st, California 99567\"},\n",
    "  {\"id\": 10, \"first_name\": \"Jessica\", \"last_name\": \"Brown\", \"age\": 18, \"address\": \"909 Ec st, Utah 43210\"}]\n",
    "\n",
    "def address_lookup(id):\n",
    "    for customer in customer_table:\n",
    "        if customer[\"id\"] == int(id):\n",
    "            return customer\n",
    "        \n",
    "    return None\n",
    "\n",
    "print(address_lookup(customer_id)[\"address\"])"
   ],
   "outputs": [],
   "execution_count": null
  },
  {
   "cell_type": "code",
   "id": "c22dcfd0",
   "metadata": {},
   "source": [],
   "outputs": [],
   "execution_count": null
  }
 ],
 "metadata": {
  "kernelspec": {
   "display_name": "Python 3 (ipykernel)",
   "language": "python",
   "name": "python3"
  },
  "language_info": {
   "codemirror_mode": {
    "name": "ipython",
    "version": 3
   },
   "file_extension": ".py",
   "mimetype": "text/x-python",
   "name": "python",
   "nbconvert_exporter": "python",
   "pygments_lexer": "ipython3",
   "version": "3.10.14"
  }
 },
 "nbformat": 4,
 "nbformat_minor": 5
}
