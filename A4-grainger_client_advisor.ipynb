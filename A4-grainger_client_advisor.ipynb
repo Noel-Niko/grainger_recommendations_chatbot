{
 "cells": [
  {
   "cell_type": "code",
   "id": "68cd7228-5049-4f1e-ac7e-04696aaea0bf",
   "metadata": {
    "ExecuteTime": {
     "end_time": "2024-06-29T00:07:14.331925Z",
     "start_time": "2024-06-29T00:06:52.222350Z"
    }
   },
   "source": [
    "!pip install -r requirements.txt"
   ],
   "outputs": [
    {
     "name": "stdout",
     "output_type": "stream",
     "text": [
      "Collecting pandas<2.0.0 (from -r requirements.txt (line 1))\r\n",
      "  Using cached pandas-1.5.3-cp310-cp310-macosx_10_9_x86_64.whl.metadata (11 kB)\r\n",
      "Requirement already satisfied: openai>=1.0.0 in /opt/anaconda3/envs/python-web-crawler-2/lib/python3.10/site-packages (from -r requirements.txt (line 2)) (1.35.3)\r\n",
      "Requirement already satisfied: streamlit~=1.36.0 in /opt/anaconda3/envs/python-web-crawler-2/lib/python3.10/site-packages (from -r requirements.txt (line 3)) (1.36.0)\r\n",
      "Requirement already satisfied: scipy~=1.13.1 in /opt/anaconda3/envs/python-web-crawler-2/lib/python3.10/site-packages (from -r requirements.txt (line 4)) (1.13.1)\r\n",
      "Collecting langchain~=0.2.5 (from -r requirements.txt (line 5))\r\n",
      "  Using cached langchain-0.2.6-py3-none-any.whl.metadata (7.0 kB)\r\n",
      "Requirement already satisfied: selenium~=4.22.0 in /opt/anaconda3/envs/python-web-crawler-2/lib/python3.10/site-packages (from -r requirements.txt (line 6)) (4.22.0)\r\n",
      "Requirement already satisfied: webdriver-manager in /opt/anaconda3/envs/python-web-crawler-2/lib/python3.10/site-packages (from -r requirements.txt (line 7)) (4.0.1)\r\n",
      "Requirement already satisfied: requests in /opt/anaconda3/envs/python-web-crawler-2/lib/python3.10/site-packages (from -r requirements.txt (line 8)) (2.32.3)\r\n",
      "Requirement already satisfied: beautifulsoup4~=4.12.3 in /opt/anaconda3/envs/python-web-crawler-2/lib/python3.10/site-packages (from -r requirements.txt (line 9)) (4.12.3)\r\n",
      "Requirement already satisfied: pyarrow in /opt/anaconda3/envs/python-web-crawler-2/lib/python3.10/site-packages (from -r requirements.txt (line 10)) (16.1.0)\r\n",
      "Requirement already satisfied: boto3 in /opt/anaconda3/envs/python-web-crawler-2/lib/python3.10/site-packages (from -r requirements.txt (line 11)) (1.34.136)\r\n",
      "Requirement already satisfied: botocore in /opt/anaconda3/envs/python-web-crawler-2/lib/python3.10/site-packages (from -r requirements.txt (line 12)) (1.34.136)\r\n",
      "Requirement already satisfied: langchain-community in /opt/anaconda3/envs/python-web-crawler-2/lib/python3.10/site-packages (from -r requirements.txt (line 13)) (0.2.6)\r\n",
      "Requirement already satisfied: sagemaker in /opt/anaconda3/envs/python-web-crawler-2/lib/python3.10/site-packages (from -r requirements.txt (line 14)) (2.75.1)\r\n",
      "Requirement already satisfied: python-dateutil>=2.8.1 in /opt/anaconda3/envs/python-web-crawler-2/lib/python3.10/site-packages (from pandas<2.0.0->-r requirements.txt (line 1)) (2.9.0.post0)\r\n",
      "Requirement already satisfied: pytz>=2020.1 in /opt/anaconda3/envs/python-web-crawler-2/lib/python3.10/site-packages (from pandas<2.0.0->-r requirements.txt (line 1)) (2024.1)\r\n",
      "Requirement already satisfied: numpy>=1.21.0 in /opt/anaconda3/envs/python-web-crawler-2/lib/python3.10/site-packages (from pandas<2.0.0->-r requirements.txt (line 1)) (1.26.4)\r\n",
      "Requirement already satisfied: anyio<5,>=3.5.0 in /opt/anaconda3/envs/python-web-crawler-2/lib/python3.10/site-packages (from openai>=1.0.0->-r requirements.txt (line 2)) (3.7.1)\r\n",
      "Requirement already satisfied: distro<2,>=1.7.0 in /opt/anaconda3/envs/python-web-crawler-2/lib/python3.10/site-packages (from openai>=1.0.0->-r requirements.txt (line 2)) (1.9.0)\r\n",
      "Requirement already satisfied: httpx<1,>=0.23.0 in /opt/anaconda3/envs/python-web-crawler-2/lib/python3.10/site-packages (from openai>=1.0.0->-r requirements.txt (line 2)) (0.27.0)\r\n",
      "Requirement already satisfied: pydantic<3,>=1.9.0 in /opt/anaconda3/envs/python-web-crawler-2/lib/python3.10/site-packages (from openai>=1.0.0->-r requirements.txt (line 2)) (2.7.4)\r\n",
      "Requirement already satisfied: sniffio in /opt/anaconda3/envs/python-web-crawler-2/lib/python3.10/site-packages (from openai>=1.0.0->-r requirements.txt (line 2)) (1.3.1)\r\n",
      "Requirement already satisfied: tqdm>4 in /opt/anaconda3/envs/python-web-crawler-2/lib/python3.10/site-packages (from openai>=1.0.0->-r requirements.txt (line 2)) (4.66.4)\r\n",
      "Requirement already satisfied: typing-extensions<5,>=4.7 in /opt/anaconda3/envs/python-web-crawler-2/lib/python3.10/site-packages (from openai>=1.0.0->-r requirements.txt (line 2)) (4.12.2)\r\n",
      "Requirement already satisfied: altair<6,>=4.0 in /opt/anaconda3/envs/python-web-crawler-2/lib/python3.10/site-packages (from streamlit~=1.36.0->-r requirements.txt (line 3)) (5.3.0)\r\n",
      "Requirement already satisfied: blinker<2,>=1.0.0 in /opt/anaconda3/envs/python-web-crawler-2/lib/python3.10/site-packages (from streamlit~=1.36.0->-r requirements.txt (line 3)) (1.8.2)\r\n",
      "Requirement already satisfied: cachetools<6,>=4.0 in /opt/anaconda3/envs/python-web-crawler-2/lib/python3.10/site-packages (from streamlit~=1.36.0->-r requirements.txt (line 3)) (5.3.3)\r\n",
      "Requirement already satisfied: click<9,>=7.0 in /opt/anaconda3/envs/python-web-crawler-2/lib/python3.10/site-packages (from streamlit~=1.36.0->-r requirements.txt (line 3)) (8.1.7)\r\n",
      "Requirement already satisfied: packaging<25,>=20 in /opt/anaconda3/envs/python-web-crawler-2/lib/python3.10/site-packages (from streamlit~=1.36.0->-r requirements.txt (line 3)) (24.1)\r\n",
      "Requirement already satisfied: pillow<11,>=7.1.0 in /opt/anaconda3/envs/python-web-crawler-2/lib/python3.10/site-packages (from streamlit~=1.36.0->-r requirements.txt (line 3)) (9.5.0)\r\n",
      "Requirement already satisfied: protobuf<6,>=3.20 in /opt/anaconda3/envs/python-web-crawler-2/lib/python3.10/site-packages (from streamlit~=1.36.0->-r requirements.txt (line 3)) (4.25.3)\r\n",
      "Requirement already satisfied: rich<14,>=10.14.0 in /opt/anaconda3/envs/python-web-crawler-2/lib/python3.10/site-packages (from streamlit~=1.36.0->-r requirements.txt (line 3)) (13.7.1)\r\n",
      "Requirement already satisfied: tenacity<9,>=8.1.0 in /opt/anaconda3/envs/python-web-crawler-2/lib/python3.10/site-packages (from streamlit~=1.36.0->-r requirements.txt (line 3)) (8.4.2)\r\n",
      "Requirement already satisfied: toml<2,>=0.10.1 in /opt/anaconda3/envs/python-web-crawler-2/lib/python3.10/site-packages (from streamlit~=1.36.0->-r requirements.txt (line 3)) (0.10.2)\r\n",
      "Requirement already satisfied: gitpython!=3.1.19,<4,>=3.0.7 in /opt/anaconda3/envs/python-web-crawler-2/lib/python3.10/site-packages (from streamlit~=1.36.0->-r requirements.txt (line 3)) (3.1.43)\r\n",
      "Requirement already satisfied: pydeck<1,>=0.8.0b4 in /opt/anaconda3/envs/python-web-crawler-2/lib/python3.10/site-packages (from streamlit~=1.36.0->-r requirements.txt (line 3)) (0.8.0b4)\r\n",
      "Requirement already satisfied: tornado<7,>=6.0.3 in /opt/anaconda3/envs/python-web-crawler-2/lib/python3.10/site-packages (from streamlit~=1.36.0->-r requirements.txt (line 3)) (6.4.1)\r\n",
      "Requirement already satisfied: PyYAML>=5.3 in /opt/anaconda3/envs/python-web-crawler-2/lib/python3.10/site-packages (from langchain~=0.2.5->-r requirements.txt (line 5)) (6.0.1)\r\n",
      "Requirement already satisfied: SQLAlchemy<3,>=1.4 in /opt/anaconda3/envs/python-web-crawler-2/lib/python3.10/site-packages (from langchain~=0.2.5->-r requirements.txt (line 5)) (2.0.31)\r\n",
      "Requirement already satisfied: aiohttp<4.0.0,>=3.8.3 in /opt/anaconda3/envs/python-web-crawler-2/lib/python3.10/site-packages (from langchain~=0.2.5->-r requirements.txt (line 5)) (3.9.5)\r\n",
      "Requirement already satisfied: async-timeout<5.0.0,>=4.0.0 in /opt/anaconda3/envs/python-web-crawler-2/lib/python3.10/site-packages (from langchain~=0.2.5->-r requirements.txt (line 5)) (4.0.3)\r\n",
      "Requirement already satisfied: langchain-core<0.3.0,>=0.2.10 in /opt/anaconda3/envs/python-web-crawler-2/lib/python3.10/site-packages (from langchain~=0.2.5->-r requirements.txt (line 5)) (0.2.10)\r\n",
      "Requirement already satisfied: langchain-text-splitters<0.3.0,>=0.2.0 in /opt/anaconda3/envs/python-web-crawler-2/lib/python3.10/site-packages (from langchain~=0.2.5->-r requirements.txt (line 5)) (0.2.1)\r\n",
      "Collecting langsmith<0.2.0,>=0.1.17 (from langchain~=0.2.5->-r requirements.txt (line 5))\r\n",
      "  Downloading langsmith-0.1.82-py3-none-any.whl.metadata (13 kB)\r\n",
      "Requirement already satisfied: urllib3<3,>=1.26 in /opt/anaconda3/envs/python-web-crawler-2/lib/python3.10/site-packages (from urllib3[socks]<3,>=1.26->selenium~=4.22.0->-r requirements.txt (line 6)) (2.2.2)\r\n",
      "Requirement already satisfied: trio~=0.17 in /opt/anaconda3/envs/python-web-crawler-2/lib/python3.10/site-packages (from selenium~=4.22.0->-r requirements.txt (line 6)) (0.25.1)\r\n",
      "Requirement already satisfied: trio-websocket~=0.9 in /opt/anaconda3/envs/python-web-crawler-2/lib/python3.10/site-packages (from selenium~=4.22.0->-r requirements.txt (line 6)) (0.11.1)\r\n",
      "Requirement already satisfied: certifi>=2021.10.8 in /opt/anaconda3/envs/python-web-crawler-2/lib/python3.10/site-packages (from selenium~=4.22.0->-r requirements.txt (line 6)) (2024.6.2)\r\n",
      "Requirement already satisfied: python-dotenv in /opt/anaconda3/envs/python-web-crawler-2/lib/python3.10/site-packages (from webdriver-manager->-r requirements.txt (line 7)) (1.0.1)\r\n",
      "Requirement already satisfied: charset-normalizer<4,>=2 in /opt/anaconda3/envs/python-web-crawler-2/lib/python3.10/site-packages (from requests->-r requirements.txt (line 8)) (3.3.2)\r\n",
      "Requirement already satisfied: idna<4,>=2.5 in /opt/anaconda3/envs/python-web-crawler-2/lib/python3.10/site-packages (from requests->-r requirements.txt (line 8)) (3.7)\r\n",
      "Requirement already satisfied: soupsieve>1.2 in /opt/anaconda3/envs/python-web-crawler-2/lib/python3.10/site-packages (from beautifulsoup4~=4.12.3->-r requirements.txt (line 9)) (2.5)\r\n",
      "Requirement already satisfied: jmespath<2.0.0,>=0.7.1 in /opt/anaconda3/envs/python-web-crawler-2/lib/python3.10/site-packages (from boto3->-r requirements.txt (line 11)) (1.0.1)\r\n",
      "Requirement already satisfied: s3transfer<0.11.0,>=0.10.0 in /opt/anaconda3/envs/python-web-crawler-2/lib/python3.10/site-packages (from boto3->-r requirements.txt (line 11)) (0.10.2)\r\n",
      "Requirement already satisfied: dataclasses-json<0.7,>=0.5.7 in /opt/anaconda3/envs/python-web-crawler-2/lib/python3.10/site-packages (from langchain-community->-r requirements.txt (line 13)) (0.6.7)\r\n",
      "Requirement already satisfied: attrs in /opt/anaconda3/envs/python-web-crawler-2/lib/python3.10/site-packages (from sagemaker->-r requirements.txt (line 14)) (23.2.0)\r\n",
      "Requirement already satisfied: google-pasta in /opt/anaconda3/envs/python-web-crawler-2/lib/python3.10/site-packages (from sagemaker->-r requirements.txt (line 14)) (0.2.0)\r\n",
      "Requirement already satisfied: protobuf3-to-dict>=0.1.5 in /opt/anaconda3/envs/python-web-crawler-2/lib/python3.10/site-packages (from sagemaker->-r requirements.txt (line 14)) (0.1.5)\r\n",
      "Requirement already satisfied: smdebug-rulesconfig==1.0.1 in /opt/anaconda3/envs/python-web-crawler-2/lib/python3.10/site-packages (from sagemaker->-r requirements.txt (line 14)) (1.0.1)\r\n",
      "Requirement already satisfied: importlib-metadata>=1.4.0 in /opt/anaconda3/envs/python-web-crawler-2/lib/python3.10/site-packages (from sagemaker->-r requirements.txt (line 14)) (7.2.0)\r\n",
      "Requirement already satisfied: pathos in /opt/anaconda3/envs/python-web-crawler-2/lib/python3.10/site-packages (from sagemaker->-r requirements.txt (line 14)) (0.3.2)\r\n",
      "Requirement already satisfied: aiosignal>=1.1.2 in /opt/anaconda3/envs/python-web-crawler-2/lib/python3.10/site-packages (from aiohttp<4.0.0,>=3.8.3->langchain~=0.2.5->-r requirements.txt (line 5)) (1.3.1)\r\n",
      "Requirement already satisfied: frozenlist>=1.1.1 in /opt/anaconda3/envs/python-web-crawler-2/lib/python3.10/site-packages (from aiohttp<4.0.0,>=3.8.3->langchain~=0.2.5->-r requirements.txt (line 5)) (1.4.1)\r\n",
      "Requirement already satisfied: multidict<7.0,>=4.5 in /opt/anaconda3/envs/python-web-crawler-2/lib/python3.10/site-packages (from aiohttp<4.0.0,>=3.8.3->langchain~=0.2.5->-r requirements.txt (line 5)) (6.0.5)\r\n",
      "Requirement already satisfied: yarl<2.0,>=1.0 in /opt/anaconda3/envs/python-web-crawler-2/lib/python3.10/site-packages (from aiohttp<4.0.0,>=3.8.3->langchain~=0.2.5->-r requirements.txt (line 5)) (1.9.4)\r\n",
      "Requirement already satisfied: jinja2 in /opt/anaconda3/envs/python-web-crawler-2/lib/python3.10/site-packages (from altair<6,>=4.0->streamlit~=1.36.0->-r requirements.txt (line 3)) (3.1.4)\r\n",
      "Requirement already satisfied: jsonschema>=3.0 in /opt/anaconda3/envs/python-web-crawler-2/lib/python3.10/site-packages (from altair<6,>=4.0->streamlit~=1.36.0->-r requirements.txt (line 3)) (4.22.0)\r\n",
      "Requirement already satisfied: toolz in /opt/anaconda3/envs/python-web-crawler-2/lib/python3.10/site-packages (from altair<6,>=4.0->streamlit~=1.36.0->-r requirements.txt (line 3)) (0.12.1)\r\n",
      "Requirement already satisfied: exceptiongroup in /opt/anaconda3/envs/python-web-crawler-2/lib/python3.10/site-packages (from anyio<5,>=3.5.0->openai>=1.0.0->-r requirements.txt (line 2)) (1.2.1)\r\n",
      "Requirement already satisfied: marshmallow<4.0.0,>=3.18.0 in /opt/anaconda3/envs/python-web-crawler-2/lib/python3.10/site-packages (from dataclasses-json<0.7,>=0.5.7->langchain-community->-r requirements.txt (line 13)) (3.21.3)\r\n",
      "Requirement already satisfied: typing-inspect<1,>=0.4.0 in /opt/anaconda3/envs/python-web-crawler-2/lib/python3.10/site-packages (from dataclasses-json<0.7,>=0.5.7->langchain-community->-r requirements.txt (line 13)) (0.9.0)\r\n",
      "Requirement already satisfied: gitdb<5,>=4.0.1 in /opt/anaconda3/envs/python-web-crawler-2/lib/python3.10/site-packages (from gitpython!=3.1.19,<4,>=3.0.7->streamlit~=1.36.0->-r requirements.txt (line 3)) (4.0.11)\r\n",
      "Requirement already satisfied: httpcore==1.* in /opt/anaconda3/envs/python-web-crawler-2/lib/python3.10/site-packages (from httpx<1,>=0.23.0->openai>=1.0.0->-r requirements.txt (line 2)) (1.0.5)\r\n",
      "Requirement already satisfied: h11<0.15,>=0.13 in /opt/anaconda3/envs/python-web-crawler-2/lib/python3.10/site-packages (from httpcore==1.*->httpx<1,>=0.23.0->openai>=1.0.0->-r requirements.txt (line 2)) (0.14.0)\r\n",
      "Requirement already satisfied: zipp>=0.5 in /opt/anaconda3/envs/python-web-crawler-2/lib/python3.10/site-packages (from importlib-metadata>=1.4.0->sagemaker->-r requirements.txt (line 14)) (3.19.2)\r\n",
      "Requirement already satisfied: jsonpatch<2.0,>=1.33 in /opt/anaconda3/envs/python-web-crawler-2/lib/python3.10/site-packages (from langchain-core<0.3.0,>=0.2.10->langchain~=0.2.5->-r requirements.txt (line 5)) (1.33)\r\n",
      "Requirement already satisfied: orjson<4.0.0,>=3.9.14 in /opt/anaconda3/envs/python-web-crawler-2/lib/python3.10/site-packages (from langsmith<0.2.0,>=0.1.17->langchain~=0.2.5->-r requirements.txt (line 5)) (3.10.4)\r\n",
      "Requirement already satisfied: six in /opt/anaconda3/envs/python-web-crawler-2/lib/python3.10/site-packages (from protobuf3-to-dict>=0.1.5->sagemaker->-r requirements.txt (line 14)) (1.16.0)\r\n",
      "Requirement already satisfied: annotated-types>=0.4.0 in /opt/anaconda3/envs/python-web-crawler-2/lib/python3.10/site-packages (from pydantic<3,>=1.9.0->openai>=1.0.0->-r requirements.txt (line 2)) (0.7.0)\r\n",
      "Requirement already satisfied: pydantic-core==2.18.4 in /opt/anaconda3/envs/python-web-crawler-2/lib/python3.10/site-packages (from pydantic<3,>=1.9.0->openai>=1.0.0->-r requirements.txt (line 2)) (2.18.4)\r\n",
      "Requirement already satisfied: markdown-it-py>=2.2.0 in /opt/anaconda3/envs/python-web-crawler-2/lib/python3.10/site-packages (from rich<14,>=10.14.0->streamlit~=1.36.0->-r requirements.txt (line 3)) (3.0.0)\r\n",
      "Requirement already satisfied: pygments<3.0.0,>=2.13.0 in /opt/anaconda3/envs/python-web-crawler-2/lib/python3.10/site-packages (from rich<14,>=10.14.0->streamlit~=1.36.0->-r requirements.txt (line 3)) (2.18.0)\r\n",
      "Requirement already satisfied: greenlet!=0.4.17 in /opt/anaconda3/envs/python-web-crawler-2/lib/python3.10/site-packages (from SQLAlchemy<3,>=1.4->langchain~=0.2.5->-r requirements.txt (line 5)) (3.0.3)\r\n",
      "Requirement already satisfied: sortedcontainers in /opt/anaconda3/envs/python-web-crawler-2/lib/python3.10/site-packages (from trio~=0.17->selenium~=4.22.0->-r requirements.txt (line 6)) (2.4.0)\r\n",
      "Requirement already satisfied: outcome in /opt/anaconda3/envs/python-web-crawler-2/lib/python3.10/site-packages (from trio~=0.17->selenium~=4.22.0->-r requirements.txt (line 6)) (1.3.0.post0)\r\n",
      "Requirement already satisfied: wsproto>=0.14 in /opt/anaconda3/envs/python-web-crawler-2/lib/python3.10/site-packages (from trio-websocket~=0.9->selenium~=4.22.0->-r requirements.txt (line 6)) (1.2.0)\r\n",
      "Requirement already satisfied: pysocks!=1.5.7,<2.0,>=1.5.6 in /opt/anaconda3/envs/python-web-crawler-2/lib/python3.10/site-packages (from urllib3[socks]<3,>=1.26->selenium~=4.22.0->-r requirements.txt (line 6)) (1.7.1)\r\n",
      "Requirement already satisfied: ppft>=1.7.6.8 in /opt/anaconda3/envs/python-web-crawler-2/lib/python3.10/site-packages (from pathos->sagemaker->-r requirements.txt (line 14)) (1.7.6.8)\r\n",
      "Requirement already satisfied: dill>=0.3.8 in /opt/anaconda3/envs/python-web-crawler-2/lib/python3.10/site-packages (from pathos->sagemaker->-r requirements.txt (line 14)) (0.3.8)\r\n",
      "Requirement already satisfied: pox>=0.3.4 in /opt/anaconda3/envs/python-web-crawler-2/lib/python3.10/site-packages (from pathos->sagemaker->-r requirements.txt (line 14)) (0.3.4)\r\n",
      "Requirement already satisfied: multiprocess>=0.70.16 in /opt/anaconda3/envs/python-web-crawler-2/lib/python3.10/site-packages (from pathos->sagemaker->-r requirements.txt (line 14)) (0.70.16)\r\n",
      "Requirement already satisfied: smmap<6,>=3.0.1 in /opt/anaconda3/envs/python-web-crawler-2/lib/python3.10/site-packages (from gitdb<5,>=4.0.1->gitpython!=3.1.19,<4,>=3.0.7->streamlit~=1.36.0->-r requirements.txt (line 3)) (5.0.0)\r\n",
      "Requirement already satisfied: MarkupSafe>=2.0 in /opt/anaconda3/envs/python-web-crawler-2/lib/python3.10/site-packages (from jinja2->altair<6,>=4.0->streamlit~=1.36.0->-r requirements.txt (line 3)) (2.1.5)\r\n",
      "Requirement already satisfied: jsonpointer>=1.9 in /opt/anaconda3/envs/python-web-crawler-2/lib/python3.10/site-packages (from jsonpatch<2.0,>=1.33->langchain-core<0.3.0,>=0.2.10->langchain~=0.2.5->-r requirements.txt (line 5)) (3.0.0)\r\n",
      "Requirement already satisfied: jsonschema-specifications>=2023.03.6 in /opt/anaconda3/envs/python-web-crawler-2/lib/python3.10/site-packages (from jsonschema>=3.0->altair<6,>=4.0->streamlit~=1.36.0->-r requirements.txt (line 3)) (2023.12.1)\r\n",
      "Requirement already satisfied: referencing>=0.28.4 in /opt/anaconda3/envs/python-web-crawler-2/lib/python3.10/site-packages (from jsonschema>=3.0->altair<6,>=4.0->streamlit~=1.36.0->-r requirements.txt (line 3)) (0.35.1)\r\n",
      "Requirement already satisfied: rpds-py>=0.7.1 in /opt/anaconda3/envs/python-web-crawler-2/lib/python3.10/site-packages (from jsonschema>=3.0->altair<6,>=4.0->streamlit~=1.36.0->-r requirements.txt (line 3)) (0.18.1)\r\n",
      "Requirement already satisfied: mdurl~=0.1 in /opt/anaconda3/envs/python-web-crawler-2/lib/python3.10/site-packages (from markdown-it-py>=2.2.0->rich<14,>=10.14.0->streamlit~=1.36.0->-r requirements.txt (line 3)) (0.1.2)\r\n",
      "Requirement already satisfied: mypy-extensions>=0.3.0 in /opt/anaconda3/envs/python-web-crawler-2/lib/python3.10/site-packages (from typing-inspect<1,>=0.4.0->dataclasses-json<0.7,>=0.5.7->langchain-community->-r requirements.txt (line 13)) (1.0.0)\r\n",
      "Using cached pandas-1.5.3-cp310-cp310-macosx_10_9_x86_64.whl (12.0 MB)\r\n",
      "Using cached langchain-0.2.6-py3-none-any.whl (975 kB)\r\n",
      "Downloading langsmith-0.1.82-py3-none-any.whl (127 kB)\r\n",
      "\u001B[2K   \u001B[90m━━━━━━━━━━━━━━━━━━━━━━━━━━━━━━━━━━━━━━━\u001B[0m \u001B[32m127.4/127.4 kB\u001B[0m \u001B[31m225.2 kB/s\u001B[0m eta \u001B[36m0:00:00\u001B[0ma \u001B[36m0:00:01\u001B[0m\r\n",
      "\u001B[?25hInstalling collected packages: pandas, langsmith, langchain\r\n",
      "  Attempting uninstall: pandas\r\n",
      "    Found existing installation: pandas 2.2.2\r\n",
      "    Uninstalling pandas-2.2.2:\r\n",
      "      Successfully uninstalled pandas-2.2.2\r\n",
      "  Attempting uninstall: langsmith\r\n",
      "    Found existing installation: langsmith 0.0.92\r\n",
      "    Uninstalling langsmith-0.0.92:\r\n",
      "      Successfully uninstalled langsmith-0.0.92\r\n",
      "  Attempting uninstall: langchain\r\n",
      "    Found existing installation: langchain 0.0.309\r\n",
      "    Uninstalling langchain-0.0.309:\r\n",
      "      Successfully uninstalled langchain-0.0.309\r\n",
      "Successfully installed langchain-0.2.5 langsmith-0.1.82 pandas-1.5.3\r\n"
     ]
    }
   ],
   "execution_count": 12
  },
  {
   "cell_type": "markdown",
   "id": "873f657c",
   "metadata": {},
   "source": [
    "### <font color='red'>Setup</font> \n",
    "---\n",
    "<font color='red'>⚠️ ⚠️ ⚠️</font> \n",
    "Before running this notebook, ensure you've run the [Set-Up Bedrock notebook](./set-up_bedrock.ipynb) notebook. <font color='red'>⚠️ ⚠️ ⚠️</font>\n",
    "\n",
    "---"
   ]
  },
  {
   "cell_type": "markdown",
   "id": "f06fbee0-9db9-4a9f-8792-b71a670d82f8",
   "metadata": {},
   "source": [
    "## Configure Bedrock\n",
    "\n",
    "Create the necessary clients to invoke Bedrock models. If you need to pass in a certain role then set those values by uncommenting the section below.\n",
    "\n",
    "First we instantiate using Anthropic Claude V2 for text generation, and Titan Embeddings G1 - Text for text embeddings.\n",
    "\n",
    "Note: Many different models are available with Bedrock. Replace the `model_id` to change the model.\n",
    "\n",
    "`llm = Bedrock(model_id=\"anthropic.claude-v2\")`\n",
    "\n",
    "Information on available model IDs [here](https://docs.aws.amazon.com/bedrock/latest/userguide/model-ids-arns.html)"
   ]
  },
  {
   "cell_type": "code",
   "id": "5f5873db",
   "metadata": {
    "ExecuteTime": {
     "end_time": "2024-06-29T00:07:14.339373Z",
     "start_time": "2024-06-29T00:07:14.334857Z"
    }
   },
   "source": [
    "import warnings\n",
    "warnings.filterwarnings('ignore')"
   ],
   "outputs": [],
   "execution_count": 13
  },
  {
   "cell_type": "code",
   "id": "2628ef76-b545-4bf9-ade6-5b9f5c2c62b7",
   "metadata": {
    "ExecuteTime": {
     "end_time": "2024-06-29T00:07:14.676568Z",
     "start_time": "2024-06-29T00:07:14.340891Z"
    }
   },
   "source": [
    "import json\n",
    "import os\n",
    "import sys\n",
    "import boto3\n",
    "import botocore\n",
    "\n",
    "from langchain.llms.bedrock import Bedrock\n",
    "from IPython.display import Image\n",
    "\n",
    "module_path = \"..\"\n",
    "sys.path.append(os.path.abspath(module_path))\n",
    "from utils import bedrock, print_ww\n",
    "\n",
    "\n",
    "# ---- ⚠️ Un-comment and edit the below lines as needed for your AWS setup ⚠️ ----\n",
    "\n",
    "os.environ[\"AWS_DEFAULT_REGION\"] = \"us-east-1\"\n",
    "# os.environ[\"AWS_PROFILE\"] = \"\"\n",
    "# os.environ[\"BEDROCK_ASSUME_ROLE\"] = \"\"  # E.g. \"arn:aws:...\"\n",
    "\n",
    "boto3_bedrock = bedrock.get_bedrock_client(\n",
    "    assumed_role=os.environ.get(\"BEDROCK_ASSUME_ROLE\", None),\n",
    "    region=os.environ.get(\"AWS_DEFAULT_REGION\", None),\n",
    "    runtime=False)\n",
    "\n",
    "bedrock_runtime = bedrock.get_bedrock_client(\n",
    "    assumed_role=os.environ.get(\"BEDROCK_ASSUME_ROLE\", None),\n",
    "    region=os.environ.get(\"AWS_DEFAULT_REGION\", None))\n",
    "\n",
    "model_parameter = {\n",
    "    \"temperature\": 0.0, \n",
    "    \"top_p\": .5, \n",
    "    \"top_k\": 250, \n",
    "    \"max_tokens_to_sample\": 2000, \n",
    "    \"stop_sequences\": [\"\\n\\n Human: bye\"]\n",
    "}\n",
    "llm = Bedrock(\n",
    "    model_id=\"anthropic.claude-v2\", \n",
    "    model_kwargs=model_parameter, \n",
    "    client=bedrock_runtime\n",
    ")"
   ],
   "outputs": [
    {
     "name": "stdout",
     "output_type": "stream",
     "text": [
      "Create new client\n",
      "  Using region: us-east-1\n",
      "boto3 Bedrock client successfully created!\n",
      "bedrock(https://bedrock.us-east-1.amazonaws.com)\n",
      "Create new client\n",
      "  Using region: us-east-1\n",
      "boto3 Bedrock client successfully created!\n",
      "bedrock-runtime(https://bedrock-runtime.us-east-1.amazonaws.com)\n"
     ]
    }
   ],
   "execution_count": 14
  },
  {
   "cell_type": "markdown",
   "id": "1473baff",
   "metadata": {},
   "source": [
    "## Implementation\n",
    "This notebook is using the LangChain framework where it has integrations with different services and the following tools:\n",
    "\n",
    "- **LLM (Large Language Model)**: Anthropic Claude V2 available through Amazon Bedrock\n",
    "\n",
    "  This model will be used to understand the document chunks and provide an answer in human friendly manner.\n",
    "- **Embeddings Model**: Amazon Titan Embeddings available through Amazon Bedrock\n",
    "\n",
    "  This model will be used to generate a numerical representation of the textual documents\n",
    "- **Document Loader**: [S3FileLoader](https://api.python.langchain.com/en/latest/document_loaders/langchain.document_loaders.s3_file.S3FileLoader.html) and PDF Loader available through LangChain\n",
    "\n",
    "  This is the loader that can load the documents from a source, for the sake of this notebook we are loading the sample files from a local path. This could easily be replaced with a loader to load documents from enterprise internal systems.\n",
    "\n",
    "- **Vector Store**: In-Memory store FAISS\n",
    "\n",
    "  The index helps to compare the input embedding and the document embeddings to find relevant document\n",
    "- **Wrapper**: wraps index, vector store, embeddings model and the LLM to abstract away the logic from the user."
   ]
  },
  {
   "cell_type": "code",
   "id": "83ad4159-24aa-486d-8872-328109f0f642",
   "metadata": {
    "ExecuteTime": {
     "end_time": "2024-06-29T00:07:14.685245Z",
     "start_time": "2024-06-29T00:07:14.679703Z"
    }
   },
   "source": [
    "#TEST\n",
    "customer_input = \"I am  looking for a fan for our warehouses that will be energy efficient and assist with air circulation for the large open indoor warehouse. I need to be able to purchase in bulk for several locations in Indiana.\"\n",
    "\n",
    "\n",
    "# Customer id to infuse order history and delivery address\n",
    "customer_id = \"2\""
   ],
   "outputs": [],
   "execution_count": 15
  },
  {
   "cell_type": "raw",
   "id": "c0c499ed-f5a2-4b26-8ef6-991c39fb2f63",
   "metadata": {},
   "source": [
    "## Extract `product relevant` information\n",
    "\n",
    "Product data is stored in the grainger_product.parquet.\n",
    "\n",
    "# Without market research the assumption was made that Grainger Customers are meaningfully segmented by Find industry, size, Sustainability Focus, Inventory Manager, and the location\n",
    "\n",
    "TODO: Add to initial data icons and provide user with gov approved (JWOD, GSA, TAA) or environmentally conscious status.\n",
    "\n",
    "\n",
    "The prompt instructs the LLM to fetch the relevant information from the user prompt based on the above to facilitate a query of the source product data. \n",
    "\n",
    "Note the specific prompt template for the `entity extraction`"
   ]
  },
  {
   "cell_type": "code",
   "id": "a6c4210f-f08b-49d2-b9b7-45da05657fc6",
   "metadata": {
    "ExecuteTime": {
     "end_time": "2024-06-29T00:07:16.602901Z",
     "start_time": "2024-06-29T00:07:14.687094Z"
    }
   },
   "source": [
    "# Identify product attributes from customer prompt to generate better results\n",
    "ner_prompt = \"\"\"Human: Find industry, size, Sustainability Focus, Inventory Manager, and the location in the customer input.\n",
    "Instructions:\n",
    "The industry can be one of the following: Manufacturing, Warehousing, Government and Public Safety, Education, Food and Beverage Distribution, Hospitality, Property Management, Retail, or Other\n",
    "The size can be one of the following: Small Businesses (Smaller companies might prioritize cost-effective solutions and fast shipping options), or Large Enterprises (Larger organizations may require more comprehensive solutions, including strategic services like inventory management and safety consulting), Womens, Other\n",
    "The Sustainability Focused true or false meaning Environmentally Conscious Buyers: Customers interested in sustainability solutions, looking for products that focus on energy management, water conservation, waste reduction, and air quality improvement, or NOT Environmentally Conscious Buyers,\n",
    "The Inventory Manager true or false meaning a purchaser in large amounts to supply an organizational group, versus an individual user purchasing for personal use, \n",
    "The output must be in JSON format inside the tags <attributes></attributes>\n",
    "\n",
    "If the information of an entity is not available in the input then don't include that entity in the JSON output\n",
    "\n",
    "Begin!\n",
    "\n",
    "Customer input: {customer_input}\n",
    "Assistant:\"\"\"\n",
    "entity_extraction_result = llm(ner_prompt.format(customer_input=customer_input)).strip()\n",
    "print(entity_extraction_result)"
   ],
   "outputs": [
    {
     "name": "stdout",
     "output_type": "stream",
     "text": [
      "<attributes>\n",
      "{\n",
      "  \"industry\": \"Warehousing\",\n",
      "  \"size\": \"Large Enterprises\", \n",
      "  \"SustainabilityFocus\": true,\n",
      "  \"InventoryManager\": true,\n",
      "  \"location\": \"Indiana\"\n",
      "}\n",
      "</attributes>\n"
     ]
    }
   ],
   "execution_count": 16
  },
  {
   "cell_type": "markdown",
   "id": "eaddb1cd",
   "metadata": {},
   "source": [
    "#### Extract values into JSON"
   ]
  },
  {
   "cell_type": "code",
   "id": "80ce47b9",
   "metadata": {
    "ExecuteTime": {
     "end_time": "2024-06-29T00:07:16.609150Z",
     "start_time": "2024-06-29T00:07:16.604376Z"
    }
   },
   "source": [
    "import re\n",
    "import json\n",
    "result = re.search('<attributes>(.*)</attributes>', entity_extraction_result, re.DOTALL)\n",
    "attributes = json.loads(result.group(1))\n",
    "attributes"
   ],
   "outputs": [
    {
     "data": {
      "text/plain": [
       "{'industry': 'Warehousing',\n",
       " 'size': 'Large Enterprises',\n",
       " 'SustainabilityFocus': True,\n",
       " 'InventoryManager': True,\n",
       " 'location': 'Indiana'}"
      ]
     },
     "execution_count": 17,
     "metadata": {},
     "output_type": "execute_result"
    }
   ],
   "execution_count": 17
  },
  {
   "cell_type": "markdown",
   "id": "4c556d2c-d133-4bce-a4a2-27721191f8bb",
   "metadata": {},
   "source": [
    "## Use Retrieval Augmented Generation (RAG) \n",
    "\n",
    "Note: documents loaded with [S3FileLoader available under LangChain](https://python.langchain.com/docs/modules/data_connection/document_loaders/) can be split into smaller chunks. The retrieved document/text should be large enough to contain enough information to answer a question; but small enough to fit into the LLM prompt. Also the embeddings model has a limit of the length of input tokens limited to 8k tokens, which roughly translates to ~32000 characters. For the sake of this use-case we are creating chunks of roughly 1000 characters with an overlap of 100 characters using [RecursiveCharacterTextSplitter](https://python.langchain.com/en/latest/modules/indexes/text_splitters/examples/recursive_text_splitter.html).\n",
    "\n",
    "Below: fetching our productdata and creating the embeddings for \n",
    "1. Product catalog description\n",
    "2. Customer reviews\n",
    "\n",
    "# TODO: ADD order history for authenticated user\n",
    "3. Order History "
   ]
  },
  {
   "metadata": {},
   "cell_type": "markdown",
   "source": "",
   "id": "a9f1b13483921f58"
  },
  {
   "cell_type": "code",
   "id": "a93668d2-22c2-424f-9e92-05d1f5a0194c",
   "metadata": {
    "ExecuteTime": {
     "end_time": "2024-06-29T00:08:34.394615Z",
     "start_time": "2024-06-29T00:08:14.901659Z"
    }
   },
   "source": [
    "import pandas as pd\n",
    "parquet_file_path = \"processed/grainger_products.parquet\"\n",
    "print(\"Attempting to load file from:\", parquet_file_path)\n",
    "\n",
    "# Now attempt to load the file\n",
    "try:\n",
    "    df = pd.read_parquet(parquet_file_path)\n",
    "    print(\"File loaded successfully!\")\n",
    "except FileNotFoundError as e:\n",
    "    print(\"Error loading file:\", e)\n",
    "\n",
    "print(df.head())"
   ],
   "outputs": [
    {
     "name": "stdout",
     "output_type": "stream",
     "text": [
      "Attempting to load file from: processed/grainger_products.parquet\n",
      "File loaded successfully!\n",
      "                          Brand    Code  \\\n",
      "0  LION FIRE BOOTS BY THOROGOOD   3XRG7   \n",
      "1           GLOWEAR BY ERGODYNE   1CXK5   \n",
      "2                      CARHARTT  491V68   \n",
      "3                      TRIPLETT  794UC5   \n",
      "4                        DEWALT  492U19   \n",
      "\n",
      "                                                Name  \\\n",
      "0  Insulated Firefighter Boots: Insulated, Steel,...   \n",
      "1  GLOWEAR BY ERGODYNE Baseball Cap: Orange, Univ...   \n",
      "2  CARHARTT Bib Overalls: Men's, XL ( 42 in x 32 ...   \n",
      "3  TRIPLETT Combustible Gas Detector: Audible/Vib...   \n",
      "4  DEWALT Heated Jacket: Men's, S, Black, Up to 9...   \n",
      "\n",
      "                                       PictureUrl600    Price  \\\n",
      "0  https://static.grainger.com/rp/s/is/image/Grai...  $197.55   \n",
      "1  https://static.grainger.com/rp/s/is/image/Grai...   $13.93   \n",
      "2  https://static.grainger.com/rp/s/is/image/Grai...   $95.79   \n",
      "3  https://static.grainger.com/rp/s/is/image/Grai...  $134.56   \n",
      "4  https://static.grainger.com/rp/s/is/image/Grai...  $363.87   \n",
      "\n",
      "                                         Description  \n",
      "0  <p>Thorogood® 807-6003 Insulated Boots are des...  \n",
      "1  <p>Baseball hats have a curved brim that shade...  \n",
      "2  <p>Overalls (sometimes called bib overalls) ar...  \n",
      "3                                               None  \n",
      "4  <p>Men's electronically heated jackets cover t...  \n"
     ]
    }
   ],
   "execution_count": 19
  },
  {
   "cell_type": "code",
   "id": "fc692daa-6f4d-41bf-a724-1a1448aff55c",
   "metadata": {},
   "source": [
    "# ## Approach 1: Using Textual Columns Directly\n",
    "# # To focus on text-based similarity (e.g., based on 'Name' and 'Description'), columns are concatenated\n",
    "# # FAISS.from_texts is used. This allows more granular control.\n",
    "# from langchain.embeddings import BedrockEmbeddings\n",
    "# from langchain.vectorstores import FAISS\n",
    "# import pandas as pd\n",
    "# import numpy as np\n",
    "# \n",
    "# # Initialize the Titan Embeddings Model\n",
    "# print(\"Initializing Titan Embeddings Model...\")\n",
    "# bedrock_embeddings = BedrockEmbeddings(model_id=\"amazon.titan-embed-text-v1\", client=bedrock_runtime)\n",
    "# print(\"Titan Embeddings Model initialized.\")\n",
    "# \n",
    "# # Load the Grainger products data from parquet file at path relative to the notebook\n",
    "# parquet_file_path = \"processed/grainger_products.parquet\"\n",
    "# print(f\"Loading data from parquet file: {parquet_file_path}...\")\n",
    "# products_df = pd.read_parquet(parquet_file_path)\n",
    "# print(\"Data loaded successfully.\")\n",
    "# \n",
    "# # Concatenate 'Name', 'Description', and 'Code' columns\n",
    "# print(\"Concatenating 'Name', 'Description', and 'Code' columns...\")\n",
    "# products_df['text_content'] = products_df['Name'].fillna('') + ' ' + products_df['Description'].fillna('') + ' ' + products_df['Code'].fillna('')\n",
    "# \n",
    "# # Create FAISS vector store from concatenated text content\n",
    "# print(\"Creating FAISS vector store based on concatenated text content...\")\n",
    "# vectorstore_faiss = FAISS.from_texts(products_df['text_content'], bedrock_embeddings)\n",
    "# print(\"FAISS vector store created.\")\n",
    "# \n",
    "# # TEST: Process a query based on a product code\n",
    "# customer_code = \"1CXK5\"  # Example product code to search\n",
    "# print(f\"Processing customer query for product with code: {customer_code}...\")\n",
    "# query_result = products_df[products_df['Code'] == customer_code]\n",
    "# \n",
    "# if not query_result.empty:\n",
    "#     print(\"Product details found:\")\n",
    "#     print(query_result)\n",
    "# else:\n",
    "#     print(f\"No product found with code: {customer_code}\")\n",
    "# \n",
    "# # TEST: Process a query based on customer input\n",
    "# customer_input = \"Men's insulated boots\"\n",
    "# print(f\"Processing customer input: {customer_input}...\")\n",
    "# query_embedding = bedrock_embeddings.embed_query(customer_input)\n",
    "# print(\"Customer input processed.\")\n",
    "# \n",
    "# # Convert query embedding to numpy array\n",
    "# np_array_query_embedding = np.array(query_embedding)\n",
    "# print(\"Query embedding converted to numpy array.\")\n",
    "# \n",
    "# # Print the resulting query embedding\n",
    "# print(\"Resulting query embedding:\")\n",
    "# print(np_array_query_embedding)\n"
   ],
   "outputs": [],
   "execution_count": null
  },
  {
   "cell_type": "code",
   "id": "d47dcae9-07c3-4cee-87d7-371e7f9f18ae",
   "metadata": {
    "ExecuteTime": {
     "end_time": "2024-06-29T00:26:46.902516Z",
     "start_time": "2024-06-29T00:23:38.049595Z"
    }
   },
   "source": [
    "#VERSION 2: AS A DOCUMENT\n",
    "# Automates the process and optimizes for large and changing data sets.\n",
    "from langchain.embeddings import BedrockEmbeddings\n",
    "from langchain.vectorstores import FAISS\n",
    "import pandas as pd\n",
    "import numpy as np\n",
    "\n",
    "\n",
    "class Document:\n",
    "    def __init__(self, page_content, metadata):\n",
    "        self.page_content = page_content\n",
    "        self.metadata = metadata\n",
    "        \n",
    "# Initialize the Titan Embeddings Model\n",
    "print(\"Initializing Titan Embeddings Model...\")\n",
    "bedrock_embeddings = BedrockEmbeddings(model_id=\"amazon.titan-embed-text-v1\", client=bedrock_runtime)\n",
    "print(\"Titan Embeddings Model initialized.\")\n",
    "\n",
    "documents = []\n",
    "for _, row in df.iterrows():\n",
    "    page_content = f\"{row['Code']} {row['Name']} {row['Brand']} {row['Description'] if pd.notna(row['Description']) else ''}\"\n",
    "    metadata = {\n",
    "        'Brand': row['Brand'],\n",
    "        'Code': row['Code'],\n",
    "        'Name': row['Name'],\n",
    "        'Description': row['Description'],\n",
    "        'Price': row['Price']\n",
    "    }\n",
    "    documents.append(Document(page_content, metadata))\n",
    "\n",
    "\n",
    "# Print the structured documents\n",
    "print(\"Structured documents created:\")\n",
    "for idx, doc in enumerate(documents[:5], 1):  \n",
    "    print(f\"Document {idx} of {len(documents)}:\")\n",
    "    print(doc.page_content[:200])\n",
    "    print()\n",
    "\n",
    "# Create FAISS vector store from structured documents\n",
    "print(\"Creating FAISS vector store from structured documents...\")\n",
    "vectorstore_faiss_doc = FAISS.from_documents(documents, bedrock_embeddings)\n",
    "print(\"FAISS vector store created.\")\n",
    "\n",
    "\n",
    "customer_input = \"Men's insulted boots.\"\n",
    "query_embedding_doc = bedrock_embeddings.embed_query(customer_input)\n",
    "print(\"Customer input processed.\")\n",
    "\n",
    "# Convert query embedding to numpy array\n",
    "np_array_query_embedding_doc = np.array(query_embedding_doc)\n",
    "print(\"Query embedding converted to numpy array.\")\n",
    "\n",
    "# Print the resulting query embedding\n",
    "print(\"Resulting query embedding:\")\n",
    "print(np_array_query_embedding_doc)\n"
   ],
   "outputs": [
    {
     "name": "stdout",
     "output_type": "stream",
     "text": [
      "Initializing Titan Embeddings Model...\n",
      "Titan Embeddings Model initialized.\n",
      "Structured documents created:\n",
      "Document 1 of 1736:\n",
      "3XRG7 Insulated Firefighter Boots: Insulated, Steel, 10-1/2, M, Structural, 1 PR LION FIRE BOOTS BY THOROGOOD <p>Thorogood® 807-6003 Insulated Boots are designed for use by firefighters in demanding a\n",
      "\n",
      "Document 2 of 1736:\n",
      "1CXK5 GLOWEAR BY ERGODYNE Baseball Cap: Orange, Universal, Baseball Hat Hat, Polyester, Gen Purpose GLOWEAR BY ERGODYNE <p>Baseball hats have a curved brim that shades the eyes from sun to reduce eye \n",
      "\n",
      "Document 3 of 1736:\n",
      "491V68 CARHARTT Bib Overalls: Men's, XL ( 42 in x 32 in ), Navy, Cotton, Zipper, Zipper, 9 Pockets CARHARTT <p>Overalls (sometimes called bib overalls) are sleeveless garments that cover the torso and\n",
      "\n",
      "Document 4 of 1736:\n",
      "794UC5 TRIPLETT Combustible Gas Detector: Audible/Vibration/Visual Indicator, Rechargeable Li-Po Battery TRIPLETT \n",
      "\n",
      "Document 5 of 1736:\n",
      "492U19 DEWALT Heated Jacket: Men's, S, Black, Up to 9 hr, 36 in Max Chest Size, 3 Outside Pockets, Zipper DEWALT <p>Men's electronically heated jackets cover the arms and torso, extending to the hip.<\n",
      "\n",
      "Creating FAISS vector store from structured documents...\n",
      "FAISS vector store created.\n",
      "Customer input processed.\n",
      "Query embedding converted to numpy array.\n",
      "Resulting query embedding:\n",
      "[-1.140625    0.29492188  0.33007812 ...  0.28320312 -0.5546875\n",
      "  0.06787109]\n"
     ]
    }
   ],
   "execution_count": 22
  },
  {
   "cell_type": "code",
   "id": "1923edcb-2dd4-4df2-ae56-462935eae428",
   "metadata": {},
   "source": "## Going forward the FAISS.from_document version is used",
   "outputs": [],
   "execution_count": null
  },
  {
   "cell_type": "markdown",
   "id": "f1fd6c9d-a512-4f1e-ba8f-486d8b88f71f",
   "metadata": {},
   "source": [
    "## Generate *`n`* style recommendations\n",
    "\n",
    "Make a query to embed the LLM using customer input. Using LangChain for orchestration of RAG. It also provides a framework for orchestrating RAG flows with what purpose built \"chains\". In this section, we will see how to be a [retrieval chain](https://python.langchain.com/docs/use_cases/question_answering/vector_db_qa) which is more comprehensive and robust than the original retrieval system we built above.\n",
    "\n",
    "The workflow we used above follows the following process:\n",
    "1. User input is received.\n",
    "2. User input is queried against the vector database to retrieve the relevant products\n",
    "3. Product description and chat memory are inserted into a new prompt to respond to the user input.\n",
    "4. This output is fed into the stable diffusion model to return the relevant images\n",
    "\n",
    "However, more complex methods of interacting with the user input can generate more accurate results in RAG architectures. One of the popular mechanisms which can increase accuracy of these retrieval systems is utilizing more than one call to an LLM in order to reformat the user input for more effective search to your vector database. A better workflow is described below compared to the one we already built...\n",
    "\n",
    "1. User input is received.\n",
    "2. An LLM is used to reword the user input to be a better search query for the vector database based on the chat history and product description. \n",
    "3. This could include things like condensing, rewording, addition of chat context, or stylistic changes.\n",
    "4. Reformatted user input is queried against the vector database to retrieve relevant products.The reformatted user input and relevant documents are inserted into a new prompt in order to generate the new style. \n",
    "5. This is then fed into the stable diffusion model to generate the images. \n",
    "\n",
    "In your application the images can come from a pre canned images \n",
    "\n",
    "We will now build out this second workflow using LangChain below. First we need to make a prompt which will reformat the user input to be more compatible for searching of the vector database. The way we do this is by providing the chat history as well as the some basic instructions to Claude and asking it to condense the input into a single output. "
   ]
  },
  {
   "metadata": {
    "ExecuteTime": {
     "end_time": "2024-06-29T00:27:59.737717Z",
     "start_time": "2024-06-29T00:27:59.610809Z"
    }
   },
   "cell_type": "code",
   "source": [
    "# More complex customer Input\n",
    "customer_input = \"I am looking for waterproof insulated boots form my men working on my commercial deep sea fishing boat in the arctic. Must have large sizes.\"\n",
    "print(f\"Processing customer input: {customer_input}...\")\n",
    "query_embedding_doc = bedrock_embeddings.embed_query(customer_input)\n",
    "print(\"Customer input processed.\")\n",
    "\n",
    "# Convert query embedding to numpy array\n",
    "np_array_query_embedding_doc = np.array(query_embedding_doc)\n",
    "print(\"Query embedding converted to numpy array.\")\n",
    "\n",
    "# Print the resulting query embedding\n",
    "print(\"Resulting query embedding:\")\n",
    "print(np_array_query_embedding_doc)\n"
   ],
   "id": "6d9429ff50622b28",
   "outputs": [
    {
     "name": "stdout",
     "output_type": "stream",
     "text": [
      "Processing customer input: I am looking for waterproof insulated boots form my men working on my commercial deep sea fishing boat in the arctic. Must have large sizes....\n",
      "Customer input processed.\n",
      "Query embedding converted to numpy array.\n",
      "Resulting query embedding:\n",
      "[-1.0078125  -0.00338745  0.01818848 ...  0.12988281 -0.6171875\n",
      " -0.49023438]\n"
     ]
    }
   ],
   "execution_count": 23
  },
  {
   "metadata": {
    "ExecuteTime": {
     "end_time": "2024-06-29T00:37:03.768885Z",
     "start_time": "2024-06-29T00:37:02.466506Z"
    }
   },
   "cell_type": "code",
   "source": [
    "# from langchain_core.prompts import PromptTemplate\n",
    "# from langchain.chains.retrieval_qa.base import RetrievalQA\n",
    "# import time\n",
    "# from PIL import Image\n",
    "# from IPython import display\n",
    "# from base64 import b64decode\n",
    "# import base64\n",
    "# import io\n",
    "# import json\n",
    "# import os\n",
    "# import sys\n",
    "# import ipywidgets as widgets\n",
    "# import re\n",
    "# \n",
    "# # Function to extract attributes using NER prompt\n",
    "# def extract_attributes(customer_input):\n",
    "#     ner_prompt = \"\"\"Human: Find location, environment, and gender in the customer input.\n",
    "#     The output must be in JSON format inside the tags <attributes></attributes>\n",
    "#     \n",
    "#     If the information of an entity is not available in the input then don't include that entity in the JSON output\n",
    "#     \n",
    "#     Begin!\n",
    "#     \n",
    "#     Customer input: {customer_input}\n",
    "#     Assistant:\"\"\"\n",
    "#     print(\"Extracting attributes...\")\n",
    "#     start_time = time.time()\n",
    "#     entity_extraction_result = llm(ner_prompt.format(customer_input=customer_input)).strip()\n",
    "#     print(\"Raw entity extraction result:\", entity_extraction_result)\n",
    "#     print(f\"Attribute extraction completed in {time.time() - start_time:.2f} seconds.\")\n",
    "#     \n",
    "#     try:\n",
    "#         attributes_json = re.search(r'<attributes>(.*?)</attributes>', entity_extraction_result, re.DOTALL).group(1)\n",
    "#         attributes = json.loads(attributes_json)\n",
    "#         return attributes\n",
    "#     except (AttributeError, json.JSONDecodeError) as e:\n",
    "#         print(\"Error parsing attributes:\", str(e))\n",
    "#         return {}\n",
    "# \n",
    "# attributes = extract_attributes(customer_input)\n",
    "# \n",
    "# gender_map = {\n",
    "#     'Womens': 'of a female ',\n",
    "#     'Mens': 'of a male '\n",
    "# } \n",
    "# \n",
    "# print(\"customer_input: \", customer_input)\n",
    "# print(\"attributes: \", attributes)\n"
   ],
   "id": "f276373d3c35cfc1",
   "outputs": [
    {
     "name": "stdout",
     "output_type": "stream",
     "text": [
      "Extracting attributes...\n",
      "Raw entity extraction result: <attributes>\n",
      "{\"location\": \"arctic\", \n",
      "\"environment\": \"deep sea fishing boat\",\n",
      "\"gender\": \"men\"}\n",
      "</attributes>\n",
      "Attribute extraction completed in 1.29 seconds.\n",
      "customer_input:  I am looking for waterproof insulated boots for my men working on my commercial deep sea fishing boat in the arctic. Must have large sizes.\n",
      "attributes:  {'location': 'arctic', 'environment': 'deep sea fishing boat', 'gender': 'men'}\n"
     ]
    }
   ],
   "execution_count": 31
  },
  {
   "metadata": {
    "ExecuteTime": {
     "end_time": "2024-06-29T00:41:54.377818Z",
     "start_time": "2024-06-29T00:41:49.003068Z"
    }
   },
   "cell_type": "code",
   "source": [
    "from langchain.chains import RetrievalQA\n",
    "from langchain.prompts import PromptTemplate\n",
    "\n",
    "prompt_template = \"\"\"Human: Use the following pieces of context to generate 5  recommendations for the customer input at the end.\n",
    "<context>\n",
    "{context}\n",
    "</context>\n",
    "<example>A navy suit with a light blue dress shirt, conservative tie, black oxford shoes, and a leather belt.</example>\n",
    "<example>A lehenga choli set with a crop top, flowing skirt, and dupatta scarf in lively colors and metallic accents.</example>\n",
    "\n",
    "Customer Input: {question}\n",
    "Each style recommendation must be inside the tags <style></style>.\n",
    "Do not output product physical IDs.\n",
    "Skip the preamble.\n",
    "Assistant: \"\"\"\n",
    "PROMPT = PromptTemplate(\n",
    "    template=prompt_template, input_variables=[\"context\", \"question\"]\n",
    ")\n",
    "\n",
    "# Use RetrievalQA customizations for improving Q&A experience\n",
    "qa = RetrievalQA.from_chain_type(\n",
    "    llm=llm,\n",
    "    chain_type=\"stuff\",\n",
    "    retriever=vectorstore_faiss.as_retriever(\n",
    "        search_type=\"similarity\", search_kwargs={\"k\": 6}\n",
    "    ),\n",
    "    return_source_documents=False,\n",
    "    chain_type_kwargs={\"prompt\": PROMPT},\n",
    ")\n",
    "recs_response = qa({\"query\": customer_input})['result']\n",
    "recs_response"
   ],
   "id": "1f2810aadebfd37d",
   "outputs": [
    {
     "data": {
      "text/plain": [
       "' <style>Waterproof knee-high rubber boots with insulation and oil-resistant soles for warmth and traction on a fishing boat.</style>\\n\\n<style>Large sized boots (size 13 and up) to accommodate workers with bigger feet.</style>  \\n\\n<style>Boots with electrical hazard protection for safety around electrical equipment on the boat.</style>\\n\\n<style>Plain toe boots without a steel toe for maximum comfort and flexibility.</style>\\n\\n<style>Brands known for durable and rugged commercial fishing boots like Lacrosse.</style>'"
      ]
     },
     "execution_count": 36,
     "metadata": {},
     "output_type": "execute_result"
    }
   ],
   "execution_count": 36
  },
  {
   "metadata": {
    "ExecuteTime": {
     "end_time": "2024-06-29T00:49:06.320264Z",
     "start_time": "2024-06-29T00:49:06.313220Z"
    }
   },
   "cell_type": "code",
   "source": [
    "# Prepare input to fetch images for each look\n",
    "recommendations = re.findall('<style>(.*?)</style>', recs_response)\n",
    "recommendations"
   ],
   "id": "3729e89773f58a10",
   "outputs": [
    {
     "data": {
      "text/plain": [
       "['Waterproof knee-high rubber boots with insulation and oil-resistant soles for warmth and traction on a fishing boat.',\n",
       " 'Large sized boots (size 13 and up) to accommodate workers with bigger feet.',\n",
       " 'Boots with electrical hazard protection for safety around electrical equipment on the boat.',\n",
       " 'Plain toe boots without a steel toe for maximum comfort and flexibility.',\n",
       " 'Brands known for durable and rugged commercial fishing boots like Lacrosse.']"
      ]
     },
     "execution_count": 40,
     "metadata": {},
     "output_type": "execute_result"
    }
   ],
   "execution_count": 40
  },
  {
   "cell_type": "markdown",
   "id": "a6d22783-c906-413e-a889-1c4d3dd1f0fe",
   "metadata": {},
   "source": [
    "## Generate Images for the relevant style\n",
    "\n",
    "Generate an image for each look using the `Stable Diffusion` model\n",
    "\n",
    "![Generate Look](./images/generate_look.png)"
   ]
  },
  {
   "cell_type": "code",
   "id": "80e7e6ff-7e46-403b-9c38-f98de88bdeb9",
   "metadata": {
    "ExecuteTime": {
     "end_time": "2024-06-29T01:15:04.304843Z",
     "start_time": "2024-06-29T01:14:19.813767Z"
    }
   },
   "source": [
    "from langchain_core.prompts import PromptTemplate\n",
    "from langchain.chains.retrieval_qa.base import RetrievalQA\n",
    "import time\n",
    "from PIL import Image, ImageDraw, ImageFont\n",
    "from IPython import display\n",
    "from base64 import b64decode\n",
    "import base64\n",
    "import io\n",
    "import json\n",
    "import os\n",
    "import sys\n",
    "import ipywidgets as widgets\n",
    "import re\n",
    "\n",
    "# Function to extract attributes using NER prompt\n",
    "def extract_attributes(customer_input):\n",
    "    ner_prompt = \"\"\"Human: Find location, environment, and gender in the customer input.\n",
    "    The output must be in JSON format inside the tags <attributes></attributes>\n",
    "    \n",
    "    If the information of an entity is not available in the input then don't include that entity in the JSON output\n",
    "    \n",
    "    Begin!\n",
    "    \n",
    "    Customer input: {customer_input}\n",
    "    Assistant:\"\"\"\n",
    "    print(\"Extracting attributes...\")\n",
    "    start_time = time.time()\n",
    "    entity_extraction_result = llm(ner_prompt.format(customer_input=customer_input)).strip()\n",
    "    print(\"Raw entity extraction result:\", entity_extraction_result)\n",
    "    print(f\"Attribute extraction completed in {time.time() - start_time:.2f} seconds.\")\n",
    "    \n",
    "    try:\n",
    "        attributes_json = re.search(r'<attributes>(.*?)</attributes>', entity_extraction_result, re.DOTALL).group(1)\n",
    "        attributes = json.loads(attributes_json)\n",
    "        return attributes\n",
    "    except (AttributeError, json.JSONDecodeError) as e:\n",
    "        print(\"Error parsing attributes:\", str(e))\n",
    "        return {}\n",
    "\n",
    "# Function to generate thumbnails with recommendation overlay based on recommendations and attributes\n",
    "def generate_thumbnails_with_overlay(recommendations, attributes):\n",
    "    gender_map = {\n",
    "        'Womens': 'of a female ',\n",
    "        'Mens': 'of a male '\n",
    "    }\n",
    "\n",
    "    os.makedirs(\"data\", exist_ok=True)\n",
    "    image_strip = \"\"\n",
    "    \n",
    "    for i, rec in enumerate(recommendations):\n",
    "        print(f\"Generating thumbnail {i+1}/{len(recommendations)} for recommendation: {rec}\")\n",
    "        \n",
    "        prompt_parts = [\n",
    "            f\"Product view {gender_map.get(attributes.get('gender', ''))}in {rec}, dslr, ultra quality, dof, film grain, Fujifilm XT3, crystal clear, 8K UHD\"\n",
    "        ]\n",
    "        \n",
    "        if attributes.get('environment'):\n",
    "            prompt_parts.append(f\", in a {attributes['environment']} setting\")\n",
    "        \n",
    "        prompt_text = \"\".join(prompt_parts)\n",
    "        \n",
    "        request = json.dumps({\n",
    "            \"text_prompts\": [\n",
    "                {\"text\": prompt_text, \"weight\": 1.0},\n",
    "                {\"text\": \"poorly rendered\", \"weight\": -1.0}\n",
    "            ],\n",
    "            \"cfg_scale\": 9,\n",
    "            \"seed\": 4000,\n",
    "            \"steps\": 50,\n",
    "            \"style_preset\": \"photographic\",\n",
    "        })\n",
    "        modelId = \"stability.stable-diffusion-xl-v1\"\n",
    "\n",
    "        start_time = time.time()\n",
    "        response = bedrock_runtime.invoke_model(body=request, modelId=modelId)\n",
    "        response_body = json.loads(response.get(\"body\").read())\n",
    "        print(f\"Thumbnail {i+1} generation completed in {time.time() - start_time:.2f} seconds.\")\n",
    "\n",
    "        base_64_img_str = response_body[\"artifacts\"][0].get(\"base64\")\n",
    "        # Convert base64 image to a thumbnail (reduce size)\n",
    "        img_data = b64decode(base_64_img_str)\n",
    "        img = Image.open(io.BytesIO(img_data))\n",
    "        img.thumbnail((200, 200))  # Adjust the size as needed for thumbnails\n",
    "\n",
    "        # Add recommendation text overlay\n",
    "        draw = ImageDraw.Draw(img)\n",
    "        text = rec\n",
    "        font = ImageFont.load_default()  # Adjust the font and size here\n",
    "        \n",
    "        # Calculate wrapped text dimensions\n",
    "        max_text_width = img.width - 10  # Max width for wrapping text\n",
    "        lines = []\n",
    "        words = text.split()\n",
    "        while words:\n",
    "            line = ''\n",
    "            while words and draw.textsize(line + words[0], font=font)[0] <= max_text_width:\n",
    "                line += words.pop(0) + ' '\n",
    "            lines.append(line)\n",
    "        wrapped_text = '\\n'.join(lines)\n",
    "        \n",
    "        # Calculate text size after wrapping\n",
    "        wrapped_text_width, wrapped_text_height = draw.textsize(wrapped_text, font=font)\n",
    "        \n",
    "        # Calculate box dimensions\n",
    "        box_width = img.width\n",
    "        box_height = wrapped_text_height + 10  # Adjust padding as needed\n",
    "        \n",
    "        # Draw black box dynamically sized for wrapped text\n",
    "        draw.rectangle([(0, img.height - box_height), (img.width, img.height)], fill='black')\n",
    "        \n",
    "        # Calculate text position\n",
    "        text_x = (img.width - wrapped_text_width) / 2\n",
    "        text_y = img.height - box_height + (box_height - wrapped_text_height) / 2  # Center vertically\n",
    "        \n",
    "        # Draw wrapped text\n",
    "        draw.text((text_x, text_y), wrapped_text, fill='white', font=font)\n",
    "        \n",
    "        buffered = io.BytesIO()\n",
    "        img.save(buffered, format=\"JPEG\")\n",
    "        base_64_thumbnail_str = base64.b64encode(buffered.getvalue()).decode()\n",
    "\n",
    "        image_strip += f\"<td><img src='data:image/png;base64, {base_64_thumbnail_str}'></td>\"\n",
    "\n",
    "    display.display(display.HTML(\"<table><tr>\" + image_strip +\"</tr></table>\"))\n",
    "\n",
    "# Assuming 'recommendations' and 'attributes' are defined elsewhere in your script\n",
    "attributes = extract_attributes(customer_input)\n",
    "generate_thumbnails_with_overlay(recommendations, attributes)\n"
   ],
   "outputs": [
    {
     "name": "stdout",
     "output_type": "stream",
     "text": [
      "Extracting attributes...\n",
      "Raw entity extraction result: <attributes>\n",
      "{\"location\": \"arctic\", \n",
      "\"environment\": \"deep sea fishing boat\",\n",
      "\"gender\": \"men\"}\n",
      "</attributes>\n",
      "Attribute extraction completed in 1.45 seconds.\n",
      "Generating thumbnail 1/5 for recommendation: Waterproof knee-high rubber boots with insulation and oil-resistant soles for warmth and traction on a fishing boat.\n",
      "Thumbnail 1 generation completed in 8.55 seconds.\n",
      "Generating thumbnail 2/5 for recommendation: Large sized boots (size 13 and up) to accommodate workers with bigger feet.\n",
      "Thumbnail 2 generation completed in 8.27 seconds.\n",
      "Generating thumbnail 3/5 for recommendation: Boots with electrical hazard protection for safety around electrical equipment on the boat.\n",
      "Thumbnail 3 generation completed in 8.78 seconds.\n",
      "Generating thumbnail 4/5 for recommendation: Plain toe boots without a steel toe for maximum comfort and flexibility.\n",
      "Thumbnail 4 generation completed in 8.53 seconds.\n",
      "Generating thumbnail 5/5 for recommendation: Brands known for durable and rugged commercial fishing boots like Lacrosse.\n",
      "Thumbnail 5 generation completed in 8.51 seconds.\n"
     ]
    },
    {
     "data": {
      "text/plain": [
       "<IPython.core.display.HTML object>"
      ],
      "text/html": [
       "<table><tr><td><img src='data:image/png;base64, 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'></td><td><img src='data:image/png;base64, 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'></td><td><img src='data:image/png;base64, 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'></td><td><img src='data:image/png;base64, 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'></td><td><img src='data:image/png;base64, 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'></td></tr></table>"
      ]
     },
     "metadata": {},
     "output_type": "display_data"
    }
   ],
   "execution_count": 49
  },
  {
   "metadata": {
    "ExecuteTime": {
     "end_time": "2024-06-29T01:20:59.969694Z",
     "start_time": "2024-06-29T01:20:48.292034Z"
    }
   },
   "cell_type": "code",
   "source": [
    "import asyncio\n",
    "from langchain_core.prompts import PromptTemplate\n",
    "from langchain.chains.retrieval_qa.base import RetrievalQA\n",
    "import time\n",
    "from PIL import Image, ImageDraw, ImageFont\n",
    "from IPython import display\n",
    "from base64 import b64decode\n",
    "import base64\n",
    "import io\n",
    "import json\n",
    "import os\n",
    "import sys\n",
    "import ipywidgets as widgets\n",
    "import re\n",
    "\n",
    "# Function to extract attributes using NER prompt\n",
    "async def extract_attributes(customer_input):\n",
    "    ner_prompt = \"\"\"Human: Find location, environment, and gender in the customer input.\n",
    "    The output must be in JSON format inside the tags <attributes></attributes>\n",
    "    \n",
    "    If the information of an entity is not available in the input then don't include that entity in the JSON output\n",
    "    \n",
    "    Begin!\n",
    "    \n",
    "    Customer input: {customer_input}\n",
    "    Assistant:\"\"\"\n",
    "    print(\"Extracting attributes...\")\n",
    "    start_time = time.time()\n",
    "    # Await the coroutine returned by asyncio.to_thread to get the result\n",
    "    entity_extraction_result = await asyncio.to_thread(llm, ner_prompt.format(customer_input=customer_input))\n",
    "    entity_extraction_result = entity_extraction_result.strip()  # Now you can safely use strip()\n",
    "    print(\"Raw entity extraction result:\", entity_extraction_result)\n",
    "    print(f\"Attribute extraction completed in {time.time() - start_time:.2f} seconds.\")\n",
    "    \n",
    "    try:\n",
    "        attributes_json = re.search(r'<attributes>(.*?)</attributes>', entity_extraction_result, re.DOTALL).group(1)\n",
    "        attributes = json.loads(attributes_json)\n",
    "        return attributes\n",
    "    except (AttributeError, json.JSONDecodeError) as e:\n",
    "        print(\"Error parsing attributes:\", str(e))\n",
    "        return {}\n",
    "\n",
    "# Function to generate a single thumbnail with recommendation overlay\n",
    "async def generate_thumbnail(rec, attributes):\n",
    "    gender_map = {\n",
    "        'Womens': 'of a female ',\n",
    "        'Mens': 'of a male '\n",
    "    }\n",
    "\n",
    "    prompt_parts = [\n",
    "        f\"Product view {gender_map.get(attributes.get('gender', ''))}in {rec}, dslr, ultra quality, dof, film grain, Fujifilm XT3, crystal clear, 8K UHD\"\n",
    "    ]\n",
    "\n",
    "    if attributes.get('environment'):\n",
    "        prompt_parts.append(f\", in a {attributes['environment']} setting\")\n",
    "\n",
    "    prompt_text = \"\".join(prompt_parts)\n",
    "\n",
    "    request = json.dumps({\n",
    "        \"text_prompts\": [\n",
    "            {\"text\": prompt_text, \"weight\": 1.0},\n",
    "            {\"text\": \"poorly rendered\", \"weight\": -1.0}\n",
    "        ],\n",
    "        \"cfg_scale\": 9,\n",
    "        \"seed\": 4000,\n",
    "        \"steps\": 50,\n",
    "        \"style_preset\": \"photographic\",\n",
    "    })\n",
    "    modelId = \"stability.stable-diffusion-xl-v1\"\n",
    "\n",
    "    start_time = time.time()\n",
    "    # Simulate asynchronous network call with asyncio.sleep\n",
    "    await asyncio.sleep(1)\n",
    "    response = await asyncio.to_thread(bedrock_runtime.invoke_model, body=request, modelId=modelId)\n",
    "    response_body = json.loads(response.get(\"body\").read())\n",
    "    print(f\"Thumbnail for recommendation '{rec}' generation completed in {time.time() - start_time:.2f} seconds.\")\n",
    "\n",
    "    base_64_img_str = response_body[\"artifacts\"][0].get(\"base64\")\n",
    "    # Convert base64 image to a thumbnail (reduce size)\n",
    "    img_data = b64decode(base_64_img_str)\n",
    "    img = Image.open(io.BytesIO(img_data))\n",
    "    img.thumbnail((200, 200))  # Adjust the size as needed for thumbnails\n",
    "\n",
    "    # Add recommendation text overlay\n",
    "    draw = ImageDraw.Draw(img)\n",
    "    text = rec\n",
    "    font = ImageFont.load_default()  # Adjust the font and size here\n",
    "    \n",
    "    # Calculate wrapped text dimensions\n",
    "    max_text_width = img.width - 10  # Max width for wrapping text\n",
    "    lines = []\n",
    "    words = text.split()\n",
    "    while words:\n",
    "        line = ''\n",
    "        while words and draw.textsize(line + words[0], font=font)[0] <= max_text_width:\n",
    "            line += words.pop(0) + ' '\n",
    "        lines.append(line)\n",
    "    wrapped_text = '\\n'.join(lines)\n",
    "    \n",
    "    # Calculate text size after wrapping\n",
    "    wrapped_text_width, wrapped_text_height = draw.textsize(wrapped_text, font=font)\n",
    "    \n",
    "    # Calculate box dimensions\n",
    "    box_width = img.width\n",
    "    box_height = wrapped_text_height + 10  # Adjust padding as needed\n",
    "    \n",
    "    # Draw black box dynamically sized for wrapped text\n",
    "    draw.rectangle([(0, img.height - box_height), (img.width, img.height)], fill='black')\n",
    "    \n",
    "    # Calculate text position\n",
    "    text_x = (img.width - wrapped_text_width) / 2\n",
    "    text_y = img.height - box_height + (box_height - wrapped_text_height) / 2  # Center vertically\n",
    "    \n",
    "    # Draw wrapped text\n",
    "    draw.text((text_x, text_y), wrapped_text, fill='white', font=font)\n",
    "    \n",
    "    buffered = io.BytesIO()\n",
    "    img.save(buffered, format=\"JPEG\")\n",
    "    base_64_thumbnail_str = base64.b64encode(buffered.getvalue()).decode()\n",
    "\n",
    "    return f\"<td><img src='data:image/png;base64, {base_64_thumbnail_str}'></td>\"\n",
    "\n",
    "async def main():\n",
    "    # Assuming 'recommendations' and 'attributes' are defined elsewhere in your script\n",
    "    customer_input = \"Customer's input\"\n",
    "    attributes = await extract_attributes(customer_input)\n",
    "    \n",
    "    # List to hold coroutines for each thumbnail generation\n",
    "    tasks = [generate_thumbnail(rec, attributes) for rec in recommendations]\n",
    "    \n",
    "    # Gather results concurrently\n",
    "    image_strips = await asyncio.gather(*tasks)\n",
    "    \n",
    "    # Display the HTML table with all thumbnails\n",
    "    display.display(display.HTML(\"<table><tr>\" + \"\".join(image_strips) + \"</tr></table>\"))\n",
    "\n",
    "# Run the main coroutine\n",
    "await main()\n"
   ],
   "id": "76943abec14663be",
   "outputs": [
    {
     "name": "stdout",
     "output_type": "stream",
     "text": [
      "Extracting attributes...\n",
      "Raw entity extraction result: <attributes>\n",
      "{\"location\": \"\", \"environment\": \"\", \"gender\": \"\"}\n",
      "</attributes>\n",
      "Attribute extraction completed in 1.07 seconds.\n",
      "Thumbnail for recommendation 'Large sized boots (size 13 and up) to accommodate workers with bigger feet.' generation completed in 9.55 seconds.\n",
      "Thumbnail for recommendation 'Boots with electrical hazard protection for safety around electrical equipment on the boat.' generation completed in 9.77 seconds.\n",
      "Thumbnail for recommendation 'Brands known for durable and rugged commercial fishing boots like Lacrosse.' generation completed in 10.00 seconds.\n",
      "Thumbnail for recommendation 'Waterproof knee-high rubber boots with insulation and oil-resistant soles for warmth and traction on a fishing boat.' generation completed in 10.24 seconds.\n",
      "Thumbnail for recommendation 'Plain toe boots without a steel toe for maximum comfort and flexibility.' generation completed in 10.48 seconds.\n"
     ]
    },
    {
     "data": {
      "text/plain": [
       "<IPython.core.display.HTML object>"
      ],
      "text/html": [
       "<table><tr><td><img src='data:image/png;base64, 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'></td><td><img src='data:image/png;base64, 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'></td><td><img src='data:image/png;base64, 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'></td><td><img src='data:image/png;base64, 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'></td><td><img src='data:image/png;base64, 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'></td></tr></table>"
      ]
     },
     "metadata": {},
     "output_type": "display_data"
    }
   ],
   "execution_count": 52
  },
  {
   "metadata": {},
   "cell_type": "code",
   "outputs": [],
   "execution_count": null,
   "source": [
    "def generate_images_from_product_data():\n",
    "    "
   ],
   "id": "41ec5c10f5adc53b"
  },
  {
   "cell_type": "markdown",
   "id": "07e0443f-487f-4c49-87c2-ab581be8535f",
   "metadata": {},
   "source": [
    "## Enhance user experience with Chatbot\n",
    "\n",
    "#### Generating detailed overview based on customer reviews of products in catalog \n",
    "We have discussed the key building blocks needed for the chatbot application and now we will start to create them. LangChain's [ConversationBufferMemory](https://python.langchain.com/docs/use_cases/question_answering/chat_vector_db) class provides an easy way to capture conversational memory for LLM chat applications. We will have Claude being able to retrieve context through conversational memory using the prompt template. Note that this time our prompt template includes a {chat_history} variable where our chat history will be included to the prompt.\n",
    "\n",
    "The prompt template has both conversation memory as well as chat history as inputs along with the human input. Notice how the prompt also instructs Claude to not answer questions which it does not have the context for. This helps reduce hallucinations which is extremely important when creating end user facing applications which need to be factual.\n",
    "\n",
    "\n",
    "![Architecture](./images/chatbot_products.png)"
   ]
  },
  {
   "cell_type": "code",
   "id": "255e05cd-da0e-4649-95e9-59e2cc9358dc",
   "metadata": {},
   "source": [
    "chat_prompt1 = \"Show me specific reviews that talk about the quality of the fabric for the jacket.\"\n",
    "chat_prompt2 = \"What do people like about the business formal jacket?\"\n",
    "\n",
    "from langchain.chains import ConversationalRetrievalChain\n",
    "from langchain.memory import ConversationBufferMemory\n",
    "from langchain.chains.conversational_retrieval.prompts import CONDENSE_QUESTION_PROMPT\n",
    "\n",
    "chat_history = [\" \"]\n",
    "memory_chain = ConversationBufferMemory(memory_key=\"chat_history\", return_messages=True)\n",
    "conversation = ConversationalRetrievalChain.from_llm(\n",
    "    llm=llm, \n",
    "    retriever=vectorstore_faiss.as_retriever(), \n",
    "    memory=memory_chain,\n",
    "    condense_question_prompt=CONDENSE_QUESTION_PROMPT,\n",
    "    #verbose=True, \n",
    "    chain_type='stuff', # 'refine',\n",
    "    #max_tokens_limit=300\n",
    ")\n",
    "\n",
    "# Generate detailed reviews based on customer reviews of specific clothing in product catalog\n",
    "\n",
    "try:\n",
    "    chat_res1 = conversation.run({'question': chat_prompt1, 'chat_history': chat_history })\n",
    "    print_ww(chat_res1)\n",
    "    chat_history.append([chat_prompt1, chat_res1])\n",
    "except ValueError as error:\n",
    "    if  \"AccessDeniedException\" in str(error):\n",
    "        class StopExecution(ValueError):\n",
    "            def _render_traceback_(self):\n",
    "                pass\n",
    "        raise StopExecution        \n",
    "    else:\n",
    "        raise error"
   ],
   "outputs": [],
   "execution_count": null
  },
  {
   "cell_type": "code",
   "id": "28cf8288-acbf-464e-b202-174755e7568d",
   "metadata": {},
   "source": [
    "try:\n",
    "    chat_res2 = conversation.run({'question': chat_prompt2 + \" Answer even if embeddings does not return anything.\", 'chat_history': chat_history })\n",
    "    print_ww(chat_res2)\n",
    "    chat_history.append([chat_prompt2, chat_res2])\n",
    "except ValueError as error:\n",
    "    if  \"AccessDeniedException\" in str(error):\n",
    "        class StopExecution(ValueError):\n",
    "            def _render_traceback_(self):\n",
    "                pass\n",
    "        raise StopExecution        \n",
    "    else:\n",
    "        raise error"
   ],
   "outputs": [],
   "execution_count": null
  },
  {
   "cell_type": "markdown",
   "id": "18c0a1cb-72aa-4d26-bc17-d5846a1e4188",
   "metadata": {},
   "source": [
    "#### Customer order history semantic searches\n",
    "\n",
    "Generating size and color recommendations based on customer's order history. This will help to provide curated content to the customer"
   ]
  },
  {
   "cell_type": "code",
   "id": "45f4710f-c185-4356-a850-f2c051cf1837",
   "metadata": {},
   "source": [
    "chat_prompt3 = \"What size and color should I wear?\"\n",
    "chat_res3 = wrapper_store_faiss.query(question= chat_prompt3 + \" based on order history for customer with id \" + customer_id, llm=llm)\n",
    "print_ww(chat_res3)"
   ],
   "outputs": [],
   "execution_count": null
  },
  {
   "cell_type": "markdown",
   "id": "13b358e8-fa6b-4cbf-b05b-ea985dcfa260",
   "metadata": {},
   "source": [
    "## Showing final products based on customer style selection \n",
    "\n",
    "Continuing on our architectural pattern we will change the prompt template and leverage the LLM to generate the `recommended` products based on the user selection and weather and other details. The key extraction entities will be \n",
    "\n",
    "1. Leverage the customer initial prompt to generate the relevant ids\n",
    "2. Extract the relevant products from the vector store\n",
    "3. Physical ID for the products needed\n",
    "\n",
    "\n",
    "\n",
    "![Architecture](./images/other_products.png)"
   ]
  },
  {
   "cell_type": "code",
   "id": "2bd18a21-5519-4543-8d8f-98ddab109b78",
   "metadata": {},
   "source": [
    "from PIL import Image\n",
    "import requests\n",
    "\n",
    "prompt_template2 = \"\"\"Human: Extract list of products and their respective physical IDs from catalog that matches the style given below. \n",
    "The catalog of products is provided under <catalog></catalog> tags below.\n",
    "<catalog>\n",
    "{context}\n",
    "</catalog>\n",
    "Style: {question}\n",
    "\n",
    "The output should be a JSON of the form <products>[{{\"product\": <description of the product from the catalog>, \"physical_id\":<physical id of the product from the catalog>}}, ...]</products>\n",
    "Skip the preamble.\n",
    "Assistant: \"\"\"\n",
    "\n",
    "PROMPT2 = PromptTemplate(\n",
    "    template=prompt_template2, input_variables=[\"context\", \"question\"]\n",
    ")\n",
    "qa2 = RetrievalQA.from_chain_type(\n",
    "    llm=llm,\n",
    "    chain_type=\"stuff\",\n",
    "    retriever=vectorstore_faiss.as_retriever(\n",
    "        search_type=\"similarity\", search_kwargs={\"k\": 10}\n",
    "    ),\n",
    "    chain_type_kwargs={\"prompt\": PROMPT2},\n",
    "    return_source_documents=True,\n",
    ")\n",
    "\n",
    "selected_style = recommendations[3]\n",
    "print(selected_style)\n",
    "cart_items = qa2({\"query\": selected_style })['result']\n",
    "print_ww(cart_items)"
   ],
   "outputs": [],
   "execution_count": null
  },
  {
   "cell_type": "code",
   "id": "e2343e50",
   "metadata": {},
   "source": [
    "products = json.loads(re.findall('<products>(.*?)</products>', cart_items, re.DOTALL)[0])\n",
    "products"
   ],
   "outputs": [],
   "execution_count": null
  },
  {
   "cell_type": "code",
   "id": "793cd743-d2d6-4084-8113-68aa2fba8759",
   "metadata": {},
   "source": [
    "from PIL import Image\n",
    "from IPython import display\n",
    "import requests\n",
    "import urllib.parse\n",
    "\n",
    "cart_item_strip = \"\"\n",
    "for product in products:\n",
    "    url = \"https://sagemaker-example-files-prod-us-east-1.s3.us-east-1.amazonaws.com/datasets/image/howser-bedrock/data/aistylist/images/products/\" + urllib.parse.quote(product['physical_id'].strip(), safe='', encoding=None, errors=None) + \".jpg\"\n",
    "    # im = Image.open(requests.get(url, stream=True).raw)\n",
    "    cart_item_strip += \"<td><img src='\"+ url + \"'></td>\"\n",
    "display.display(display.HTML(\"<table><tr>\" + cart_item_strip +\"</tr></table>\"))"
   ],
   "outputs": [],
   "execution_count": null
  },
  {
   "cell_type": "markdown",
   "id": "4a073284-c491-4265-82a5-c48db9ea7a93",
   "metadata": {},
   "source": [
    "## Integrating DIY Agents to associate external APIs and databases\n",
    "### Using ReAct: Synergizing Reasoning and Acting in Language Models Framework\n",
    "Large language models can generate both explanations for their reasoning and task-specific responses in an alternating fashion. \n",
    "\n",
    "Producing reasoning explanations enables the model to infer, monitor, and revise action plans, and even handle unexpected scenarios. The action step allows the model to interface with and obtain information from external sources such as knowledge bases or environments.\n",
    "\n",
    "The ReAct framework could enable large language models to interact with external tools to obtain additional information that results in more accurate and fact-based responses. Here we will leverage the user prompt and perform the following actions\n",
    "1. Extract the city \n",
    "2. Get weather information\n",
    "3. Search our product catalog using semantic search to find relevant products\n",
    "4. Display the products for user to add to cart\n",
    "\n",
    "![Architecture](./images/weather.png)"
   ]
  },
  {
   "cell_type": "code",
   "id": "f33d6499-8a26-446f-9c6d-b518dc7edcfd",
   "metadata": {},
   "source": [
    "import os\n",
    "import python_weather\n",
    "\n",
    "async def getweather(city):\n",
    "  # declare the client. the measuring unit used defaults to the metric system (celcius, km/h, etc.)\n",
    "  async with python_weather.Client(unit=python_weather.IMPERIAL) as client:\n",
    "    # fetch a weather forecast from a city\n",
    "    weather = await client.get(city)\n",
    "    \n",
    "    # returns the current day's forecast temperature (int)\n",
    "    return weather.current"
   ],
   "outputs": [],
   "execution_count": null
  },
  {
   "cell_type": "markdown",
   "id": "122aacf9-84e2-4aba-968a-6a07f6f98966",
   "metadata": {},
   "source": [
    "## Accessory recommendations \n",
    "\n",
    "We will provide  accessory recommendations based on location provided in customer input"
   ]
  },
  {
   "cell_type": "code",
   "id": "004c8b61",
   "metadata": {},
   "source": [
    "await getweather(entity_extraction_result[2])"
   ],
   "outputs": [],
   "execution_count": null
  },
  {
   "cell_type": "code",
   "id": "204770ed-f303-4ee0-a258-21f87596e7a6",
   "metadata": {},
   "source": [
    "import asyncio\n",
    "accessory_response = None\n",
    "if attributes[\"location\"]:\n",
    "    current_weather = await getweather(entity_extraction_result[2])\n",
    "    accessory_input = \"Suggest list of accessories based on the weather and the selected style. It is \" + current_weather.description + \" with temperature at \" + str(current_weather.temperature) +\" degrees fahrenheit.\\n Selected Style: \" + recommendations[0]\n",
    "    accessory_response = qa({\"query\": accessory_input})['result']\n",
    "    print_ww(accessory_response)"
   ],
   "outputs": [],
   "execution_count": null
  },
  {
   "cell_type": "code",
   "id": "ad2eae6f",
   "metadata": {},
   "source": [
    "if accessory_response:\n",
    "    accessories = re.findall('<style>(.*?)</style>', accessory_response)\n",
    "    accessories_items = qa2({\"query\": ', '.join(accessories)})['result']\n",
    "    accessories_items = json.loads(re.findall('<products>(.*?)</products>', accessories_items, re.DOTALL)[0])\n",
    "    accessory_strip = \"\"\n",
    "    for accessory in accessories_items:\n",
    "        url = \"https://sagemaker-example-files-prod-us-east-1.s3.us-east-1.amazonaws.com/datasets/image/howser-bedrock/data/aistylist/images/products/\" + urllib.parse.quote(accessory['physical_id'].strip(), safe='', encoding=None, errors=None) + \".jpg\"\n",
    "        accessory_strip += \"<td><img src='\"+ url + \"'></td>\"\n",
    "    display.display(display.HTML(\"<table><tr>\" + accessory_strip +\"</tr></table>\"))"
   ],
   "outputs": [],
   "execution_count": null
  },
  {
   "cell_type": "markdown",
   "id": "c4e689c0-8862-41a1-8867-e2bb10c2f64f",
   "metadata": {},
   "source": [
    "## Simulate the order check out\n",
    "\n",
    "Add a customer data table to complete the order transaction. This information provides the shipping address for the outfit order."
   ]
  },
  {
   "cell_type": "code",
   "id": "e79f2e20-0c64-44fa-ab3b-8d2401a00c4f",
   "metadata": {},
   "source": [
    "customer_table=[{\"id\": 1, \"first_name\": \"John\", \"last_name\": \"Doe\", \"age\": 35, \"address\": \"123 Bedrock st, California 90210\"},\n",
    "  {\"id\": 2, \"first_name\": \"Jane\", \"last_name\": \"Smith\", \"age\": 27, \"address\": \"234 Sagemaker drive, Texas 12345\"},\n",
    "  {\"id\": 3, \"first_name\": \"Bob\", \"last_name\": \"Jones\", \"age\": 42, \"address\": \"111 DeepRacer ct, Virginia 55555\"},\n",
    "  {\"id\": 4, \"first_name\": \"Sara\", \"last_name\": \"Miller\", \"age\": 29, \"address\": \"222 Robomaker ave, New Yotk 13579\"},\n",
    "  {\"id\": 5, \"first_name\": \"Mark\", \"last_name\": \"Davis\", \"age\": 31, \"address\": \"444 Transcribe blvd, Florida 02468\"},\n",
    "  {\"id\": 6, \"first_name\": \"Laura\", \"last_name\": \"Wilson\", \"age\": 24, \"address\": \"555 CodeGuru st, California 98765\" },\n",
    "  {\"id\": 7, \"first_name\": \"Steve\", \"last_name\": \"Moore\", \"age\": 36, \"address\": \"456 DeepLens st, Texas 11223\"},\n",
    "  {\"id\": 8, \"first_name\": \"Michelle\", \"last_name\": \"Chen\", \"age\": 22, \"address\": \"642 DeepCompose st, Colorado 33215\"},\n",
    "  {\"id\": 9, \"first_name\": \"David\", \"last_name\": \"Lee\", \"age\": 29, \"address\": \"777 S3 st, California 99567\"},\n",
    "  {\"id\": 10, \"first_name\": \"Jessica\", \"last_name\": \"Brown\", \"age\": 18, \"address\": \"909 Ec st, Utah 43210\"}]\n",
    "\n",
    "def address_lookup(id):\n",
    "    for customer in customer_table:\n",
    "        if customer[\"id\"] == int(id):\n",
    "            return customer\n",
    "        \n",
    "    return None\n",
    "\n",
    "print(address_lookup(customer_id)[\"address\"])"
   ],
   "outputs": [],
   "execution_count": null
  },
  {
   "cell_type": "code",
   "id": "c22dcfd0",
   "metadata": {},
   "source": [],
   "outputs": [],
   "execution_count": null
  }
 ],
 "metadata": {
  "kernelspec": {
   "display_name": "Python 3 (ipykernel)",
   "language": "python",
   "name": "python3"
  },
  "language_info": {
   "codemirror_mode": {
    "name": "ipython",
    "version": 3
   },
   "file_extension": ".py",
   "mimetype": "text/x-python",
   "name": "python",
   "nbconvert_exporter": "python",
   "pygments_lexer": "ipython3",
   "version": "3.10.14"
  }
 },
 "nbformat": 4,
 "nbformat_minor": 5
}
