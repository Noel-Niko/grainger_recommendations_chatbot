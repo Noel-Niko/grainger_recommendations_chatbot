{
 "cells": [
  {
   "cell_type": "code",
   "id": "initial_id",
   "metadata": {
    "collapsed": true
   },
   "source": "!pip install pandas\n",
   "outputs": [],
   "execution_count": null
  },
  {
   "metadata": {},
   "cell_type": "code",
   "source": [
    "import pandas as pd\n",
    "import os\n",
    "\n",
    "def print_file_size(file_path):\n",
    "    size = os.path.getsize(file_path)\n",
    "    print(f\"Size of {file_path}: {size} bytes\")\n",
    "\n",
    "def combine_csv_files(file1, file2, output_file):\n",
    "    # Print size of each file before combining\n",
    "    print_file_size(file1)\n",
    "    print_file_size(file2)\n",
    "    \n",
    "    # Read the CSV files\n",
    "    df1 = pd.read_csv(file1)\n",
    "    df2 = pd.read_csv(file2)\n",
    "    \n",
    "    # Combine the dataframes\n",
    "    combined_df = pd.concat([df1, df2])\n",
    "    \n",
    "    # Save the combined dataframe to a new CSV file\n",
    "    combined_df.to_csv(output_file, index=False)\n",
    "    \n",
    "    # Print size of the combined file\n",
    "    print_file_size(output_file)\n",
    "    \n",
    "    return combined_df\n",
    "\n",
    "# Usage example\n",
    "combined_df = combine_csv_files('scraped.csv', 'scraped1.csv', 'scraped.csv')\n",
    "print(combined_df)\n"
   ],
   "id": "66802a8edf6d06b7",
   "outputs": [],
   "execution_count": null
  },
  {
   "metadata": {},
   "cell_type": "code",
   "source": [
    "import os\n",
    "def print_file_size(file_path):\n",
    "    size = os.path.getsize(file_path)\n",
    "    print(f\"Size of {file_path}: {size} bytes\")\n",
    "print_file_size(\"grainger_products.parquet\")"
   ],
   "id": "d4ee6ab1a14ab84e",
   "outputs": [],
   "execution_count": null
  },
  {
   "metadata": {},
   "cell_type": "code",
   "source": [
    "import pandas as pd\n",
    "import os\n",
    "\n",
    "def print_file_size(file_path):\n",
    "    size = os.path.getsize(file_path)\n",
    "    print(f\"Size of {file_path}: {size} bytes\")\n",
    "\n",
    "def combine_parquet_files(file1, file2, output_file):\n",
    "    # Print size of each file before combining\n",
    "    print_file_size(file1)\n",
    "    print_file_size(file2)\n",
    "    \n",
    "    # Read the Parquet files\n",
    "    df1 = pd.read_parquet(file1)\n",
    "    df2 = pd.read_parquet(file2)\n",
    "    \n",
    "    # Combine the dataframes\n",
    "    combined_df = pd.concat([df1, df2], ignore_index=True)\n",
    "    \n",
    "    try:\n",
    "        # Save the combined dataframe to a new Parquet file\n",
    "        combined_df.to_parquet(output_file, index=False)\n",
    "        print(f\"Combined dataframe saved to {output_file}\")\n",
    "        \n",
    "        # Print size of the combined file\n",
    "        print_file_size(output_file)\n",
    "        \n",
    "    except Exception as e:\n",
    "        print(f\"Error saving combined dataframe: {e}\")\n",
    "    \n",
    "    return combined_df\n",
    "\n",
    "# Define the input file paths\n",
    "file1 = 'grainger_products.parquet'\n",
    "file2 = 'grainger_products_newer.parquet'\n",
    "\n",
    "output_file = 'combined_output.parquet'\n",
    "\n",
    "# Combine the Parquet files\n",
    "combined_df = combine_parquet_files(file1, file2, output_file)\n",
    "print(combined_df.head())\n"
   ],
   "id": "effc20ee2190f25",
   "outputs": [],
   "execution_count": null
  },
  {
   "metadata": {},
   "cell_type": "code",
   "source": [
    "import json\n",
    "import os\n",
    "\n",
    "def combine_json_files(file1, file2, output_file):\n",
    "    # Read contents from file1\n",
    "    with open(file1, 'r') as f1:\n",
    "        data1 = json.load(f1)\n",
    "    \n",
    "    # Read contents from file2\n",
    "    with open(file2, 'r') as f2:\n",
    "        data2 = json.load(f2)\n",
    "    \n",
    "    # Combine the lists\n",
    "    combined_data = data1 + data2\n",
    "    \n",
    "    try: \n",
    "        # Write combined data to output file\n",
    "        with open(output_file, 'w') as out_f:\n",
    "            json.dump(combined_data, out_f, indent=4)\n",
    "    except Exception as e:\n",
    "        print(f\"Error saving combined dataframe: {e}\")\n",
    "    \n",
    "    print(f\"Combined JSON data saved to {output_file}\")\n",
    "\n",
    "# Example usage\n",
    "combine_json_files('all_product_codes.json', 'all_product_codesold.json', 'combined_product_codes.json')\n"
   ],
   "id": "2a3fb4e728f1e84f",
   "outputs": [],
   "execution_count": null
  },
  {
   "metadata": {},
   "cell_type": "code",
   "source": [
    "import pandas as pd\n",
    "import os\n",
    "\n",
    "def print_file_size(file_path):\n",
    "    size = os.path.getsize(file_path)\n",
    "    print(f\"Size of {file_path}: {size} bytes\")\n",
    "\n",
    "print_file_size(\"grainger_products.parquet\")    "
   ],
   "id": "b36af0c523020620",
   "outputs": [],
   "execution_count": null
  },
  {
   "metadata": {},
   "cell_type": "code",
   "source": "",
   "id": "fc4ac92f5da1915a",
   "outputs": [],
   "execution_count": null
  }
 ],
 "metadata": {
  "kernelspec": {
   "display_name": "Python 3",
   "language": "python",
   "name": "python3"
  },
  "language_info": {
   "codemirror_mode": {
    "name": "ipython",
    "version": 2
   },
   "file_extension": ".py",
   "mimetype": "text/x-python",
   "name": "python",
   "nbconvert_exporter": "python",
   "pygments_lexer": "ipython2",
   "version": "2.7.6"
  }
 },
 "nbformat": 4,
 "nbformat_minor": 5
}
