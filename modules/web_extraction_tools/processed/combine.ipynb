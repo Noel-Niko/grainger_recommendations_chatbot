{
 "cells": [
  {
   "cell_type": "code",
   "id": "initial_id",
   "metadata": {
    "collapsed": true,
    "ExecuteTime": {
     "end_time": "2024-07-06T14:26:06.532719Z",
     "start_time": "2024-07-06T14:26:00.968029Z"
    }
   },
   "source": "!pip install pandas\n",
   "outputs": [
    {
     "name": "stdout",
     "output_type": "stream",
     "text": [
      "Requirement already satisfied: pandas in /opt/anaconda3/envs/grainger_recommendations_chatbot_3-11/lib/python3.11/site-packages (1.5.3)\r\n",
      "Requirement already satisfied: python-dateutil>=2.8.1 in /opt/anaconda3/envs/grainger_recommendations_chatbot_3-11/lib/python3.11/site-packages (from pandas) (2.9.0.post0)\r\n",
      "Requirement already satisfied: pytz>=2020.1 in /opt/anaconda3/envs/grainger_recommendations_chatbot_3-11/lib/python3.11/site-packages (from pandas) (2024.1)\r\n",
      "Requirement already satisfied: numpy>=1.21.0 in /opt/anaconda3/envs/grainger_recommendations_chatbot_3-11/lib/python3.11/site-packages (from pandas) (1.26.4)\r\n",
      "Requirement already satisfied: six>=1.5 in /opt/anaconda3/envs/grainger_recommendations_chatbot_3-11/lib/python3.11/site-packages (from python-dateutil>=2.8.1->pandas) (1.16.0)\r\n"
     ]
    }
   ],
   "execution_count": 1
  },
  {
   "metadata": {
    "ExecuteTime": {
     "end_time": "2024-07-06T14:27:13.295800Z",
     "start_time": "2024-07-06T14:27:08.421614Z"
    }
   },
   "cell_type": "code",
   "source": [
    "import pandas as pd\n",
    "import os\n",
    "\n",
    "def print_file_size(file_path):\n",
    "    size = os.path.getsize(file_path)\n",
    "    print(f\"Size of {file_path}: {size} bytes\")\n",
    "\n",
    "def combine_csv_files(file1, file2, output_file):\n",
    "    # Print size of each file before combining\n",
    "    print_file_size(file1)\n",
    "    print_file_size(file2)\n",
    "    \n",
    "    # Read the CSV files\n",
    "    df1 = pd.read_csv(file1)\n",
    "    df2 = pd.read_csv(file2)\n",
    "    \n",
    "    # Combine the dataframes\n",
    "    combined_df = pd.concat([df1, df2])\n",
    "    \n",
    "    # Save the combined dataframe to a new CSV file\n",
    "    combined_df.to_csv(output_file, index=False)\n",
    "    \n",
    "    # Print size of the combined file\n",
    "    print_file_size(output_file)\n",
    "    \n",
    "    return combined_df\n",
    "\n",
    "# Usage example\n",
    "combined_df = combine_csv_files('scraped.csv', 'scraped1.csv', 'scraped.csv')\n",
    "print(combined_df)\n"
   ],
   "id": "66802a8edf6d06b7",
   "outputs": [
    {
     "name": "stdout",
     "output_type": "stream",
     "text": [
      "Size of scraped.csv: 5415735 bytes\n",
      "Size of scraped1.csv: 15314743 bytes\n",
      "Size of combined_scraped.csv: 20730476 bytes\n",
      "       Unnamed: 0                                              fname  \\\n",
      "0               0                    ncture Resistant Insoles 819MH7   \n",
      "1               1  r.com know how safety health quick tips kh haz...   \n",
      "2               2  ipe Thread Sealant Brush 20CM13?opr=PDPBRDSP&a...   \n",
      "3               3                       rt Bit Set Insert Bit 55KJ06   \n",
      "4               4  r.com know how safety health management kh wat...   \n",
      "...           ...                                                ...   \n",
      "10277       10277  r.com know how industry public sector kh campu...   \n",
      "10278       10278  rbents spill control spill containment spill c...   \n",
      "10279       10279  r.com know how safety health ppe kh is job put...   \n",
      "10280       10280  security management and law enforcement finger...   \n",
      "10281       10281  r.com category machining milling end mills?cm ...   \n",
      "\n",
      "                                                    text  \n",
      "0                      ncture Resistant Insoles 819MH7.   \n",
      "1      r.com know how safety health quick tips kh haz...  \n",
      "2      ipe Thread Sealant Brush 20CM13?opr=PDPBRDSP&a...  \n",
      "3                         rt Bit Set Insert Bit 55KJ06.   \n",
      "4      r.com know how safety health management kh wat...  \n",
      "...                                                  ...  \n",
      "10277  r.com know how industry public sector kh campu...  \n",
      "10278  rbents spill control spill containment spill c...  \n",
      "10279  r.com know how safety health ppe kh is job put...  \n",
      "10280  security management and law enforcement finger...  \n",
      "10281  r.com category machining milling end mills?cm ...  \n",
      "\n",
      "[14142 rows x 3 columns]\n"
     ]
    }
   ],
   "execution_count": 2
  },
  {
   "metadata": {
    "ExecuteTime": {
     "end_time": "2024-07-06T14:38:27.916861Z",
     "start_time": "2024-07-06T14:38:27.912483Z"
    }
   },
   "cell_type": "code",
   "source": "print_file_size(\"grainger_products.parquet\")",
   "id": "7cfb4170e53b93ce",
   "outputs": [
    {
     "name": "stdout",
     "output_type": "stream",
     "text": [
      "Size of grainger_products.parquet: 228693 bytes\n"
     ]
    }
   ],
   "execution_count": 3
  },
  {
   "metadata": {},
   "cell_type": "code",
   "outputs": [],
   "execution_count": null,
   "source": "",
   "id": "53ca1cd86ad8aa9e"
  }
 ],
 "metadata": {
  "kernelspec": {
   "display_name": "Python 3",
   "language": "python",
   "name": "python3"
  },
  "language_info": {
   "codemirror_mode": {
    "name": "ipython",
    "version": 2
   },
   "file_extension": ".py",
   "mimetype": "text/x-python",
   "name": "python",
   "nbconvert_exporter": "python",
   "pygments_lexer": "ipython2",
   "version": "2.7.6"
  }
 },
 "nbformat": 4,
 "nbformat_minor": 5
}
